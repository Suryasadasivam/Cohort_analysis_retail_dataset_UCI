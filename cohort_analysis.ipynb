{
 "cells": [
  {
   "cell_type": "code",
   "execution_count": 77,
   "id": "d49b4018",
   "metadata": {},
   "outputs": [],
   "source": [
    "import pandas as pd\n",
    "import numpy as np\n",
    "import datetime as dt\n",
    "import plotly.express as px\n",
    "import plotly.graph_objects as go"
   ]
  },
  {
   "cell_type": "code",
   "execution_count": 78,
   "id": "fa54123e",
   "metadata": {},
   "outputs": [
    {
     "data": {
      "text/html": [
       "<div>\n",
       "<style scoped>\n",
       "    .dataframe tbody tr th:only-of-type {\n",
       "        vertical-align: middle;\n",
       "    }\n",
       "\n",
       "    .dataframe tbody tr th {\n",
       "        vertical-align: top;\n",
       "    }\n",
       "\n",
       "    .dataframe thead th {\n",
       "        text-align: right;\n",
       "    }\n",
       "</style>\n",
       "<table border=\"1\" class=\"dataframe\">\n",
       "  <thead>\n",
       "    <tr style=\"text-align: right;\">\n",
       "      <th></th>\n",
       "      <th>Invoice</th>\n",
       "      <th>StockCode</th>\n",
       "      <th>Description</th>\n",
       "      <th>Quantity</th>\n",
       "      <th>InvoiceDate</th>\n",
       "      <th>Price</th>\n",
       "      <th>Customer ID</th>\n",
       "      <th>Country</th>\n",
       "    </tr>\n",
       "  </thead>\n",
       "  <tbody>\n",
       "    <tr>\n",
       "      <th>0</th>\n",
       "      <td>489434</td>\n",
       "      <td>85048</td>\n",
       "      <td>15CM CHRISTMAS GLASS BALL 20 LIGHTS</td>\n",
       "      <td>12</td>\n",
       "      <td>2009-12-01 07:45:00</td>\n",
       "      <td>6.95</td>\n",
       "      <td>13085.0</td>\n",
       "      <td>United Kingdom</td>\n",
       "    </tr>\n",
       "    <tr>\n",
       "      <th>1</th>\n",
       "      <td>489434</td>\n",
       "      <td>79323P</td>\n",
       "      <td>PINK CHERRY LIGHTS</td>\n",
       "      <td>12</td>\n",
       "      <td>2009-12-01 07:45:00</td>\n",
       "      <td>6.75</td>\n",
       "      <td>13085.0</td>\n",
       "      <td>United Kingdom</td>\n",
       "    </tr>\n",
       "    <tr>\n",
       "      <th>2</th>\n",
       "      <td>489434</td>\n",
       "      <td>79323W</td>\n",
       "      <td>WHITE CHERRY LIGHTS</td>\n",
       "      <td>12</td>\n",
       "      <td>2009-12-01 07:45:00</td>\n",
       "      <td>6.75</td>\n",
       "      <td>13085.0</td>\n",
       "      <td>United Kingdom</td>\n",
       "    </tr>\n",
       "    <tr>\n",
       "      <th>3</th>\n",
       "      <td>489434</td>\n",
       "      <td>22041</td>\n",
       "      <td>RECORD FRAME 7\" SINGLE SIZE</td>\n",
       "      <td>48</td>\n",
       "      <td>2009-12-01 07:45:00</td>\n",
       "      <td>2.10</td>\n",
       "      <td>13085.0</td>\n",
       "      <td>United Kingdom</td>\n",
       "    </tr>\n",
       "    <tr>\n",
       "      <th>4</th>\n",
       "      <td>489434</td>\n",
       "      <td>21232</td>\n",
       "      <td>STRAWBERRY CERAMIC TRINKET BOX</td>\n",
       "      <td>24</td>\n",
       "      <td>2009-12-01 07:45:00</td>\n",
       "      <td>1.25</td>\n",
       "      <td>13085.0</td>\n",
       "      <td>United Kingdom</td>\n",
       "    </tr>\n",
       "  </tbody>\n",
       "</table>\n",
       "</div>"
      ],
      "text/plain": [
       "  Invoice StockCode                          Description  Quantity  \\\n",
       "0  489434     85048  15CM CHRISTMAS GLASS BALL 20 LIGHTS        12   \n",
       "1  489434    79323P                   PINK CHERRY LIGHTS        12   \n",
       "2  489434    79323W                  WHITE CHERRY LIGHTS        12   \n",
       "3  489434     22041         RECORD FRAME 7\" SINGLE SIZE         48   \n",
       "4  489434     21232       STRAWBERRY CERAMIC TRINKET BOX        24   \n",
       "\n",
       "           InvoiceDate  Price  Customer ID         Country  \n",
       "0  2009-12-01 07:45:00   6.95      13085.0  United Kingdom  \n",
       "1  2009-12-01 07:45:00   6.75      13085.0  United Kingdom  \n",
       "2  2009-12-01 07:45:00   6.75      13085.0  United Kingdom  \n",
       "3  2009-12-01 07:45:00   2.10      13085.0  United Kingdom  \n",
       "4  2009-12-01 07:45:00   1.25      13085.0  United Kingdom  "
      ]
     },
     "execution_count": 78,
     "metadata": {},
     "output_type": "execute_result"
    }
   ],
   "source": [
    "retail_data=pd.read_csv(\"data/online_retail_II.csv\")\n",
    "retail_data.head()"
   ]
  },
  {
   "cell_type": "code",
   "execution_count": 79,
   "id": "6abfbf00",
   "metadata": {},
   "outputs": [
    {
     "name": "stdout",
     "output_type": "stream",
     "text": [
      "<class 'pandas.core.frame.DataFrame'>\n",
      "RangeIndex: 1067371 entries, 0 to 1067370\n",
      "Data columns (total 8 columns):\n",
      " #   Column       Non-Null Count    Dtype  \n",
      "---  ------       --------------    -----  \n",
      " 0   Invoice      1067371 non-null  object \n",
      " 1   StockCode    1067371 non-null  object \n",
      " 2   Description  1062989 non-null  object \n",
      " 3   Quantity     1067371 non-null  int64  \n",
      " 4   InvoiceDate  1067371 non-null  object \n",
      " 5   Price        1067371 non-null  float64\n",
      " 6   Customer ID  824364 non-null   float64\n",
      " 7   Country      1067371 non-null  object \n",
      "dtypes: float64(2), int64(1), object(5)\n",
      "memory usage: 65.1+ MB\n"
     ]
    }
   ],
   "source": [
    "retail_data.info()"
   ]
  },
  {
   "cell_type": "markdown",
   "id": "ea95926f",
   "metadata": {},
   "source": [
    "1. Invoicedate column contains datetime info, while having type object, we need to separate column  into InvoiceDate_datetime\n",
    "\n",
    "2. 1062689 rows but in customer id we have only 824364 so data is missing there, drop the rows with missing customer ids\n",
    "\n",
    "3. customer id column type change from float to int\n",
    "\n",
    "4. create a column name as total where price * quantity"
   ]
  },
  {
   "cell_type": "code",
   "execution_count": 80,
   "id": "9e4ddd2e",
   "metadata": {},
   "outputs": [],
   "source": [
    "retail_data[\"InvoiceDate_DT\"]=pd.to_datetime(retail_data[\"InvoiceDate\"])\n",
    "\n",
    "retail_data=retail_data[retail_data[\"Customer ID\"].notna()]\n",
    "retail_data[\"Customer ID\"]=retail_data['Customer ID'].astype(np.int64)\n",
    "retail_data=retail_data.sort_values(\"InvoiceDate_DT\")\n",
    "retail_data[\"Total\"]=retail_data[\"Quantity\"]*retail_data[\"Price\"]"
   ]
  },
  {
   "cell_type": "code",
   "execution_count": 81,
   "id": "fc00c868",
   "metadata": {},
   "outputs": [
    {
     "data": {
      "text/html": [
       "<div>\n",
       "<style scoped>\n",
       "    .dataframe tbody tr th:only-of-type {\n",
       "        vertical-align: middle;\n",
       "    }\n",
       "\n",
       "    .dataframe tbody tr th {\n",
       "        vertical-align: top;\n",
       "    }\n",
       "\n",
       "    .dataframe thead th {\n",
       "        text-align: right;\n",
       "    }\n",
       "</style>\n",
       "<table border=\"1\" class=\"dataframe\">\n",
       "  <thead>\n",
       "    <tr style=\"text-align: right;\">\n",
       "      <th></th>\n",
       "      <th>Invoice</th>\n",
       "      <th>StockCode</th>\n",
       "      <th>Description</th>\n",
       "      <th>Quantity</th>\n",
       "      <th>InvoiceDate</th>\n",
       "      <th>Price</th>\n",
       "      <th>Customer ID</th>\n",
       "      <th>Country</th>\n",
       "      <th>InvoiceDate_DT</th>\n",
       "      <th>Total</th>\n",
       "    </tr>\n",
       "  </thead>\n",
       "  <tbody>\n",
       "    <tr>\n",
       "      <th>0</th>\n",
       "      <td>489434</td>\n",
       "      <td>85048</td>\n",
       "      <td>15CM CHRISTMAS GLASS BALL 20 LIGHTS</td>\n",
       "      <td>12</td>\n",
       "      <td>2009-12-01 07:45:00</td>\n",
       "      <td>6.95</td>\n",
       "      <td>13085</td>\n",
       "      <td>United Kingdom</td>\n",
       "      <td>2009-12-01 07:45:00</td>\n",
       "      <td>83.4</td>\n",
       "    </tr>\n",
       "    <tr>\n",
       "      <th>1</th>\n",
       "      <td>489434</td>\n",
       "      <td>79323P</td>\n",
       "      <td>PINK CHERRY LIGHTS</td>\n",
       "      <td>12</td>\n",
       "      <td>2009-12-01 07:45:00</td>\n",
       "      <td>6.75</td>\n",
       "      <td>13085</td>\n",
       "      <td>United Kingdom</td>\n",
       "      <td>2009-12-01 07:45:00</td>\n",
       "      <td>81.0</td>\n",
       "    </tr>\n",
       "    <tr>\n",
       "      <th>2</th>\n",
       "      <td>489434</td>\n",
       "      <td>79323W</td>\n",
       "      <td>WHITE CHERRY LIGHTS</td>\n",
       "      <td>12</td>\n",
       "      <td>2009-12-01 07:45:00</td>\n",
       "      <td>6.75</td>\n",
       "      <td>13085</td>\n",
       "      <td>United Kingdom</td>\n",
       "      <td>2009-12-01 07:45:00</td>\n",
       "      <td>81.0</td>\n",
       "    </tr>\n",
       "    <tr>\n",
       "      <th>3</th>\n",
       "      <td>489434</td>\n",
       "      <td>22041</td>\n",
       "      <td>RECORD FRAME 7\" SINGLE SIZE</td>\n",
       "      <td>48</td>\n",
       "      <td>2009-12-01 07:45:00</td>\n",
       "      <td>2.10</td>\n",
       "      <td>13085</td>\n",
       "      <td>United Kingdom</td>\n",
       "      <td>2009-12-01 07:45:00</td>\n",
       "      <td>100.8</td>\n",
       "    </tr>\n",
       "    <tr>\n",
       "      <th>4</th>\n",
       "      <td>489434</td>\n",
       "      <td>21232</td>\n",
       "      <td>STRAWBERRY CERAMIC TRINKET BOX</td>\n",
       "      <td>24</td>\n",
       "      <td>2009-12-01 07:45:00</td>\n",
       "      <td>1.25</td>\n",
       "      <td>13085</td>\n",
       "      <td>United Kingdom</td>\n",
       "      <td>2009-12-01 07:45:00</td>\n",
       "      <td>30.0</td>\n",
       "    </tr>\n",
       "  </tbody>\n",
       "</table>\n",
       "</div>"
      ],
      "text/plain": [
       "  Invoice StockCode                          Description  Quantity  \\\n",
       "0  489434     85048  15CM CHRISTMAS GLASS BALL 20 LIGHTS        12   \n",
       "1  489434    79323P                   PINK CHERRY LIGHTS        12   \n",
       "2  489434    79323W                  WHITE CHERRY LIGHTS        12   \n",
       "3  489434     22041         RECORD FRAME 7\" SINGLE SIZE         48   \n",
       "4  489434     21232       STRAWBERRY CERAMIC TRINKET BOX        24   \n",
       "\n",
       "           InvoiceDate  Price  Customer ID         Country  \\\n",
       "0  2009-12-01 07:45:00   6.95        13085  United Kingdom   \n",
       "1  2009-12-01 07:45:00   6.75        13085  United Kingdom   \n",
       "2  2009-12-01 07:45:00   6.75        13085  United Kingdom   \n",
       "3  2009-12-01 07:45:00   2.10        13085  United Kingdom   \n",
       "4  2009-12-01 07:45:00   1.25        13085  United Kingdom   \n",
       "\n",
       "       InvoiceDate_DT  Total  \n",
       "0 2009-12-01 07:45:00   83.4  \n",
       "1 2009-12-01 07:45:00   81.0  \n",
       "2 2009-12-01 07:45:00   81.0  \n",
       "3 2009-12-01 07:45:00  100.8  \n",
       "4 2009-12-01 07:45:00   30.0  "
      ]
     },
     "execution_count": 81,
     "metadata": {},
     "output_type": "execute_result"
    }
   ],
   "source": [
    "retail_data.head()"
   ]
  },
  {
   "cell_type": "code",
   "execution_count": 82,
   "id": "92551ffa",
   "metadata": {},
   "outputs": [
    {
     "name": "stdout",
     "output_type": "stream",
     "text": [
      "<class 'pandas.core.frame.DataFrame'>\n",
      "Index: 824364 entries, 0 to 1067370\n",
      "Data columns (total 10 columns):\n",
      " #   Column          Non-Null Count   Dtype         \n",
      "---  ------          --------------   -----         \n",
      " 0   Invoice         824364 non-null  object        \n",
      " 1   StockCode       824364 non-null  object        \n",
      " 2   Description     824364 non-null  object        \n",
      " 3   Quantity        824364 non-null  int64         \n",
      " 4   InvoiceDate     824364 non-null  object        \n",
      " 5   Price           824364 non-null  float64       \n",
      " 6   Customer ID     824364 non-null  int64         \n",
      " 7   Country         824364 non-null  object        \n",
      " 8   InvoiceDate_DT  824364 non-null  datetime64[ns]\n",
      " 9   Total           824364 non-null  float64       \n",
      "dtypes: datetime64[ns](1), float64(2), int64(2), object(5)\n",
      "memory usage: 69.2+ MB\n"
     ]
    }
   ],
   "source": [
    "retail_data.info()"
   ]
  },
  {
   "cell_type": "markdown",
   "id": "3332ef83",
   "metadata": {},
   "source": [
    "Analysis \n"
   ]
  },
  {
   "cell_type": "code",
   "execution_count": 83,
   "id": "3c95803a",
   "metadata": {},
   "outputs": [
    {
     "data": {
      "text/html": [
       "<div>\n",
       "<style scoped>\n",
       "    .dataframe tbody tr th:only-of-type {\n",
       "        vertical-align: middle;\n",
       "    }\n",
       "\n",
       "    .dataframe tbody tr th {\n",
       "        vertical-align: top;\n",
       "    }\n",
       "\n",
       "    .dataframe thead th {\n",
       "        text-align: right;\n",
       "    }\n",
       "</style>\n",
       "<table border=\"1\" class=\"dataframe\">\n",
       "  <thead>\n",
       "    <tr style=\"text-align: right;\">\n",
       "      <th></th>\n",
       "      <th>Invoice</th>\n",
       "      <th>StockCode</th>\n",
       "      <th>Description</th>\n",
       "      <th>Quantity</th>\n",
       "      <th>InvoiceDate</th>\n",
       "      <th>Price</th>\n",
       "      <th>Customer ID</th>\n",
       "      <th>Country</th>\n",
       "      <th>InvoiceDate_DT</th>\n",
       "      <th>Total</th>\n",
       "    </tr>\n",
       "  </thead>\n",
       "  <tbody>\n",
       "    <tr>\n",
       "      <th>748142</th>\n",
       "      <td>C556445</td>\n",
       "      <td>M</td>\n",
       "      <td>Manual</td>\n",
       "      <td>-1</td>\n",
       "      <td>2011-06-10 15:31:00</td>\n",
       "      <td>38970.0</td>\n",
       "      <td>15098</td>\n",
       "      <td>United Kingdom</td>\n",
       "      <td>2011-06-10 15:31:00</td>\n",
       "      <td>-38970.0</td>\n",
       "    </tr>\n",
       "  </tbody>\n",
       "</table>\n",
       "</div>"
      ],
      "text/plain": [
       "        Invoice StockCode Description  Quantity          InvoiceDate    Price  \\\n",
       "748142  C556445         M      Manual        -1  2011-06-10 15:31:00  38970.0   \n",
       "\n",
       "        Customer ID         Country      InvoiceDate_DT    Total  \n",
       "748142        15098  United Kingdom 2011-06-10 15:31:00 -38970.0  "
      ]
     },
     "execution_count": 83,
     "metadata": {},
     "output_type": "execute_result"
    }
   ],
   "source": [
    "#Most and least expensive product \n",
    "\n",
    "most_expensive=retail_data.loc[retail_data[\"Price\"]==retail_data[\"Price\"].max()]\n",
    "most_expensive"
   ]
  },
  {
   "cell_type": "code",
   "execution_count": 84,
   "id": "d7d91494",
   "metadata": {},
   "outputs": [
    {
     "data": {
      "text/html": [
       "<div>\n",
       "<style scoped>\n",
       "    .dataframe tbody tr th:only-of-type {\n",
       "        vertical-align: middle;\n",
       "    }\n",
       "\n",
       "    .dataframe tbody tr th {\n",
       "        vertical-align: top;\n",
       "    }\n",
       "\n",
       "    .dataframe thead th {\n",
       "        text-align: right;\n",
       "    }\n",
       "</style>\n",
       "<table border=\"1\" class=\"dataframe\">\n",
       "  <thead>\n",
       "    <tr style=\"text-align: right;\">\n",
       "      <th></th>\n",
       "      <th>Invoice</th>\n",
       "      <th>StockCode</th>\n",
       "      <th>Description</th>\n",
       "      <th>Quantity</th>\n",
       "      <th>InvoiceDate</th>\n",
       "      <th>Price</th>\n",
       "      <th>Customer ID</th>\n",
       "      <th>Country</th>\n",
       "      <th>InvoiceDate_DT</th>\n",
       "      <th>Total</th>\n",
       "    </tr>\n",
       "  </thead>\n",
       "  <tbody>\n",
       "    <tr>\n",
       "      <th>4674</th>\n",
       "      <td>489825</td>\n",
       "      <td>22076</td>\n",
       "      <td>6 RIBBONS EMPIRE</td>\n",
       "      <td>12</td>\n",
       "      <td>2009-12-02 13:34:00</td>\n",
       "      <td>0.0</td>\n",
       "      <td>16126</td>\n",
       "      <td>United Kingdom</td>\n",
       "      <td>2009-12-02 13:34:00</td>\n",
       "      <td>0.0</td>\n",
       "    </tr>\n",
       "    <tr>\n",
       "      <th>6781</th>\n",
       "      <td>489998</td>\n",
       "      <td>48185</td>\n",
       "      <td>DOOR MAT FAIRY CAKE</td>\n",
       "      <td>2</td>\n",
       "      <td>2009-12-03 11:19:00</td>\n",
       "      <td>0.0</td>\n",
       "      <td>15658</td>\n",
       "      <td>United Kingdom</td>\n",
       "      <td>2009-12-03 11:19:00</td>\n",
       "      <td>0.0</td>\n",
       "    </tr>\n",
       "    <tr>\n",
       "      <th>16107</th>\n",
       "      <td>490727</td>\n",
       "      <td>M</td>\n",
       "      <td>Manual</td>\n",
       "      <td>1</td>\n",
       "      <td>2009-12-07 16:38:00</td>\n",
       "      <td>0.0</td>\n",
       "      <td>17231</td>\n",
       "      <td>United Kingdom</td>\n",
       "      <td>2009-12-07 16:38:00</td>\n",
       "      <td>0.0</td>\n",
       "    </tr>\n",
       "    <tr>\n",
       "      <th>18739</th>\n",
       "      <td>490961</td>\n",
       "      <td>22142</td>\n",
       "      <td>CHRISTMAS CRAFT WHITE FAIRY</td>\n",
       "      <td>12</td>\n",
       "      <td>2009-12-08 15:25:00</td>\n",
       "      <td>0.0</td>\n",
       "      <td>14108</td>\n",
       "      <td>United Kingdom</td>\n",
       "      <td>2009-12-08 15:25:00</td>\n",
       "      <td>0.0</td>\n",
       "    </tr>\n",
       "    <tr>\n",
       "      <th>18738</th>\n",
       "      <td>490961</td>\n",
       "      <td>22065</td>\n",
       "      <td>CHRISTMAS PUDDING TRINKET POT</td>\n",
       "      <td>1</td>\n",
       "      <td>2009-12-08 15:25:00</td>\n",
       "      <td>0.0</td>\n",
       "      <td>14108</td>\n",
       "      <td>United Kingdom</td>\n",
       "      <td>2009-12-08 15:25:00</td>\n",
       "      <td>0.0</td>\n",
       "    </tr>\n",
       "    <tr>\n",
       "      <th>...</th>\n",
       "      <td>...</td>\n",
       "      <td>...</td>\n",
       "      <td>...</td>\n",
       "      <td>...</td>\n",
       "      <td>...</td>\n",
       "      <td>...</td>\n",
       "      <td>...</td>\n",
       "      <td>...</td>\n",
       "      <td>...</td>\n",
       "      <td>...</td>\n",
       "    </tr>\n",
       "    <tr>\n",
       "      <th>1004540</th>\n",
       "      <td>577129</td>\n",
       "      <td>22464</td>\n",
       "      <td>HANGING METAL HEART LANTERN</td>\n",
       "      <td>4</td>\n",
       "      <td>2011-11-17 19:52:00</td>\n",
       "      <td>0.0</td>\n",
       "      <td>15602</td>\n",
       "      <td>United Kingdom</td>\n",
       "      <td>2011-11-17 19:52:00</td>\n",
       "      <td>0.0</td>\n",
       "    </tr>\n",
       "    <tr>\n",
       "      <th>1005014</th>\n",
       "      <td>577168</td>\n",
       "      <td>M</td>\n",
       "      <td>Manual</td>\n",
       "      <td>1</td>\n",
       "      <td>2011-11-18 10:42:00</td>\n",
       "      <td>0.0</td>\n",
       "      <td>12603</td>\n",
       "      <td>Germany</td>\n",
       "      <td>2011-11-18 10:42:00</td>\n",
       "      <td>0.0</td>\n",
       "    </tr>\n",
       "    <tr>\n",
       "      <th>1006110</th>\n",
       "      <td>577314</td>\n",
       "      <td>23407</td>\n",
       "      <td>SET OF 2 TRAYS HOME SWEET HOME</td>\n",
       "      <td>2</td>\n",
       "      <td>2011-11-18 13:23:00</td>\n",
       "      <td>0.0</td>\n",
       "      <td>12444</td>\n",
       "      <td>Norway</td>\n",
       "      <td>2011-11-18 13:23:00</td>\n",
       "      <td>0.0</td>\n",
       "    </tr>\n",
       "    <tr>\n",
       "      <th>1011446</th>\n",
       "      <td>577696</td>\n",
       "      <td>M</td>\n",
       "      <td>Manual</td>\n",
       "      <td>1</td>\n",
       "      <td>2011-11-21 11:57:00</td>\n",
       "      <td>0.0</td>\n",
       "      <td>16406</td>\n",
       "      <td>United Kingdom</td>\n",
       "      <td>2011-11-21 11:57:00</td>\n",
       "      <td>0.0</td>\n",
       "    </tr>\n",
       "    <tr>\n",
       "      <th>1027583</th>\n",
       "      <td>578841</td>\n",
       "      <td>84826</td>\n",
       "      <td>ASSTD DESIGN 3D PAPER STICKERS</td>\n",
       "      <td>12540</td>\n",
       "      <td>2011-11-25 15:57:00</td>\n",
       "      <td>0.0</td>\n",
       "      <td>13256</td>\n",
       "      <td>United Kingdom</td>\n",
       "      <td>2011-11-25 15:57:00</td>\n",
       "      <td>0.0</td>\n",
       "    </tr>\n",
       "  </tbody>\n",
       "</table>\n",
       "<p>71 rows × 10 columns</p>\n",
       "</div>"
      ],
      "text/plain": [
       "        Invoice StockCode                     Description  Quantity  \\\n",
       "4674     489825     22076              6 RIBBONS EMPIRE          12   \n",
       "6781     489998     48185             DOOR MAT FAIRY CAKE         2   \n",
       "16107    490727         M                          Manual         1   \n",
       "18739    490961     22142    CHRISTMAS CRAFT WHITE FAIRY         12   \n",
       "18738    490961     22065  CHRISTMAS PUDDING TRINKET POT          1   \n",
       "...         ...       ...                             ...       ...   \n",
       "1004540  577129     22464     HANGING METAL HEART LANTERN         4   \n",
       "1005014  577168         M                          Manual         1   \n",
       "1006110  577314     23407  SET OF 2 TRAYS HOME SWEET HOME         2   \n",
       "1011446  577696         M                          Manual         1   \n",
       "1027583  578841     84826  ASSTD DESIGN 3D PAPER STICKERS     12540   \n",
       "\n",
       "                 InvoiceDate  Price  Customer ID         Country  \\\n",
       "4674     2009-12-02 13:34:00    0.0        16126  United Kingdom   \n",
       "6781     2009-12-03 11:19:00    0.0        15658  United Kingdom   \n",
       "16107    2009-12-07 16:38:00    0.0        17231  United Kingdom   \n",
       "18739    2009-12-08 15:25:00    0.0        14108  United Kingdom   \n",
       "18738    2009-12-08 15:25:00    0.0        14108  United Kingdom   \n",
       "...                      ...    ...          ...             ...   \n",
       "1004540  2011-11-17 19:52:00    0.0        15602  United Kingdom   \n",
       "1005014  2011-11-18 10:42:00    0.0        12603         Germany   \n",
       "1006110  2011-11-18 13:23:00    0.0        12444          Norway   \n",
       "1011446  2011-11-21 11:57:00    0.0        16406  United Kingdom   \n",
       "1027583  2011-11-25 15:57:00    0.0        13256  United Kingdom   \n",
       "\n",
       "             InvoiceDate_DT  Total  \n",
       "4674    2009-12-02 13:34:00    0.0  \n",
       "6781    2009-12-03 11:19:00    0.0  \n",
       "16107   2009-12-07 16:38:00    0.0  \n",
       "18739   2009-12-08 15:25:00    0.0  \n",
       "18738   2009-12-08 15:25:00    0.0  \n",
       "...                     ...    ...  \n",
       "1004540 2011-11-17 19:52:00    0.0  \n",
       "1005014 2011-11-18 10:42:00    0.0  \n",
       "1006110 2011-11-18 13:23:00    0.0  \n",
       "1011446 2011-11-21 11:57:00    0.0  \n",
       "1027583 2011-11-25 15:57:00    0.0  \n",
       "\n",
       "[71 rows x 10 columns]"
      ]
     },
     "execution_count": 84,
     "metadata": {},
     "output_type": "execute_result"
    }
   ],
   "source": [
    "least_expensive=retail_data.loc[retail_data[\"Price\"]==retail_data[\"Price\"].min()]\n",
    "least_expensive"
   ]
  },
  {
   "cell_type": "code",
   "execution_count": 85,
   "id": "505de584",
   "metadata": {},
   "outputs": [
    {
     "data": {
      "text/plain": [
       "61"
      ]
     },
     "execution_count": 85,
     "metadata": {},
     "output_type": "execute_result"
    }
   ],
   "source": [
    "len(least_expensive['Description'].unique())"
   ]
  },
  {
   "cell_type": "code",
   "execution_count": 86,
   "id": "09db2a2a",
   "metadata": {},
   "outputs": [
    {
     "data": {
      "text/html": [
       "<div>\n",
       "<style scoped>\n",
       "    .dataframe tbody tr th:only-of-type {\n",
       "        vertical-align: middle;\n",
       "    }\n",
       "\n",
       "    .dataframe tbody tr th {\n",
       "        vertical-align: top;\n",
       "    }\n",
       "\n",
       "    .dataframe thead th {\n",
       "        text-align: right;\n",
       "    }\n",
       "</style>\n",
       "<table border=\"1\" class=\"dataframe\">\n",
       "  <thead>\n",
       "    <tr style=\"text-align: right;\">\n",
       "      <th></th>\n",
       "      <th>Invoice</th>\n",
       "      <th>StockCode</th>\n",
       "      <th>Description</th>\n",
       "      <th>Quantity</th>\n",
       "      <th>InvoiceDate</th>\n",
       "      <th>Price</th>\n",
       "      <th>Customer ID</th>\n",
       "      <th>Country</th>\n",
       "      <th>InvoiceDate_DT</th>\n",
       "      <th>Total</th>\n",
       "    </tr>\n",
       "  </thead>\n",
       "  <tbody>\n",
       "    <tr>\n",
       "      <th>840208</th>\n",
       "      <td>564651</td>\n",
       "      <td>22955</td>\n",
       "      <td>36 FOIL STAR CAKE CASES</td>\n",
       "      <td>144</td>\n",
       "      <td>2011-08-26 14:19:00</td>\n",
       "      <td>0.0</td>\n",
       "      <td>14646</td>\n",
       "      <td>Netherlands</td>\n",
       "      <td>2011-08-26 14:19:00</td>\n",
       "      <td>0.0</td>\n",
       "    </tr>\n",
       "  </tbody>\n",
       "</table>\n",
       "</div>"
      ],
      "text/plain": [
       "       Invoice StockCode               Description  Quantity  \\\n",
       "840208  564651     22955  36 FOIL STAR CAKE CASES        144   \n",
       "\n",
       "                InvoiceDate  Price  Customer ID      Country  \\\n",
       "840208  2011-08-26 14:19:00    0.0        14646  Netherlands   \n",
       "\n",
       "            InvoiceDate_DT  Total  \n",
       "840208 2011-08-26 14:19:00    0.0  "
      ]
     },
     "execution_count": 86,
     "metadata": {},
     "output_type": "execute_result"
    }
   ],
   "source": [
    "least_expensive[least_expensive['Description']==\"36 FOIL STAR CAKE CASES \"]"
   ]
  },
  {
   "cell_type": "code",
   "execution_count": 87,
   "id": "31f3ed3a",
   "metadata": {},
   "outputs": [
    {
     "data": {
      "text/html": [
       "<div>\n",
       "<style scoped>\n",
       "    .dataframe tbody tr th:only-of-type {\n",
       "        vertical-align: middle;\n",
       "    }\n",
       "\n",
       "    .dataframe tbody tr th {\n",
       "        vertical-align: top;\n",
       "    }\n",
       "\n",
       "    .dataframe thead th {\n",
       "        text-align: right;\n",
       "    }\n",
       "</style>\n",
       "<table border=\"1\" class=\"dataframe\">\n",
       "  <thead>\n",
       "    <tr style=\"text-align: right;\">\n",
       "      <th></th>\n",
       "      <th>Description</th>\n",
       "      <th>Price</th>\n",
       "      <th>Quantity</th>\n",
       "    </tr>\n",
       "  </thead>\n",
       "  <tbody>\n",
       "    <tr>\n",
       "      <th>0</th>\n",
       "      <td>FLAMINGO LIGHTS</td>\n",
       "      <td>0.0</td>\n",
       "      <td>24</td>\n",
       "    </tr>\n",
       "    <tr>\n",
       "      <th>1</th>\n",
       "      <td>OVAL WALL MIRROR DIAMANTE</td>\n",
       "      <td>0.0</td>\n",
       "      <td>1</td>\n",
       "    </tr>\n",
       "    <tr>\n",
       "      <th>2</th>\n",
       "      <td>36 FOIL STAR CAKE CASES</td>\n",
       "      <td>0.0</td>\n",
       "      <td>144</td>\n",
       "    </tr>\n",
       "    <tr>\n",
       "      <th>3</th>\n",
       "      <td>6 RIBBONS EMPIRE</td>\n",
       "      <td>0.0</td>\n",
       "      <td>12</td>\n",
       "    </tr>\n",
       "    <tr>\n",
       "      <th>4</th>\n",
       "      <td>ADVENT CALENDAR GINGHAM SACK</td>\n",
       "      <td>0.0</td>\n",
       "      <td>4</td>\n",
       "    </tr>\n",
       "    <tr>\n",
       "      <th>...</th>\n",
       "      <td>...</td>\n",
       "      <td>...</td>\n",
       "      <td>...</td>\n",
       "    </tr>\n",
       "    <tr>\n",
       "      <th>56</th>\n",
       "      <td>SET/5 RED SPOTTY LID GLASS BOWLS</td>\n",
       "      <td>0.0</td>\n",
       "      <td>2</td>\n",
       "    </tr>\n",
       "    <tr>\n",
       "      <th>57</th>\n",
       "      <td>TV DINNER TRAY DOLLY GIRL</td>\n",
       "      <td>0.0</td>\n",
       "      <td>9</td>\n",
       "    </tr>\n",
       "    <tr>\n",
       "      <th>58</th>\n",
       "      <td>This is a test product.</td>\n",
       "      <td>0.0</td>\n",
       "      <td>10</td>\n",
       "    </tr>\n",
       "    <tr>\n",
       "      <th>59</th>\n",
       "      <td>VINTAGE CREAM CAT FOOD CONTAINER</td>\n",
       "      <td>0.0</td>\n",
       "      <td>1</td>\n",
       "    </tr>\n",
       "    <tr>\n",
       "      <th>60</th>\n",
       "      <td>VINTAGE GLASS COFFEE CADDY</td>\n",
       "      <td>0.0</td>\n",
       "      <td>1</td>\n",
       "    </tr>\n",
       "  </tbody>\n",
       "</table>\n",
       "<p>61 rows × 3 columns</p>\n",
       "</div>"
      ],
      "text/plain": [
       "                         Description  Price  Quantity\n",
       "0                    FLAMINGO LIGHTS    0.0        24\n",
       "1         OVAL WALL MIRROR DIAMANTE     0.0         1\n",
       "2           36 FOIL STAR CAKE CASES     0.0       144\n",
       "3                 6 RIBBONS EMPIRE      0.0        12\n",
       "4       ADVENT CALENDAR GINGHAM SACK    0.0         4\n",
       "..                               ...    ...       ...\n",
       "56  SET/5 RED SPOTTY LID GLASS BOWLS    0.0         2\n",
       "57         TV DINNER TRAY DOLLY GIRL    0.0         9\n",
       "58           This is a test product.    0.0        10\n",
       "59  VINTAGE CREAM CAT FOOD CONTAINER    0.0         1\n",
       "60        VINTAGE GLASS COFFEE CADDY    0.0         1\n",
       "\n",
       "[61 rows x 3 columns]"
      ]
     },
     "execution_count": 87,
     "metadata": {},
     "output_type": "execute_result"
    }
   ],
   "source": [
    "least_expensive_group =least_expensive.groupby([\"Description\",\"Price\"],as_index=False)[\"Quantity\"].agg(\"sum\")\n",
    "least_expensive_group"
   ]
  },
  {
   "cell_type": "code",
   "execution_count": 88,
   "id": "f1d0682b",
   "metadata": {},
   "outputs": [
    {
     "data": {
      "text/plain": [
       "array([' FLAMINGO LIGHTS', ' OVAL WALL MIRROR DIAMANTE ',\n",
       "       '36 FOIL STAR CAKE CASES ', '6 RIBBONS EMPIRE  ',\n",
       "       'ADVENT CALENDAR GINGHAM SACK',\n",
       "       'AIRLINE BAG VINTAGE JET SET WHITE',\n",
       "       'ANTIQUE GLASS HEART DECORATION ', 'ANTIQUE LILY FAIRY LIGHTS',\n",
       "       'ASSTD DESIGN 3D PAPER STICKERS', 'BISCUIT TIN VINTAGE CHRISTMAS',\n",
       "       'BREAD BIN DINER STYLE RED ', 'CAKE STAND LACE WHITE',\n",
       "       'CAST IRON HOOK GARDEN FORK', 'CAST IRON HOOK GARDEN TROWEL',\n",
       "       'CERAMIC BOWL WITH LOVE HEART DESIGN',\n",
       "       'CHARLOTTE BAG , SUKI DESIGN', \"CHILDREN'S APRON DOLLY GIRL \",\n",
       "       'CHILDS BREAKFAST SET CIRCUS PARADE',\n",
       "       'CHRISTMAS CRAFT WHITE FAIRY ', 'CHRISTMAS PUDDING TRINKET POT ',\n",
       "       'DOLLY GIRL LUNCH BOX', 'DOOR MAT FAIRY CAKE',\n",
       "       'DOORMAT HOME SWEET HOME BLUE ', 'FAIRY CAKES NOTEBOOK A6 SIZE',\n",
       "       'GLASS CLOCHE SMALL', 'HANGING METAL BIRD BATH',\n",
       "       'HANGING METAL HEART LANTERN', 'HEART GARLAND RUSTIC PADDED',\n",
       "       'IVORY KITCHEN SCALES', 'JAM MAKING SET WITH JARS',\n",
       "       'JUMBO BAG SPACEBOY DESIGN', 'MILK PAN PINK RETROSPOT',\n",
       "       'MINI CAKE STAND  HANGING STRAWBERY',\n",
       "       'MINI LIGHTS WOODLAND MUSHROOMS', 'Manual',\n",
       "       'NOEL WOODEN BLOCK LETTERS ', 'ORGANISER WOOD ANTIQUE WHITE ',\n",
       "       'PADS TO MATCH ALL CUSHIONS', 'PAPER BUNTING RETROSPOT',\n",
       "       'PAPER BUNTING VINTAGE PAISLEY', 'PARTY BUNTING',\n",
       "       'PASTEL COLOUR HONEYCOMB FAN', 'PLASTERS IN TIN SKULLS',\n",
       "       'POLKADOT RAIN HAT ', 'POLYESTER FILLER PAD 45x45cm',\n",
       "       'RED KITCHEN SCALES', 'RED RETROSPOT CAKE STAND',\n",
       "       'REGENCY CAKESTAND 3 TIER', 'RETRO SPOT LARGE MILK JUG',\n",
       "       'ROUND CAKE TIN VINTAGE GREEN',\n",
       "       'SET OF 2 CERAMIC CHRISTMAS REINDEER',\n",
       "       'SET OF 2 CERAMIC PAINTED HEARTS ',\n",
       "       'SET OF 2 TRAYS HOME SWEET HOME', 'SET OF 6 NATIVITY MAGNETS ',\n",
       "       'SET OF 6 SOLDIER SKITTLES', 'SET OF 9 BLACK SKULL BALLOONS',\n",
       "       'SET/5 RED SPOTTY LID GLASS BOWLS', 'TV DINNER TRAY DOLLY GIRL',\n",
       "       'This is a test product.', 'VINTAGE CREAM CAT FOOD CONTAINER',\n",
       "       'VINTAGE GLASS COFFEE CADDY'], dtype=object)"
      ]
     },
     "execution_count": 88,
     "metadata": {},
     "output_type": "execute_result"
    }
   ],
   "source": [
    "least_expensive_group[\"Description\"].unique()"
   ]
  },
  {
   "cell_type": "markdown",
   "id": "9b3419bd",
   "metadata": {},
   "source": [
    "The most expensive product in the dataset has weird description, \"MANUAL\", is prices at 38970.0., quantity is -1, looks like some one returned an item priced that high or did not pay for it yet. \n",
    "\n",
    "finding the least expensive product needs one extra step, because we have 61 unique description of products priced at 0.0pounds. discard the zero-priced product \n",
    " "
   ]
  },
  {
   "cell_type": "code",
   "execution_count": 89,
   "id": "6d7e86f4",
   "metadata": {},
   "outputs": [],
   "source": [
    "retail_non_zero_price=retail_data.loc[retail_data[\"Price\"]!=0]\n",
    "\n",
    "least_expensive_not_null=retail_non_zero_price.loc[retail_non_zero_price[\"Price\"]==retail_non_zero_price[\"Price\"].min()]\n",
    "\n",
    "least_expensive_not_null_group= least_expensive_not_null.groupby([\"Description\",\"Price\"],as_index=False)[\"Quantity\"].agg(\"sum\")"
   ]
  },
  {
   "cell_type": "code",
   "execution_count": 90,
   "id": "8b1f7196",
   "metadata": {},
   "outputs": [
    {
     "data": {
      "text/html": [
       "<div>\n",
       "<style scoped>\n",
       "    .dataframe tbody tr th:only-of-type {\n",
       "        vertical-align: middle;\n",
       "    }\n",
       "\n",
       "    .dataframe tbody tr th {\n",
       "        vertical-align: top;\n",
       "    }\n",
       "\n",
       "    .dataframe thead th {\n",
       "        text-align: right;\n",
       "    }\n",
       "</style>\n",
       "<table border=\"1\" class=\"dataframe\">\n",
       "  <thead>\n",
       "    <tr style=\"text-align: right;\">\n",
       "      <th></th>\n",
       "      <th>Invoice</th>\n",
       "      <th>StockCode</th>\n",
       "      <th>Description</th>\n",
       "      <th>Quantity</th>\n",
       "      <th>InvoiceDate</th>\n",
       "      <th>Price</th>\n",
       "      <th>Customer ID</th>\n",
       "      <th>Country</th>\n",
       "      <th>InvoiceDate_DT</th>\n",
       "      <th>Total</th>\n",
       "    </tr>\n",
       "  </thead>\n",
       "  <tbody>\n",
       "    <tr>\n",
       "      <th>62299</th>\n",
       "      <td>494914</td>\n",
       "      <td>PADS</td>\n",
       "      <td>PADS TO MATCH ALL CUSHIONS</td>\n",
       "      <td>1</td>\n",
       "      <td>2010-01-19 17:04:00</td>\n",
       "      <td>0.001</td>\n",
       "      <td>16705</td>\n",
       "      <td>United Kingdom</td>\n",
       "      <td>2010-01-19 17:04:00</td>\n",
       "      <td>0.001</td>\n",
       "    </tr>\n",
       "    <tr>\n",
       "      <th>74731</th>\n",
       "      <td>496222</td>\n",
       "      <td>PADS</td>\n",
       "      <td>PADS TO MATCH ALL CUSHIONS</td>\n",
       "      <td>1</td>\n",
       "      <td>2010-01-29 13:53:00</td>\n",
       "      <td>0.001</td>\n",
       "      <td>13583</td>\n",
       "      <td>United Kingdom</td>\n",
       "      <td>2010-01-29 13:53:00</td>\n",
       "      <td>0.001</td>\n",
       "    </tr>\n",
       "    <tr>\n",
       "      <th>77702</th>\n",
       "      <td>496473</td>\n",
       "      <td>PADS</td>\n",
       "      <td>PADS TO MATCH ALL CUSHIONS</td>\n",
       "      <td>1</td>\n",
       "      <td>2010-02-01 15:38:00</td>\n",
       "      <td>0.001</td>\n",
       "      <td>17350</td>\n",
       "      <td>United Kingdom</td>\n",
       "      <td>2010-02-01 15:38:00</td>\n",
       "      <td>0.001</td>\n",
       "    </tr>\n",
       "    <tr>\n",
       "      <th>79794</th>\n",
       "      <td>496643</td>\n",
       "      <td>PADS</td>\n",
       "      <td>PADS TO MATCH ALL CUSHIONS</td>\n",
       "      <td>1</td>\n",
       "      <td>2010-02-03 11:58:00</td>\n",
       "      <td>0.001</td>\n",
       "      <td>13408</td>\n",
       "      <td>United Kingdom</td>\n",
       "      <td>2010-02-03 11:58:00</td>\n",
       "      <td>0.001</td>\n",
       "    </tr>\n",
       "    <tr>\n",
       "      <th>90798</th>\n",
       "      <td>497935</td>\n",
       "      <td>PADS</td>\n",
       "      <td>PADS TO MATCH ALL CUSHIONS</td>\n",
       "      <td>1</td>\n",
       "      <td>2010-02-15 10:47:00</td>\n",
       "      <td>0.001</td>\n",
       "      <td>13408</td>\n",
       "      <td>United Kingdom</td>\n",
       "      <td>2010-02-15 10:47:00</td>\n",
       "      <td>0.001</td>\n",
       "    </tr>\n",
       "    <tr>\n",
       "      <th>97716</th>\n",
       "      <td>498562</td>\n",
       "      <td>PADS</td>\n",
       "      <td>PADS TO MATCH ALL CUSHIONS</td>\n",
       "      <td>1</td>\n",
       "      <td>2010-02-21 12:03:00</td>\n",
       "      <td>0.001</td>\n",
       "      <td>15182</td>\n",
       "      <td>United Kingdom</td>\n",
       "      <td>2010-02-21 12:03:00</td>\n",
       "      <td>0.001</td>\n",
       "    </tr>\n",
       "    <tr>\n",
       "      <th>101718</th>\n",
       "      <td>499056</td>\n",
       "      <td>PADS</td>\n",
       "      <td>PADS TO MATCH ALL CUSHIONS</td>\n",
       "      <td>1</td>\n",
       "      <td>2010-02-24 13:46:00</td>\n",
       "      <td>0.001</td>\n",
       "      <td>13765</td>\n",
       "      <td>United Kingdom</td>\n",
       "      <td>2010-02-24 13:46:00</td>\n",
       "      <td>0.001</td>\n",
       "    </tr>\n",
       "    <tr>\n",
       "      <th>104480</th>\n",
       "      <td>499399</td>\n",
       "      <td>PADS</td>\n",
       "      <td>PADS TO MATCH ALL CUSHIONS</td>\n",
       "      <td>1</td>\n",
       "      <td>2010-02-26 13:26:00</td>\n",
       "      <td>0.001</td>\n",
       "      <td>14459</td>\n",
       "      <td>United Kingdom</td>\n",
       "      <td>2010-02-26 13:26:00</td>\n",
       "      <td>0.001</td>\n",
       "    </tr>\n",
       "    <tr>\n",
       "      <th>123947</th>\n",
       "      <td>501176</td>\n",
       "      <td>PADS</td>\n",
       "      <td>PADS TO MATCH ALL CUSHIONS</td>\n",
       "      <td>1</td>\n",
       "      <td>2010-03-15 11:00:00</td>\n",
       "      <td>0.001</td>\n",
       "      <td>14857</td>\n",
       "      <td>United Kingdom</td>\n",
       "      <td>2010-03-15 11:00:00</td>\n",
       "      <td>0.001</td>\n",
       "    </tr>\n",
       "    <tr>\n",
       "      <th>156809</th>\n",
       "      <td>504332</td>\n",
       "      <td>PADS</td>\n",
       "      <td>PADS TO MATCH ALL CUSHIONS</td>\n",
       "      <td>1</td>\n",
       "      <td>2010-04-12 16:30:00</td>\n",
       "      <td>0.001</td>\n",
       "      <td>12671</td>\n",
       "      <td>Germany</td>\n",
       "      <td>2010-04-12 16:30:00</td>\n",
       "      <td>0.001</td>\n",
       "    </tr>\n",
       "    <tr>\n",
       "      <th>178629</th>\n",
       "      <td>506303</td>\n",
       "      <td>PADS</td>\n",
       "      <td>PADS TO MATCH ALL CUSHIONS</td>\n",
       "      <td>1</td>\n",
       "      <td>2010-04-29 10:43:00</td>\n",
       "      <td>0.001</td>\n",
       "      <td>14249</td>\n",
       "      <td>United Kingdom</td>\n",
       "      <td>2010-04-29 10:43:00</td>\n",
       "      <td>0.001</td>\n",
       "    </tr>\n",
       "    <tr>\n",
       "      <th>341826</th>\n",
       "      <td>522766</td>\n",
       "      <td>PADS</td>\n",
       "      <td>PADS TO MATCH ALL CUSHIONS</td>\n",
       "      <td>1</td>\n",
       "      <td>2010-09-16 13:58:00</td>\n",
       "      <td>0.001</td>\n",
       "      <td>15182</td>\n",
       "      <td>United Kingdom</td>\n",
       "      <td>2010-09-16 13:58:00</td>\n",
       "      <td>0.001</td>\n",
       "    </tr>\n",
       "    <tr>\n",
       "      <th>440930</th>\n",
       "      <td>531433</td>\n",
       "      <td>PADS</td>\n",
       "      <td>PADS TO MATCH ALL CUSHIONS</td>\n",
       "      <td>1</td>\n",
       "      <td>2010-11-08 11:54:00</td>\n",
       "      <td>0.001</td>\n",
       "      <td>13317</td>\n",
       "      <td>United Kingdom</td>\n",
       "      <td>2010-11-08 11:54:00</td>\n",
       "      <td>0.001</td>\n",
       "    </tr>\n",
       "    <tr>\n",
       "      <th>468280</th>\n",
       "      <td>533528</td>\n",
       "      <td>PADS</td>\n",
       "      <td>PADS TO MATCH ALL CUSHIONS</td>\n",
       "      <td>1</td>\n",
       "      <td>2010-11-17 15:08:00</td>\n",
       "      <td>0.001</td>\n",
       "      <td>15750</td>\n",
       "      <td>United Kingdom</td>\n",
       "      <td>2010-11-17 15:08:00</td>\n",
       "      <td>0.001</td>\n",
       "    </tr>\n",
       "    <tr>\n",
       "      <th>682656</th>\n",
       "      <td>550193</td>\n",
       "      <td>PADS</td>\n",
       "      <td>PADS TO MATCH ALL CUSHIONS</td>\n",
       "      <td>1</td>\n",
       "      <td>2011-04-15 09:27:00</td>\n",
       "      <td>0.001</td>\n",
       "      <td>13952</td>\n",
       "      <td>United Kingdom</td>\n",
       "      <td>2011-04-15 09:27:00</td>\n",
       "      <td>0.001</td>\n",
       "    </tr>\n",
       "    <tr>\n",
       "      <th>804506</th>\n",
       "      <td>561226</td>\n",
       "      <td>PADS</td>\n",
       "      <td>PADS TO MATCH ALL CUSHIONS</td>\n",
       "      <td>1</td>\n",
       "      <td>2011-07-26 10:13:00</td>\n",
       "      <td>0.001</td>\n",
       "      <td>15618</td>\n",
       "      <td>United Kingdom</td>\n",
       "      <td>2011-07-26 10:13:00</td>\n",
       "      <td>0.001</td>\n",
       "    </tr>\n",
       "    <tr>\n",
       "      <th>885332</th>\n",
       "      <td>568200</td>\n",
       "      <td>PADS</td>\n",
       "      <td>PADS TO MATCH ALL CUSHIONS</td>\n",
       "      <td>1</td>\n",
       "      <td>2011-09-25 14:58:00</td>\n",
       "      <td>0.001</td>\n",
       "      <td>16198</td>\n",
       "      <td>United Kingdom</td>\n",
       "      <td>2011-09-25 14:58:00</td>\n",
       "      <td>0.001</td>\n",
       "    </tr>\n",
       "    <tr>\n",
       "      <th>887202</th>\n",
       "      <td>568375</td>\n",
       "      <td>BANK CHARGES</td>\n",
       "      <td>Bank Charges</td>\n",
       "      <td>1</td>\n",
       "      <td>2011-09-26 17:01:00</td>\n",
       "      <td>0.001</td>\n",
       "      <td>13405</td>\n",
       "      <td>United Kingdom</td>\n",
       "      <td>2011-09-26 17:01:00</td>\n",
       "      <td>0.001</td>\n",
       "    </tr>\n",
       "  </tbody>\n",
       "</table>\n",
       "</div>"
      ],
      "text/plain": [
       "       Invoice     StockCode                 Description  Quantity  \\\n",
       "62299   494914          PADS  PADS TO MATCH ALL CUSHIONS         1   \n",
       "74731   496222          PADS  PADS TO MATCH ALL CUSHIONS         1   \n",
       "77702   496473          PADS  PADS TO MATCH ALL CUSHIONS         1   \n",
       "79794   496643          PADS  PADS TO MATCH ALL CUSHIONS         1   \n",
       "90798   497935          PADS  PADS TO MATCH ALL CUSHIONS         1   \n",
       "97716   498562          PADS  PADS TO MATCH ALL CUSHIONS         1   \n",
       "101718  499056          PADS  PADS TO MATCH ALL CUSHIONS         1   \n",
       "104480  499399          PADS  PADS TO MATCH ALL CUSHIONS         1   \n",
       "123947  501176          PADS  PADS TO MATCH ALL CUSHIONS         1   \n",
       "156809  504332          PADS  PADS TO MATCH ALL CUSHIONS         1   \n",
       "178629  506303          PADS  PADS TO MATCH ALL CUSHIONS         1   \n",
       "341826  522766          PADS  PADS TO MATCH ALL CUSHIONS         1   \n",
       "440930  531433          PADS  PADS TO MATCH ALL CUSHIONS         1   \n",
       "468280  533528          PADS  PADS TO MATCH ALL CUSHIONS         1   \n",
       "682656  550193          PADS  PADS TO MATCH ALL CUSHIONS         1   \n",
       "804506  561226          PADS  PADS TO MATCH ALL CUSHIONS         1   \n",
       "885332  568200          PADS  PADS TO MATCH ALL CUSHIONS         1   \n",
       "887202  568375  BANK CHARGES                Bank Charges         1   \n",
       "\n",
       "                InvoiceDate  Price  Customer ID         Country  \\\n",
       "62299   2010-01-19 17:04:00  0.001        16705  United Kingdom   \n",
       "74731   2010-01-29 13:53:00  0.001        13583  United Kingdom   \n",
       "77702   2010-02-01 15:38:00  0.001        17350  United Kingdom   \n",
       "79794   2010-02-03 11:58:00  0.001        13408  United Kingdom   \n",
       "90798   2010-02-15 10:47:00  0.001        13408  United Kingdom   \n",
       "97716   2010-02-21 12:03:00  0.001        15182  United Kingdom   \n",
       "101718  2010-02-24 13:46:00  0.001        13765  United Kingdom   \n",
       "104480  2010-02-26 13:26:00  0.001        14459  United Kingdom   \n",
       "123947  2010-03-15 11:00:00  0.001        14857  United Kingdom   \n",
       "156809  2010-04-12 16:30:00  0.001        12671         Germany   \n",
       "178629  2010-04-29 10:43:00  0.001        14249  United Kingdom   \n",
       "341826  2010-09-16 13:58:00  0.001        15182  United Kingdom   \n",
       "440930  2010-11-08 11:54:00  0.001        13317  United Kingdom   \n",
       "468280  2010-11-17 15:08:00  0.001        15750  United Kingdom   \n",
       "682656  2011-04-15 09:27:00  0.001        13952  United Kingdom   \n",
       "804506  2011-07-26 10:13:00  0.001        15618  United Kingdom   \n",
       "885332  2011-09-25 14:58:00  0.001        16198  United Kingdom   \n",
       "887202  2011-09-26 17:01:00  0.001        13405  United Kingdom   \n",
       "\n",
       "            InvoiceDate_DT  Total  \n",
       "62299  2010-01-19 17:04:00  0.001  \n",
       "74731  2010-01-29 13:53:00  0.001  \n",
       "77702  2010-02-01 15:38:00  0.001  \n",
       "79794  2010-02-03 11:58:00  0.001  \n",
       "90798  2010-02-15 10:47:00  0.001  \n",
       "97716  2010-02-21 12:03:00  0.001  \n",
       "101718 2010-02-24 13:46:00  0.001  \n",
       "104480 2010-02-26 13:26:00  0.001  \n",
       "123947 2010-03-15 11:00:00  0.001  \n",
       "156809 2010-04-12 16:30:00  0.001  \n",
       "178629 2010-04-29 10:43:00  0.001  \n",
       "341826 2010-09-16 13:58:00  0.001  \n",
       "440930 2010-11-08 11:54:00  0.001  \n",
       "468280 2010-11-17 15:08:00  0.001  \n",
       "682656 2011-04-15 09:27:00  0.001  \n",
       "804506 2011-07-26 10:13:00  0.001  \n",
       "885332 2011-09-25 14:58:00  0.001  \n",
       "887202 2011-09-26 17:01:00  0.001  "
      ]
     },
     "execution_count": 90,
     "metadata": {},
     "output_type": "execute_result"
    }
   ],
   "source": [
    "least_expensive_not_null"
   ]
  },
  {
   "cell_type": "code",
   "execution_count": 91,
   "id": "9fe2c292",
   "metadata": {},
   "outputs": [
    {
     "data": {
      "text/html": [
       "<div>\n",
       "<style scoped>\n",
       "    .dataframe tbody tr th:only-of-type {\n",
       "        vertical-align: middle;\n",
       "    }\n",
       "\n",
       "    .dataframe tbody tr th {\n",
       "        vertical-align: top;\n",
       "    }\n",
       "\n",
       "    .dataframe thead th {\n",
       "        text-align: right;\n",
       "    }\n",
       "</style>\n",
       "<table border=\"1\" class=\"dataframe\">\n",
       "  <thead>\n",
       "    <tr style=\"text-align: right;\">\n",
       "      <th></th>\n",
       "      <th>Description</th>\n",
       "      <th>Price</th>\n",
       "      <th>Quantity</th>\n",
       "    </tr>\n",
       "  </thead>\n",
       "  <tbody>\n",
       "    <tr>\n",
       "      <th>0</th>\n",
       "      <td>Bank Charges</td>\n",
       "      <td>0.001</td>\n",
       "      <td>1</td>\n",
       "    </tr>\n",
       "    <tr>\n",
       "      <th>1</th>\n",
       "      <td>PADS TO MATCH ALL CUSHIONS</td>\n",
       "      <td>0.001</td>\n",
       "      <td>17</td>\n",
       "    </tr>\n",
       "  </tbody>\n",
       "</table>\n",
       "</div>"
      ],
      "text/plain": [
       "                  Description  Price  Quantity\n",
       "0                Bank Charges  0.001         1\n",
       "1  PADS TO MATCH ALL CUSHIONS  0.001        17"
      ]
     },
     "execution_count": 91,
     "metadata": {},
     "output_type": "execute_result"
    }
   ],
   "source": [
    "least_expensive_not_null_group"
   ]
  },
  {
   "cell_type": "markdown",
   "id": "2057d0c4",
   "metadata": {},
   "source": [
    "so the cheapest product is \"PADS TO MATCH ALL CUSHIONS\" and \"BANK CHARGES\" price 0.0001 pounds"
   ]
  },
  {
   "cell_type": "markdown",
   "id": "abcd57d8",
   "metadata": {},
   "source": [
    "Customer Analysis: Total Purchase Amount\n",
    "\n",
    "Next, we will find out 10 customer who spent most in the online shopping for two years.Those are the most valuable clients, Also I'll define customer spending least"
   ]
  },
  {
   "cell_type": "code",
   "execution_count": 92,
   "id": "0bde038d",
   "metadata": {},
   "outputs": [
    {
     "data": {
      "text/html": [
       "<div>\n",
       "<style scoped>\n",
       "    .dataframe tbody tr th:only-of-type {\n",
       "        vertical-align: middle;\n",
       "    }\n",
       "\n",
       "    .dataframe tbody tr th {\n",
       "        vertical-align: top;\n",
       "    }\n",
       "\n",
       "    .dataframe thead th {\n",
       "        text-align: right;\n",
       "    }\n",
       "</style>\n",
       "<table border=\"1\" class=\"dataframe\">\n",
       "  <thead>\n",
       "    <tr style=\"text-align: right;\">\n",
       "      <th></th>\n",
       "      <th>Customer ID</th>\n",
       "      <th>Country</th>\n",
       "      <th>Total</th>\n",
       "    </tr>\n",
       "  </thead>\n",
       "  <tbody>\n",
       "    <tr>\n",
       "      <th>0</th>\n",
       "      <td>12346</td>\n",
       "      <td>United Kingdom</td>\n",
       "      <td>-64.68</td>\n",
       "    </tr>\n",
       "    <tr>\n",
       "      <th>1</th>\n",
       "      <td>12347</td>\n",
       "      <td>Iceland</td>\n",
       "      <td>5633.32</td>\n",
       "    </tr>\n",
       "    <tr>\n",
       "      <th>2</th>\n",
       "      <td>12348</td>\n",
       "      <td>Finland</td>\n",
       "      <td>2019.40</td>\n",
       "    </tr>\n",
       "    <tr>\n",
       "      <th>3</th>\n",
       "      <td>12349</td>\n",
       "      <td>Italy</td>\n",
       "      <td>4404.54</td>\n",
       "    </tr>\n",
       "    <tr>\n",
       "      <th>4</th>\n",
       "      <td>12350</td>\n",
       "      <td>Norway</td>\n",
       "      <td>334.40</td>\n",
       "    </tr>\n",
       "  </tbody>\n",
       "</table>\n",
       "</div>"
      ],
      "text/plain": [
       "   Customer ID         Country    Total\n",
       "0        12346  United Kingdom   -64.68\n",
       "1        12347         Iceland  5633.32\n",
       "2        12348         Finland  2019.40\n",
       "3        12349           Italy  4404.54\n",
       "4        12350          Norway   334.40"
      ]
     },
     "execution_count": 92,
     "metadata": {},
     "output_type": "execute_result"
    }
   ],
   "source": [
    "retail_customer=retail_data.groupby([\"Customer ID\",\"Country\"],as_index=False)[\"Total\"].agg(\"sum\")\n",
    "retail_customer.head()\n"
   ]
  },
  {
   "cell_type": "code",
   "execution_count": 93,
   "id": "22085482",
   "metadata": {},
   "outputs": [
    {
     "data": {
      "text/html": [
       "<div>\n",
       "<style scoped>\n",
       "    .dataframe tbody tr th:only-of-type {\n",
       "        vertical-align: middle;\n",
       "    }\n",
       "\n",
       "    .dataframe tbody tr th {\n",
       "        vertical-align: top;\n",
       "    }\n",
       "\n",
       "    .dataframe thead th {\n",
       "        text-align: right;\n",
       "    }\n",
       "</style>\n",
       "<table border=\"1\" class=\"dataframe\">\n",
       "  <thead>\n",
       "    <tr style=\"text-align: right;\">\n",
       "      <th></th>\n",
       "      <th>Customer ID</th>\n",
       "      <th>Country</th>\n",
       "      <th>Total</th>\n",
       "    </tr>\n",
       "  </thead>\n",
       "  <tbody>\n",
       "    <tr>\n",
       "      <th>5066</th>\n",
       "      <td>17399</td>\n",
       "      <td>United Kingdom</td>\n",
       "      <td>-25111.09</td>\n",
       "    </tr>\n",
       "    <tr>\n",
       "      <th>585</th>\n",
       "      <td>12918</td>\n",
       "      <td>United Kingdom</td>\n",
       "      <td>-10953.50</td>\n",
       "    </tr>\n",
       "    <tr>\n",
       "      <th>3516</th>\n",
       "      <td>15849</td>\n",
       "      <td>United Kingdom</td>\n",
       "      <td>-5876.34</td>\n",
       "    </tr>\n",
       "    <tr>\n",
       "      <th>3427</th>\n",
       "      <td>15760</td>\n",
       "      <td>Norway</td>\n",
       "      <td>-5795.87</td>\n",
       "    </tr>\n",
       "    <tr>\n",
       "      <th>4648</th>\n",
       "      <td>16981</td>\n",
       "      <td>United Kingdom</td>\n",
       "      <td>-4620.86</td>\n",
       "    </tr>\n",
       "    <tr>\n",
       "      <th>3818</th>\n",
       "      <td>16151</td>\n",
       "      <td>United Kingdom</td>\n",
       "      <td>-4217.59</td>\n",
       "    </tr>\n",
       "    <tr>\n",
       "      <th>1730</th>\n",
       "      <td>14063</td>\n",
       "      <td>United Kingdom</td>\n",
       "      <td>-3767.20</td>\n",
       "    </tr>\n",
       "    <tr>\n",
       "      <th>5690</th>\n",
       "      <td>18023</td>\n",
       "      <td>United Kingdom</td>\n",
       "      <td>-3248.86</td>\n",
       "    </tr>\n",
       "    <tr>\n",
       "      <th>4680</th>\n",
       "      <td>17013</td>\n",
       "      <td>United Kingdom</td>\n",
       "      <td>-3224.76</td>\n",
       "    </tr>\n",
       "    <tr>\n",
       "      <th>2869</th>\n",
       "      <td>15202</td>\n",
       "      <td>United Kingdom</td>\n",
       "      <td>-2570.18</td>\n",
       "    </tr>\n",
       "  </tbody>\n",
       "</table>\n",
       "</div>"
      ],
      "text/plain": [
       "      Customer ID         Country     Total\n",
       "5066        17399  United Kingdom -25111.09\n",
       "585         12918  United Kingdom -10953.50\n",
       "3516        15849  United Kingdom  -5876.34\n",
       "3427        15760          Norway  -5795.87\n",
       "4648        16981  United Kingdom  -4620.86\n",
       "3818        16151  United Kingdom  -4217.59\n",
       "1730        14063  United Kingdom  -3767.20\n",
       "5690        18023  United Kingdom  -3248.86\n",
       "4680        17013  United Kingdom  -3224.76\n",
       "2869        15202  United Kingdom  -2570.18"
      ]
     },
     "execution_count": 93,
     "metadata": {},
     "output_type": "execute_result"
    }
   ],
   "source": [
    "retail_customer_asc=retail_customer.sort_values(\"Total\").head(10)\n",
    "retail_customer_asc"
   ]
  },
  {
   "cell_type": "code",
   "execution_count": 94,
   "id": "0bc3dabd",
   "metadata": {},
   "outputs": [
    {
     "data": {
      "text/html": [
       "<div>\n",
       "<style scoped>\n",
       "    .dataframe tbody tr th:only-of-type {\n",
       "        vertical-align: middle;\n",
       "    }\n",
       "\n",
       "    .dataframe tbody tr th {\n",
       "        vertical-align: top;\n",
       "    }\n",
       "\n",
       "    .dataframe thead th {\n",
       "        text-align: right;\n",
       "    }\n",
       "</style>\n",
       "<table border=\"1\" class=\"dataframe\">\n",
       "  <thead>\n",
       "    <tr style=\"text-align: right;\">\n",
       "      <th></th>\n",
       "      <th>Customer ID</th>\n",
       "      <th>Country</th>\n",
       "      <th>Total</th>\n",
       "    </tr>\n",
       "  </thead>\n",
       "  <tbody>\n",
       "    <tr>\n",
       "      <th>5769</th>\n",
       "      <td>18102</td>\n",
       "      <td>United Kingdom</td>\n",
       "      <td>598215.22</td>\n",
       "    </tr>\n",
       "    <tr>\n",
       "      <th>2313</th>\n",
       "      <td>14646</td>\n",
       "      <td>Netherlands</td>\n",
       "      <td>523342.07</td>\n",
       "    </tr>\n",
       "    <tr>\n",
       "      <th>1823</th>\n",
       "      <td>14156</td>\n",
       "      <td>EIRE</td>\n",
       "      <td>296564.69</td>\n",
       "    </tr>\n",
       "    <tr>\n",
       "      <th>2578</th>\n",
       "      <td>14911</td>\n",
       "      <td>EIRE</td>\n",
       "      <td>270248.53</td>\n",
       "    </tr>\n",
       "    <tr>\n",
       "      <th>5117</th>\n",
       "      <td>17450</td>\n",
       "      <td>United Kingdom</td>\n",
       "      <td>233579.39</td>\n",
       "    </tr>\n",
       "    <tr>\n",
       "      <th>1361</th>\n",
       "      <td>13694</td>\n",
       "      <td>United Kingdom</td>\n",
       "      <td>190825.52</td>\n",
       "    </tr>\n",
       "    <tr>\n",
       "      <th>5178</th>\n",
       "      <td>17511</td>\n",
       "      <td>United Kingdom</td>\n",
       "      <td>171885.98</td>\n",
       "    </tr>\n",
       "    <tr>\n",
       "      <th>72</th>\n",
       "      <td>12415</td>\n",
       "      <td>Australia</td>\n",
       "      <td>143269.29</td>\n",
       "    </tr>\n",
       "    <tr>\n",
       "      <th>4351</th>\n",
       "      <td>16684</td>\n",
       "      <td>United Kingdom</td>\n",
       "      <td>141502.25</td>\n",
       "    </tr>\n",
       "    <tr>\n",
       "      <th>2728</th>\n",
       "      <td>15061</td>\n",
       "      <td>United Kingdom</td>\n",
       "      <td>136391.48</td>\n",
       "    </tr>\n",
       "  </tbody>\n",
       "</table>\n",
       "</div>"
      ],
      "text/plain": [
       "      Customer ID         Country      Total\n",
       "5769        18102  United Kingdom  598215.22\n",
       "2313        14646     Netherlands  523342.07\n",
       "1823        14156            EIRE  296564.69\n",
       "2578        14911            EIRE  270248.53\n",
       "5117        17450  United Kingdom  233579.39\n",
       "1361        13694  United Kingdom  190825.52\n",
       "5178        17511  United Kingdom  171885.98\n",
       "72          12415       Australia  143269.29\n",
       "4351        16684  United Kingdom  141502.25\n",
       "2728        15061  United Kingdom  136391.48"
      ]
     },
     "execution_count": 94,
     "metadata": {},
     "output_type": "execute_result"
    }
   ],
   "source": [
    "retail_customer_desc=retail_customer.sort_values(\"Total\",ascending=False).head(10)\n",
    "retail_customer_desc"
   ]
  },
  {
   "cell_type": "code",
   "execution_count": 95,
   "id": "443f5970",
   "metadata": {},
   "outputs": [
    {
     "name": "stdout",
     "output_type": "stream",
     "text": [
      "Requirement already satisfied: nbformat in ./venv/lib/python3.11/site-packages (5.10.4)\n",
      "Requirement already satisfied: fastjsonschema>=2.15 in ./venv/lib/python3.11/site-packages (from nbformat) (2.21.1)\n",
      "Requirement already satisfied: jsonschema>=2.6 in ./venv/lib/python3.11/site-packages (from nbformat) (4.23.0)\n",
      "Requirement already satisfied: jupyter-core!=5.0.*,>=4.12 in ./venv/lib/python3.11/site-packages (from nbformat) (5.7.2)\n",
      "Requirement already satisfied: traitlets>=5.1 in ./venv/lib/python3.11/site-packages (from nbformat) (5.14.3)\n",
      "Requirement already satisfied: attrs>=22.2.0 in ./venv/lib/python3.11/site-packages (from jsonschema>=2.6->nbformat) (25.3.0)\n",
      "Requirement already satisfied: jsonschema-specifications>=2023.03.6 in ./venv/lib/python3.11/site-packages (from jsonschema>=2.6->nbformat) (2025.4.1)\n",
      "Requirement already satisfied: referencing>=0.28.4 in ./venv/lib/python3.11/site-packages (from jsonschema>=2.6->nbformat) (0.36.2)\n",
      "Requirement already satisfied: rpds-py>=0.7.1 in ./venv/lib/python3.11/site-packages (from jsonschema>=2.6->nbformat) (0.24.0)\n",
      "Requirement already satisfied: platformdirs>=2.5 in ./venv/lib/python3.11/site-packages (from jupyter-core!=5.0.*,>=4.12->nbformat) (4.3.7)\n",
      "Requirement already satisfied: typing-extensions>=4.4.0 in ./venv/lib/python3.11/site-packages (from referencing>=0.28.4->jsonschema>=2.6->nbformat) (4.13.2)\n",
      "\n",
      "\u001b[1m[\u001b[0m\u001b[34;49mnotice\u001b[0m\u001b[1;39;49m]\u001b[0m\u001b[39;49m A new release of pip is available: \u001b[0m\u001b[31;49m24.3.1\u001b[0m\u001b[39;49m -> \u001b[0m\u001b[32;49m25.1.1\u001b[0m\n",
      "\u001b[1m[\u001b[0m\u001b[34;49mnotice\u001b[0m\u001b[1;39;49m]\u001b[0m\u001b[39;49m To update, run: \u001b[0m\u001b[32;49mpip install --upgrade pip\u001b[0m\n",
      "Note: you may need to restart the kernel to use updated packages.\n"
     ]
    }
   ],
   "source": [
    "pip install nbformat --upgrade"
   ]
  },
  {
   "cell_type": "code",
   "execution_count": 96,
   "id": "9d2700bc",
   "metadata": {},
   "outputs": [
    {
     "data": {
      "application/vnd.plotly.v1+json": {
       "config": {
        "plotlyServerURL": "https://plot.ly"
       },
       "data": [
        {
         "hovertext": [
          "United Kingdom",
          "Netherlands",
          "EIRE",
          "EIRE",
          "United Kingdom",
          "United Kingdom",
          "United Kingdom",
          "Australia",
          "United Kingdom",
          "United Kingdom"
         ],
         "marker": {
          "color": {
           "bdata": "CtejcI5BIkF7FK5HOPEfQSlcj8LSGRJB7FG4HqJ+EEHrUbgeW4MMQY/C9ShMSwdBcT0K12/7BEEfhetRKn0BQQAAAADyRQFBcT0K1zumAEE=",
           "dtype": "f8"
          },
          "colorscale": [
           [
            0,
            "rgb(150,0,90)"
           ],
           [
            0.125,
            "rgb(0,0,200)"
           ],
           [
            0.25,
            "rgb(0,25,255)"
           ],
           [
            0.375,
            "rgb(0,152,255)"
           ],
           [
            0.5,
            "rgb(44,255,150)"
           ],
           [
            0.625,
            "rgb(151,255,0)"
           ],
           [
            0.75,
            "rgb(255,234,0)"
           ],
           [
            0.875,
            "rgb(255,111,0)"
           ],
           [
            1,
            "rgb(255,0,0)"
           ]
          ]
         },
         "name": "Customer with max total purchase amount",
         "opacity": 1,
         "textposition": "inside",
         "texttemplate": "£%{y:.3s}",
         "type": "bar",
         "x": [
          "18102",
          "14646",
          "14156",
          "14911",
          "17450",
          "13694",
          "17511",
          "12415",
          "16684",
          "15061"
         ],
         "y": {
          "bdata": "CtejcI5BIkF7FK5HOPEfQSlcj8LSGRJB7FG4HqJ+EEHrUbgeW4MMQY/C9ShMSwdBcT0K12/7BEEfhetRKn0BQQAAAADyRQFBcT0K1zumAEE=",
          "dtype": "f8"
         }
        }
       ],
       "layout": {
        "plot_bgcolor": "white",
        "template": {
         "data": {
          "bar": [
           {
            "error_x": {
             "color": "#2a3f5f"
            },
            "error_y": {
             "color": "#2a3f5f"
            },
            "marker": {
             "line": {
              "color": "#E5ECF6",
              "width": 0.5
             },
             "pattern": {
              "fillmode": "overlay",
              "size": 10,
              "solidity": 0.2
             }
            },
            "type": "bar"
           }
          ],
          "barpolar": [
           {
            "marker": {
             "line": {
              "color": "#E5ECF6",
              "width": 0.5
             },
             "pattern": {
              "fillmode": "overlay",
              "size": 10,
              "solidity": 0.2
             }
            },
            "type": "barpolar"
           }
          ],
          "carpet": [
           {
            "aaxis": {
             "endlinecolor": "#2a3f5f",
             "gridcolor": "white",
             "linecolor": "white",
             "minorgridcolor": "white",
             "startlinecolor": "#2a3f5f"
            },
            "baxis": {
             "endlinecolor": "#2a3f5f",
             "gridcolor": "white",
             "linecolor": "white",
             "minorgridcolor": "white",
             "startlinecolor": "#2a3f5f"
            },
            "type": "carpet"
           }
          ],
          "choropleth": [
           {
            "colorbar": {
             "outlinewidth": 0,
             "ticks": ""
            },
            "type": "choropleth"
           }
          ],
          "contour": [
           {
            "colorbar": {
             "outlinewidth": 0,
             "ticks": ""
            },
            "colorscale": [
             [
              0,
              "#0d0887"
             ],
             [
              0.1111111111111111,
              "#46039f"
             ],
             [
              0.2222222222222222,
              "#7201a8"
             ],
             [
              0.3333333333333333,
              "#9c179e"
             ],
             [
              0.4444444444444444,
              "#bd3786"
             ],
             [
              0.5555555555555556,
              "#d8576b"
             ],
             [
              0.6666666666666666,
              "#ed7953"
             ],
             [
              0.7777777777777778,
              "#fb9f3a"
             ],
             [
              0.8888888888888888,
              "#fdca26"
             ],
             [
              1,
              "#f0f921"
             ]
            ],
            "type": "contour"
           }
          ],
          "contourcarpet": [
           {
            "colorbar": {
             "outlinewidth": 0,
             "ticks": ""
            },
            "type": "contourcarpet"
           }
          ],
          "heatmap": [
           {
            "colorbar": {
             "outlinewidth": 0,
             "ticks": ""
            },
            "colorscale": [
             [
              0,
              "#0d0887"
             ],
             [
              0.1111111111111111,
              "#46039f"
             ],
             [
              0.2222222222222222,
              "#7201a8"
             ],
             [
              0.3333333333333333,
              "#9c179e"
             ],
             [
              0.4444444444444444,
              "#bd3786"
             ],
             [
              0.5555555555555556,
              "#d8576b"
             ],
             [
              0.6666666666666666,
              "#ed7953"
             ],
             [
              0.7777777777777778,
              "#fb9f3a"
             ],
             [
              0.8888888888888888,
              "#fdca26"
             ],
             [
              1,
              "#f0f921"
             ]
            ],
            "type": "heatmap"
           }
          ],
          "histogram": [
           {
            "marker": {
             "pattern": {
              "fillmode": "overlay",
              "size": 10,
              "solidity": 0.2
             }
            },
            "type": "histogram"
           }
          ],
          "histogram2d": [
           {
            "colorbar": {
             "outlinewidth": 0,
             "ticks": ""
            },
            "colorscale": [
             [
              0,
              "#0d0887"
             ],
             [
              0.1111111111111111,
              "#46039f"
             ],
             [
              0.2222222222222222,
              "#7201a8"
             ],
             [
              0.3333333333333333,
              "#9c179e"
             ],
             [
              0.4444444444444444,
              "#bd3786"
             ],
             [
              0.5555555555555556,
              "#d8576b"
             ],
             [
              0.6666666666666666,
              "#ed7953"
             ],
             [
              0.7777777777777778,
              "#fb9f3a"
             ],
             [
              0.8888888888888888,
              "#fdca26"
             ],
             [
              1,
              "#f0f921"
             ]
            ],
            "type": "histogram2d"
           }
          ],
          "histogram2dcontour": [
           {
            "colorbar": {
             "outlinewidth": 0,
             "ticks": ""
            },
            "colorscale": [
             [
              0,
              "#0d0887"
             ],
             [
              0.1111111111111111,
              "#46039f"
             ],
             [
              0.2222222222222222,
              "#7201a8"
             ],
             [
              0.3333333333333333,
              "#9c179e"
             ],
             [
              0.4444444444444444,
              "#bd3786"
             ],
             [
              0.5555555555555556,
              "#d8576b"
             ],
             [
              0.6666666666666666,
              "#ed7953"
             ],
             [
              0.7777777777777778,
              "#fb9f3a"
             ],
             [
              0.8888888888888888,
              "#fdca26"
             ],
             [
              1,
              "#f0f921"
             ]
            ],
            "type": "histogram2dcontour"
           }
          ],
          "mesh3d": [
           {
            "colorbar": {
             "outlinewidth": 0,
             "ticks": ""
            },
            "type": "mesh3d"
           }
          ],
          "parcoords": [
           {
            "line": {
             "colorbar": {
              "outlinewidth": 0,
              "ticks": ""
             }
            },
            "type": "parcoords"
           }
          ],
          "pie": [
           {
            "automargin": true,
            "type": "pie"
           }
          ],
          "scatter": [
           {
            "fillpattern": {
             "fillmode": "overlay",
             "size": 10,
             "solidity": 0.2
            },
            "type": "scatter"
           }
          ],
          "scatter3d": [
           {
            "line": {
             "colorbar": {
              "outlinewidth": 0,
              "ticks": ""
             }
            },
            "marker": {
             "colorbar": {
              "outlinewidth": 0,
              "ticks": ""
             }
            },
            "type": "scatter3d"
           }
          ],
          "scattercarpet": [
           {
            "marker": {
             "colorbar": {
              "outlinewidth": 0,
              "ticks": ""
             }
            },
            "type": "scattercarpet"
           }
          ],
          "scattergeo": [
           {
            "marker": {
             "colorbar": {
              "outlinewidth": 0,
              "ticks": ""
             }
            },
            "type": "scattergeo"
           }
          ],
          "scattergl": [
           {
            "marker": {
             "colorbar": {
              "outlinewidth": 0,
              "ticks": ""
             }
            },
            "type": "scattergl"
           }
          ],
          "scattermap": [
           {
            "marker": {
             "colorbar": {
              "outlinewidth": 0,
              "ticks": ""
             }
            },
            "type": "scattermap"
           }
          ],
          "scattermapbox": [
           {
            "marker": {
             "colorbar": {
              "outlinewidth": 0,
              "ticks": ""
             }
            },
            "type": "scattermapbox"
           }
          ],
          "scatterpolar": [
           {
            "marker": {
             "colorbar": {
              "outlinewidth": 0,
              "ticks": ""
             }
            },
            "type": "scatterpolar"
           }
          ],
          "scatterpolargl": [
           {
            "marker": {
             "colorbar": {
              "outlinewidth": 0,
              "ticks": ""
             }
            },
            "type": "scatterpolargl"
           }
          ],
          "scatterternary": [
           {
            "marker": {
             "colorbar": {
              "outlinewidth": 0,
              "ticks": ""
             }
            },
            "type": "scatterternary"
           }
          ],
          "surface": [
           {
            "colorbar": {
             "outlinewidth": 0,
             "ticks": ""
            },
            "colorscale": [
             [
              0,
              "#0d0887"
             ],
             [
              0.1111111111111111,
              "#46039f"
             ],
             [
              0.2222222222222222,
              "#7201a8"
             ],
             [
              0.3333333333333333,
              "#9c179e"
             ],
             [
              0.4444444444444444,
              "#bd3786"
             ],
             [
              0.5555555555555556,
              "#d8576b"
             ],
             [
              0.6666666666666666,
              "#ed7953"
             ],
             [
              0.7777777777777778,
              "#fb9f3a"
             ],
             [
              0.8888888888888888,
              "#fdca26"
             ],
             [
              1,
              "#f0f921"
             ]
            ],
            "type": "surface"
           }
          ],
          "table": [
           {
            "cells": {
             "fill": {
              "color": "#EBF0F8"
             },
             "line": {
              "color": "white"
             }
            },
            "header": {
             "fill": {
              "color": "#C8D4E3"
             },
             "line": {
              "color": "white"
             }
            },
            "type": "table"
           }
          ]
         },
         "layout": {
          "annotationdefaults": {
           "arrowcolor": "#2a3f5f",
           "arrowhead": 0,
           "arrowwidth": 1
          },
          "autotypenumbers": "strict",
          "coloraxis": {
           "colorbar": {
            "outlinewidth": 0,
            "ticks": ""
           }
          },
          "colorscale": {
           "diverging": [
            [
             0,
             "#8e0152"
            ],
            [
             0.1,
             "#c51b7d"
            ],
            [
             0.2,
             "#de77ae"
            ],
            [
             0.3,
             "#f1b6da"
            ],
            [
             0.4,
             "#fde0ef"
            ],
            [
             0.5,
             "#f7f7f7"
            ],
            [
             0.6,
             "#e6f5d0"
            ],
            [
             0.7,
             "#b8e186"
            ],
            [
             0.8,
             "#7fbc41"
            ],
            [
             0.9,
             "#4d9221"
            ],
            [
             1,
             "#276419"
            ]
           ],
           "sequential": [
            [
             0,
             "#0d0887"
            ],
            [
             0.1111111111111111,
             "#46039f"
            ],
            [
             0.2222222222222222,
             "#7201a8"
            ],
            [
             0.3333333333333333,
             "#9c179e"
            ],
            [
             0.4444444444444444,
             "#bd3786"
            ],
            [
             0.5555555555555556,
             "#d8576b"
            ],
            [
             0.6666666666666666,
             "#ed7953"
            ],
            [
             0.7777777777777778,
             "#fb9f3a"
            ],
            [
             0.8888888888888888,
             "#fdca26"
            ],
            [
             1,
             "#f0f921"
            ]
           ],
           "sequentialminus": [
            [
             0,
             "#0d0887"
            ],
            [
             0.1111111111111111,
             "#46039f"
            ],
            [
             0.2222222222222222,
             "#7201a8"
            ],
            [
             0.3333333333333333,
             "#9c179e"
            ],
            [
             0.4444444444444444,
             "#bd3786"
            ],
            [
             0.5555555555555556,
             "#d8576b"
            ],
            [
             0.6666666666666666,
             "#ed7953"
            ],
            [
             0.7777777777777778,
             "#fb9f3a"
            ],
            [
             0.8888888888888888,
             "#fdca26"
            ],
            [
             1,
             "#f0f921"
            ]
           ]
          },
          "colorway": [
           "#636efa",
           "#EF553B",
           "#00cc96",
           "#ab63fa",
           "#FFA15A",
           "#19d3f3",
           "#FF6692",
           "#B6E880",
           "#FF97FF",
           "#FECB52"
          ],
          "font": {
           "color": "#2a3f5f"
          },
          "geo": {
           "bgcolor": "white",
           "lakecolor": "white",
           "landcolor": "#E5ECF6",
           "showlakes": true,
           "showland": true,
           "subunitcolor": "white"
          },
          "hoverlabel": {
           "align": "left"
          },
          "hovermode": "closest",
          "mapbox": {
           "style": "light"
          },
          "paper_bgcolor": "white",
          "plot_bgcolor": "#E5ECF6",
          "polar": {
           "angularaxis": {
            "gridcolor": "white",
            "linecolor": "white",
            "ticks": ""
           },
           "bgcolor": "#E5ECF6",
           "radialaxis": {
            "gridcolor": "white",
            "linecolor": "white",
            "ticks": ""
           }
          },
          "scene": {
           "xaxis": {
            "backgroundcolor": "#E5ECF6",
            "gridcolor": "white",
            "gridwidth": 2,
            "linecolor": "white",
            "showbackground": true,
            "ticks": "",
            "zerolinecolor": "white"
           },
           "yaxis": {
            "backgroundcolor": "#E5ECF6",
            "gridcolor": "white",
            "gridwidth": 2,
            "linecolor": "white",
            "showbackground": true,
            "ticks": "",
            "zerolinecolor": "white"
           },
           "zaxis": {
            "backgroundcolor": "#E5ECF6",
            "gridcolor": "white",
            "gridwidth": 2,
            "linecolor": "white",
            "showbackground": true,
            "ticks": "",
            "zerolinecolor": "white"
           }
          },
          "shapedefaults": {
           "line": {
            "color": "#2a3f5f"
           }
          },
          "ternary": {
           "aaxis": {
            "gridcolor": "white",
            "linecolor": "white",
            "ticks": ""
           },
           "baxis": {
            "gridcolor": "white",
            "linecolor": "white",
            "ticks": ""
           },
           "bgcolor": "#E5ECF6",
           "caxis": {
            "gridcolor": "white",
            "linecolor": "white",
            "ticks": ""
           }
          },
          "title": {
           "x": 0.05
          },
          "xaxis": {
           "automargin": true,
           "gridcolor": "white",
           "linecolor": "white",
           "ticks": "",
           "title": {
            "standoff": 15
           },
           "zerolinecolor": "white",
           "zerolinewidth": 2
          },
          "yaxis": {
           "automargin": true,
           "gridcolor": "white",
           "linecolor": "white",
           "ticks": "",
           "title": {
            "standoff": 15
           },
           "zerolinecolor": "white",
           "zerolinewidth": 2
          }
         }
        },
        "title": {
         "text": "Customers With Max Total Purchase Amount",
         "x": 0.45
        },
        "xaxis": {
         "title": {
          "text": "Customer ID"
         }
        },
        "yaxis": {
         "title": {
          "text": "Total Amount, £"
         }
        }
       }
      }
     },
     "metadata": {},
     "output_type": "display_data"
    }
   ],
   "source": [
    "fig=go.Figure(data=[\n",
    "    go.Bar(name=\"Customer with max total purchase amount\",\n",
    "           x=retail_customer_desc[\"Customer ID\"].astype(str),\n",
    "           y=retail_customer_desc[\"Total\"],\n",
    "           opacity=1,\n",
    "           hovertext=retail_customer_desc['Country'],\n",
    "           marker={'color':retail_customer_desc[\"Total\"],\n",
    "                   \"colorscale\":'Rainbow'})\n",
    "])\n",
    "\n",
    "fig.update_traces(texttemplate='£%{y:.3s}', textposition='inside')\n",
    "\n",
    "fig.update_layout(title='Customers With Max Total Purchase Amount',\n",
    "                  title_x=0.45,\n",
    "                  xaxis_title=\"Customer ID\",\n",
    "                  yaxis_title=\"Total Amount, £\",\n",
    "                  plot_bgcolor='white')\n",
    "fig.show()"
   ]
  },
  {
   "cell_type": "code",
   "execution_count": 97,
   "id": "c447b94a",
   "metadata": {},
   "outputs": [
    {
     "data": {
      "application/vnd.plotly.v1+json": {
       "config": {
        "plotlyServerURL": "https://plot.ly"
       },
       "data": [
        {
         "hovertext": [
          "United Kingdom",
          "Netherlands",
          "EIRE",
          "EIRE",
          "United Kingdom",
          "United Kingdom",
          "United Kingdom",
          "Australia",
          "United Kingdom",
          "United Kingdom"
         ],
         "marker": {
          "color": {
           "bdata": "CtejcI5BIkF7FK5HOPEfQSlcj8LSGRJB7FG4HqJ+EEHrUbgeW4MMQY/C9ShMSwdBcT0K12/7BEEfhetRKn0BQQAAAADyRQFBcT0K1zumAEE=",
           "dtype": "f8"
          },
          "colorscale": [
           [
            0,
            "rgb(150,0,90)"
           ],
           [
            0.125,
            "rgb(0,0,200)"
           ],
           [
            0.25,
            "rgb(0,25,255)"
           ],
           [
            0.375,
            "rgb(0,152,255)"
           ],
           [
            0.5,
            "rgb(44,255,150)"
           ],
           [
            0.625,
            "rgb(151,255,0)"
           ],
           [
            0.75,
            "rgb(255,234,0)"
           ],
           [
            0.875,
            "rgb(255,111,0)"
           ],
           [
            1,
            "rgb(255,0,0)"
           ]
          ],
          "opacity": 1
         },
         "name": "Customers With Min Total Purchase Amount",
         "textposition": "inside",
         "texttemplate": "£%{y:.3s}",
         "type": "bar",
         "x": [
          "17399",
          "12918",
          "15849",
          "15760",
          "16981",
          "16151",
          "14063",
          "18023",
          "17013",
          "15202"
         ],
         "y": {
          "bdata": "KVyPwsWF2MAAAAAAwGTFwKRwPQpX9LbAhetRuN6jtsCPwvUo3AyywKRwPQqXebDAZWZmZmZurcAfhetRuGGpwOxRuB6FManAkML1KFwUpMA=",
          "dtype": "f8"
         }
        }
       ],
       "layout": {
        "plot_bgcolor": "white",
        "template": {
         "data": {
          "bar": [
           {
            "error_x": {
             "color": "#2a3f5f"
            },
            "error_y": {
             "color": "#2a3f5f"
            },
            "marker": {
             "line": {
              "color": "#E5ECF6",
              "width": 0.5
             },
             "pattern": {
              "fillmode": "overlay",
              "size": 10,
              "solidity": 0.2
             }
            },
            "type": "bar"
           }
          ],
          "barpolar": [
           {
            "marker": {
             "line": {
              "color": "#E5ECF6",
              "width": 0.5
             },
             "pattern": {
              "fillmode": "overlay",
              "size": 10,
              "solidity": 0.2
             }
            },
            "type": "barpolar"
           }
          ],
          "carpet": [
           {
            "aaxis": {
             "endlinecolor": "#2a3f5f",
             "gridcolor": "white",
             "linecolor": "white",
             "minorgridcolor": "white",
             "startlinecolor": "#2a3f5f"
            },
            "baxis": {
             "endlinecolor": "#2a3f5f",
             "gridcolor": "white",
             "linecolor": "white",
             "minorgridcolor": "white",
             "startlinecolor": "#2a3f5f"
            },
            "type": "carpet"
           }
          ],
          "choropleth": [
           {
            "colorbar": {
             "outlinewidth": 0,
             "ticks": ""
            },
            "type": "choropleth"
           }
          ],
          "contour": [
           {
            "colorbar": {
             "outlinewidth": 0,
             "ticks": ""
            },
            "colorscale": [
             [
              0,
              "#0d0887"
             ],
             [
              0.1111111111111111,
              "#46039f"
             ],
             [
              0.2222222222222222,
              "#7201a8"
             ],
             [
              0.3333333333333333,
              "#9c179e"
             ],
             [
              0.4444444444444444,
              "#bd3786"
             ],
             [
              0.5555555555555556,
              "#d8576b"
             ],
             [
              0.6666666666666666,
              "#ed7953"
             ],
             [
              0.7777777777777778,
              "#fb9f3a"
             ],
             [
              0.8888888888888888,
              "#fdca26"
             ],
             [
              1,
              "#f0f921"
             ]
            ],
            "type": "contour"
           }
          ],
          "contourcarpet": [
           {
            "colorbar": {
             "outlinewidth": 0,
             "ticks": ""
            },
            "type": "contourcarpet"
           }
          ],
          "heatmap": [
           {
            "colorbar": {
             "outlinewidth": 0,
             "ticks": ""
            },
            "colorscale": [
             [
              0,
              "#0d0887"
             ],
             [
              0.1111111111111111,
              "#46039f"
             ],
             [
              0.2222222222222222,
              "#7201a8"
             ],
             [
              0.3333333333333333,
              "#9c179e"
             ],
             [
              0.4444444444444444,
              "#bd3786"
             ],
             [
              0.5555555555555556,
              "#d8576b"
             ],
             [
              0.6666666666666666,
              "#ed7953"
             ],
             [
              0.7777777777777778,
              "#fb9f3a"
             ],
             [
              0.8888888888888888,
              "#fdca26"
             ],
             [
              1,
              "#f0f921"
             ]
            ],
            "type": "heatmap"
           }
          ],
          "histogram": [
           {
            "marker": {
             "pattern": {
              "fillmode": "overlay",
              "size": 10,
              "solidity": 0.2
             }
            },
            "type": "histogram"
           }
          ],
          "histogram2d": [
           {
            "colorbar": {
             "outlinewidth": 0,
             "ticks": ""
            },
            "colorscale": [
             [
              0,
              "#0d0887"
             ],
             [
              0.1111111111111111,
              "#46039f"
             ],
             [
              0.2222222222222222,
              "#7201a8"
             ],
             [
              0.3333333333333333,
              "#9c179e"
             ],
             [
              0.4444444444444444,
              "#bd3786"
             ],
             [
              0.5555555555555556,
              "#d8576b"
             ],
             [
              0.6666666666666666,
              "#ed7953"
             ],
             [
              0.7777777777777778,
              "#fb9f3a"
             ],
             [
              0.8888888888888888,
              "#fdca26"
             ],
             [
              1,
              "#f0f921"
             ]
            ],
            "type": "histogram2d"
           }
          ],
          "histogram2dcontour": [
           {
            "colorbar": {
             "outlinewidth": 0,
             "ticks": ""
            },
            "colorscale": [
             [
              0,
              "#0d0887"
             ],
             [
              0.1111111111111111,
              "#46039f"
             ],
             [
              0.2222222222222222,
              "#7201a8"
             ],
             [
              0.3333333333333333,
              "#9c179e"
             ],
             [
              0.4444444444444444,
              "#bd3786"
             ],
             [
              0.5555555555555556,
              "#d8576b"
             ],
             [
              0.6666666666666666,
              "#ed7953"
             ],
             [
              0.7777777777777778,
              "#fb9f3a"
             ],
             [
              0.8888888888888888,
              "#fdca26"
             ],
             [
              1,
              "#f0f921"
             ]
            ],
            "type": "histogram2dcontour"
           }
          ],
          "mesh3d": [
           {
            "colorbar": {
             "outlinewidth": 0,
             "ticks": ""
            },
            "type": "mesh3d"
           }
          ],
          "parcoords": [
           {
            "line": {
             "colorbar": {
              "outlinewidth": 0,
              "ticks": ""
             }
            },
            "type": "parcoords"
           }
          ],
          "pie": [
           {
            "automargin": true,
            "type": "pie"
           }
          ],
          "scatter": [
           {
            "fillpattern": {
             "fillmode": "overlay",
             "size": 10,
             "solidity": 0.2
            },
            "type": "scatter"
           }
          ],
          "scatter3d": [
           {
            "line": {
             "colorbar": {
              "outlinewidth": 0,
              "ticks": ""
             }
            },
            "marker": {
             "colorbar": {
              "outlinewidth": 0,
              "ticks": ""
             }
            },
            "type": "scatter3d"
           }
          ],
          "scattercarpet": [
           {
            "marker": {
             "colorbar": {
              "outlinewidth": 0,
              "ticks": ""
             }
            },
            "type": "scattercarpet"
           }
          ],
          "scattergeo": [
           {
            "marker": {
             "colorbar": {
              "outlinewidth": 0,
              "ticks": ""
             }
            },
            "type": "scattergeo"
           }
          ],
          "scattergl": [
           {
            "marker": {
             "colorbar": {
              "outlinewidth": 0,
              "ticks": ""
             }
            },
            "type": "scattergl"
           }
          ],
          "scattermap": [
           {
            "marker": {
             "colorbar": {
              "outlinewidth": 0,
              "ticks": ""
             }
            },
            "type": "scattermap"
           }
          ],
          "scattermapbox": [
           {
            "marker": {
             "colorbar": {
              "outlinewidth": 0,
              "ticks": ""
             }
            },
            "type": "scattermapbox"
           }
          ],
          "scatterpolar": [
           {
            "marker": {
             "colorbar": {
              "outlinewidth": 0,
              "ticks": ""
             }
            },
            "type": "scatterpolar"
           }
          ],
          "scatterpolargl": [
           {
            "marker": {
             "colorbar": {
              "outlinewidth": 0,
              "ticks": ""
             }
            },
            "type": "scatterpolargl"
           }
          ],
          "scatterternary": [
           {
            "marker": {
             "colorbar": {
              "outlinewidth": 0,
              "ticks": ""
             }
            },
            "type": "scatterternary"
           }
          ],
          "surface": [
           {
            "colorbar": {
             "outlinewidth": 0,
             "ticks": ""
            },
            "colorscale": [
             [
              0,
              "#0d0887"
             ],
             [
              0.1111111111111111,
              "#46039f"
             ],
             [
              0.2222222222222222,
              "#7201a8"
             ],
             [
              0.3333333333333333,
              "#9c179e"
             ],
             [
              0.4444444444444444,
              "#bd3786"
             ],
             [
              0.5555555555555556,
              "#d8576b"
             ],
             [
              0.6666666666666666,
              "#ed7953"
             ],
             [
              0.7777777777777778,
              "#fb9f3a"
             ],
             [
              0.8888888888888888,
              "#fdca26"
             ],
             [
              1,
              "#f0f921"
             ]
            ],
            "type": "surface"
           }
          ],
          "table": [
           {
            "cells": {
             "fill": {
              "color": "#EBF0F8"
             },
             "line": {
              "color": "white"
             }
            },
            "header": {
             "fill": {
              "color": "#C8D4E3"
             },
             "line": {
              "color": "white"
             }
            },
            "type": "table"
           }
          ]
         },
         "layout": {
          "annotationdefaults": {
           "arrowcolor": "#2a3f5f",
           "arrowhead": 0,
           "arrowwidth": 1
          },
          "autotypenumbers": "strict",
          "coloraxis": {
           "colorbar": {
            "outlinewidth": 0,
            "ticks": ""
           }
          },
          "colorscale": {
           "diverging": [
            [
             0,
             "#8e0152"
            ],
            [
             0.1,
             "#c51b7d"
            ],
            [
             0.2,
             "#de77ae"
            ],
            [
             0.3,
             "#f1b6da"
            ],
            [
             0.4,
             "#fde0ef"
            ],
            [
             0.5,
             "#f7f7f7"
            ],
            [
             0.6,
             "#e6f5d0"
            ],
            [
             0.7,
             "#b8e186"
            ],
            [
             0.8,
             "#7fbc41"
            ],
            [
             0.9,
             "#4d9221"
            ],
            [
             1,
             "#276419"
            ]
           ],
           "sequential": [
            [
             0,
             "#0d0887"
            ],
            [
             0.1111111111111111,
             "#46039f"
            ],
            [
             0.2222222222222222,
             "#7201a8"
            ],
            [
             0.3333333333333333,
             "#9c179e"
            ],
            [
             0.4444444444444444,
             "#bd3786"
            ],
            [
             0.5555555555555556,
             "#d8576b"
            ],
            [
             0.6666666666666666,
             "#ed7953"
            ],
            [
             0.7777777777777778,
             "#fb9f3a"
            ],
            [
             0.8888888888888888,
             "#fdca26"
            ],
            [
             1,
             "#f0f921"
            ]
           ],
           "sequentialminus": [
            [
             0,
             "#0d0887"
            ],
            [
             0.1111111111111111,
             "#46039f"
            ],
            [
             0.2222222222222222,
             "#7201a8"
            ],
            [
             0.3333333333333333,
             "#9c179e"
            ],
            [
             0.4444444444444444,
             "#bd3786"
            ],
            [
             0.5555555555555556,
             "#d8576b"
            ],
            [
             0.6666666666666666,
             "#ed7953"
            ],
            [
             0.7777777777777778,
             "#fb9f3a"
            ],
            [
             0.8888888888888888,
             "#fdca26"
            ],
            [
             1,
             "#f0f921"
            ]
           ]
          },
          "colorway": [
           "#636efa",
           "#EF553B",
           "#00cc96",
           "#ab63fa",
           "#FFA15A",
           "#19d3f3",
           "#FF6692",
           "#B6E880",
           "#FF97FF",
           "#FECB52"
          ],
          "font": {
           "color": "#2a3f5f"
          },
          "geo": {
           "bgcolor": "white",
           "lakecolor": "white",
           "landcolor": "#E5ECF6",
           "showlakes": true,
           "showland": true,
           "subunitcolor": "white"
          },
          "hoverlabel": {
           "align": "left"
          },
          "hovermode": "closest",
          "mapbox": {
           "style": "light"
          },
          "paper_bgcolor": "white",
          "plot_bgcolor": "#E5ECF6",
          "polar": {
           "angularaxis": {
            "gridcolor": "white",
            "linecolor": "white",
            "ticks": ""
           },
           "bgcolor": "#E5ECF6",
           "radialaxis": {
            "gridcolor": "white",
            "linecolor": "white",
            "ticks": ""
           }
          },
          "scene": {
           "xaxis": {
            "backgroundcolor": "#E5ECF6",
            "gridcolor": "white",
            "gridwidth": 2,
            "linecolor": "white",
            "showbackground": true,
            "ticks": "",
            "zerolinecolor": "white"
           },
           "yaxis": {
            "backgroundcolor": "#E5ECF6",
            "gridcolor": "white",
            "gridwidth": 2,
            "linecolor": "white",
            "showbackground": true,
            "ticks": "",
            "zerolinecolor": "white"
           },
           "zaxis": {
            "backgroundcolor": "#E5ECF6",
            "gridcolor": "white",
            "gridwidth": 2,
            "linecolor": "white",
            "showbackground": true,
            "ticks": "",
            "zerolinecolor": "white"
           }
          },
          "shapedefaults": {
           "line": {
            "color": "#2a3f5f"
           }
          },
          "ternary": {
           "aaxis": {
            "gridcolor": "white",
            "linecolor": "white",
            "ticks": ""
           },
           "baxis": {
            "gridcolor": "white",
            "linecolor": "white",
            "ticks": ""
           },
           "bgcolor": "#E5ECF6",
           "caxis": {
            "gridcolor": "white",
            "linecolor": "white",
            "ticks": ""
           }
          },
          "title": {
           "x": 0.05
          },
          "xaxis": {
           "automargin": true,
           "gridcolor": "white",
           "linecolor": "white",
           "ticks": "",
           "title": {
            "standoff": 15
           },
           "zerolinecolor": "white",
           "zerolinewidth": 2
          },
          "yaxis": {
           "automargin": true,
           "gridcolor": "white",
           "linecolor": "white",
           "ticks": "",
           "title": {
            "standoff": 15
           },
           "zerolinecolor": "white",
           "zerolinewidth": 2
          }
         }
        },
        "title": {
         "text": "Customers With Min Total Purchase Amount",
         "x": 0.45,
         "y": 0.97
        },
        "xaxis": {
         "side": "top",
         "title": {
          "text": "Customer ID"
         }
        },
        "yaxis": {
         "title": {
          "text": "Total Amount Returned, £"
         }
        }
       }
      }
     },
     "metadata": {},
     "output_type": "display_data"
    }
   ],
   "source": [
    "fig = go.Figure(data=[\n",
    "    go.Bar(name='Customers With Min Total Purchase Amount', \n",
    "           x=retail_customer_asc['Customer ID'].astype(str), \n",
    "           y=retail_customer_asc['Total'],\n",
    "           marker_opacity=1,\n",
    "           hovertext=retail_customer_desc['Country'],\n",
    "           marker={'color': retail_customer_desc['Total'],\n",
    "                   'colorscale': 'Rainbow'}\n",
    "          )\n",
    "    ])\n",
    "fig.update_xaxes(side=\"top\")\n",
    "\n",
    "fig.update_traces(texttemplate='£%{y:.3s}', textposition='inside')\n",
    "\n",
    "fig.update_layout(title='Customers With Min Total Purchase Amount',\n",
    "                  title_x=0.45,\n",
    "                  title_y=0.97,\n",
    "                  xaxis_title=\"Customer ID\",\n",
    "                  yaxis_title=\"Total Amount Returned, £\",\n",
    "                  plot_bgcolor='white')\n",
    "fig.show()"
   ]
  },
  {
   "cell_type": "markdown",
   "id": "2e4fc2b3",
   "metadata": {},
   "source": [
    "What have we learned from the charts?\n",
    "\n",
    "Customer with ID 18102 has spent most money in our online store during two years. He comes from United Kingdom, and has paid in total £598k. Another customer from Netherlands comes close to that number - he has spent £523k. In general the top 10 consists of customers from UK, EIRE, Netherlands and Australia - all countries with mature economies.\n",
    "\n",
    "On the chart showing customers who spent the least, we can see only negative numbers. From our dataset alone, it seems that those are returns. The largest total negative sum is £25k, and the customer with this returned amount comes from UK as well. It is curious that in general customers who have largest negative values here come from the same countries as customers who have paid most."
   ]
  },
  {
   "cell_type": "markdown",
   "id": "57fe797a",
   "metadata": {},
   "source": [
    "Countries Analysis: Total Purchase Amount\n",
    "Here, I will find 10 countries, total sum of orders from which was the largest, and also 10 countries, where total purchases were minimal."
   ]
  },
  {
   "cell_type": "code",
   "execution_count": 98,
   "id": "11660cfa",
   "metadata": {},
   "outputs": [],
   "source": [
    "retail_data_country_purchase=retail_data.groupby(['Country'],as_index=False)['Total'].agg('sum')\n",
    "\n",
    "retail_data_country_purchase_asc=retail_data_country_purchase.sort_values(\"Total\").head(10)\n",
    "\n",
    "retail_data_country_purchase_desc=retail_data_country_purchase.sort_values(\"Total\",ascending=False).head(10)"
   ]
  },
  {
   "cell_type": "code",
   "execution_count": 99,
   "id": "667290fd",
   "metadata": {},
   "outputs": [
    {
     "data": {
      "application/vnd.plotly.v1+json": {
       "config": {
        "plotlyServerURL": "https://plot.ly"
       },
       "data": [
        {
         "marker": {
          "color": {
           "bdata": "Gy/d4GpVakEpXI9Ci6chQWZmZuZZvSBBtMh2PhKDGUHhehSuou0TQfYoXI/IZgRBXI/C9aww+EDhehSuN232QIXrUbj2WfVACtejcNEM8EA=",
           "dtype": "f8"
          },
          "colorscale": [
           [
            0,
            "rgb(150,0,90)"
           ],
           [
            0.125,
            "rgb(0,0,200)"
           ],
           [
            0.25,
            "rgb(0,25,255)"
           ],
           [
            0.375,
            "rgb(0,152,255)"
           ],
           [
            0.5,
            "rgb(44,255,150)"
           ],
           [
            0.625,
            "rgb(151,255,0)"
           ],
           [
            0.75,
            "rgb(255,234,0)"
           ],
           [
            0.875,
            "rgb(255,111,0)"
           ],
           [
            1,
            "rgb(255,0,0)"
           ]
          ]
         },
         "name": "Countries With Max Total Purchase Amount",
         "opacity": 1,
         "textposition": "outside",
         "texttemplate": "£%{y:.3s}",
         "type": "bar",
         "x": [
          "United Kingdom",
          "EIRE",
          "Netherlands",
          "Germany",
          "France",
          "Australia",
          "Switzerland",
          "Spain",
          "Sweden",
          "Denmark"
         ],
         "y": {
          "bdata": "Gy/d4GpVakEpXI9Ci6chQWZmZuZZvSBBtMh2PhKDGUHhehSuou0TQfYoXI/IZgRBXI/C9aww+EDhehSuN232QIXrUbj2WfVACtejcNEM8EA=",
          "dtype": "f8"
         }
        }
       ],
       "layout": {
        "plot_bgcolor": "white",
        "template": {
         "data": {
          "bar": [
           {
            "error_x": {
             "color": "#2a3f5f"
            },
            "error_y": {
             "color": "#2a3f5f"
            },
            "marker": {
             "line": {
              "color": "#E5ECF6",
              "width": 0.5
             },
             "pattern": {
              "fillmode": "overlay",
              "size": 10,
              "solidity": 0.2
             }
            },
            "type": "bar"
           }
          ],
          "barpolar": [
           {
            "marker": {
             "line": {
              "color": "#E5ECF6",
              "width": 0.5
             },
             "pattern": {
              "fillmode": "overlay",
              "size": 10,
              "solidity": 0.2
             }
            },
            "type": "barpolar"
           }
          ],
          "carpet": [
           {
            "aaxis": {
             "endlinecolor": "#2a3f5f",
             "gridcolor": "white",
             "linecolor": "white",
             "minorgridcolor": "white",
             "startlinecolor": "#2a3f5f"
            },
            "baxis": {
             "endlinecolor": "#2a3f5f",
             "gridcolor": "white",
             "linecolor": "white",
             "minorgridcolor": "white",
             "startlinecolor": "#2a3f5f"
            },
            "type": "carpet"
           }
          ],
          "choropleth": [
           {
            "colorbar": {
             "outlinewidth": 0,
             "ticks": ""
            },
            "type": "choropleth"
           }
          ],
          "contour": [
           {
            "colorbar": {
             "outlinewidth": 0,
             "ticks": ""
            },
            "colorscale": [
             [
              0,
              "#0d0887"
             ],
             [
              0.1111111111111111,
              "#46039f"
             ],
             [
              0.2222222222222222,
              "#7201a8"
             ],
             [
              0.3333333333333333,
              "#9c179e"
             ],
             [
              0.4444444444444444,
              "#bd3786"
             ],
             [
              0.5555555555555556,
              "#d8576b"
             ],
             [
              0.6666666666666666,
              "#ed7953"
             ],
             [
              0.7777777777777778,
              "#fb9f3a"
             ],
             [
              0.8888888888888888,
              "#fdca26"
             ],
             [
              1,
              "#f0f921"
             ]
            ],
            "type": "contour"
           }
          ],
          "contourcarpet": [
           {
            "colorbar": {
             "outlinewidth": 0,
             "ticks": ""
            },
            "type": "contourcarpet"
           }
          ],
          "heatmap": [
           {
            "colorbar": {
             "outlinewidth": 0,
             "ticks": ""
            },
            "colorscale": [
             [
              0,
              "#0d0887"
             ],
             [
              0.1111111111111111,
              "#46039f"
             ],
             [
              0.2222222222222222,
              "#7201a8"
             ],
             [
              0.3333333333333333,
              "#9c179e"
             ],
             [
              0.4444444444444444,
              "#bd3786"
             ],
             [
              0.5555555555555556,
              "#d8576b"
             ],
             [
              0.6666666666666666,
              "#ed7953"
             ],
             [
              0.7777777777777778,
              "#fb9f3a"
             ],
             [
              0.8888888888888888,
              "#fdca26"
             ],
             [
              1,
              "#f0f921"
             ]
            ],
            "type": "heatmap"
           }
          ],
          "histogram": [
           {
            "marker": {
             "pattern": {
              "fillmode": "overlay",
              "size": 10,
              "solidity": 0.2
             }
            },
            "type": "histogram"
           }
          ],
          "histogram2d": [
           {
            "colorbar": {
             "outlinewidth": 0,
             "ticks": ""
            },
            "colorscale": [
             [
              0,
              "#0d0887"
             ],
             [
              0.1111111111111111,
              "#46039f"
             ],
             [
              0.2222222222222222,
              "#7201a8"
             ],
             [
              0.3333333333333333,
              "#9c179e"
             ],
             [
              0.4444444444444444,
              "#bd3786"
             ],
             [
              0.5555555555555556,
              "#d8576b"
             ],
             [
              0.6666666666666666,
              "#ed7953"
             ],
             [
              0.7777777777777778,
              "#fb9f3a"
             ],
             [
              0.8888888888888888,
              "#fdca26"
             ],
             [
              1,
              "#f0f921"
             ]
            ],
            "type": "histogram2d"
           }
          ],
          "histogram2dcontour": [
           {
            "colorbar": {
             "outlinewidth": 0,
             "ticks": ""
            },
            "colorscale": [
             [
              0,
              "#0d0887"
             ],
             [
              0.1111111111111111,
              "#46039f"
             ],
             [
              0.2222222222222222,
              "#7201a8"
             ],
             [
              0.3333333333333333,
              "#9c179e"
             ],
             [
              0.4444444444444444,
              "#bd3786"
             ],
             [
              0.5555555555555556,
              "#d8576b"
             ],
             [
              0.6666666666666666,
              "#ed7953"
             ],
             [
              0.7777777777777778,
              "#fb9f3a"
             ],
             [
              0.8888888888888888,
              "#fdca26"
             ],
             [
              1,
              "#f0f921"
             ]
            ],
            "type": "histogram2dcontour"
           }
          ],
          "mesh3d": [
           {
            "colorbar": {
             "outlinewidth": 0,
             "ticks": ""
            },
            "type": "mesh3d"
           }
          ],
          "parcoords": [
           {
            "line": {
             "colorbar": {
              "outlinewidth": 0,
              "ticks": ""
             }
            },
            "type": "parcoords"
           }
          ],
          "pie": [
           {
            "automargin": true,
            "type": "pie"
           }
          ],
          "scatter": [
           {
            "fillpattern": {
             "fillmode": "overlay",
             "size": 10,
             "solidity": 0.2
            },
            "type": "scatter"
           }
          ],
          "scatter3d": [
           {
            "line": {
             "colorbar": {
              "outlinewidth": 0,
              "ticks": ""
             }
            },
            "marker": {
             "colorbar": {
              "outlinewidth": 0,
              "ticks": ""
             }
            },
            "type": "scatter3d"
           }
          ],
          "scattercarpet": [
           {
            "marker": {
             "colorbar": {
              "outlinewidth": 0,
              "ticks": ""
             }
            },
            "type": "scattercarpet"
           }
          ],
          "scattergeo": [
           {
            "marker": {
             "colorbar": {
              "outlinewidth": 0,
              "ticks": ""
             }
            },
            "type": "scattergeo"
           }
          ],
          "scattergl": [
           {
            "marker": {
             "colorbar": {
              "outlinewidth": 0,
              "ticks": ""
             }
            },
            "type": "scattergl"
           }
          ],
          "scattermap": [
           {
            "marker": {
             "colorbar": {
              "outlinewidth": 0,
              "ticks": ""
             }
            },
            "type": "scattermap"
           }
          ],
          "scattermapbox": [
           {
            "marker": {
             "colorbar": {
              "outlinewidth": 0,
              "ticks": ""
             }
            },
            "type": "scattermapbox"
           }
          ],
          "scatterpolar": [
           {
            "marker": {
             "colorbar": {
              "outlinewidth": 0,
              "ticks": ""
             }
            },
            "type": "scatterpolar"
           }
          ],
          "scatterpolargl": [
           {
            "marker": {
             "colorbar": {
              "outlinewidth": 0,
              "ticks": ""
             }
            },
            "type": "scatterpolargl"
           }
          ],
          "scatterternary": [
           {
            "marker": {
             "colorbar": {
              "outlinewidth": 0,
              "ticks": ""
             }
            },
            "type": "scatterternary"
           }
          ],
          "surface": [
           {
            "colorbar": {
             "outlinewidth": 0,
             "ticks": ""
            },
            "colorscale": [
             [
              0,
              "#0d0887"
             ],
             [
              0.1111111111111111,
              "#46039f"
             ],
             [
              0.2222222222222222,
              "#7201a8"
             ],
             [
              0.3333333333333333,
              "#9c179e"
             ],
             [
              0.4444444444444444,
              "#bd3786"
             ],
             [
              0.5555555555555556,
              "#d8576b"
             ],
             [
              0.6666666666666666,
              "#ed7953"
             ],
             [
              0.7777777777777778,
              "#fb9f3a"
             ],
             [
              0.8888888888888888,
              "#fdca26"
             ],
             [
              1,
              "#f0f921"
             ]
            ],
            "type": "surface"
           }
          ],
          "table": [
           {
            "cells": {
             "fill": {
              "color": "#EBF0F8"
             },
             "line": {
              "color": "white"
             }
            },
            "header": {
             "fill": {
              "color": "#C8D4E3"
             },
             "line": {
              "color": "white"
             }
            },
            "type": "table"
           }
          ]
         },
         "layout": {
          "annotationdefaults": {
           "arrowcolor": "#2a3f5f",
           "arrowhead": 0,
           "arrowwidth": 1
          },
          "autotypenumbers": "strict",
          "coloraxis": {
           "colorbar": {
            "outlinewidth": 0,
            "ticks": ""
           }
          },
          "colorscale": {
           "diverging": [
            [
             0,
             "#8e0152"
            ],
            [
             0.1,
             "#c51b7d"
            ],
            [
             0.2,
             "#de77ae"
            ],
            [
             0.3,
             "#f1b6da"
            ],
            [
             0.4,
             "#fde0ef"
            ],
            [
             0.5,
             "#f7f7f7"
            ],
            [
             0.6,
             "#e6f5d0"
            ],
            [
             0.7,
             "#b8e186"
            ],
            [
             0.8,
             "#7fbc41"
            ],
            [
             0.9,
             "#4d9221"
            ],
            [
             1,
             "#276419"
            ]
           ],
           "sequential": [
            [
             0,
             "#0d0887"
            ],
            [
             0.1111111111111111,
             "#46039f"
            ],
            [
             0.2222222222222222,
             "#7201a8"
            ],
            [
             0.3333333333333333,
             "#9c179e"
            ],
            [
             0.4444444444444444,
             "#bd3786"
            ],
            [
             0.5555555555555556,
             "#d8576b"
            ],
            [
             0.6666666666666666,
             "#ed7953"
            ],
            [
             0.7777777777777778,
             "#fb9f3a"
            ],
            [
             0.8888888888888888,
             "#fdca26"
            ],
            [
             1,
             "#f0f921"
            ]
           ],
           "sequentialminus": [
            [
             0,
             "#0d0887"
            ],
            [
             0.1111111111111111,
             "#46039f"
            ],
            [
             0.2222222222222222,
             "#7201a8"
            ],
            [
             0.3333333333333333,
             "#9c179e"
            ],
            [
             0.4444444444444444,
             "#bd3786"
            ],
            [
             0.5555555555555556,
             "#d8576b"
            ],
            [
             0.6666666666666666,
             "#ed7953"
            ],
            [
             0.7777777777777778,
             "#fb9f3a"
            ],
            [
             0.8888888888888888,
             "#fdca26"
            ],
            [
             1,
             "#f0f921"
            ]
           ]
          },
          "colorway": [
           "#636efa",
           "#EF553B",
           "#00cc96",
           "#ab63fa",
           "#FFA15A",
           "#19d3f3",
           "#FF6692",
           "#B6E880",
           "#FF97FF",
           "#FECB52"
          ],
          "font": {
           "color": "#2a3f5f"
          },
          "geo": {
           "bgcolor": "white",
           "lakecolor": "white",
           "landcolor": "#E5ECF6",
           "showlakes": true,
           "showland": true,
           "subunitcolor": "white"
          },
          "hoverlabel": {
           "align": "left"
          },
          "hovermode": "closest",
          "mapbox": {
           "style": "light"
          },
          "paper_bgcolor": "white",
          "plot_bgcolor": "#E5ECF6",
          "polar": {
           "angularaxis": {
            "gridcolor": "white",
            "linecolor": "white",
            "ticks": ""
           },
           "bgcolor": "#E5ECF6",
           "radialaxis": {
            "gridcolor": "white",
            "linecolor": "white",
            "ticks": ""
           }
          },
          "scene": {
           "xaxis": {
            "backgroundcolor": "#E5ECF6",
            "gridcolor": "white",
            "gridwidth": 2,
            "linecolor": "white",
            "showbackground": true,
            "ticks": "",
            "zerolinecolor": "white"
           },
           "yaxis": {
            "backgroundcolor": "#E5ECF6",
            "gridcolor": "white",
            "gridwidth": 2,
            "linecolor": "white",
            "showbackground": true,
            "ticks": "",
            "zerolinecolor": "white"
           },
           "zaxis": {
            "backgroundcolor": "#E5ECF6",
            "gridcolor": "white",
            "gridwidth": 2,
            "linecolor": "white",
            "showbackground": true,
            "ticks": "",
            "zerolinecolor": "white"
           }
          },
          "shapedefaults": {
           "line": {
            "color": "#2a3f5f"
           }
          },
          "ternary": {
           "aaxis": {
            "gridcolor": "white",
            "linecolor": "white",
            "ticks": ""
           },
           "baxis": {
            "gridcolor": "white",
            "linecolor": "white",
            "ticks": ""
           },
           "bgcolor": "#E5ECF6",
           "caxis": {
            "gridcolor": "white",
            "linecolor": "white",
            "ticks": ""
           }
          },
          "title": {
           "x": 0.05
          },
          "xaxis": {
           "automargin": true,
           "gridcolor": "white",
           "linecolor": "white",
           "ticks": "",
           "title": {
            "standoff": 15
           },
           "zerolinecolor": "white",
           "zerolinewidth": 2
          },
          "yaxis": {
           "automargin": true,
           "gridcolor": "white",
           "linecolor": "white",
           "ticks": "",
           "title": {
            "standoff": 15
           },
           "zerolinecolor": "white",
           "zerolinewidth": 2
          }
         }
        },
        "title": {
         "text": "Countries With Max Total Purchase Sum",
         "x": 0.45
        },
        "xaxis": {
         "title": {
          "text": "Countries"
         }
        },
        "yaxis": {
         "title": {
          "text": "Total Amount, £"
         }
        }
       }
      }
     },
     "metadata": {},
     "output_type": "display_data"
    }
   ],
   "source": [
    "fig = go.Figure(data=[\n",
    "    go.Bar(name='Countries With Max Total Purchase Amount', \n",
    "           x=retail_data_country_purchase_desc['Country'].astype(str), \n",
    "           y=retail_data_country_purchase_desc['Total'],\n",
    "           opacity=1,\n",
    "           marker={'color': retail_data_country_purchase_desc['Total'],\n",
    "                   'colorscale': 'Rainbow'})\n",
    "    ])\n",
    "\n",
    "fig.update_traces(texttemplate='£%{y:.3s}', textposition='outside')\n",
    "\n",
    "fig.update_layout(title='Countries With Max Total Purchase Sum',\n",
    "                  title_x=0.45,\n",
    "                  xaxis_title=\"Countries\",\n",
    "                  yaxis_title=\"Total Amount, £\",\n",
    "                  plot_bgcolor='white')\n",
    "fig.show()"
   ]
  },
  {
   "cell_type": "code",
   "execution_count": 100,
   "id": "54405921",
   "metadata": {},
   "outputs": [
    {
     "data": {
      "application/vnd.plotly.v1+json": {
       "config": {
        "plotlyServerURL": "https://plot.ly"
       },
       "data": [
        {
         "marker": {
          "color": {
           "bdata": "Gy/d4GpVakEpXI9Ci6chQWZmZuZZvSBBtMh2PhKDGUHhehSuou0TQfYoXI/IZgRBXI/C9aww+EDhehSuN232QIXrUbj2WfVACtejcNEM8EA=",
           "dtype": "f8"
          },
          "colorscale": [
           [
            0,
            "rgb(150,0,90)"
           ],
           [
            0.125,
            "rgb(0,0,200)"
           ],
           [
            0.25,
            "rgb(0,25,255)"
           ],
           [
            0.375,
            "rgb(0,152,255)"
           ],
           [
            0.5,
            "rgb(44,255,150)"
           ],
           [
            0.625,
            "rgb(151,255,0)"
           ],
           [
            0.75,
            "rgb(255,234,0)"
           ],
           [
            0.875,
            "rgb(255,111,0)"
           ],
           [
            1,
            "rgb(255,0,0)"
           ]
          ],
          "opacity": 1
         },
         "name": "Countries With Min Total Purchase Amount",
         "textposition": "inside",
         "texttemplate": "£%{y:.3s}",
         "type": "bar",
         "x": [
          "Saudi Arabia",
          "Nigeria",
          "West Indies",
          "Czech Republic",
          "Korea",
          "European Community",
          "Bahrain",
          "Brazil",
          "Lebanon",
          "RSA"
         ],
         "y": {
          "bdata": "PQrXo3BlYEAUrkfheoxhQOF6FK5Hw4BA9ihcj8IdhkDD9Shcj66NQAAAAAAAL5RAFK5H4XoplUAUrkfheg+WQOxRuB6Fd5pAKVyPwvU2nkA=",
          "dtype": "f8"
         }
        }
       ],
       "layout": {
        "plot_bgcolor": "white",
        "template": {
         "data": {
          "bar": [
           {
            "error_x": {
             "color": "#2a3f5f"
            },
            "error_y": {
             "color": "#2a3f5f"
            },
            "marker": {
             "line": {
              "color": "#E5ECF6",
              "width": 0.5
             },
             "pattern": {
              "fillmode": "overlay",
              "size": 10,
              "solidity": 0.2
             }
            },
            "type": "bar"
           }
          ],
          "barpolar": [
           {
            "marker": {
             "line": {
              "color": "#E5ECF6",
              "width": 0.5
             },
             "pattern": {
              "fillmode": "overlay",
              "size": 10,
              "solidity": 0.2
             }
            },
            "type": "barpolar"
           }
          ],
          "carpet": [
           {
            "aaxis": {
             "endlinecolor": "#2a3f5f",
             "gridcolor": "white",
             "linecolor": "white",
             "minorgridcolor": "white",
             "startlinecolor": "#2a3f5f"
            },
            "baxis": {
             "endlinecolor": "#2a3f5f",
             "gridcolor": "white",
             "linecolor": "white",
             "minorgridcolor": "white",
             "startlinecolor": "#2a3f5f"
            },
            "type": "carpet"
           }
          ],
          "choropleth": [
           {
            "colorbar": {
             "outlinewidth": 0,
             "ticks": ""
            },
            "type": "choropleth"
           }
          ],
          "contour": [
           {
            "colorbar": {
             "outlinewidth": 0,
             "ticks": ""
            },
            "colorscale": [
             [
              0,
              "#0d0887"
             ],
             [
              0.1111111111111111,
              "#46039f"
             ],
             [
              0.2222222222222222,
              "#7201a8"
             ],
             [
              0.3333333333333333,
              "#9c179e"
             ],
             [
              0.4444444444444444,
              "#bd3786"
             ],
             [
              0.5555555555555556,
              "#d8576b"
             ],
             [
              0.6666666666666666,
              "#ed7953"
             ],
             [
              0.7777777777777778,
              "#fb9f3a"
             ],
             [
              0.8888888888888888,
              "#fdca26"
             ],
             [
              1,
              "#f0f921"
             ]
            ],
            "type": "contour"
           }
          ],
          "contourcarpet": [
           {
            "colorbar": {
             "outlinewidth": 0,
             "ticks": ""
            },
            "type": "contourcarpet"
           }
          ],
          "heatmap": [
           {
            "colorbar": {
             "outlinewidth": 0,
             "ticks": ""
            },
            "colorscale": [
             [
              0,
              "#0d0887"
             ],
             [
              0.1111111111111111,
              "#46039f"
             ],
             [
              0.2222222222222222,
              "#7201a8"
             ],
             [
              0.3333333333333333,
              "#9c179e"
             ],
             [
              0.4444444444444444,
              "#bd3786"
             ],
             [
              0.5555555555555556,
              "#d8576b"
             ],
             [
              0.6666666666666666,
              "#ed7953"
             ],
             [
              0.7777777777777778,
              "#fb9f3a"
             ],
             [
              0.8888888888888888,
              "#fdca26"
             ],
             [
              1,
              "#f0f921"
             ]
            ],
            "type": "heatmap"
           }
          ],
          "histogram": [
           {
            "marker": {
             "pattern": {
              "fillmode": "overlay",
              "size": 10,
              "solidity": 0.2
             }
            },
            "type": "histogram"
           }
          ],
          "histogram2d": [
           {
            "colorbar": {
             "outlinewidth": 0,
             "ticks": ""
            },
            "colorscale": [
             [
              0,
              "#0d0887"
             ],
             [
              0.1111111111111111,
              "#46039f"
             ],
             [
              0.2222222222222222,
              "#7201a8"
             ],
             [
              0.3333333333333333,
              "#9c179e"
             ],
             [
              0.4444444444444444,
              "#bd3786"
             ],
             [
              0.5555555555555556,
              "#d8576b"
             ],
             [
              0.6666666666666666,
              "#ed7953"
             ],
             [
              0.7777777777777778,
              "#fb9f3a"
             ],
             [
              0.8888888888888888,
              "#fdca26"
             ],
             [
              1,
              "#f0f921"
             ]
            ],
            "type": "histogram2d"
           }
          ],
          "histogram2dcontour": [
           {
            "colorbar": {
             "outlinewidth": 0,
             "ticks": ""
            },
            "colorscale": [
             [
              0,
              "#0d0887"
             ],
             [
              0.1111111111111111,
              "#46039f"
             ],
             [
              0.2222222222222222,
              "#7201a8"
             ],
             [
              0.3333333333333333,
              "#9c179e"
             ],
             [
              0.4444444444444444,
              "#bd3786"
             ],
             [
              0.5555555555555556,
              "#d8576b"
             ],
             [
              0.6666666666666666,
              "#ed7953"
             ],
             [
              0.7777777777777778,
              "#fb9f3a"
             ],
             [
              0.8888888888888888,
              "#fdca26"
             ],
             [
              1,
              "#f0f921"
             ]
            ],
            "type": "histogram2dcontour"
           }
          ],
          "mesh3d": [
           {
            "colorbar": {
             "outlinewidth": 0,
             "ticks": ""
            },
            "type": "mesh3d"
           }
          ],
          "parcoords": [
           {
            "line": {
             "colorbar": {
              "outlinewidth": 0,
              "ticks": ""
             }
            },
            "type": "parcoords"
           }
          ],
          "pie": [
           {
            "automargin": true,
            "type": "pie"
           }
          ],
          "scatter": [
           {
            "fillpattern": {
             "fillmode": "overlay",
             "size": 10,
             "solidity": 0.2
            },
            "type": "scatter"
           }
          ],
          "scatter3d": [
           {
            "line": {
             "colorbar": {
              "outlinewidth": 0,
              "ticks": ""
             }
            },
            "marker": {
             "colorbar": {
              "outlinewidth": 0,
              "ticks": ""
             }
            },
            "type": "scatter3d"
           }
          ],
          "scattercarpet": [
           {
            "marker": {
             "colorbar": {
              "outlinewidth": 0,
              "ticks": ""
             }
            },
            "type": "scattercarpet"
           }
          ],
          "scattergeo": [
           {
            "marker": {
             "colorbar": {
              "outlinewidth": 0,
              "ticks": ""
             }
            },
            "type": "scattergeo"
           }
          ],
          "scattergl": [
           {
            "marker": {
             "colorbar": {
              "outlinewidth": 0,
              "ticks": ""
             }
            },
            "type": "scattergl"
           }
          ],
          "scattermap": [
           {
            "marker": {
             "colorbar": {
              "outlinewidth": 0,
              "ticks": ""
             }
            },
            "type": "scattermap"
           }
          ],
          "scattermapbox": [
           {
            "marker": {
             "colorbar": {
              "outlinewidth": 0,
              "ticks": ""
             }
            },
            "type": "scattermapbox"
           }
          ],
          "scatterpolar": [
           {
            "marker": {
             "colorbar": {
              "outlinewidth": 0,
              "ticks": ""
             }
            },
            "type": "scatterpolar"
           }
          ],
          "scatterpolargl": [
           {
            "marker": {
             "colorbar": {
              "outlinewidth": 0,
              "ticks": ""
             }
            },
            "type": "scatterpolargl"
           }
          ],
          "scatterternary": [
           {
            "marker": {
             "colorbar": {
              "outlinewidth": 0,
              "ticks": ""
             }
            },
            "type": "scatterternary"
           }
          ],
          "surface": [
           {
            "colorbar": {
             "outlinewidth": 0,
             "ticks": ""
            },
            "colorscale": [
             [
              0,
              "#0d0887"
             ],
             [
              0.1111111111111111,
              "#46039f"
             ],
             [
              0.2222222222222222,
              "#7201a8"
             ],
             [
              0.3333333333333333,
              "#9c179e"
             ],
             [
              0.4444444444444444,
              "#bd3786"
             ],
             [
              0.5555555555555556,
              "#d8576b"
             ],
             [
              0.6666666666666666,
              "#ed7953"
             ],
             [
              0.7777777777777778,
              "#fb9f3a"
             ],
             [
              0.8888888888888888,
              "#fdca26"
             ],
             [
              1,
              "#f0f921"
             ]
            ],
            "type": "surface"
           }
          ],
          "table": [
           {
            "cells": {
             "fill": {
              "color": "#EBF0F8"
             },
             "line": {
              "color": "white"
             }
            },
            "header": {
             "fill": {
              "color": "#C8D4E3"
             },
             "line": {
              "color": "white"
             }
            },
            "type": "table"
           }
          ]
         },
         "layout": {
          "annotationdefaults": {
           "arrowcolor": "#2a3f5f",
           "arrowhead": 0,
           "arrowwidth": 1
          },
          "autotypenumbers": "strict",
          "coloraxis": {
           "colorbar": {
            "outlinewidth": 0,
            "ticks": ""
           }
          },
          "colorscale": {
           "diverging": [
            [
             0,
             "#8e0152"
            ],
            [
             0.1,
             "#c51b7d"
            ],
            [
             0.2,
             "#de77ae"
            ],
            [
             0.3,
             "#f1b6da"
            ],
            [
             0.4,
             "#fde0ef"
            ],
            [
             0.5,
             "#f7f7f7"
            ],
            [
             0.6,
             "#e6f5d0"
            ],
            [
             0.7,
             "#b8e186"
            ],
            [
             0.8,
             "#7fbc41"
            ],
            [
             0.9,
             "#4d9221"
            ],
            [
             1,
             "#276419"
            ]
           ],
           "sequential": [
            [
             0,
             "#0d0887"
            ],
            [
             0.1111111111111111,
             "#46039f"
            ],
            [
             0.2222222222222222,
             "#7201a8"
            ],
            [
             0.3333333333333333,
             "#9c179e"
            ],
            [
             0.4444444444444444,
             "#bd3786"
            ],
            [
             0.5555555555555556,
             "#d8576b"
            ],
            [
             0.6666666666666666,
             "#ed7953"
            ],
            [
             0.7777777777777778,
             "#fb9f3a"
            ],
            [
             0.8888888888888888,
             "#fdca26"
            ],
            [
             1,
             "#f0f921"
            ]
           ],
           "sequentialminus": [
            [
             0,
             "#0d0887"
            ],
            [
             0.1111111111111111,
             "#46039f"
            ],
            [
             0.2222222222222222,
             "#7201a8"
            ],
            [
             0.3333333333333333,
             "#9c179e"
            ],
            [
             0.4444444444444444,
             "#bd3786"
            ],
            [
             0.5555555555555556,
             "#d8576b"
            ],
            [
             0.6666666666666666,
             "#ed7953"
            ],
            [
             0.7777777777777778,
             "#fb9f3a"
            ],
            [
             0.8888888888888888,
             "#fdca26"
            ],
            [
             1,
             "#f0f921"
            ]
           ]
          },
          "colorway": [
           "#636efa",
           "#EF553B",
           "#00cc96",
           "#ab63fa",
           "#FFA15A",
           "#19d3f3",
           "#FF6692",
           "#B6E880",
           "#FF97FF",
           "#FECB52"
          ],
          "font": {
           "color": "#2a3f5f"
          },
          "geo": {
           "bgcolor": "white",
           "lakecolor": "white",
           "landcolor": "#E5ECF6",
           "showlakes": true,
           "showland": true,
           "subunitcolor": "white"
          },
          "hoverlabel": {
           "align": "left"
          },
          "hovermode": "closest",
          "mapbox": {
           "style": "light"
          },
          "paper_bgcolor": "white",
          "plot_bgcolor": "#E5ECF6",
          "polar": {
           "angularaxis": {
            "gridcolor": "white",
            "linecolor": "white",
            "ticks": ""
           },
           "bgcolor": "#E5ECF6",
           "radialaxis": {
            "gridcolor": "white",
            "linecolor": "white",
            "ticks": ""
           }
          },
          "scene": {
           "xaxis": {
            "backgroundcolor": "#E5ECF6",
            "gridcolor": "white",
            "gridwidth": 2,
            "linecolor": "white",
            "showbackground": true,
            "ticks": "",
            "zerolinecolor": "white"
           },
           "yaxis": {
            "backgroundcolor": "#E5ECF6",
            "gridcolor": "white",
            "gridwidth": 2,
            "linecolor": "white",
            "showbackground": true,
            "ticks": "",
            "zerolinecolor": "white"
           },
           "zaxis": {
            "backgroundcolor": "#E5ECF6",
            "gridcolor": "white",
            "gridwidth": 2,
            "linecolor": "white",
            "showbackground": true,
            "ticks": "",
            "zerolinecolor": "white"
           }
          },
          "shapedefaults": {
           "line": {
            "color": "#2a3f5f"
           }
          },
          "ternary": {
           "aaxis": {
            "gridcolor": "white",
            "linecolor": "white",
            "ticks": ""
           },
           "baxis": {
            "gridcolor": "white",
            "linecolor": "white",
            "ticks": ""
           },
           "bgcolor": "#E5ECF6",
           "caxis": {
            "gridcolor": "white",
            "linecolor": "white",
            "ticks": ""
           }
          },
          "title": {
           "x": 0.05
          },
          "xaxis": {
           "automargin": true,
           "gridcolor": "white",
           "linecolor": "white",
           "ticks": "",
           "title": {
            "standoff": 15
           },
           "zerolinecolor": "white",
           "zerolinewidth": 2
          },
          "yaxis": {
           "automargin": true,
           "gridcolor": "white",
           "linecolor": "white",
           "ticks": "",
           "title": {
            "standoff": 15
           },
           "zerolinecolor": "white",
           "zerolinewidth": 2
          }
         }
        },
        "title": {
         "text": "Countries With Min Total Purchase Amount",
         "x": 0.45,
         "y": 0.97
        },
        "xaxis": {
         "title": {
          "text": "Countries"
         }
        },
        "yaxis": {
         "title": {
          "text": "Total Amount, £"
         }
        }
       }
      }
     },
     "metadata": {},
     "output_type": "display_data"
    }
   ],
   "source": [
    "fig = go.Figure(data=[\n",
    "    go.Bar(name='Countries With Min Total Purchase Amount', \n",
    "           x=retail_data_country_purchase_asc['Country'].astype(str), \n",
    "           y=retail_data_country_purchase_asc['Total'],\n",
    "           marker_opacity=1,\n",
    "           marker={'color': retail_data_country_purchase_desc['Total'],\n",
    "                   'colorscale': 'Rainbow'}\n",
    "          )\n",
    "    ])\n",
    "\n",
    "fig.update_traces(texttemplate='£%{y:.3s}', textposition='inside')\n",
    "\n",
    "fig.update_layout(title='Countries With Min Total Purchase Amount',\n",
    "                  title_x=0.45,\n",
    "                  title_y=0.97,\n",
    "                  xaxis_title=\"Countries\",\n",
    "                  yaxis_title=\"Total Amount, £\",\n",
    "                  plot_bgcolor='white')\n",
    "fig.show()"
   ]
  },
  {
   "cell_type": "markdown",
   "id": "98fbd56d",
   "metadata": {},
   "source": [
    "If we look at the 10 countries, where maximal purchase totals originate from, it is very clear that United Kingdom is a leader with purchase amount of £13.8M. The closest amount to that is £579k - that much was purchased by EIRE customers. It is 23 times less! One other interesting insight is that all countries in the top ten are located in Europe.\n",
    "\n",
    "The country with the smallest purchase value is Saudi Arabia. Customers from Saudi Arabia have spent only £131 in the online shop in two years! While generally countries with smaller purchased amounts are situated outside of Europe, there is an interesting exception: Czech Republic. If I had more data, I would love to dig deeper into the reasons of this fact!"
   ]
  },
  {
   "cell_type": "code",
   "execution_count": 101,
   "id": "f729ed68",
   "metadata": {},
   "outputs": [
    {
     "name": "stderr",
     "output_type": "stream",
     "text": [
      "/var/folders/j9/2xjjcspd5r3dz1m4ll_0c7m80000gn/T/ipykernel_9778/509398045.py:3: FutureWarning:\n",
      "\n",
      "Passing a dictionary to SeriesGroupBy.agg is deprecated and will raise in a future version of pandas. Pass a list of aggregations instead.\n",
      "\n"
     ]
    }
   ],
   "source": [
    "#unique customer Number \n",
    "\n",
    "retail_data_customer_unique=retail_data.groupby([\"Country\"],as_index=False)['Customer ID'].agg({'Customer ID':'nunique'})\n",
    "\n",
    "retail_data_customer_unique.rename(columns={'Customer ID':\"Customer_Count\"},inplace=True)\n",
    "\n",
    "retail_data_customer_unique_asc=retail_data_customer_unique.sort_values('Customer_Count').head(10)\n",
    "\n",
    "retail_data_customer_unique_desc=retail_data_customer_unique.sort_values('Customer_Count',ascending=False).head(10)"
   ]
  },
  {
   "cell_type": "code",
   "execution_count": 102,
   "id": "c8b47f3f",
   "metadata": {},
   "outputs": [
    {
     "data": {
      "application/vnd.plotly.v1+json": {
       "config": {
        "plotlyServerURL": "https://plot.ly"
       },
       "data": [
        {
         "marker": {
          "color": {
           "bdata": "IhVrAF8AKQAdABgAFwAWABMAEQA=",
           "dtype": "i2"
          },
          "colorscale": [
           [
            0,
            "rgb(150,0,90)"
           ],
           [
            0.125,
            "rgb(0,0,200)"
           ],
           [
            0.25,
            "rgb(0,25,255)"
           ],
           [
            0.375,
            "rgb(0,152,255)"
           ],
           [
            0.5,
            "rgb(44,255,150)"
           ],
           [
            0.625,
            "rgb(151,255,0)"
           ],
           [
            0.75,
            "rgb(255,234,0)"
           ],
           [
            0.875,
            "rgb(255,111,0)"
           ],
           [
            1,
            "rgb(255,0,0)"
           ]
          ],
          "opacity": 1
         },
         "name": "Countries with Largest Number of Unique Customers",
         "textposition": "outside",
         "texttemplate": "%{y:.3s}",
         "type": "bar",
         "x": [
          "United Kingdom",
          "Germany",
          "France",
          "Spain",
          "Belgium",
          "Portugal",
          "Netherlands",
          "Switzerland",
          "Sweden",
          "Italy"
         ],
         "y": {
          "bdata": "IhVrAF8AKQAdABgAFwAWABMAEQA=",
          "dtype": "i2"
         }
        }
       ],
       "layout": {
        "plot_bgcolor": "white",
        "template": {
         "data": {
          "bar": [
           {
            "error_x": {
             "color": "#2a3f5f"
            },
            "error_y": {
             "color": "#2a3f5f"
            },
            "marker": {
             "line": {
              "color": "#E5ECF6",
              "width": 0.5
             },
             "pattern": {
              "fillmode": "overlay",
              "size": 10,
              "solidity": 0.2
             }
            },
            "type": "bar"
           }
          ],
          "barpolar": [
           {
            "marker": {
             "line": {
              "color": "#E5ECF6",
              "width": 0.5
             },
             "pattern": {
              "fillmode": "overlay",
              "size": 10,
              "solidity": 0.2
             }
            },
            "type": "barpolar"
           }
          ],
          "carpet": [
           {
            "aaxis": {
             "endlinecolor": "#2a3f5f",
             "gridcolor": "white",
             "linecolor": "white",
             "minorgridcolor": "white",
             "startlinecolor": "#2a3f5f"
            },
            "baxis": {
             "endlinecolor": "#2a3f5f",
             "gridcolor": "white",
             "linecolor": "white",
             "minorgridcolor": "white",
             "startlinecolor": "#2a3f5f"
            },
            "type": "carpet"
           }
          ],
          "choropleth": [
           {
            "colorbar": {
             "outlinewidth": 0,
             "ticks": ""
            },
            "type": "choropleth"
           }
          ],
          "contour": [
           {
            "colorbar": {
             "outlinewidth": 0,
             "ticks": ""
            },
            "colorscale": [
             [
              0,
              "#0d0887"
             ],
             [
              0.1111111111111111,
              "#46039f"
             ],
             [
              0.2222222222222222,
              "#7201a8"
             ],
             [
              0.3333333333333333,
              "#9c179e"
             ],
             [
              0.4444444444444444,
              "#bd3786"
             ],
             [
              0.5555555555555556,
              "#d8576b"
             ],
             [
              0.6666666666666666,
              "#ed7953"
             ],
             [
              0.7777777777777778,
              "#fb9f3a"
             ],
             [
              0.8888888888888888,
              "#fdca26"
             ],
             [
              1,
              "#f0f921"
             ]
            ],
            "type": "contour"
           }
          ],
          "contourcarpet": [
           {
            "colorbar": {
             "outlinewidth": 0,
             "ticks": ""
            },
            "type": "contourcarpet"
           }
          ],
          "heatmap": [
           {
            "colorbar": {
             "outlinewidth": 0,
             "ticks": ""
            },
            "colorscale": [
             [
              0,
              "#0d0887"
             ],
             [
              0.1111111111111111,
              "#46039f"
             ],
             [
              0.2222222222222222,
              "#7201a8"
             ],
             [
              0.3333333333333333,
              "#9c179e"
             ],
             [
              0.4444444444444444,
              "#bd3786"
             ],
             [
              0.5555555555555556,
              "#d8576b"
             ],
             [
              0.6666666666666666,
              "#ed7953"
             ],
             [
              0.7777777777777778,
              "#fb9f3a"
             ],
             [
              0.8888888888888888,
              "#fdca26"
             ],
             [
              1,
              "#f0f921"
             ]
            ],
            "type": "heatmap"
           }
          ],
          "histogram": [
           {
            "marker": {
             "pattern": {
              "fillmode": "overlay",
              "size": 10,
              "solidity": 0.2
             }
            },
            "type": "histogram"
           }
          ],
          "histogram2d": [
           {
            "colorbar": {
             "outlinewidth": 0,
             "ticks": ""
            },
            "colorscale": [
             [
              0,
              "#0d0887"
             ],
             [
              0.1111111111111111,
              "#46039f"
             ],
             [
              0.2222222222222222,
              "#7201a8"
             ],
             [
              0.3333333333333333,
              "#9c179e"
             ],
             [
              0.4444444444444444,
              "#bd3786"
             ],
             [
              0.5555555555555556,
              "#d8576b"
             ],
             [
              0.6666666666666666,
              "#ed7953"
             ],
             [
              0.7777777777777778,
              "#fb9f3a"
             ],
             [
              0.8888888888888888,
              "#fdca26"
             ],
             [
              1,
              "#f0f921"
             ]
            ],
            "type": "histogram2d"
           }
          ],
          "histogram2dcontour": [
           {
            "colorbar": {
             "outlinewidth": 0,
             "ticks": ""
            },
            "colorscale": [
             [
              0,
              "#0d0887"
             ],
             [
              0.1111111111111111,
              "#46039f"
             ],
             [
              0.2222222222222222,
              "#7201a8"
             ],
             [
              0.3333333333333333,
              "#9c179e"
             ],
             [
              0.4444444444444444,
              "#bd3786"
             ],
             [
              0.5555555555555556,
              "#d8576b"
             ],
             [
              0.6666666666666666,
              "#ed7953"
             ],
             [
              0.7777777777777778,
              "#fb9f3a"
             ],
             [
              0.8888888888888888,
              "#fdca26"
             ],
             [
              1,
              "#f0f921"
             ]
            ],
            "type": "histogram2dcontour"
           }
          ],
          "mesh3d": [
           {
            "colorbar": {
             "outlinewidth": 0,
             "ticks": ""
            },
            "type": "mesh3d"
           }
          ],
          "parcoords": [
           {
            "line": {
             "colorbar": {
              "outlinewidth": 0,
              "ticks": ""
             }
            },
            "type": "parcoords"
           }
          ],
          "pie": [
           {
            "automargin": true,
            "type": "pie"
           }
          ],
          "scatter": [
           {
            "fillpattern": {
             "fillmode": "overlay",
             "size": 10,
             "solidity": 0.2
            },
            "type": "scatter"
           }
          ],
          "scatter3d": [
           {
            "line": {
             "colorbar": {
              "outlinewidth": 0,
              "ticks": ""
             }
            },
            "marker": {
             "colorbar": {
              "outlinewidth": 0,
              "ticks": ""
             }
            },
            "type": "scatter3d"
           }
          ],
          "scattercarpet": [
           {
            "marker": {
             "colorbar": {
              "outlinewidth": 0,
              "ticks": ""
             }
            },
            "type": "scattercarpet"
           }
          ],
          "scattergeo": [
           {
            "marker": {
             "colorbar": {
              "outlinewidth": 0,
              "ticks": ""
             }
            },
            "type": "scattergeo"
           }
          ],
          "scattergl": [
           {
            "marker": {
             "colorbar": {
              "outlinewidth": 0,
              "ticks": ""
             }
            },
            "type": "scattergl"
           }
          ],
          "scattermap": [
           {
            "marker": {
             "colorbar": {
              "outlinewidth": 0,
              "ticks": ""
             }
            },
            "type": "scattermap"
           }
          ],
          "scattermapbox": [
           {
            "marker": {
             "colorbar": {
              "outlinewidth": 0,
              "ticks": ""
             }
            },
            "type": "scattermapbox"
           }
          ],
          "scatterpolar": [
           {
            "marker": {
             "colorbar": {
              "outlinewidth": 0,
              "ticks": ""
             }
            },
            "type": "scatterpolar"
           }
          ],
          "scatterpolargl": [
           {
            "marker": {
             "colorbar": {
              "outlinewidth": 0,
              "ticks": ""
             }
            },
            "type": "scatterpolargl"
           }
          ],
          "scatterternary": [
           {
            "marker": {
             "colorbar": {
              "outlinewidth": 0,
              "ticks": ""
             }
            },
            "type": "scatterternary"
           }
          ],
          "surface": [
           {
            "colorbar": {
             "outlinewidth": 0,
             "ticks": ""
            },
            "colorscale": [
             [
              0,
              "#0d0887"
             ],
             [
              0.1111111111111111,
              "#46039f"
             ],
             [
              0.2222222222222222,
              "#7201a8"
             ],
             [
              0.3333333333333333,
              "#9c179e"
             ],
             [
              0.4444444444444444,
              "#bd3786"
             ],
             [
              0.5555555555555556,
              "#d8576b"
             ],
             [
              0.6666666666666666,
              "#ed7953"
             ],
             [
              0.7777777777777778,
              "#fb9f3a"
             ],
             [
              0.8888888888888888,
              "#fdca26"
             ],
             [
              1,
              "#f0f921"
             ]
            ],
            "type": "surface"
           }
          ],
          "table": [
           {
            "cells": {
             "fill": {
              "color": "#EBF0F8"
             },
             "line": {
              "color": "white"
             }
            },
            "header": {
             "fill": {
              "color": "#C8D4E3"
             },
             "line": {
              "color": "white"
             }
            },
            "type": "table"
           }
          ]
         },
         "layout": {
          "annotationdefaults": {
           "arrowcolor": "#2a3f5f",
           "arrowhead": 0,
           "arrowwidth": 1
          },
          "autotypenumbers": "strict",
          "coloraxis": {
           "colorbar": {
            "outlinewidth": 0,
            "ticks": ""
           }
          },
          "colorscale": {
           "diverging": [
            [
             0,
             "#8e0152"
            ],
            [
             0.1,
             "#c51b7d"
            ],
            [
             0.2,
             "#de77ae"
            ],
            [
             0.3,
             "#f1b6da"
            ],
            [
             0.4,
             "#fde0ef"
            ],
            [
             0.5,
             "#f7f7f7"
            ],
            [
             0.6,
             "#e6f5d0"
            ],
            [
             0.7,
             "#b8e186"
            ],
            [
             0.8,
             "#7fbc41"
            ],
            [
             0.9,
             "#4d9221"
            ],
            [
             1,
             "#276419"
            ]
           ],
           "sequential": [
            [
             0,
             "#0d0887"
            ],
            [
             0.1111111111111111,
             "#46039f"
            ],
            [
             0.2222222222222222,
             "#7201a8"
            ],
            [
             0.3333333333333333,
             "#9c179e"
            ],
            [
             0.4444444444444444,
             "#bd3786"
            ],
            [
             0.5555555555555556,
             "#d8576b"
            ],
            [
             0.6666666666666666,
             "#ed7953"
            ],
            [
             0.7777777777777778,
             "#fb9f3a"
            ],
            [
             0.8888888888888888,
             "#fdca26"
            ],
            [
             1,
             "#f0f921"
            ]
           ],
           "sequentialminus": [
            [
             0,
             "#0d0887"
            ],
            [
             0.1111111111111111,
             "#46039f"
            ],
            [
             0.2222222222222222,
             "#7201a8"
            ],
            [
             0.3333333333333333,
             "#9c179e"
            ],
            [
             0.4444444444444444,
             "#bd3786"
            ],
            [
             0.5555555555555556,
             "#d8576b"
            ],
            [
             0.6666666666666666,
             "#ed7953"
            ],
            [
             0.7777777777777778,
             "#fb9f3a"
            ],
            [
             0.8888888888888888,
             "#fdca26"
            ],
            [
             1,
             "#f0f921"
            ]
           ]
          },
          "colorway": [
           "#636efa",
           "#EF553B",
           "#00cc96",
           "#ab63fa",
           "#FFA15A",
           "#19d3f3",
           "#FF6692",
           "#B6E880",
           "#FF97FF",
           "#FECB52"
          ],
          "font": {
           "color": "#2a3f5f"
          },
          "geo": {
           "bgcolor": "white",
           "lakecolor": "white",
           "landcolor": "#E5ECF6",
           "showlakes": true,
           "showland": true,
           "subunitcolor": "white"
          },
          "hoverlabel": {
           "align": "left"
          },
          "hovermode": "closest",
          "mapbox": {
           "style": "light"
          },
          "paper_bgcolor": "white",
          "plot_bgcolor": "#E5ECF6",
          "polar": {
           "angularaxis": {
            "gridcolor": "white",
            "linecolor": "white",
            "ticks": ""
           },
           "bgcolor": "#E5ECF6",
           "radialaxis": {
            "gridcolor": "white",
            "linecolor": "white",
            "ticks": ""
           }
          },
          "scene": {
           "xaxis": {
            "backgroundcolor": "#E5ECF6",
            "gridcolor": "white",
            "gridwidth": 2,
            "linecolor": "white",
            "showbackground": true,
            "ticks": "",
            "zerolinecolor": "white"
           },
           "yaxis": {
            "backgroundcolor": "#E5ECF6",
            "gridcolor": "white",
            "gridwidth": 2,
            "linecolor": "white",
            "showbackground": true,
            "ticks": "",
            "zerolinecolor": "white"
           },
           "zaxis": {
            "backgroundcolor": "#E5ECF6",
            "gridcolor": "white",
            "gridwidth": 2,
            "linecolor": "white",
            "showbackground": true,
            "ticks": "",
            "zerolinecolor": "white"
           }
          },
          "shapedefaults": {
           "line": {
            "color": "#2a3f5f"
           }
          },
          "ternary": {
           "aaxis": {
            "gridcolor": "white",
            "linecolor": "white",
            "ticks": ""
           },
           "baxis": {
            "gridcolor": "white",
            "linecolor": "white",
            "ticks": ""
           },
           "bgcolor": "#E5ECF6",
           "caxis": {
            "gridcolor": "white",
            "linecolor": "white",
            "ticks": ""
           }
          },
          "title": {
           "x": 0.05
          },
          "xaxis": {
           "automargin": true,
           "gridcolor": "white",
           "linecolor": "white",
           "ticks": "",
           "title": {
            "standoff": 15
           },
           "zerolinecolor": "white",
           "zerolinewidth": 2
          },
          "yaxis": {
           "automargin": true,
           "gridcolor": "white",
           "linecolor": "white",
           "ticks": "",
           "title": {
            "standoff": 15
           },
           "zerolinecolor": "white",
           "zerolinewidth": 2
          }
         }
        },
        "title": {
         "text": "Countries with Largest Number of Unique Customers",
         "x": 0.45
        },
        "xaxis": {
         "title": {
          "text": "Countries"
         }
        },
        "yaxis": {
         "title": {
          "text": "Number of Unique Customers"
         }
        }
       }
      }
     },
     "metadata": {},
     "output_type": "display_data"
    }
   ],
   "source": [
    "fig = go.Figure(data=[\n",
    "    go.Bar(name='Countries with Largest Number of Unique Customers', \n",
    "           x=retail_data_customer_unique_desc['Country'].astype(str), \n",
    "           y=retail_data_customer_unique_desc['Customer_Count'],\n",
    "           marker_opacity=1,\n",
    "           marker={'color': retail_data_customer_unique_desc['Customer_Count'],\n",
    "                   'colorscale': 'Rainbow'})\n",
    "    ])\n",
    "\n",
    "fig.update_traces(texttemplate='%{y:.3s}', textposition='outside')\n",
    "\n",
    "fig.update_layout(title='Countries with Largest Number of Unique Customers',\n",
    "                  title_x=0.45,\n",
    "                  xaxis_title=\"Countries\",\n",
    "                  yaxis_title=\"Number of Unique Customers\",\n",
    "                  plot_bgcolor='white')\n",
    "fig.show()"
   ]
  },
  {
   "cell_type": "code",
   "execution_count": 103,
   "id": "a19cf6e4",
   "metadata": {},
   "outputs": [
    {
     "data": {
      "application/vnd.plotly.v1+json": {
       "config": {
        "plotlyServerURL": "https://plot.ly"
       },
       "data": [
        {
         "marker": {
          "color": {
           "bdata": "IhVrAF8AKQAdABgAFwAWABMAEQA=",
           "dtype": "i2"
          },
          "colorscale": [
           [
            0,
            "rgb(150,0,90)"
           ],
           [
            0.125,
            "rgb(0,0,200)"
           ],
           [
            0.25,
            "rgb(0,25,255)"
           ],
           [
            0.375,
            "rgb(0,152,255)"
           ],
           [
            0.5,
            "rgb(44,255,150)"
           ],
           [
            0.625,
            "rgb(151,255,0)"
           ],
           [
            0.75,
            "rgb(255,234,0)"
           ],
           [
            0.875,
            "rgb(255,111,0)"
           ],
           [
            1,
            "rgb(255,0,0)"
           ]
          ],
          "opacity": 1
         },
         "name": "Countries with Smallest Number of Unique Customers",
         "textposition": "outside",
         "texttemplate": "%{y:.3s}",
         "type": "bar",
         "x": [
          "West Indies",
          "Thailand",
          "Singapore",
          "Saudi Arabia",
          "Nigeria",
          "Lithuania",
          "Czech Republic",
          "Lebanon",
          "Iceland",
          "European Community"
         ],
         "y": {
          "bdata": "AQEBAQEBAQEBAQ==",
          "dtype": "i1"
         }
        }
       ],
       "layout": {
        "plot_bgcolor": "white",
        "template": {
         "data": {
          "bar": [
           {
            "error_x": {
             "color": "#2a3f5f"
            },
            "error_y": {
             "color": "#2a3f5f"
            },
            "marker": {
             "line": {
              "color": "#E5ECF6",
              "width": 0.5
             },
             "pattern": {
              "fillmode": "overlay",
              "size": 10,
              "solidity": 0.2
             }
            },
            "type": "bar"
           }
          ],
          "barpolar": [
           {
            "marker": {
             "line": {
              "color": "#E5ECF6",
              "width": 0.5
             },
             "pattern": {
              "fillmode": "overlay",
              "size": 10,
              "solidity": 0.2
             }
            },
            "type": "barpolar"
           }
          ],
          "carpet": [
           {
            "aaxis": {
             "endlinecolor": "#2a3f5f",
             "gridcolor": "white",
             "linecolor": "white",
             "minorgridcolor": "white",
             "startlinecolor": "#2a3f5f"
            },
            "baxis": {
             "endlinecolor": "#2a3f5f",
             "gridcolor": "white",
             "linecolor": "white",
             "minorgridcolor": "white",
             "startlinecolor": "#2a3f5f"
            },
            "type": "carpet"
           }
          ],
          "choropleth": [
           {
            "colorbar": {
             "outlinewidth": 0,
             "ticks": ""
            },
            "type": "choropleth"
           }
          ],
          "contour": [
           {
            "colorbar": {
             "outlinewidth": 0,
             "ticks": ""
            },
            "colorscale": [
             [
              0,
              "#0d0887"
             ],
             [
              0.1111111111111111,
              "#46039f"
             ],
             [
              0.2222222222222222,
              "#7201a8"
             ],
             [
              0.3333333333333333,
              "#9c179e"
             ],
             [
              0.4444444444444444,
              "#bd3786"
             ],
             [
              0.5555555555555556,
              "#d8576b"
             ],
             [
              0.6666666666666666,
              "#ed7953"
             ],
             [
              0.7777777777777778,
              "#fb9f3a"
             ],
             [
              0.8888888888888888,
              "#fdca26"
             ],
             [
              1,
              "#f0f921"
             ]
            ],
            "type": "contour"
           }
          ],
          "contourcarpet": [
           {
            "colorbar": {
             "outlinewidth": 0,
             "ticks": ""
            },
            "type": "contourcarpet"
           }
          ],
          "heatmap": [
           {
            "colorbar": {
             "outlinewidth": 0,
             "ticks": ""
            },
            "colorscale": [
             [
              0,
              "#0d0887"
             ],
             [
              0.1111111111111111,
              "#46039f"
             ],
             [
              0.2222222222222222,
              "#7201a8"
             ],
             [
              0.3333333333333333,
              "#9c179e"
             ],
             [
              0.4444444444444444,
              "#bd3786"
             ],
             [
              0.5555555555555556,
              "#d8576b"
             ],
             [
              0.6666666666666666,
              "#ed7953"
             ],
             [
              0.7777777777777778,
              "#fb9f3a"
             ],
             [
              0.8888888888888888,
              "#fdca26"
             ],
             [
              1,
              "#f0f921"
             ]
            ],
            "type": "heatmap"
           }
          ],
          "histogram": [
           {
            "marker": {
             "pattern": {
              "fillmode": "overlay",
              "size": 10,
              "solidity": 0.2
             }
            },
            "type": "histogram"
           }
          ],
          "histogram2d": [
           {
            "colorbar": {
             "outlinewidth": 0,
             "ticks": ""
            },
            "colorscale": [
             [
              0,
              "#0d0887"
             ],
             [
              0.1111111111111111,
              "#46039f"
             ],
             [
              0.2222222222222222,
              "#7201a8"
             ],
             [
              0.3333333333333333,
              "#9c179e"
             ],
             [
              0.4444444444444444,
              "#bd3786"
             ],
             [
              0.5555555555555556,
              "#d8576b"
             ],
             [
              0.6666666666666666,
              "#ed7953"
             ],
             [
              0.7777777777777778,
              "#fb9f3a"
             ],
             [
              0.8888888888888888,
              "#fdca26"
             ],
             [
              1,
              "#f0f921"
             ]
            ],
            "type": "histogram2d"
           }
          ],
          "histogram2dcontour": [
           {
            "colorbar": {
             "outlinewidth": 0,
             "ticks": ""
            },
            "colorscale": [
             [
              0,
              "#0d0887"
             ],
             [
              0.1111111111111111,
              "#46039f"
             ],
             [
              0.2222222222222222,
              "#7201a8"
             ],
             [
              0.3333333333333333,
              "#9c179e"
             ],
             [
              0.4444444444444444,
              "#bd3786"
             ],
             [
              0.5555555555555556,
              "#d8576b"
             ],
             [
              0.6666666666666666,
              "#ed7953"
             ],
             [
              0.7777777777777778,
              "#fb9f3a"
             ],
             [
              0.8888888888888888,
              "#fdca26"
             ],
             [
              1,
              "#f0f921"
             ]
            ],
            "type": "histogram2dcontour"
           }
          ],
          "mesh3d": [
           {
            "colorbar": {
             "outlinewidth": 0,
             "ticks": ""
            },
            "type": "mesh3d"
           }
          ],
          "parcoords": [
           {
            "line": {
             "colorbar": {
              "outlinewidth": 0,
              "ticks": ""
             }
            },
            "type": "parcoords"
           }
          ],
          "pie": [
           {
            "automargin": true,
            "type": "pie"
           }
          ],
          "scatter": [
           {
            "fillpattern": {
             "fillmode": "overlay",
             "size": 10,
             "solidity": 0.2
            },
            "type": "scatter"
           }
          ],
          "scatter3d": [
           {
            "line": {
             "colorbar": {
              "outlinewidth": 0,
              "ticks": ""
             }
            },
            "marker": {
             "colorbar": {
              "outlinewidth": 0,
              "ticks": ""
             }
            },
            "type": "scatter3d"
           }
          ],
          "scattercarpet": [
           {
            "marker": {
             "colorbar": {
              "outlinewidth": 0,
              "ticks": ""
             }
            },
            "type": "scattercarpet"
           }
          ],
          "scattergeo": [
           {
            "marker": {
             "colorbar": {
              "outlinewidth": 0,
              "ticks": ""
             }
            },
            "type": "scattergeo"
           }
          ],
          "scattergl": [
           {
            "marker": {
             "colorbar": {
              "outlinewidth": 0,
              "ticks": ""
             }
            },
            "type": "scattergl"
           }
          ],
          "scattermap": [
           {
            "marker": {
             "colorbar": {
              "outlinewidth": 0,
              "ticks": ""
             }
            },
            "type": "scattermap"
           }
          ],
          "scattermapbox": [
           {
            "marker": {
             "colorbar": {
              "outlinewidth": 0,
              "ticks": ""
             }
            },
            "type": "scattermapbox"
           }
          ],
          "scatterpolar": [
           {
            "marker": {
             "colorbar": {
              "outlinewidth": 0,
              "ticks": ""
             }
            },
            "type": "scatterpolar"
           }
          ],
          "scatterpolargl": [
           {
            "marker": {
             "colorbar": {
              "outlinewidth": 0,
              "ticks": ""
             }
            },
            "type": "scatterpolargl"
           }
          ],
          "scatterternary": [
           {
            "marker": {
             "colorbar": {
              "outlinewidth": 0,
              "ticks": ""
             }
            },
            "type": "scatterternary"
           }
          ],
          "surface": [
           {
            "colorbar": {
             "outlinewidth": 0,
             "ticks": ""
            },
            "colorscale": [
             [
              0,
              "#0d0887"
             ],
             [
              0.1111111111111111,
              "#46039f"
             ],
             [
              0.2222222222222222,
              "#7201a8"
             ],
             [
              0.3333333333333333,
              "#9c179e"
             ],
             [
              0.4444444444444444,
              "#bd3786"
             ],
             [
              0.5555555555555556,
              "#d8576b"
             ],
             [
              0.6666666666666666,
              "#ed7953"
             ],
             [
              0.7777777777777778,
              "#fb9f3a"
             ],
             [
              0.8888888888888888,
              "#fdca26"
             ],
             [
              1,
              "#f0f921"
             ]
            ],
            "type": "surface"
           }
          ],
          "table": [
           {
            "cells": {
             "fill": {
              "color": "#EBF0F8"
             },
             "line": {
              "color": "white"
             }
            },
            "header": {
             "fill": {
              "color": "#C8D4E3"
             },
             "line": {
              "color": "white"
             }
            },
            "type": "table"
           }
          ]
         },
         "layout": {
          "annotationdefaults": {
           "arrowcolor": "#2a3f5f",
           "arrowhead": 0,
           "arrowwidth": 1
          },
          "autotypenumbers": "strict",
          "coloraxis": {
           "colorbar": {
            "outlinewidth": 0,
            "ticks": ""
           }
          },
          "colorscale": {
           "diverging": [
            [
             0,
             "#8e0152"
            ],
            [
             0.1,
             "#c51b7d"
            ],
            [
             0.2,
             "#de77ae"
            ],
            [
             0.3,
             "#f1b6da"
            ],
            [
             0.4,
             "#fde0ef"
            ],
            [
             0.5,
             "#f7f7f7"
            ],
            [
             0.6,
             "#e6f5d0"
            ],
            [
             0.7,
             "#b8e186"
            ],
            [
             0.8,
             "#7fbc41"
            ],
            [
             0.9,
             "#4d9221"
            ],
            [
             1,
             "#276419"
            ]
           ],
           "sequential": [
            [
             0,
             "#0d0887"
            ],
            [
             0.1111111111111111,
             "#46039f"
            ],
            [
             0.2222222222222222,
             "#7201a8"
            ],
            [
             0.3333333333333333,
             "#9c179e"
            ],
            [
             0.4444444444444444,
             "#bd3786"
            ],
            [
             0.5555555555555556,
             "#d8576b"
            ],
            [
             0.6666666666666666,
             "#ed7953"
            ],
            [
             0.7777777777777778,
             "#fb9f3a"
            ],
            [
             0.8888888888888888,
             "#fdca26"
            ],
            [
             1,
             "#f0f921"
            ]
           ],
           "sequentialminus": [
            [
             0,
             "#0d0887"
            ],
            [
             0.1111111111111111,
             "#46039f"
            ],
            [
             0.2222222222222222,
             "#7201a8"
            ],
            [
             0.3333333333333333,
             "#9c179e"
            ],
            [
             0.4444444444444444,
             "#bd3786"
            ],
            [
             0.5555555555555556,
             "#d8576b"
            ],
            [
             0.6666666666666666,
             "#ed7953"
            ],
            [
             0.7777777777777778,
             "#fb9f3a"
            ],
            [
             0.8888888888888888,
             "#fdca26"
            ],
            [
             1,
             "#f0f921"
            ]
           ]
          },
          "colorway": [
           "#636efa",
           "#EF553B",
           "#00cc96",
           "#ab63fa",
           "#FFA15A",
           "#19d3f3",
           "#FF6692",
           "#B6E880",
           "#FF97FF",
           "#FECB52"
          ],
          "font": {
           "color": "#2a3f5f"
          },
          "geo": {
           "bgcolor": "white",
           "lakecolor": "white",
           "landcolor": "#E5ECF6",
           "showlakes": true,
           "showland": true,
           "subunitcolor": "white"
          },
          "hoverlabel": {
           "align": "left"
          },
          "hovermode": "closest",
          "mapbox": {
           "style": "light"
          },
          "paper_bgcolor": "white",
          "plot_bgcolor": "#E5ECF6",
          "polar": {
           "angularaxis": {
            "gridcolor": "white",
            "linecolor": "white",
            "ticks": ""
           },
           "bgcolor": "#E5ECF6",
           "radialaxis": {
            "gridcolor": "white",
            "linecolor": "white",
            "ticks": ""
           }
          },
          "scene": {
           "xaxis": {
            "backgroundcolor": "#E5ECF6",
            "gridcolor": "white",
            "gridwidth": 2,
            "linecolor": "white",
            "showbackground": true,
            "ticks": "",
            "zerolinecolor": "white"
           },
           "yaxis": {
            "backgroundcolor": "#E5ECF6",
            "gridcolor": "white",
            "gridwidth": 2,
            "linecolor": "white",
            "showbackground": true,
            "ticks": "",
            "zerolinecolor": "white"
           },
           "zaxis": {
            "backgroundcolor": "#E5ECF6",
            "gridcolor": "white",
            "gridwidth": 2,
            "linecolor": "white",
            "showbackground": true,
            "ticks": "",
            "zerolinecolor": "white"
           }
          },
          "shapedefaults": {
           "line": {
            "color": "#2a3f5f"
           }
          },
          "ternary": {
           "aaxis": {
            "gridcolor": "white",
            "linecolor": "white",
            "ticks": ""
           },
           "baxis": {
            "gridcolor": "white",
            "linecolor": "white",
            "ticks": ""
           },
           "bgcolor": "#E5ECF6",
           "caxis": {
            "gridcolor": "white",
            "linecolor": "white",
            "ticks": ""
           }
          },
          "title": {
           "x": 0.05
          },
          "xaxis": {
           "automargin": true,
           "gridcolor": "white",
           "linecolor": "white",
           "ticks": "",
           "title": {
            "standoff": 15
           },
           "zerolinecolor": "white",
           "zerolinewidth": 2
          },
          "yaxis": {
           "automargin": true,
           "gridcolor": "white",
           "linecolor": "white",
           "ticks": "",
           "title": {
            "standoff": 15
           },
           "zerolinecolor": "white",
           "zerolinewidth": 2
          }
         }
        },
        "title": {
         "text": "Countries with Smallest Number of Unique Customers",
         "x": 0.45,
         "y": 0.97
        },
        "xaxis": {
         "title": {
          "text": "Countries"
         }
        },
        "yaxis": {
         "title": {
          "text": "Number of Unique Customers"
         }
        }
       }
      }
     },
     "metadata": {},
     "output_type": "display_data"
    }
   ],
   "source": [
    "fig = go.Figure(data=[\n",
    "    go.Bar(name='Countries with Smallest Number of Unique Customers', \n",
    "           x=retail_data_customer_unique_asc['Country'].astype(str), \n",
    "           y=retail_data_customer_unique_asc['Customer_Count'],\n",
    "           marker_opacity=1,\n",
    "           marker={'color': retail_data_customer_unique_desc['Customer_Count'],\n",
    "                   'colorscale': 'Rainbow'}\n",
    "          )\n",
    "    ])\n",
    "\n",
    "fig.update_traces(texttemplate='%{y:.3s}', textposition='outside')\n",
    "\n",
    "fig.update_layout(title='Countries with Smallest Number of Unique Customers',\n",
    "                  title_x=0.45,\n",
    "                  title_y=0.97,\n",
    "                  xaxis_title=\"Countries\",\n",
    "                  yaxis_title=\"Number of Unique Customers\",\n",
    "                  plot_bgcolor='white')\n",
    "fig.show()"
   ]
  },
  {
   "cell_type": "markdown",
   "id": "ead2d962",
   "metadata": {},
   "source": [
    "In UK, 5.41k of unique customers have made purchases in two years, while Germany and France follow up with only 107 customers and 95 customers correspondingly. The difference between top position and the followers is indeed huge. Note that we have spotted the same while analysing purchases for each country.\n",
    "Also there are many countries with a single unique customer, such as Thailand, Nigeria, Iceland, Saudi Arabia etc. Here, Czech Republic is again an outlier in the list of Asian, South American and African countries, but now we see that also Lithuania and Iceland have only one customer. While Iceland has a relatively small population, it would be interesting to investigate and compare the reasons for Czech Republic and Lithuania."
   ]
  },
  {
   "cell_type": "markdown",
   "id": "3584e3a8",
   "metadata": {},
   "source": [
    "Products Analysis: Quantity\n",
    "Next, I will find 10 bestselling products and 10 products which have top number of returns.\n",
    "\n",
    "I will remove products with description 'Discount' and 'CRUK Commission' to concentrate on the representative data."
   ]
  },
  {
   "cell_type": "code",
   "execution_count": 104,
   "id": "72e85501",
   "metadata": {},
   "outputs": [
    {
     "data": {
      "text/html": [
       "<div>\n",
       "<style scoped>\n",
       "    .dataframe tbody tr th:only-of-type {\n",
       "        vertical-align: middle;\n",
       "    }\n",
       "\n",
       "    .dataframe tbody tr th {\n",
       "        vertical-align: top;\n",
       "    }\n",
       "\n",
       "    .dataframe thead th {\n",
       "        text-align: right;\n",
       "    }\n",
       "</style>\n",
       "<table border=\"1\" class=\"dataframe\">\n",
       "  <thead>\n",
       "    <tr style=\"text-align: right;\">\n",
       "      <th></th>\n",
       "      <th>Description</th>\n",
       "      <th>Quantity</th>\n",
       "    </tr>\n",
       "  </thead>\n",
       "  <tbody>\n",
       "    <tr>\n",
       "      <th>5040</th>\n",
       "      <td>WHITE CHERRY LIGHTS</td>\n",
       "      <td>-105</td>\n",
       "    </tr>\n",
       "    <tr>\n",
       "      <th>4391</th>\n",
       "      <td>SILVER CHERRY LIGHTS</td>\n",
       "      <td>-96</td>\n",
       "    </tr>\n",
       "    <tr>\n",
       "      <th>4793</th>\n",
       "      <td>TREE OF NOAH FESTIVE SCENTED CANDLE</td>\n",
       "      <td>-34</td>\n",
       "    </tr>\n",
       "    <tr>\n",
       "      <th>1186</th>\n",
       "      <td>CRUK Commission</td>\n",
       "      <td>-16</td>\n",
       "    </tr>\n",
       "    <tr>\n",
       "      <th>4093</th>\n",
       "      <td>SET 6 MINI SUSHI SET FRIDGE MAGNETS</td>\n",
       "      <td>-12</td>\n",
       "    </tr>\n",
       "    <tr>\n",
       "      <th>5087</th>\n",
       "      <td>WHITE SCANDINAVIAN HEART CHRISTMAS</td>\n",
       "      <td>-11</td>\n",
       "    </tr>\n",
       "    <tr>\n",
       "      <th>4882</th>\n",
       "      <td>VINTAGE BLUE VACUUM FLASK 0.5L</td>\n",
       "      <td>-10</td>\n",
       "    </tr>\n",
       "    <tr>\n",
       "      <th>473</th>\n",
       "      <td>BLACK CHERRY LIGHTS</td>\n",
       "      <td>-8</td>\n",
       "    </tr>\n",
       "    <tr>\n",
       "      <th>1624</th>\n",
       "      <td>FEATHER HEART LIGHTS</td>\n",
       "      <td>-8</td>\n",
       "    </tr>\n",
       "    <tr>\n",
       "      <th>5075</th>\n",
       "      <td>WHITE ORCHID FLOWER LIGHTS</td>\n",
       "      <td>-6</td>\n",
       "    </tr>\n",
       "  </tbody>\n",
       "</table>\n",
       "</div>"
      ],
      "text/plain": [
       "                              Description  Quantity\n",
       "5040                  WHITE CHERRY LIGHTS      -105\n",
       "4391                 SILVER CHERRY LIGHTS       -96\n",
       "4793  TREE OF NOAH FESTIVE SCENTED CANDLE       -34\n",
       "1186                      CRUK Commission       -16\n",
       "4093  SET 6 MINI SUSHI SET FRIDGE MAGNETS       -12\n",
       "5087   WHITE SCANDINAVIAN HEART CHRISTMAS       -11\n",
       "4882      VINTAGE BLUE VACUUM FLASK 0.5L        -10\n",
       "473                   BLACK CHERRY LIGHTS        -8\n",
       "1624                 FEATHER HEART LIGHTS        -8\n",
       "5075           WHITE ORCHID FLOWER LIGHTS        -6"
      ]
     },
     "execution_count": 104,
     "metadata": {},
     "output_type": "execute_result"
    }
   ],
   "source": [
    "retail_data_products=retail_data.groupby([\"Description\"],as_index=False)[\"Quantity\"].agg('sum')\n",
    "\n",
    "retail_data_product=retail_data_products.loc[~retail_data_products['Description'].isin(['CRUK Commision','Discount'])]\n",
    "\n",
    "retail_data_product_asc=retail_data_product.sort_values('Quantity').head(10)\n",
    "\n",
    "retail_data_product_asc"
   ]
  },
  {
   "cell_type": "code",
   "execution_count": 105,
   "id": "cb39e79f",
   "metadata": {},
   "outputs": [
    {
     "data": {
      "text/html": [
       "<div>\n",
       "<style scoped>\n",
       "    .dataframe tbody tr th:only-of-type {\n",
       "        vertical-align: middle;\n",
       "    }\n",
       "\n",
       "    .dataframe tbody tr th {\n",
       "        vertical-align: top;\n",
       "    }\n",
       "\n",
       "    .dataframe thead th {\n",
       "        text-align: right;\n",
       "    }\n",
       "</style>\n",
       "<table border=\"1\" class=\"dataframe\">\n",
       "  <thead>\n",
       "    <tr style=\"text-align: right;\">\n",
       "      <th></th>\n",
       "      <th>Description</th>\n",
       "      <th>Quantity</th>\n",
       "    </tr>\n",
       "  </thead>\n",
       "  <tbody>\n",
       "    <tr>\n",
       "      <th>5040</th>\n",
       "      <td>WHITE CHERRY LIGHTS</td>\n",
       "      <td>105</td>\n",
       "    </tr>\n",
       "    <tr>\n",
       "      <th>4391</th>\n",
       "      <td>SILVER CHERRY LIGHTS</td>\n",
       "      <td>96</td>\n",
       "    </tr>\n",
       "    <tr>\n",
       "      <th>4793</th>\n",
       "      <td>TREE OF NOAH FESTIVE SCENTED CANDLE</td>\n",
       "      <td>34</td>\n",
       "    </tr>\n",
       "    <tr>\n",
       "      <th>1186</th>\n",
       "      <td>CRUK Commission</td>\n",
       "      <td>16</td>\n",
       "    </tr>\n",
       "    <tr>\n",
       "      <th>4093</th>\n",
       "      <td>SET 6 MINI SUSHI SET FRIDGE MAGNETS</td>\n",
       "      <td>12</td>\n",
       "    </tr>\n",
       "    <tr>\n",
       "      <th>5087</th>\n",
       "      <td>WHITE SCANDINAVIAN HEART CHRISTMAS</td>\n",
       "      <td>11</td>\n",
       "    </tr>\n",
       "    <tr>\n",
       "      <th>4882</th>\n",
       "      <td>VINTAGE BLUE VACUUM FLASK 0.5L</td>\n",
       "      <td>10</td>\n",
       "    </tr>\n",
       "    <tr>\n",
       "      <th>473</th>\n",
       "      <td>BLACK CHERRY LIGHTS</td>\n",
       "      <td>8</td>\n",
       "    </tr>\n",
       "    <tr>\n",
       "      <th>1624</th>\n",
       "      <td>FEATHER HEART LIGHTS</td>\n",
       "      <td>8</td>\n",
       "    </tr>\n",
       "    <tr>\n",
       "      <th>5075</th>\n",
       "      <td>WHITE ORCHID FLOWER LIGHTS</td>\n",
       "      <td>6</td>\n",
       "    </tr>\n",
       "  </tbody>\n",
       "</table>\n",
       "</div>"
      ],
      "text/plain": [
       "                              Description  Quantity\n",
       "5040                  WHITE CHERRY LIGHTS       105\n",
       "4391                 SILVER CHERRY LIGHTS        96\n",
       "4793  TREE OF NOAH FESTIVE SCENTED CANDLE        34\n",
       "1186                      CRUK Commission        16\n",
       "4093  SET 6 MINI SUSHI SET FRIDGE MAGNETS        12\n",
       "5087   WHITE SCANDINAVIAN HEART CHRISTMAS        11\n",
       "4882      VINTAGE BLUE VACUUM FLASK 0.5L         10\n",
       "473                   BLACK CHERRY LIGHTS         8\n",
       "1624                 FEATHER HEART LIGHTS         8\n",
       "5075           WHITE ORCHID FLOWER LIGHTS         6"
      ]
     },
     "execution_count": 105,
     "metadata": {},
     "output_type": "execute_result"
    }
   ],
   "source": [
    "retail_data_product_asc['Quantity']=retail_data_product_asc['Quantity']*(-1)\n",
    "\n",
    "retail_data_product_asc.head(10)"
   ]
  },
  {
   "cell_type": "code",
   "execution_count": 106,
   "id": "fcee4bb2",
   "metadata": {},
   "outputs": [],
   "source": [
    "retail_data_product_desc = retail_data_product.sort_values('Quantity', ascending=False).head(10)"
   ]
  },
  {
   "cell_type": "code",
   "execution_count": 107,
   "id": "fec26216",
   "metadata": {},
   "outputs": [
    {
     "data": {
      "application/vnd.plotly.v1+json": {
       "config": {
        "plotlyServerURL": "https://plot.ly"
       },
       "data": [
        {
         "marker": {
          "color": {
           "bdata": "4aMBAJhfAQBKNgEARCMBAPYSAQAL1wAAsc8AAK6yAADbrQAAUqoAAA==",
           "dtype": "i4"
          },
          "colorscale": [
           [
            0,
            "rgb(150,0,90)"
           ],
           [
            0.125,
            "rgb(0,0,200)"
           ],
           [
            0.25,
            "rgb(0,25,255)"
           ],
           [
            0.375,
            "rgb(0,152,255)"
           ],
           [
            0.5,
            "rgb(44,255,150)"
           ],
           [
            0.625,
            "rgb(151,255,0)"
           ],
           [
            0.75,
            "rgb(255,234,0)"
           ],
           [
            0.875,
            "rgb(255,111,0)"
           ],
           [
            1,
            "rgb(255,0,0)"
           ]
          ],
          "opacity": 1
         },
         "name": "10 Bestselling Products",
         "textposition": "outside",
         "texttemplate": "%{y:.3s}",
         "type": "bar",
         "x": [
          "WORLD WAR 2 GLIDERS ASSTD DESIGNS",
          "WHITE HANGING HEART T-LIGHT HOLDER",
          "ASSORTED COLOUR BIRD ORNAMENT",
          "JUMBO BAG RED RETROSPOT",
          "BROCADE RING PURSE ",
          "PACK OF 60 PINK PAISLEY CAKE CASES",
          "60 TEATIME FAIRY CAKE CASES",
          "PACK OF 72 RETROSPOT CAKE CASES",
          "PACK OF 72 RETRO SPOT CAKE CASES",
          "SMALL POPCORN HOLDER"
         ],
         "y": {
          "bdata": "4aMBAJhfAQBKNgEARCMBAPYSAQAL1wAAsc8AAK6yAADbrQAAUqoAAA==",
          "dtype": "i4"
         }
        }
       ],
       "layout": {
        "barmode": "group",
        "plot_bgcolor": "white",
        "showlegend": false,
        "template": {
         "data": {
          "bar": [
           {
            "error_x": {
             "color": "#2a3f5f"
            },
            "error_y": {
             "color": "#2a3f5f"
            },
            "marker": {
             "line": {
              "color": "#E5ECF6",
              "width": 0.5
             },
             "pattern": {
              "fillmode": "overlay",
              "size": 10,
              "solidity": 0.2
             }
            },
            "type": "bar"
           }
          ],
          "barpolar": [
           {
            "marker": {
             "line": {
              "color": "#E5ECF6",
              "width": 0.5
             },
             "pattern": {
              "fillmode": "overlay",
              "size": 10,
              "solidity": 0.2
             }
            },
            "type": "barpolar"
           }
          ],
          "carpet": [
           {
            "aaxis": {
             "endlinecolor": "#2a3f5f",
             "gridcolor": "white",
             "linecolor": "white",
             "minorgridcolor": "white",
             "startlinecolor": "#2a3f5f"
            },
            "baxis": {
             "endlinecolor": "#2a3f5f",
             "gridcolor": "white",
             "linecolor": "white",
             "minorgridcolor": "white",
             "startlinecolor": "#2a3f5f"
            },
            "type": "carpet"
           }
          ],
          "choropleth": [
           {
            "colorbar": {
             "outlinewidth": 0,
             "ticks": ""
            },
            "type": "choropleth"
           }
          ],
          "contour": [
           {
            "colorbar": {
             "outlinewidth": 0,
             "ticks": ""
            },
            "colorscale": [
             [
              0,
              "#0d0887"
             ],
             [
              0.1111111111111111,
              "#46039f"
             ],
             [
              0.2222222222222222,
              "#7201a8"
             ],
             [
              0.3333333333333333,
              "#9c179e"
             ],
             [
              0.4444444444444444,
              "#bd3786"
             ],
             [
              0.5555555555555556,
              "#d8576b"
             ],
             [
              0.6666666666666666,
              "#ed7953"
             ],
             [
              0.7777777777777778,
              "#fb9f3a"
             ],
             [
              0.8888888888888888,
              "#fdca26"
             ],
             [
              1,
              "#f0f921"
             ]
            ],
            "type": "contour"
           }
          ],
          "contourcarpet": [
           {
            "colorbar": {
             "outlinewidth": 0,
             "ticks": ""
            },
            "type": "contourcarpet"
           }
          ],
          "heatmap": [
           {
            "colorbar": {
             "outlinewidth": 0,
             "ticks": ""
            },
            "colorscale": [
             [
              0,
              "#0d0887"
             ],
             [
              0.1111111111111111,
              "#46039f"
             ],
             [
              0.2222222222222222,
              "#7201a8"
             ],
             [
              0.3333333333333333,
              "#9c179e"
             ],
             [
              0.4444444444444444,
              "#bd3786"
             ],
             [
              0.5555555555555556,
              "#d8576b"
             ],
             [
              0.6666666666666666,
              "#ed7953"
             ],
             [
              0.7777777777777778,
              "#fb9f3a"
             ],
             [
              0.8888888888888888,
              "#fdca26"
             ],
             [
              1,
              "#f0f921"
             ]
            ],
            "type": "heatmap"
           }
          ],
          "histogram": [
           {
            "marker": {
             "pattern": {
              "fillmode": "overlay",
              "size": 10,
              "solidity": 0.2
             }
            },
            "type": "histogram"
           }
          ],
          "histogram2d": [
           {
            "colorbar": {
             "outlinewidth": 0,
             "ticks": ""
            },
            "colorscale": [
             [
              0,
              "#0d0887"
             ],
             [
              0.1111111111111111,
              "#46039f"
             ],
             [
              0.2222222222222222,
              "#7201a8"
             ],
             [
              0.3333333333333333,
              "#9c179e"
             ],
             [
              0.4444444444444444,
              "#bd3786"
             ],
             [
              0.5555555555555556,
              "#d8576b"
             ],
             [
              0.6666666666666666,
              "#ed7953"
             ],
             [
              0.7777777777777778,
              "#fb9f3a"
             ],
             [
              0.8888888888888888,
              "#fdca26"
             ],
             [
              1,
              "#f0f921"
             ]
            ],
            "type": "histogram2d"
           }
          ],
          "histogram2dcontour": [
           {
            "colorbar": {
             "outlinewidth": 0,
             "ticks": ""
            },
            "colorscale": [
             [
              0,
              "#0d0887"
             ],
             [
              0.1111111111111111,
              "#46039f"
             ],
             [
              0.2222222222222222,
              "#7201a8"
             ],
             [
              0.3333333333333333,
              "#9c179e"
             ],
             [
              0.4444444444444444,
              "#bd3786"
             ],
             [
              0.5555555555555556,
              "#d8576b"
             ],
             [
              0.6666666666666666,
              "#ed7953"
             ],
             [
              0.7777777777777778,
              "#fb9f3a"
             ],
             [
              0.8888888888888888,
              "#fdca26"
             ],
             [
              1,
              "#f0f921"
             ]
            ],
            "type": "histogram2dcontour"
           }
          ],
          "mesh3d": [
           {
            "colorbar": {
             "outlinewidth": 0,
             "ticks": ""
            },
            "type": "mesh3d"
           }
          ],
          "parcoords": [
           {
            "line": {
             "colorbar": {
              "outlinewidth": 0,
              "ticks": ""
             }
            },
            "type": "parcoords"
           }
          ],
          "pie": [
           {
            "automargin": true,
            "type": "pie"
           }
          ],
          "scatter": [
           {
            "fillpattern": {
             "fillmode": "overlay",
             "size": 10,
             "solidity": 0.2
            },
            "type": "scatter"
           }
          ],
          "scatter3d": [
           {
            "line": {
             "colorbar": {
              "outlinewidth": 0,
              "ticks": ""
             }
            },
            "marker": {
             "colorbar": {
              "outlinewidth": 0,
              "ticks": ""
             }
            },
            "type": "scatter3d"
           }
          ],
          "scattercarpet": [
           {
            "marker": {
             "colorbar": {
              "outlinewidth": 0,
              "ticks": ""
             }
            },
            "type": "scattercarpet"
           }
          ],
          "scattergeo": [
           {
            "marker": {
             "colorbar": {
              "outlinewidth": 0,
              "ticks": ""
             }
            },
            "type": "scattergeo"
           }
          ],
          "scattergl": [
           {
            "marker": {
             "colorbar": {
              "outlinewidth": 0,
              "ticks": ""
             }
            },
            "type": "scattergl"
           }
          ],
          "scattermap": [
           {
            "marker": {
             "colorbar": {
              "outlinewidth": 0,
              "ticks": ""
             }
            },
            "type": "scattermap"
           }
          ],
          "scattermapbox": [
           {
            "marker": {
             "colorbar": {
              "outlinewidth": 0,
              "ticks": ""
             }
            },
            "type": "scattermapbox"
           }
          ],
          "scatterpolar": [
           {
            "marker": {
             "colorbar": {
              "outlinewidth": 0,
              "ticks": ""
             }
            },
            "type": "scatterpolar"
           }
          ],
          "scatterpolargl": [
           {
            "marker": {
             "colorbar": {
              "outlinewidth": 0,
              "ticks": ""
             }
            },
            "type": "scatterpolargl"
           }
          ],
          "scatterternary": [
           {
            "marker": {
             "colorbar": {
              "outlinewidth": 0,
              "ticks": ""
             }
            },
            "type": "scatterternary"
           }
          ],
          "surface": [
           {
            "colorbar": {
             "outlinewidth": 0,
             "ticks": ""
            },
            "colorscale": [
             [
              0,
              "#0d0887"
             ],
             [
              0.1111111111111111,
              "#46039f"
             ],
             [
              0.2222222222222222,
              "#7201a8"
             ],
             [
              0.3333333333333333,
              "#9c179e"
             ],
             [
              0.4444444444444444,
              "#bd3786"
             ],
             [
              0.5555555555555556,
              "#d8576b"
             ],
             [
              0.6666666666666666,
              "#ed7953"
             ],
             [
              0.7777777777777778,
              "#fb9f3a"
             ],
             [
              0.8888888888888888,
              "#fdca26"
             ],
             [
              1,
              "#f0f921"
             ]
            ],
            "type": "surface"
           }
          ],
          "table": [
           {
            "cells": {
             "fill": {
              "color": "#EBF0F8"
             },
             "line": {
              "color": "white"
             }
            },
            "header": {
             "fill": {
              "color": "#C8D4E3"
             },
             "line": {
              "color": "white"
             }
            },
            "type": "table"
           }
          ]
         },
         "layout": {
          "annotationdefaults": {
           "arrowcolor": "#2a3f5f",
           "arrowhead": 0,
           "arrowwidth": 1
          },
          "autotypenumbers": "strict",
          "coloraxis": {
           "colorbar": {
            "outlinewidth": 0,
            "ticks": ""
           }
          },
          "colorscale": {
           "diverging": [
            [
             0,
             "#8e0152"
            ],
            [
             0.1,
             "#c51b7d"
            ],
            [
             0.2,
             "#de77ae"
            ],
            [
             0.3,
             "#f1b6da"
            ],
            [
             0.4,
             "#fde0ef"
            ],
            [
             0.5,
             "#f7f7f7"
            ],
            [
             0.6,
             "#e6f5d0"
            ],
            [
             0.7,
             "#b8e186"
            ],
            [
             0.8,
             "#7fbc41"
            ],
            [
             0.9,
             "#4d9221"
            ],
            [
             1,
             "#276419"
            ]
           ],
           "sequential": [
            [
             0,
             "#0d0887"
            ],
            [
             0.1111111111111111,
             "#46039f"
            ],
            [
             0.2222222222222222,
             "#7201a8"
            ],
            [
             0.3333333333333333,
             "#9c179e"
            ],
            [
             0.4444444444444444,
             "#bd3786"
            ],
            [
             0.5555555555555556,
             "#d8576b"
            ],
            [
             0.6666666666666666,
             "#ed7953"
            ],
            [
             0.7777777777777778,
             "#fb9f3a"
            ],
            [
             0.8888888888888888,
             "#fdca26"
            ],
            [
             1,
             "#f0f921"
            ]
           ],
           "sequentialminus": [
            [
             0,
             "#0d0887"
            ],
            [
             0.1111111111111111,
             "#46039f"
            ],
            [
             0.2222222222222222,
             "#7201a8"
            ],
            [
             0.3333333333333333,
             "#9c179e"
            ],
            [
             0.4444444444444444,
             "#bd3786"
            ],
            [
             0.5555555555555556,
             "#d8576b"
            ],
            [
             0.6666666666666666,
             "#ed7953"
            ],
            [
             0.7777777777777778,
             "#fb9f3a"
            ],
            [
             0.8888888888888888,
             "#fdca26"
            ],
            [
             1,
             "#f0f921"
            ]
           ]
          },
          "colorway": [
           "#636efa",
           "#EF553B",
           "#00cc96",
           "#ab63fa",
           "#FFA15A",
           "#19d3f3",
           "#FF6692",
           "#B6E880",
           "#FF97FF",
           "#FECB52"
          ],
          "font": {
           "color": "#2a3f5f"
          },
          "geo": {
           "bgcolor": "white",
           "lakecolor": "white",
           "landcolor": "#E5ECF6",
           "showlakes": true,
           "showland": true,
           "subunitcolor": "white"
          },
          "hoverlabel": {
           "align": "left"
          },
          "hovermode": "closest",
          "mapbox": {
           "style": "light"
          },
          "paper_bgcolor": "white",
          "plot_bgcolor": "#E5ECF6",
          "polar": {
           "angularaxis": {
            "gridcolor": "white",
            "linecolor": "white",
            "ticks": ""
           },
           "bgcolor": "#E5ECF6",
           "radialaxis": {
            "gridcolor": "white",
            "linecolor": "white",
            "ticks": ""
           }
          },
          "scene": {
           "xaxis": {
            "backgroundcolor": "#E5ECF6",
            "gridcolor": "white",
            "gridwidth": 2,
            "linecolor": "white",
            "showbackground": true,
            "ticks": "",
            "zerolinecolor": "white"
           },
           "yaxis": {
            "backgroundcolor": "#E5ECF6",
            "gridcolor": "white",
            "gridwidth": 2,
            "linecolor": "white",
            "showbackground": true,
            "ticks": "",
            "zerolinecolor": "white"
           },
           "zaxis": {
            "backgroundcolor": "#E5ECF6",
            "gridcolor": "white",
            "gridwidth": 2,
            "linecolor": "white",
            "showbackground": true,
            "ticks": "",
            "zerolinecolor": "white"
           }
          },
          "shapedefaults": {
           "line": {
            "color": "#2a3f5f"
           }
          },
          "ternary": {
           "aaxis": {
            "gridcolor": "white",
            "linecolor": "white",
            "ticks": ""
           },
           "baxis": {
            "gridcolor": "white",
            "linecolor": "white",
            "ticks": ""
           },
           "bgcolor": "#E5ECF6",
           "caxis": {
            "gridcolor": "white",
            "linecolor": "white",
            "ticks": ""
           }
          },
          "title": {
           "x": 0.05
          },
          "xaxis": {
           "automargin": true,
           "gridcolor": "white",
           "linecolor": "white",
           "ticks": "",
           "title": {
            "standoff": 15
           },
           "zerolinecolor": "white",
           "zerolinewidth": 2
          },
          "yaxis": {
           "automargin": true,
           "gridcolor": "white",
           "linecolor": "white",
           "ticks": "",
           "title": {
            "standoff": 15
           },
           "zerolinecolor": "white",
           "zerolinewidth": 2
          }
         }
        },
        "title": {
         "text": "10 Bestselling Products",
         "x": 0.45
        },
        "xaxis": {
         "title": {
          "text": "Products"
         }
        },
        "yaxis": {
         "title": {
          "text": "Total Quantity Sold"
         }
        }
       }
      }
     },
     "metadata": {},
     "output_type": "display_data"
    }
   ],
   "source": [
    "fig = go.Figure(data=[\n",
    "    go.Bar(name='10 Bestselling Products', \n",
    "           x=retail_data_product_desc['Description'].astype(str), \n",
    "           y=retail_data_product_desc['Quantity'],\n",
    "           marker_opacity=1,\n",
    "           marker={'color': retail_data_product_desc['Quantity'],\n",
    "                   'colorscale': 'Rainbow'})\n",
    "    ])\n",
    "\n",
    "fig.update_traces(texttemplate='%{y:.3s}', textposition='outside')\n",
    "fig.update_layout(barmode='group', showlegend=False)\n",
    "\n",
    "fig.update_layout(title='10 Bestselling Products',\n",
    "                  title_x=0.45,\n",
    "                  xaxis_title=\"Products\",\n",
    "                  yaxis_title=\"Total Quantity Sold\",\n",
    "                  plot_bgcolor='white')\n",
    "fig.show()"
   ]
  },
  {
   "cell_type": "code",
   "execution_count": 108,
   "id": "2bb7b312",
   "metadata": {},
   "outputs": [
    {
     "data": {
      "application/vnd.plotly.v1+json": {
       "config": {
        "plotlyServerURL": "https://plot.ly"
       },
       "data": [
        {
         "marker": {
          "color": {
           "bdata": "aWAiEAwLCggIBg==",
           "dtype": "i1"
          },
          "colorscale": [
           [
            0,
            "rgb(150,0,90)"
           ],
           [
            0.125,
            "rgb(0,0,200)"
           ],
           [
            0.25,
            "rgb(0,25,255)"
           ],
           [
            0.375,
            "rgb(0,152,255)"
           ],
           [
            0.5,
            "rgb(44,255,150)"
           ],
           [
            0.625,
            "rgb(151,255,0)"
           ],
           [
            0.75,
            "rgb(255,234,0)"
           ],
           [
            0.875,
            "rgb(255,111,0)"
           ],
           [
            1,
            "rgb(255,0,0)"
           ]
          ],
          "opacity": 1
         },
         "name": "10 Products With Most Returns",
         "textposition": "outside",
         "texttemplate": "%{y:.3s}",
         "type": "bar",
         "x": [
          "WHITE CHERRY LIGHTS",
          "SILVER CHERRY LIGHTS",
          "TREE OF NOAH FESTIVE SCENTED CANDLE",
          "CRUK Commission",
          "SET 6 MINI SUSHI SET FRIDGE MAGNETS",
          "WHITE SCANDINAVIAN HEART CHRISTMAS",
          "VINTAGE BLUE VACUUM FLASK 0.5L ",
          "BLACK CHERRY LIGHTS",
          "FEATHER HEART LIGHTS",
          "WHITE ORCHID FLOWER LIGHTS"
         ],
         "y": {
          "bdata": "aWAiEAwLCggIBg==",
          "dtype": "i1"
         }
        }
       ],
       "layout": {
        "barmode": "group",
        "plot_bgcolor": "white",
        "showlegend": false,
        "template": {
         "data": {
          "bar": [
           {
            "error_x": {
             "color": "#2a3f5f"
            },
            "error_y": {
             "color": "#2a3f5f"
            },
            "marker": {
             "line": {
              "color": "#E5ECF6",
              "width": 0.5
             },
             "pattern": {
              "fillmode": "overlay",
              "size": 10,
              "solidity": 0.2
             }
            },
            "type": "bar"
           }
          ],
          "barpolar": [
           {
            "marker": {
             "line": {
              "color": "#E5ECF6",
              "width": 0.5
             },
             "pattern": {
              "fillmode": "overlay",
              "size": 10,
              "solidity": 0.2
             }
            },
            "type": "barpolar"
           }
          ],
          "carpet": [
           {
            "aaxis": {
             "endlinecolor": "#2a3f5f",
             "gridcolor": "white",
             "linecolor": "white",
             "minorgridcolor": "white",
             "startlinecolor": "#2a3f5f"
            },
            "baxis": {
             "endlinecolor": "#2a3f5f",
             "gridcolor": "white",
             "linecolor": "white",
             "minorgridcolor": "white",
             "startlinecolor": "#2a3f5f"
            },
            "type": "carpet"
           }
          ],
          "choropleth": [
           {
            "colorbar": {
             "outlinewidth": 0,
             "ticks": ""
            },
            "type": "choropleth"
           }
          ],
          "contour": [
           {
            "colorbar": {
             "outlinewidth": 0,
             "ticks": ""
            },
            "colorscale": [
             [
              0,
              "#0d0887"
             ],
             [
              0.1111111111111111,
              "#46039f"
             ],
             [
              0.2222222222222222,
              "#7201a8"
             ],
             [
              0.3333333333333333,
              "#9c179e"
             ],
             [
              0.4444444444444444,
              "#bd3786"
             ],
             [
              0.5555555555555556,
              "#d8576b"
             ],
             [
              0.6666666666666666,
              "#ed7953"
             ],
             [
              0.7777777777777778,
              "#fb9f3a"
             ],
             [
              0.8888888888888888,
              "#fdca26"
             ],
             [
              1,
              "#f0f921"
             ]
            ],
            "type": "contour"
           }
          ],
          "contourcarpet": [
           {
            "colorbar": {
             "outlinewidth": 0,
             "ticks": ""
            },
            "type": "contourcarpet"
           }
          ],
          "heatmap": [
           {
            "colorbar": {
             "outlinewidth": 0,
             "ticks": ""
            },
            "colorscale": [
             [
              0,
              "#0d0887"
             ],
             [
              0.1111111111111111,
              "#46039f"
             ],
             [
              0.2222222222222222,
              "#7201a8"
             ],
             [
              0.3333333333333333,
              "#9c179e"
             ],
             [
              0.4444444444444444,
              "#bd3786"
             ],
             [
              0.5555555555555556,
              "#d8576b"
             ],
             [
              0.6666666666666666,
              "#ed7953"
             ],
             [
              0.7777777777777778,
              "#fb9f3a"
             ],
             [
              0.8888888888888888,
              "#fdca26"
             ],
             [
              1,
              "#f0f921"
             ]
            ],
            "type": "heatmap"
           }
          ],
          "histogram": [
           {
            "marker": {
             "pattern": {
              "fillmode": "overlay",
              "size": 10,
              "solidity": 0.2
             }
            },
            "type": "histogram"
           }
          ],
          "histogram2d": [
           {
            "colorbar": {
             "outlinewidth": 0,
             "ticks": ""
            },
            "colorscale": [
             [
              0,
              "#0d0887"
             ],
             [
              0.1111111111111111,
              "#46039f"
             ],
             [
              0.2222222222222222,
              "#7201a8"
             ],
             [
              0.3333333333333333,
              "#9c179e"
             ],
             [
              0.4444444444444444,
              "#bd3786"
             ],
             [
              0.5555555555555556,
              "#d8576b"
             ],
             [
              0.6666666666666666,
              "#ed7953"
             ],
             [
              0.7777777777777778,
              "#fb9f3a"
             ],
             [
              0.8888888888888888,
              "#fdca26"
             ],
             [
              1,
              "#f0f921"
             ]
            ],
            "type": "histogram2d"
           }
          ],
          "histogram2dcontour": [
           {
            "colorbar": {
             "outlinewidth": 0,
             "ticks": ""
            },
            "colorscale": [
             [
              0,
              "#0d0887"
             ],
             [
              0.1111111111111111,
              "#46039f"
             ],
             [
              0.2222222222222222,
              "#7201a8"
             ],
             [
              0.3333333333333333,
              "#9c179e"
             ],
             [
              0.4444444444444444,
              "#bd3786"
             ],
             [
              0.5555555555555556,
              "#d8576b"
             ],
             [
              0.6666666666666666,
              "#ed7953"
             ],
             [
              0.7777777777777778,
              "#fb9f3a"
             ],
             [
              0.8888888888888888,
              "#fdca26"
             ],
             [
              1,
              "#f0f921"
             ]
            ],
            "type": "histogram2dcontour"
           }
          ],
          "mesh3d": [
           {
            "colorbar": {
             "outlinewidth": 0,
             "ticks": ""
            },
            "type": "mesh3d"
           }
          ],
          "parcoords": [
           {
            "line": {
             "colorbar": {
              "outlinewidth": 0,
              "ticks": ""
             }
            },
            "type": "parcoords"
           }
          ],
          "pie": [
           {
            "automargin": true,
            "type": "pie"
           }
          ],
          "scatter": [
           {
            "fillpattern": {
             "fillmode": "overlay",
             "size": 10,
             "solidity": 0.2
            },
            "type": "scatter"
           }
          ],
          "scatter3d": [
           {
            "line": {
             "colorbar": {
              "outlinewidth": 0,
              "ticks": ""
             }
            },
            "marker": {
             "colorbar": {
              "outlinewidth": 0,
              "ticks": ""
             }
            },
            "type": "scatter3d"
           }
          ],
          "scattercarpet": [
           {
            "marker": {
             "colorbar": {
              "outlinewidth": 0,
              "ticks": ""
             }
            },
            "type": "scattercarpet"
           }
          ],
          "scattergeo": [
           {
            "marker": {
             "colorbar": {
              "outlinewidth": 0,
              "ticks": ""
             }
            },
            "type": "scattergeo"
           }
          ],
          "scattergl": [
           {
            "marker": {
             "colorbar": {
              "outlinewidth": 0,
              "ticks": ""
             }
            },
            "type": "scattergl"
           }
          ],
          "scattermap": [
           {
            "marker": {
             "colorbar": {
              "outlinewidth": 0,
              "ticks": ""
             }
            },
            "type": "scattermap"
           }
          ],
          "scattermapbox": [
           {
            "marker": {
             "colorbar": {
              "outlinewidth": 0,
              "ticks": ""
             }
            },
            "type": "scattermapbox"
           }
          ],
          "scatterpolar": [
           {
            "marker": {
             "colorbar": {
              "outlinewidth": 0,
              "ticks": ""
             }
            },
            "type": "scatterpolar"
           }
          ],
          "scatterpolargl": [
           {
            "marker": {
             "colorbar": {
              "outlinewidth": 0,
              "ticks": ""
             }
            },
            "type": "scatterpolargl"
           }
          ],
          "scatterternary": [
           {
            "marker": {
             "colorbar": {
              "outlinewidth": 0,
              "ticks": ""
             }
            },
            "type": "scatterternary"
           }
          ],
          "surface": [
           {
            "colorbar": {
             "outlinewidth": 0,
             "ticks": ""
            },
            "colorscale": [
             [
              0,
              "#0d0887"
             ],
             [
              0.1111111111111111,
              "#46039f"
             ],
             [
              0.2222222222222222,
              "#7201a8"
             ],
             [
              0.3333333333333333,
              "#9c179e"
             ],
             [
              0.4444444444444444,
              "#bd3786"
             ],
             [
              0.5555555555555556,
              "#d8576b"
             ],
             [
              0.6666666666666666,
              "#ed7953"
             ],
             [
              0.7777777777777778,
              "#fb9f3a"
             ],
             [
              0.8888888888888888,
              "#fdca26"
             ],
             [
              1,
              "#f0f921"
             ]
            ],
            "type": "surface"
           }
          ],
          "table": [
           {
            "cells": {
             "fill": {
              "color": "#EBF0F8"
             },
             "line": {
              "color": "white"
             }
            },
            "header": {
             "fill": {
              "color": "#C8D4E3"
             },
             "line": {
              "color": "white"
             }
            },
            "type": "table"
           }
          ]
         },
         "layout": {
          "annotationdefaults": {
           "arrowcolor": "#2a3f5f",
           "arrowhead": 0,
           "arrowwidth": 1
          },
          "autotypenumbers": "strict",
          "coloraxis": {
           "colorbar": {
            "outlinewidth": 0,
            "ticks": ""
           }
          },
          "colorscale": {
           "diverging": [
            [
             0,
             "#8e0152"
            ],
            [
             0.1,
             "#c51b7d"
            ],
            [
             0.2,
             "#de77ae"
            ],
            [
             0.3,
             "#f1b6da"
            ],
            [
             0.4,
             "#fde0ef"
            ],
            [
             0.5,
             "#f7f7f7"
            ],
            [
             0.6,
             "#e6f5d0"
            ],
            [
             0.7,
             "#b8e186"
            ],
            [
             0.8,
             "#7fbc41"
            ],
            [
             0.9,
             "#4d9221"
            ],
            [
             1,
             "#276419"
            ]
           ],
           "sequential": [
            [
             0,
             "#0d0887"
            ],
            [
             0.1111111111111111,
             "#46039f"
            ],
            [
             0.2222222222222222,
             "#7201a8"
            ],
            [
             0.3333333333333333,
             "#9c179e"
            ],
            [
             0.4444444444444444,
             "#bd3786"
            ],
            [
             0.5555555555555556,
             "#d8576b"
            ],
            [
             0.6666666666666666,
             "#ed7953"
            ],
            [
             0.7777777777777778,
             "#fb9f3a"
            ],
            [
             0.8888888888888888,
             "#fdca26"
            ],
            [
             1,
             "#f0f921"
            ]
           ],
           "sequentialminus": [
            [
             0,
             "#0d0887"
            ],
            [
             0.1111111111111111,
             "#46039f"
            ],
            [
             0.2222222222222222,
             "#7201a8"
            ],
            [
             0.3333333333333333,
             "#9c179e"
            ],
            [
             0.4444444444444444,
             "#bd3786"
            ],
            [
             0.5555555555555556,
             "#d8576b"
            ],
            [
             0.6666666666666666,
             "#ed7953"
            ],
            [
             0.7777777777777778,
             "#fb9f3a"
            ],
            [
             0.8888888888888888,
             "#fdca26"
            ],
            [
             1,
             "#f0f921"
            ]
           ]
          },
          "colorway": [
           "#636efa",
           "#EF553B",
           "#00cc96",
           "#ab63fa",
           "#FFA15A",
           "#19d3f3",
           "#FF6692",
           "#B6E880",
           "#FF97FF",
           "#FECB52"
          ],
          "font": {
           "color": "#2a3f5f"
          },
          "geo": {
           "bgcolor": "white",
           "lakecolor": "white",
           "landcolor": "#E5ECF6",
           "showlakes": true,
           "showland": true,
           "subunitcolor": "white"
          },
          "hoverlabel": {
           "align": "left"
          },
          "hovermode": "closest",
          "mapbox": {
           "style": "light"
          },
          "paper_bgcolor": "white",
          "plot_bgcolor": "#E5ECF6",
          "polar": {
           "angularaxis": {
            "gridcolor": "white",
            "linecolor": "white",
            "ticks": ""
           },
           "bgcolor": "#E5ECF6",
           "radialaxis": {
            "gridcolor": "white",
            "linecolor": "white",
            "ticks": ""
           }
          },
          "scene": {
           "xaxis": {
            "backgroundcolor": "#E5ECF6",
            "gridcolor": "white",
            "gridwidth": 2,
            "linecolor": "white",
            "showbackground": true,
            "ticks": "",
            "zerolinecolor": "white"
           },
           "yaxis": {
            "backgroundcolor": "#E5ECF6",
            "gridcolor": "white",
            "gridwidth": 2,
            "linecolor": "white",
            "showbackground": true,
            "ticks": "",
            "zerolinecolor": "white"
           },
           "zaxis": {
            "backgroundcolor": "#E5ECF6",
            "gridcolor": "white",
            "gridwidth": 2,
            "linecolor": "white",
            "showbackground": true,
            "ticks": "",
            "zerolinecolor": "white"
           }
          },
          "shapedefaults": {
           "line": {
            "color": "#2a3f5f"
           }
          },
          "ternary": {
           "aaxis": {
            "gridcolor": "white",
            "linecolor": "white",
            "ticks": ""
           },
           "baxis": {
            "gridcolor": "white",
            "linecolor": "white",
            "ticks": ""
           },
           "bgcolor": "#E5ECF6",
           "caxis": {
            "gridcolor": "white",
            "linecolor": "white",
            "ticks": ""
           }
          },
          "title": {
           "x": 0.05
          },
          "xaxis": {
           "automargin": true,
           "gridcolor": "white",
           "linecolor": "white",
           "ticks": "",
           "title": {
            "standoff": 15
           },
           "zerolinecolor": "white",
           "zerolinewidth": 2
          },
          "yaxis": {
           "automargin": true,
           "gridcolor": "white",
           "linecolor": "white",
           "ticks": "",
           "title": {
            "standoff": 15
           },
           "zerolinecolor": "white",
           "zerolinewidth": 2
          }
         }
        },
        "title": {
         "text": "10 Products With Most Returns",
         "x": 0.45,
         "y": 0.97
        },
        "xaxis": {
         "title": {
          "text": "Products"
         }
        },
        "yaxis": {
         "title": {
          "text": "Total Quantity Returned"
         }
        }
       }
      }
     },
     "metadata": {},
     "output_type": "display_data"
    }
   ],
   "source": [
    "fig = go.Figure(data=[\n",
    "    go.Bar(name='10 Products With Most Returns', \n",
    "           x=retail_data_product_asc['Description'].astype(str), \n",
    "           y=retail_data_product_asc['Quantity'],\n",
    "           marker_opacity=1,\n",
    "           marker={'color': retail_data_product_asc['Quantity'],\n",
    "                   'colorscale': 'Rainbow'}\n",
    "          )\n",
    "    ])\n",
    "\n",
    "fig.update_traces(texttemplate='%{y:.3s}', textposition='outside')\n",
    "fig.update_layout(barmode='group', showlegend=False)\n",
    "\n",
    "fig.update_layout(title='10 Products With Most Returns',\n",
    "                  title_x=0.45,\n",
    "                  title_y=0.97,\n",
    "                  xaxis_title=\"Products\",\n",
    "                  yaxis_title=\"Total Quantity Returned\",\n",
    "                  plot_bgcolor='white')\n",
    "fig.show()"
   ]
  },
  {
   "cell_type": "markdown",
   "id": "b8c26345",
   "metadata": {},
   "source": [
    "We can see that World War II Gliders are clear bestsellers (the store has sold 107k of them in two years). However quite utilitary things also sell pretty well: mostly in the top ten different holders and cake cases prevail. Also a purse and a jumbo bag can be found there.\n",
    "\n",
    "The product with most returns is White Cherry Lights (105 of them were returned in two years). It is intereting that many decor items and gifts have made it to this list: various candles, flasks, pots, magnets and lights are here."
   ]
  },
  {
   "cell_type": "markdown",
   "id": "0ac08ab9",
   "metadata": {},
   "source": [
    "**Cohort Analysis**"
   ]
  },
  {
   "cell_type": "markdown",
   "id": "4119560b",
   "metadata": {},
   "source": [
    "Cohort analysis is generally used to show behavious of users, or in our case, customers, over time. It is an incredibly useful instrument to find some insights about customer experiences, and to understand how to improve that.\n",
    "\n",
    "I will use cohort analysis to investigate retention rate and average amount of products sold, and choose to use quarters of the year to define my cohorts. I will start by slightly transforming my data.\n",
    "\n",
    "Our dataset covers a timeframe of two years (2010-2011) and additionally December 2009. As December 2009 does not give us a full picture about the quarter, I will remove it.\n",
    "\n",
    "In order to make calculations easily, each quarter is mapped to an ID.\n",
    "\n",
    "I also define my cohort quarter, and calculate cohort index as a difference (number of quarters) between each quarter and the first quarter (having ID 0)."
   ]
  },
  {
   "cell_type": "code",
   "execution_count": 109,
   "id": "bab59117",
   "metadata": {},
   "outputs": [
    {
     "data": {
      "text/html": [
       "<div>\n",
       "<style scoped>\n",
       "    .dataframe tbody tr th:only-of-type {\n",
       "        vertical-align: middle;\n",
       "    }\n",
       "\n",
       "    .dataframe tbody tr th {\n",
       "        vertical-align: top;\n",
       "    }\n",
       "\n",
       "    .dataframe thead th {\n",
       "        text-align: right;\n",
       "    }\n",
       "</style>\n",
       "<table border=\"1\" class=\"dataframe\">\n",
       "  <thead>\n",
       "    <tr style=\"text-align: right;\">\n",
       "      <th></th>\n",
       "      <th>Invoice</th>\n",
       "      <th>StockCode</th>\n",
       "      <th>Description</th>\n",
       "      <th>Quantity</th>\n",
       "      <th>InvoiceDate</th>\n",
       "      <th>Price</th>\n",
       "      <th>Customer ID</th>\n",
       "      <th>Country</th>\n",
       "      <th>InvoiceDate_DT</th>\n",
       "      <th>Total</th>\n",
       "    </tr>\n",
       "  </thead>\n",
       "  <tbody>\n",
       "    <tr>\n",
       "      <th>0</th>\n",
       "      <td>489434</td>\n",
       "      <td>85048</td>\n",
       "      <td>15CM CHRISTMAS GLASS BALL 20 LIGHTS</td>\n",
       "      <td>12</td>\n",
       "      <td>2009-12-01 07:45:00</td>\n",
       "      <td>6.95</td>\n",
       "      <td>13085</td>\n",
       "      <td>United Kingdom</td>\n",
       "      <td>2009-12-01 07:45:00</td>\n",
       "      <td>83.4</td>\n",
       "    </tr>\n",
       "    <tr>\n",
       "      <th>1</th>\n",
       "      <td>489434</td>\n",
       "      <td>79323P</td>\n",
       "      <td>PINK CHERRY LIGHTS</td>\n",
       "      <td>12</td>\n",
       "      <td>2009-12-01 07:45:00</td>\n",
       "      <td>6.75</td>\n",
       "      <td>13085</td>\n",
       "      <td>United Kingdom</td>\n",
       "      <td>2009-12-01 07:45:00</td>\n",
       "      <td>81.0</td>\n",
       "    </tr>\n",
       "    <tr>\n",
       "      <th>2</th>\n",
       "      <td>489434</td>\n",
       "      <td>79323W</td>\n",
       "      <td>WHITE CHERRY LIGHTS</td>\n",
       "      <td>12</td>\n",
       "      <td>2009-12-01 07:45:00</td>\n",
       "      <td>6.75</td>\n",
       "      <td>13085</td>\n",
       "      <td>United Kingdom</td>\n",
       "      <td>2009-12-01 07:45:00</td>\n",
       "      <td>81.0</td>\n",
       "    </tr>\n",
       "    <tr>\n",
       "      <th>3</th>\n",
       "      <td>489434</td>\n",
       "      <td>22041</td>\n",
       "      <td>RECORD FRAME 7\" SINGLE SIZE</td>\n",
       "      <td>48</td>\n",
       "      <td>2009-12-01 07:45:00</td>\n",
       "      <td>2.10</td>\n",
       "      <td>13085</td>\n",
       "      <td>United Kingdom</td>\n",
       "      <td>2009-12-01 07:45:00</td>\n",
       "      <td>100.8</td>\n",
       "    </tr>\n",
       "    <tr>\n",
       "      <th>4</th>\n",
       "      <td>489434</td>\n",
       "      <td>21232</td>\n",
       "      <td>STRAWBERRY CERAMIC TRINKET BOX</td>\n",
       "      <td>24</td>\n",
       "      <td>2009-12-01 07:45:00</td>\n",
       "      <td>1.25</td>\n",
       "      <td>13085</td>\n",
       "      <td>United Kingdom</td>\n",
       "      <td>2009-12-01 07:45:00</td>\n",
       "      <td>30.0</td>\n",
       "    </tr>\n",
       "  </tbody>\n",
       "</table>\n",
       "</div>"
      ],
      "text/plain": [
       "  Invoice StockCode                          Description  Quantity  \\\n",
       "0  489434     85048  15CM CHRISTMAS GLASS BALL 20 LIGHTS        12   \n",
       "1  489434    79323P                   PINK CHERRY LIGHTS        12   \n",
       "2  489434    79323W                  WHITE CHERRY LIGHTS        12   \n",
       "3  489434     22041         RECORD FRAME 7\" SINGLE SIZE         48   \n",
       "4  489434     21232       STRAWBERRY CERAMIC TRINKET BOX        24   \n",
       "\n",
       "           InvoiceDate  Price  Customer ID         Country  \\\n",
       "0  2009-12-01 07:45:00   6.95        13085  United Kingdom   \n",
       "1  2009-12-01 07:45:00   6.75        13085  United Kingdom   \n",
       "2  2009-12-01 07:45:00   6.75        13085  United Kingdom   \n",
       "3  2009-12-01 07:45:00   2.10        13085  United Kingdom   \n",
       "4  2009-12-01 07:45:00   1.25        13085  United Kingdom   \n",
       "\n",
       "       InvoiceDate_DT  Total  \n",
       "0 2009-12-01 07:45:00   83.4  \n",
       "1 2009-12-01 07:45:00   81.0  \n",
       "2 2009-12-01 07:45:00   81.0  \n",
       "3 2009-12-01 07:45:00  100.8  \n",
       "4 2009-12-01 07:45:00   30.0  "
      ]
     },
     "execution_count": 109,
     "metadata": {},
     "output_type": "execute_result"
    }
   ],
   "source": [
    "retail_data.head()"
   ]
  },
  {
   "cell_type": "code",
   "execution_count": 110,
   "id": "f343160c",
   "metadata": {},
   "outputs": [],
   "source": [
    "retail_data=retail_data[retail_data['InvoiceDate_DT'].dt.year!=2009]\n",
    "\n",
    "retail_data['InvoiceQuater']=('Q' + retail_data['InvoiceDate_DT'].dt.quarter.astype(str) + '/' + retail_data['InvoiceDate_DT'].dt.year.astype(str))"
   ]
  },
  {
   "cell_type": "code",
   "execution_count": 111,
   "id": "1fb53268",
   "metadata": {},
   "outputs": [
    {
     "data": {
      "text/html": [
       "<div>\n",
       "<style scoped>\n",
       "    .dataframe tbody tr th:only-of-type {\n",
       "        vertical-align: middle;\n",
       "    }\n",
       "\n",
       "    .dataframe tbody tr th {\n",
       "        vertical-align: top;\n",
       "    }\n",
       "\n",
       "    .dataframe thead th {\n",
       "        text-align: right;\n",
       "    }\n",
       "</style>\n",
       "<table border=\"1\" class=\"dataframe\">\n",
       "  <thead>\n",
       "    <tr style=\"text-align: right;\">\n",
       "      <th></th>\n",
       "      <th>Invoice</th>\n",
       "      <th>StockCode</th>\n",
       "      <th>Description</th>\n",
       "      <th>Quantity</th>\n",
       "      <th>InvoiceDate</th>\n",
       "      <th>Price</th>\n",
       "      <th>Customer ID</th>\n",
       "      <th>Country</th>\n",
       "      <th>InvoiceDate_DT</th>\n",
       "      <th>Total</th>\n",
       "      <th>InvoiceQuater</th>\n",
       "    </tr>\n",
       "  </thead>\n",
       "  <tbody>\n",
       "    <tr>\n",
       "      <th>45228</th>\n",
       "      <td>493410</td>\n",
       "      <td>TEST001</td>\n",
       "      <td>This is a test product.</td>\n",
       "      <td>5</td>\n",
       "      <td>2010-01-04 09:24:00</td>\n",
       "      <td>4.50</td>\n",
       "      <td>12346</td>\n",
       "      <td>United Kingdom</td>\n",
       "      <td>2010-01-04 09:24:00</td>\n",
       "      <td>22.50</td>\n",
       "      <td>Q1/2010</td>\n",
       "    </tr>\n",
       "    <tr>\n",
       "      <th>45229</th>\n",
       "      <td>C493411</td>\n",
       "      <td>21539</td>\n",
       "      <td>RETRO SPOTS BUTTER DISH</td>\n",
       "      <td>-1</td>\n",
       "      <td>2010-01-04 09:43:00</td>\n",
       "      <td>4.25</td>\n",
       "      <td>14590</td>\n",
       "      <td>United Kingdom</td>\n",
       "      <td>2010-01-04 09:43:00</td>\n",
       "      <td>-4.25</td>\n",
       "      <td>Q1/2010</td>\n",
       "    </tr>\n",
       "    <tr>\n",
       "      <th>45230</th>\n",
       "      <td>493412</td>\n",
       "      <td>TEST001</td>\n",
       "      <td>This is a test product.</td>\n",
       "      <td>5</td>\n",
       "      <td>2010-01-04 09:53:00</td>\n",
       "      <td>4.50</td>\n",
       "      <td>12346</td>\n",
       "      <td>United Kingdom</td>\n",
       "      <td>2010-01-04 09:53:00</td>\n",
       "      <td>22.50</td>\n",
       "      <td>Q1/2010</td>\n",
       "    </tr>\n",
       "    <tr>\n",
       "      <th>45238</th>\n",
       "      <td>493414</td>\n",
       "      <td>21527</td>\n",
       "      <td>RETRO SPOT TRADITIONAL TEAPOT</td>\n",
       "      <td>12</td>\n",
       "      <td>2010-01-04 10:28:00</td>\n",
       "      <td>6.95</td>\n",
       "      <td>14590</td>\n",
       "      <td>United Kingdom</td>\n",
       "      <td>2010-01-04 10:28:00</td>\n",
       "      <td>83.40</td>\n",
       "      <td>Q1/2010</td>\n",
       "    </tr>\n",
       "    <tr>\n",
       "      <th>45237</th>\n",
       "      <td>493414</td>\n",
       "      <td>35001G</td>\n",
       "      <td>HAND OPEN SHAPE GOLD</td>\n",
       "      <td>2</td>\n",
       "      <td>2010-01-04 10:28:00</td>\n",
       "      <td>4.25</td>\n",
       "      <td>14590</td>\n",
       "      <td>United Kingdom</td>\n",
       "      <td>2010-01-04 10:28:00</td>\n",
       "      <td>8.50</td>\n",
       "      <td>Q1/2010</td>\n",
       "    </tr>\n",
       "  </tbody>\n",
       "</table>\n",
       "</div>"
      ],
      "text/plain": [
       "       Invoice StockCode                     Description  Quantity  \\\n",
       "45228   493410   TEST001         This is a test product.         5   \n",
       "45229  C493411     21539         RETRO SPOTS BUTTER DISH        -1   \n",
       "45230   493412   TEST001         This is a test product.         5   \n",
       "45238   493414     21527  RETRO SPOT TRADITIONAL TEAPOT         12   \n",
       "45237   493414    35001G            HAND OPEN SHAPE GOLD         2   \n",
       "\n",
       "               InvoiceDate  Price  Customer ID         Country  \\\n",
       "45228  2010-01-04 09:24:00   4.50        12346  United Kingdom   \n",
       "45229  2010-01-04 09:43:00   4.25        14590  United Kingdom   \n",
       "45230  2010-01-04 09:53:00   4.50        12346  United Kingdom   \n",
       "45238  2010-01-04 10:28:00   6.95        14590  United Kingdom   \n",
       "45237  2010-01-04 10:28:00   4.25        14590  United Kingdom   \n",
       "\n",
       "           InvoiceDate_DT  Total InvoiceQuater  \n",
       "45228 2010-01-04 09:24:00  22.50       Q1/2010  \n",
       "45229 2010-01-04 09:43:00  -4.25       Q1/2010  \n",
       "45230 2010-01-04 09:53:00  22.50       Q1/2010  \n",
       "45238 2010-01-04 10:28:00  83.40       Q1/2010  \n",
       "45237 2010-01-04 10:28:00   8.50       Q1/2010  "
      ]
     },
     "execution_count": 111,
     "metadata": {},
     "output_type": "execute_result"
    }
   ],
   "source": [
    "retail_data.head()"
   ]
  },
  {
   "cell_type": "code",
   "execution_count": 112,
   "id": "79b773da",
   "metadata": {},
   "outputs": [
    {
     "data": {
      "text/plain": [
       "array(['Q1/2010', 'Q2/2010', 'Q3/2010', 'Q4/2010', 'Q1/2011', 'Q2/2011',\n",
       "       'Q3/2011', 'Q4/2011'], dtype=object)"
      ]
     },
     "execution_count": 112,
     "metadata": {},
     "output_type": "execute_result"
    }
   ],
   "source": [
    "retail_data[\"InvoiceQuater\"].unique()"
   ]
  },
  {
   "cell_type": "code",
   "execution_count": 113,
   "id": "fde079c0",
   "metadata": {},
   "outputs": [],
   "source": [
    "quarters_map=dict(zip(retail_data[\"InvoiceQuater\"].unique(),range(len(retail_data['InvoiceQuater'].unique()))))"
   ]
  },
  {
   "cell_type": "code",
   "execution_count": 114,
   "id": "05eac426",
   "metadata": {},
   "outputs": [
    {
     "data": {
      "text/plain": [
       "{'Q1/2010': 0,\n",
       " 'Q2/2010': 1,\n",
       " 'Q3/2010': 2,\n",
       " 'Q4/2010': 3,\n",
       " 'Q1/2011': 4,\n",
       " 'Q2/2011': 5,\n",
       " 'Q3/2011': 6,\n",
       " 'Q4/2011': 7}"
      ]
     },
     "execution_count": 114,
     "metadata": {},
     "output_type": "execute_result"
    }
   ],
   "source": [
    "quarters_map"
   ]
  },
  {
   "cell_type": "code",
   "execution_count": 115,
   "id": "206fd61d",
   "metadata": {},
   "outputs": [
    {
     "data": {
      "text/html": [
       "<div>\n",
       "<style scoped>\n",
       "    .dataframe tbody tr th:only-of-type {\n",
       "        vertical-align: middle;\n",
       "    }\n",
       "\n",
       "    .dataframe tbody tr th {\n",
       "        vertical-align: top;\n",
       "    }\n",
       "\n",
       "    .dataframe thead th {\n",
       "        text-align: right;\n",
       "    }\n",
       "</style>\n",
       "<table border=\"1\" class=\"dataframe\">\n",
       "  <thead>\n",
       "    <tr style=\"text-align: right;\">\n",
       "      <th></th>\n",
       "      <th>Invoice</th>\n",
       "      <th>StockCode</th>\n",
       "      <th>Description</th>\n",
       "      <th>Quantity</th>\n",
       "      <th>InvoiceDate</th>\n",
       "      <th>Price</th>\n",
       "      <th>Customer ID</th>\n",
       "      <th>Country</th>\n",
       "      <th>InvoiceDate_DT</th>\n",
       "      <th>Total</th>\n",
       "      <th>InvoiceQuater</th>\n",
       "      <th>InvoiceQuarterID</th>\n",
       "    </tr>\n",
       "  </thead>\n",
       "  <tbody>\n",
       "    <tr>\n",
       "      <th>45228</th>\n",
       "      <td>493410</td>\n",
       "      <td>TEST001</td>\n",
       "      <td>This is a test product.</td>\n",
       "      <td>5</td>\n",
       "      <td>2010-01-04 09:24:00</td>\n",
       "      <td>4.50</td>\n",
       "      <td>12346</td>\n",
       "      <td>United Kingdom</td>\n",
       "      <td>2010-01-04 09:24:00</td>\n",
       "      <td>22.50</td>\n",
       "      <td>Q1/2010</td>\n",
       "      <td>0</td>\n",
       "    </tr>\n",
       "    <tr>\n",
       "      <th>45229</th>\n",
       "      <td>C493411</td>\n",
       "      <td>21539</td>\n",
       "      <td>RETRO SPOTS BUTTER DISH</td>\n",
       "      <td>-1</td>\n",
       "      <td>2010-01-04 09:43:00</td>\n",
       "      <td>4.25</td>\n",
       "      <td>14590</td>\n",
       "      <td>United Kingdom</td>\n",
       "      <td>2010-01-04 09:43:00</td>\n",
       "      <td>-4.25</td>\n",
       "      <td>Q1/2010</td>\n",
       "      <td>0</td>\n",
       "    </tr>\n",
       "    <tr>\n",
       "      <th>45230</th>\n",
       "      <td>493412</td>\n",
       "      <td>TEST001</td>\n",
       "      <td>This is a test product.</td>\n",
       "      <td>5</td>\n",
       "      <td>2010-01-04 09:53:00</td>\n",
       "      <td>4.50</td>\n",
       "      <td>12346</td>\n",
       "      <td>United Kingdom</td>\n",
       "      <td>2010-01-04 09:53:00</td>\n",
       "      <td>22.50</td>\n",
       "      <td>Q1/2010</td>\n",
       "      <td>0</td>\n",
       "    </tr>\n",
       "    <tr>\n",
       "      <th>45238</th>\n",
       "      <td>493414</td>\n",
       "      <td>21527</td>\n",
       "      <td>RETRO SPOT TRADITIONAL TEAPOT</td>\n",
       "      <td>12</td>\n",
       "      <td>2010-01-04 10:28:00</td>\n",
       "      <td>6.95</td>\n",
       "      <td>14590</td>\n",
       "      <td>United Kingdom</td>\n",
       "      <td>2010-01-04 10:28:00</td>\n",
       "      <td>83.40</td>\n",
       "      <td>Q1/2010</td>\n",
       "      <td>0</td>\n",
       "    </tr>\n",
       "    <tr>\n",
       "      <th>45237</th>\n",
       "      <td>493414</td>\n",
       "      <td>35001G</td>\n",
       "      <td>HAND OPEN SHAPE GOLD</td>\n",
       "      <td>2</td>\n",
       "      <td>2010-01-04 10:28:00</td>\n",
       "      <td>4.25</td>\n",
       "      <td>14590</td>\n",
       "      <td>United Kingdom</td>\n",
       "      <td>2010-01-04 10:28:00</td>\n",
       "      <td>8.50</td>\n",
       "      <td>Q1/2010</td>\n",
       "      <td>0</td>\n",
       "    </tr>\n",
       "  </tbody>\n",
       "</table>\n",
       "</div>"
      ],
      "text/plain": [
       "       Invoice StockCode                     Description  Quantity  \\\n",
       "45228   493410   TEST001         This is a test product.         5   \n",
       "45229  C493411     21539         RETRO SPOTS BUTTER DISH        -1   \n",
       "45230   493412   TEST001         This is a test product.         5   \n",
       "45238   493414     21527  RETRO SPOT TRADITIONAL TEAPOT         12   \n",
       "45237   493414    35001G            HAND OPEN SHAPE GOLD         2   \n",
       "\n",
       "               InvoiceDate  Price  Customer ID         Country  \\\n",
       "45228  2010-01-04 09:24:00   4.50        12346  United Kingdom   \n",
       "45229  2010-01-04 09:43:00   4.25        14590  United Kingdom   \n",
       "45230  2010-01-04 09:53:00   4.50        12346  United Kingdom   \n",
       "45238  2010-01-04 10:28:00   6.95        14590  United Kingdom   \n",
       "45237  2010-01-04 10:28:00   4.25        14590  United Kingdom   \n",
       "\n",
       "           InvoiceDate_DT  Total InvoiceQuater  InvoiceQuarterID  \n",
       "45228 2010-01-04 09:24:00  22.50       Q1/2010                 0  \n",
       "45229 2010-01-04 09:43:00  -4.25       Q1/2010                 0  \n",
       "45230 2010-01-04 09:53:00  22.50       Q1/2010                 0  \n",
       "45238 2010-01-04 10:28:00  83.40       Q1/2010                 0  \n",
       "45237 2010-01-04 10:28:00   8.50       Q1/2010                 0  "
      ]
     },
     "execution_count": 115,
     "metadata": {},
     "output_type": "execute_result"
    }
   ],
   "source": [
    "retail_data['InvoiceQuarterID']=retail_data['InvoiceQuater'].map(quarters_map)\n",
    "\n",
    "retail_data.head()"
   ]
  },
  {
   "cell_type": "code",
   "execution_count": 116,
   "id": "b96325a1",
   "metadata": {},
   "outputs": [
    {
     "data": {
      "text/html": [
       "<div>\n",
       "<style scoped>\n",
       "    .dataframe tbody tr th:only-of-type {\n",
       "        vertical-align: middle;\n",
       "    }\n",
       "\n",
       "    .dataframe tbody tr th {\n",
       "        vertical-align: top;\n",
       "    }\n",
       "\n",
       "    .dataframe thead th {\n",
       "        text-align: right;\n",
       "    }\n",
       "</style>\n",
       "<table border=\"1\" class=\"dataframe\">\n",
       "  <thead>\n",
       "    <tr style=\"text-align: right;\">\n",
       "      <th></th>\n",
       "      <th>Invoice</th>\n",
       "      <th>StockCode</th>\n",
       "      <th>Description</th>\n",
       "      <th>Quantity</th>\n",
       "      <th>InvoiceDate</th>\n",
       "      <th>Price</th>\n",
       "      <th>Customer ID</th>\n",
       "      <th>Country</th>\n",
       "      <th>InvoiceDate_DT</th>\n",
       "      <th>Total</th>\n",
       "      <th>InvoiceQuater</th>\n",
       "      <th>InvoiceQuarterID</th>\n",
       "      <th>CohortQuarterID</th>\n",
       "    </tr>\n",
       "  </thead>\n",
       "  <tbody>\n",
       "    <tr>\n",
       "      <th>45228</th>\n",
       "      <td>493410</td>\n",
       "      <td>TEST001</td>\n",
       "      <td>This is a test product.</td>\n",
       "      <td>5</td>\n",
       "      <td>2010-01-04 09:24:00</td>\n",
       "      <td>4.50</td>\n",
       "      <td>12346</td>\n",
       "      <td>United Kingdom</td>\n",
       "      <td>2010-01-04 09:24:00</td>\n",
       "      <td>22.50</td>\n",
       "      <td>Q1/2010</td>\n",
       "      <td>0</td>\n",
       "      <td>0</td>\n",
       "    </tr>\n",
       "    <tr>\n",
       "      <th>45229</th>\n",
       "      <td>C493411</td>\n",
       "      <td>21539</td>\n",
       "      <td>RETRO SPOTS BUTTER DISH</td>\n",
       "      <td>-1</td>\n",
       "      <td>2010-01-04 09:43:00</td>\n",
       "      <td>4.25</td>\n",
       "      <td>14590</td>\n",
       "      <td>United Kingdom</td>\n",
       "      <td>2010-01-04 09:43:00</td>\n",
       "      <td>-4.25</td>\n",
       "      <td>Q1/2010</td>\n",
       "      <td>0</td>\n",
       "      <td>0</td>\n",
       "    </tr>\n",
       "    <tr>\n",
       "      <th>45230</th>\n",
       "      <td>493412</td>\n",
       "      <td>TEST001</td>\n",
       "      <td>This is a test product.</td>\n",
       "      <td>5</td>\n",
       "      <td>2010-01-04 09:53:00</td>\n",
       "      <td>4.50</td>\n",
       "      <td>12346</td>\n",
       "      <td>United Kingdom</td>\n",
       "      <td>2010-01-04 09:53:00</td>\n",
       "      <td>22.50</td>\n",
       "      <td>Q1/2010</td>\n",
       "      <td>0</td>\n",
       "      <td>0</td>\n",
       "    </tr>\n",
       "    <tr>\n",
       "      <th>45238</th>\n",
       "      <td>493414</td>\n",
       "      <td>21527</td>\n",
       "      <td>RETRO SPOT TRADITIONAL TEAPOT</td>\n",
       "      <td>12</td>\n",
       "      <td>2010-01-04 10:28:00</td>\n",
       "      <td>6.95</td>\n",
       "      <td>14590</td>\n",
       "      <td>United Kingdom</td>\n",
       "      <td>2010-01-04 10:28:00</td>\n",
       "      <td>83.40</td>\n",
       "      <td>Q1/2010</td>\n",
       "      <td>0</td>\n",
       "      <td>0</td>\n",
       "    </tr>\n",
       "    <tr>\n",
       "      <th>45237</th>\n",
       "      <td>493414</td>\n",
       "      <td>35001G</td>\n",
       "      <td>HAND OPEN SHAPE GOLD</td>\n",
       "      <td>2</td>\n",
       "      <td>2010-01-04 10:28:00</td>\n",
       "      <td>4.25</td>\n",
       "      <td>14590</td>\n",
       "      <td>United Kingdom</td>\n",
       "      <td>2010-01-04 10:28:00</td>\n",
       "      <td>8.50</td>\n",
       "      <td>Q1/2010</td>\n",
       "      <td>0</td>\n",
       "      <td>0</td>\n",
       "    </tr>\n",
       "  </tbody>\n",
       "</table>\n",
       "</div>"
      ],
      "text/plain": [
       "       Invoice StockCode                     Description  Quantity  \\\n",
       "45228   493410   TEST001         This is a test product.         5   \n",
       "45229  C493411     21539         RETRO SPOTS BUTTER DISH        -1   \n",
       "45230   493412   TEST001         This is a test product.         5   \n",
       "45238   493414     21527  RETRO SPOT TRADITIONAL TEAPOT         12   \n",
       "45237   493414    35001G            HAND OPEN SHAPE GOLD         2   \n",
       "\n",
       "               InvoiceDate  Price  Customer ID         Country  \\\n",
       "45228  2010-01-04 09:24:00   4.50        12346  United Kingdom   \n",
       "45229  2010-01-04 09:43:00   4.25        14590  United Kingdom   \n",
       "45230  2010-01-04 09:53:00   4.50        12346  United Kingdom   \n",
       "45238  2010-01-04 10:28:00   6.95        14590  United Kingdom   \n",
       "45237  2010-01-04 10:28:00   4.25        14590  United Kingdom   \n",
       "\n",
       "           InvoiceDate_DT  Total InvoiceQuater  InvoiceQuarterID  \\\n",
       "45228 2010-01-04 09:24:00  22.50       Q1/2010                 0   \n",
       "45229 2010-01-04 09:43:00  -4.25       Q1/2010                 0   \n",
       "45230 2010-01-04 09:53:00  22.50       Q1/2010                 0   \n",
       "45238 2010-01-04 10:28:00  83.40       Q1/2010                 0   \n",
       "45237 2010-01-04 10:28:00   8.50       Q1/2010                 0   \n",
       "\n",
       "       CohortQuarterID  \n",
       "45228                0  \n",
       "45229                0  \n",
       "45230                0  \n",
       "45238                0  \n",
       "45237                0  "
      ]
     },
     "execution_count": 116,
     "metadata": {},
     "output_type": "execute_result"
    }
   ],
   "source": [
    "retail_data[\"CohortQuarterID\"]=retail_data.groupby('Customer ID')[\"InvoiceQuarterID\"].transform('min')\n",
    "\n",
    "retail_data.head()"
   ]
  },
  {
   "cell_type": "code",
   "execution_count": 117,
   "id": "91778433",
   "metadata": {},
   "outputs": [
    {
     "data": {
      "text/html": [
       "<div>\n",
       "<style scoped>\n",
       "    .dataframe tbody tr th:only-of-type {\n",
       "        vertical-align: middle;\n",
       "    }\n",
       "\n",
       "    .dataframe tbody tr th {\n",
       "        vertical-align: top;\n",
       "    }\n",
       "\n",
       "    .dataframe thead th {\n",
       "        text-align: right;\n",
       "    }\n",
       "</style>\n",
       "<table border=\"1\" class=\"dataframe\">\n",
       "  <thead>\n",
       "    <tr style=\"text-align: right;\">\n",
       "      <th></th>\n",
       "      <th>Invoice</th>\n",
       "      <th>StockCode</th>\n",
       "      <th>Description</th>\n",
       "      <th>Quantity</th>\n",
       "      <th>InvoiceDate</th>\n",
       "      <th>Price</th>\n",
       "      <th>Customer ID</th>\n",
       "      <th>Country</th>\n",
       "      <th>InvoiceDate_DT</th>\n",
       "      <th>Total</th>\n",
       "      <th>InvoiceQuater</th>\n",
       "      <th>InvoiceQuarterID</th>\n",
       "      <th>CohortQuarterID</th>\n",
       "    </tr>\n",
       "  </thead>\n",
       "  <tbody>\n",
       "    <tr>\n",
       "      <th>1067338</th>\n",
       "      <td>581585</td>\n",
       "      <td>22113</td>\n",
       "      <td>GREY HEART HOT WATER BOTTLE</td>\n",
       "      <td>4</td>\n",
       "      <td>2011-12-09 12:31:00</td>\n",
       "      <td>4.25</td>\n",
       "      <td>15804</td>\n",
       "      <td>United Kingdom</td>\n",
       "      <td>2011-12-09 12:31:00</td>\n",
       "      <td>17.00</td>\n",
       "      <td>Q4/2011</td>\n",
       "      <td>7</td>\n",
       "      <td>5</td>\n",
       "    </tr>\n",
       "    <tr>\n",
       "      <th>1067337</th>\n",
       "      <td>581585</td>\n",
       "      <td>84945</td>\n",
       "      <td>MULTI COLOUR SILVER T-LIGHT HOLDER</td>\n",
       "      <td>24</td>\n",
       "      <td>2011-12-09 12:31:00</td>\n",
       "      <td>0.85</td>\n",
       "      <td>15804</td>\n",
       "      <td>United Kingdom</td>\n",
       "      <td>2011-12-09 12:31:00</td>\n",
       "      <td>20.40</td>\n",
       "      <td>Q4/2011</td>\n",
       "      <td>7</td>\n",
       "      <td>5</td>\n",
       "    </tr>\n",
       "    <tr>\n",
       "      <th>1067336</th>\n",
       "      <td>581585</td>\n",
       "      <td>84879</td>\n",
       "      <td>ASSORTED COLOUR BIRD ORNAMENT</td>\n",
       "      <td>16</td>\n",
       "      <td>2011-12-09 12:31:00</td>\n",
       "      <td>1.69</td>\n",
       "      <td>15804</td>\n",
       "      <td>United Kingdom</td>\n",
       "      <td>2011-12-09 12:31:00</td>\n",
       "      <td>27.04</td>\n",
       "      <td>Q4/2011</td>\n",
       "      <td>7</td>\n",
       "      <td>5</td>\n",
       "    </tr>\n",
       "    <tr>\n",
       "      <th>1067335</th>\n",
       "      <td>581585</td>\n",
       "      <td>23084</td>\n",
       "      <td>RABBIT NIGHT LIGHT</td>\n",
       "      <td>12</td>\n",
       "      <td>2011-12-09 12:31:00</td>\n",
       "      <td>2.08</td>\n",
       "      <td>15804</td>\n",
       "      <td>United Kingdom</td>\n",
       "      <td>2011-12-09 12:31:00</td>\n",
       "      <td>24.96</td>\n",
       "      <td>Q4/2011</td>\n",
       "      <td>7</td>\n",
       "      <td>5</td>\n",
       "    </tr>\n",
       "    <tr>\n",
       "      <th>1067334</th>\n",
       "      <td>581585</td>\n",
       "      <td>84832</td>\n",
       "      <td>ZINC WILLIE WINKIE  CANDLE STICK</td>\n",
       "      <td>24</td>\n",
       "      <td>2011-12-09 12:31:00</td>\n",
       "      <td>0.85</td>\n",
       "      <td>15804</td>\n",
       "      <td>United Kingdom</td>\n",
       "      <td>2011-12-09 12:31:00</td>\n",
       "      <td>20.40</td>\n",
       "      <td>Q4/2011</td>\n",
       "      <td>7</td>\n",
       "      <td>5</td>\n",
       "    </tr>\n",
       "    <tr>\n",
       "      <th>1067333</th>\n",
       "      <td>581585</td>\n",
       "      <td>22460</td>\n",
       "      <td>EMBOSSED GLASS TEALIGHT HOLDER</td>\n",
       "      <td>12</td>\n",
       "      <td>2011-12-09 12:31:00</td>\n",
       "      <td>1.25</td>\n",
       "      <td>15804</td>\n",
       "      <td>United Kingdom</td>\n",
       "      <td>2011-12-09 12:31:00</td>\n",
       "      <td>15.00</td>\n",
       "      <td>Q4/2011</td>\n",
       "      <td>7</td>\n",
       "      <td>5</td>\n",
       "    </tr>\n",
       "    <tr>\n",
       "      <th>1067332</th>\n",
       "      <td>581585</td>\n",
       "      <td>22178</td>\n",
       "      <td>VICTORIAN GLASS HANGING T-LIGHT</td>\n",
       "      <td>12</td>\n",
       "      <td>2011-12-09 12:31:00</td>\n",
       "      <td>1.95</td>\n",
       "      <td>15804</td>\n",
       "      <td>United Kingdom</td>\n",
       "      <td>2011-12-09 12:31:00</td>\n",
       "      <td>23.40</td>\n",
       "      <td>Q4/2011</td>\n",
       "      <td>7</td>\n",
       "      <td>5</td>\n",
       "    </tr>\n",
       "    <tr>\n",
       "      <th>1067331</th>\n",
       "      <td>581585</td>\n",
       "      <td>22915</td>\n",
       "      <td>ASSORTED BOTTLE TOP  MAGNETS</td>\n",
       "      <td>24</td>\n",
       "      <td>2011-12-09 12:31:00</td>\n",
       "      <td>0.19</td>\n",
       "      <td>15804</td>\n",
       "      <td>United Kingdom</td>\n",
       "      <td>2011-12-09 12:31:00</td>\n",
       "      <td>4.56</td>\n",
       "      <td>Q4/2011</td>\n",
       "      <td>7</td>\n",
       "      <td>5</td>\n",
       "    </tr>\n",
       "    <tr>\n",
       "      <th>1067339</th>\n",
       "      <td>581585</td>\n",
       "      <td>23356</td>\n",
       "      <td>LOVE HOT WATER BOTTLE</td>\n",
       "      <td>3</td>\n",
       "      <td>2011-12-09 12:31:00</td>\n",
       "      <td>5.95</td>\n",
       "      <td>15804</td>\n",
       "      <td>United Kingdom</td>\n",
       "      <td>2011-12-09 12:31:00</td>\n",
       "      <td>17.85</td>\n",
       "      <td>Q4/2011</td>\n",
       "      <td>7</td>\n",
       "      <td>5</td>\n",
       "    </tr>\n",
       "    <tr>\n",
       "      <th>1067330</th>\n",
       "      <td>581585</td>\n",
       "      <td>22481</td>\n",
       "      <td>BLACK TEA TOWEL CLASSIC DESIGN</td>\n",
       "      <td>12</td>\n",
       "      <td>2011-12-09 12:31:00</td>\n",
       "      <td>0.39</td>\n",
       "      <td>15804</td>\n",
       "      <td>United Kingdom</td>\n",
       "      <td>2011-12-09 12:31:00</td>\n",
       "      <td>4.68</td>\n",
       "      <td>Q4/2011</td>\n",
       "      <td>7</td>\n",
       "      <td>5</td>\n",
       "    </tr>\n",
       "    <tr>\n",
       "      <th>1067354</th>\n",
       "      <td>581586</td>\n",
       "      <td>20685</td>\n",
       "      <td>DOORMAT RED RETROSPOT</td>\n",
       "      <td>10</td>\n",
       "      <td>2011-12-09 12:49:00</td>\n",
       "      <td>7.08</td>\n",
       "      <td>13113</td>\n",
       "      <td>United Kingdom</td>\n",
       "      <td>2011-12-09 12:49:00</td>\n",
       "      <td>70.80</td>\n",
       "      <td>Q4/2011</td>\n",
       "      <td>7</td>\n",
       "      <td>0</td>\n",
       "    </tr>\n",
       "    <tr>\n",
       "      <th>1067353</th>\n",
       "      <td>581586</td>\n",
       "      <td>21217</td>\n",
       "      <td>RED RETROSPOT ROUND CAKE TINS</td>\n",
       "      <td>24</td>\n",
       "      <td>2011-12-09 12:49:00</td>\n",
       "      <td>8.95</td>\n",
       "      <td>13113</td>\n",
       "      <td>United Kingdom</td>\n",
       "      <td>2011-12-09 12:49:00</td>\n",
       "      <td>214.80</td>\n",
       "      <td>Q4/2011</td>\n",
       "      <td>7</td>\n",
       "      <td>0</td>\n",
       "    </tr>\n",
       "    <tr>\n",
       "      <th>1067351</th>\n",
       "      <td>581586</td>\n",
       "      <td>22061</td>\n",
       "      <td>LARGE CAKE STAND  HANGING STRAWBERY</td>\n",
       "      <td>8</td>\n",
       "      <td>2011-12-09 12:49:00</td>\n",
       "      <td>2.95</td>\n",
       "      <td>13113</td>\n",
       "      <td>United Kingdom</td>\n",
       "      <td>2011-12-09 12:49:00</td>\n",
       "      <td>23.60</td>\n",
       "      <td>Q4/2011</td>\n",
       "      <td>7</td>\n",
       "      <td>0</td>\n",
       "    </tr>\n",
       "    <tr>\n",
       "      <th>1067352</th>\n",
       "      <td>581586</td>\n",
       "      <td>23275</td>\n",
       "      <td>SET OF 3 HANGING OWLS OLLIE BEAK</td>\n",
       "      <td>24</td>\n",
       "      <td>2011-12-09 12:49:00</td>\n",
       "      <td>1.25</td>\n",
       "      <td>13113</td>\n",
       "      <td>United Kingdom</td>\n",
       "      <td>2011-12-09 12:49:00</td>\n",
       "      <td>30.00</td>\n",
       "      <td>Q4/2011</td>\n",
       "      <td>7</td>\n",
       "      <td>0</td>\n",
       "    </tr>\n",
       "    <tr>\n",
       "      <th>1067363</th>\n",
       "      <td>581587</td>\n",
       "      <td>22629</td>\n",
       "      <td>SPACEBOY LUNCH BOX</td>\n",
       "      <td>12</td>\n",
       "      <td>2011-12-09 12:50:00</td>\n",
       "      <td>1.95</td>\n",
       "      <td>12680</td>\n",
       "      <td>France</td>\n",
       "      <td>2011-12-09 12:50:00</td>\n",
       "      <td>23.40</td>\n",
       "      <td>Q4/2011</td>\n",
       "      <td>7</td>\n",
       "      <td>6</td>\n",
       "    </tr>\n",
       "    <tr>\n",
       "      <th>1067368</th>\n",
       "      <td>581587</td>\n",
       "      <td>23255</td>\n",
       "      <td>CHILDRENS CUTLERY CIRCUS PARADE</td>\n",
       "      <td>4</td>\n",
       "      <td>2011-12-09 12:50:00</td>\n",
       "      <td>4.15</td>\n",
       "      <td>12680</td>\n",
       "      <td>France</td>\n",
       "      <td>2011-12-09 12:50:00</td>\n",
       "      <td>16.60</td>\n",
       "      <td>Q4/2011</td>\n",
       "      <td>7</td>\n",
       "      <td>6</td>\n",
       "    </tr>\n",
       "    <tr>\n",
       "      <th>1067367</th>\n",
       "      <td>581587</td>\n",
       "      <td>23254</td>\n",
       "      <td>CHILDRENS CUTLERY DOLLY GIRL</td>\n",
       "      <td>4</td>\n",
       "      <td>2011-12-09 12:50:00</td>\n",
       "      <td>4.15</td>\n",
       "      <td>12680</td>\n",
       "      <td>France</td>\n",
       "      <td>2011-12-09 12:50:00</td>\n",
       "      <td>16.60</td>\n",
       "      <td>Q4/2011</td>\n",
       "      <td>7</td>\n",
       "      <td>6</td>\n",
       "    </tr>\n",
       "    <tr>\n",
       "      <th>1067366</th>\n",
       "      <td>581587</td>\n",
       "      <td>22899</td>\n",
       "      <td>CHILDREN'S APRON DOLLY GIRL</td>\n",
       "      <td>6</td>\n",
       "      <td>2011-12-09 12:50:00</td>\n",
       "      <td>2.10</td>\n",
       "      <td>12680</td>\n",
       "      <td>France</td>\n",
       "      <td>2011-12-09 12:50:00</td>\n",
       "      <td>12.60</td>\n",
       "      <td>Q4/2011</td>\n",
       "      <td>7</td>\n",
       "      <td>6</td>\n",
       "    </tr>\n",
       "    <tr>\n",
       "      <th>1067365</th>\n",
       "      <td>581587</td>\n",
       "      <td>22613</td>\n",
       "      <td>PACK OF 20 SPACEBOY NAPKINS</td>\n",
       "      <td>12</td>\n",
       "      <td>2011-12-09 12:50:00</td>\n",
       "      <td>0.85</td>\n",
       "      <td>12680</td>\n",
       "      <td>France</td>\n",
       "      <td>2011-12-09 12:50:00</td>\n",
       "      <td>10.20</td>\n",
       "      <td>Q4/2011</td>\n",
       "      <td>7</td>\n",
       "      <td>6</td>\n",
       "    </tr>\n",
       "    <tr>\n",
       "      <th>1067364</th>\n",
       "      <td>581587</td>\n",
       "      <td>23256</td>\n",
       "      <td>CHILDRENS CUTLERY SPACEBOY</td>\n",
       "      <td>4</td>\n",
       "      <td>2011-12-09 12:50:00</td>\n",
       "      <td>4.15</td>\n",
       "      <td>12680</td>\n",
       "      <td>France</td>\n",
       "      <td>2011-12-09 12:50:00</td>\n",
       "      <td>16.60</td>\n",
       "      <td>Q4/2011</td>\n",
       "      <td>7</td>\n",
       "      <td>6</td>\n",
       "    </tr>\n",
       "    <tr>\n",
       "      <th>1067362</th>\n",
       "      <td>581587</td>\n",
       "      <td>22367</td>\n",
       "      <td>CHILDRENS APRON SPACEBOY DESIGN</td>\n",
       "      <td>8</td>\n",
       "      <td>2011-12-09 12:50:00</td>\n",
       "      <td>1.95</td>\n",
       "      <td>12680</td>\n",
       "      <td>France</td>\n",
       "      <td>2011-12-09 12:50:00</td>\n",
       "      <td>15.60</td>\n",
       "      <td>Q4/2011</td>\n",
       "      <td>7</td>\n",
       "      <td>6</td>\n",
       "    </tr>\n",
       "    <tr>\n",
       "      <th>1067355</th>\n",
       "      <td>581587</td>\n",
       "      <td>22631</td>\n",
       "      <td>CIRCUS PARADE LUNCH BOX</td>\n",
       "      <td>12</td>\n",
       "      <td>2011-12-09 12:50:00</td>\n",
       "      <td>1.95</td>\n",
       "      <td>12680</td>\n",
       "      <td>France</td>\n",
       "      <td>2011-12-09 12:50:00</td>\n",
       "      <td>23.40</td>\n",
       "      <td>Q4/2011</td>\n",
       "      <td>7</td>\n",
       "      <td>6</td>\n",
       "    </tr>\n",
       "    <tr>\n",
       "      <th>1067360</th>\n",
       "      <td>581587</td>\n",
       "      <td>22726</td>\n",
       "      <td>ALARM CLOCK BAKELIKE GREEN</td>\n",
       "      <td>4</td>\n",
       "      <td>2011-12-09 12:50:00</td>\n",
       "      <td>3.75</td>\n",
       "      <td>12680</td>\n",
       "      <td>France</td>\n",
       "      <td>2011-12-09 12:50:00</td>\n",
       "      <td>15.00</td>\n",
       "      <td>Q4/2011</td>\n",
       "      <td>7</td>\n",
       "      <td>6</td>\n",
       "    </tr>\n",
       "    <tr>\n",
       "      <th>1067359</th>\n",
       "      <td>581587</td>\n",
       "      <td>22727</td>\n",
       "      <td>ALARM CLOCK BAKELIKE RED</td>\n",
       "      <td>4</td>\n",
       "      <td>2011-12-09 12:50:00</td>\n",
       "      <td>3.75</td>\n",
       "      <td>12680</td>\n",
       "      <td>France</td>\n",
       "      <td>2011-12-09 12:50:00</td>\n",
       "      <td>15.00</td>\n",
       "      <td>Q4/2011</td>\n",
       "      <td>7</td>\n",
       "      <td>6</td>\n",
       "    </tr>\n",
       "    <tr>\n",
       "      <th>1067358</th>\n",
       "      <td>581587</td>\n",
       "      <td>22728</td>\n",
       "      <td>ALARM CLOCK BAKELIKE PINK</td>\n",
       "      <td>4</td>\n",
       "      <td>2011-12-09 12:50:00</td>\n",
       "      <td>3.75</td>\n",
       "      <td>12680</td>\n",
       "      <td>France</td>\n",
       "      <td>2011-12-09 12:50:00</td>\n",
       "      <td>15.00</td>\n",
       "      <td>Q4/2011</td>\n",
       "      <td>7</td>\n",
       "      <td>6</td>\n",
       "    </tr>\n",
       "    <tr>\n",
       "      <th>1067357</th>\n",
       "      <td>581587</td>\n",
       "      <td>22555</td>\n",
       "      <td>PLASTERS IN TIN STRONGMAN</td>\n",
       "      <td>12</td>\n",
       "      <td>2011-12-09 12:50:00</td>\n",
       "      <td>1.65</td>\n",
       "      <td>12680</td>\n",
       "      <td>France</td>\n",
       "      <td>2011-12-09 12:50:00</td>\n",
       "      <td>19.80</td>\n",
       "      <td>Q4/2011</td>\n",
       "      <td>7</td>\n",
       "      <td>6</td>\n",
       "    </tr>\n",
       "    <tr>\n",
       "      <th>1067356</th>\n",
       "      <td>581587</td>\n",
       "      <td>22556</td>\n",
       "      <td>PLASTERS IN TIN CIRCUS PARADE</td>\n",
       "      <td>12</td>\n",
       "      <td>2011-12-09 12:50:00</td>\n",
       "      <td>1.65</td>\n",
       "      <td>12680</td>\n",
       "      <td>France</td>\n",
       "      <td>2011-12-09 12:50:00</td>\n",
       "      <td>19.80</td>\n",
       "      <td>Q4/2011</td>\n",
       "      <td>7</td>\n",
       "      <td>6</td>\n",
       "    </tr>\n",
       "    <tr>\n",
       "      <th>1067369</th>\n",
       "      <td>581587</td>\n",
       "      <td>22138</td>\n",
       "      <td>BAKING SET 9 PIECE RETROSPOT</td>\n",
       "      <td>3</td>\n",
       "      <td>2011-12-09 12:50:00</td>\n",
       "      <td>4.95</td>\n",
       "      <td>12680</td>\n",
       "      <td>France</td>\n",
       "      <td>2011-12-09 12:50:00</td>\n",
       "      <td>14.85</td>\n",
       "      <td>Q4/2011</td>\n",
       "      <td>7</td>\n",
       "      <td>6</td>\n",
       "    </tr>\n",
       "    <tr>\n",
       "      <th>1067361</th>\n",
       "      <td>581587</td>\n",
       "      <td>22730</td>\n",
       "      <td>ALARM CLOCK BAKELIKE IVORY</td>\n",
       "      <td>4</td>\n",
       "      <td>2011-12-09 12:50:00</td>\n",
       "      <td>3.75</td>\n",
       "      <td>12680</td>\n",
       "      <td>France</td>\n",
       "      <td>2011-12-09 12:50:00</td>\n",
       "      <td>15.00</td>\n",
       "      <td>Q4/2011</td>\n",
       "      <td>7</td>\n",
       "      <td>6</td>\n",
       "    </tr>\n",
       "    <tr>\n",
       "      <th>1067370</th>\n",
       "      <td>581587</td>\n",
       "      <td>POST</td>\n",
       "      <td>POSTAGE</td>\n",
       "      <td>1</td>\n",
       "      <td>2011-12-09 12:50:00</td>\n",
       "      <td>18.00</td>\n",
       "      <td>12680</td>\n",
       "      <td>France</td>\n",
       "      <td>2011-12-09 12:50:00</td>\n",
       "      <td>18.00</td>\n",
       "      <td>Q4/2011</td>\n",
       "      <td>7</td>\n",
       "      <td>6</td>\n",
       "    </tr>\n",
       "  </tbody>\n",
       "</table>\n",
       "</div>"
      ],
      "text/plain": [
       "        Invoice StockCode                          Description  Quantity  \\\n",
       "1067338  581585     22113          GREY HEART HOT WATER BOTTLE         4   \n",
       "1067337  581585     84945   MULTI COLOUR SILVER T-LIGHT HOLDER        24   \n",
       "1067336  581585     84879        ASSORTED COLOUR BIRD ORNAMENT        16   \n",
       "1067335  581585     23084                   RABBIT NIGHT LIGHT        12   \n",
       "1067334  581585     84832     ZINC WILLIE WINKIE  CANDLE STICK        24   \n",
       "1067333  581585     22460       EMBOSSED GLASS TEALIGHT HOLDER        12   \n",
       "1067332  581585     22178      VICTORIAN GLASS HANGING T-LIGHT        12   \n",
       "1067331  581585     22915        ASSORTED BOTTLE TOP  MAGNETS         24   \n",
       "1067339  581585     23356                LOVE HOT WATER BOTTLE         3   \n",
       "1067330  581585     22481       BLACK TEA TOWEL CLASSIC DESIGN        12   \n",
       "1067354  581586     20685                DOORMAT RED RETROSPOT        10   \n",
       "1067353  581586     21217        RED RETROSPOT ROUND CAKE TINS        24   \n",
       "1067351  581586     22061  LARGE CAKE STAND  HANGING STRAWBERY         8   \n",
       "1067352  581586     23275     SET OF 3 HANGING OWLS OLLIE BEAK        24   \n",
       "1067363  581587     22629                  SPACEBOY LUNCH BOX         12   \n",
       "1067368  581587     23255      CHILDRENS CUTLERY CIRCUS PARADE         4   \n",
       "1067367  581587     23254        CHILDRENS CUTLERY DOLLY GIRL          4   \n",
       "1067366  581587     22899         CHILDREN'S APRON DOLLY GIRL          6   \n",
       "1067365  581587     22613          PACK OF 20 SPACEBOY NAPKINS        12   \n",
       "1067364  581587     23256          CHILDRENS CUTLERY SPACEBOY          4   \n",
       "1067362  581587     22367      CHILDRENS APRON SPACEBOY DESIGN         8   \n",
       "1067355  581587     22631             CIRCUS PARADE LUNCH BOX         12   \n",
       "1067360  581587     22726           ALARM CLOCK BAKELIKE GREEN         4   \n",
       "1067359  581587     22727            ALARM CLOCK BAKELIKE RED          4   \n",
       "1067358  581587     22728            ALARM CLOCK BAKELIKE PINK         4   \n",
       "1067357  581587     22555            PLASTERS IN TIN STRONGMAN        12   \n",
       "1067356  581587     22556       PLASTERS IN TIN CIRCUS PARADE         12   \n",
       "1067369  581587     22138        BAKING SET 9 PIECE RETROSPOT          3   \n",
       "1067361  581587     22730           ALARM CLOCK BAKELIKE IVORY         4   \n",
       "1067370  581587      POST                              POSTAGE         1   \n",
       "\n",
       "                 InvoiceDate  Price  Customer ID         Country  \\\n",
       "1067338  2011-12-09 12:31:00   4.25        15804  United Kingdom   \n",
       "1067337  2011-12-09 12:31:00   0.85        15804  United Kingdom   \n",
       "1067336  2011-12-09 12:31:00   1.69        15804  United Kingdom   \n",
       "1067335  2011-12-09 12:31:00   2.08        15804  United Kingdom   \n",
       "1067334  2011-12-09 12:31:00   0.85        15804  United Kingdom   \n",
       "1067333  2011-12-09 12:31:00   1.25        15804  United Kingdom   \n",
       "1067332  2011-12-09 12:31:00   1.95        15804  United Kingdom   \n",
       "1067331  2011-12-09 12:31:00   0.19        15804  United Kingdom   \n",
       "1067339  2011-12-09 12:31:00   5.95        15804  United Kingdom   \n",
       "1067330  2011-12-09 12:31:00   0.39        15804  United Kingdom   \n",
       "1067354  2011-12-09 12:49:00   7.08        13113  United Kingdom   \n",
       "1067353  2011-12-09 12:49:00   8.95        13113  United Kingdom   \n",
       "1067351  2011-12-09 12:49:00   2.95        13113  United Kingdom   \n",
       "1067352  2011-12-09 12:49:00   1.25        13113  United Kingdom   \n",
       "1067363  2011-12-09 12:50:00   1.95        12680          France   \n",
       "1067368  2011-12-09 12:50:00   4.15        12680          France   \n",
       "1067367  2011-12-09 12:50:00   4.15        12680          France   \n",
       "1067366  2011-12-09 12:50:00   2.10        12680          France   \n",
       "1067365  2011-12-09 12:50:00   0.85        12680          France   \n",
       "1067364  2011-12-09 12:50:00   4.15        12680          France   \n",
       "1067362  2011-12-09 12:50:00   1.95        12680          France   \n",
       "1067355  2011-12-09 12:50:00   1.95        12680          France   \n",
       "1067360  2011-12-09 12:50:00   3.75        12680          France   \n",
       "1067359  2011-12-09 12:50:00   3.75        12680          France   \n",
       "1067358  2011-12-09 12:50:00   3.75        12680          France   \n",
       "1067357  2011-12-09 12:50:00   1.65        12680          France   \n",
       "1067356  2011-12-09 12:50:00   1.65        12680          France   \n",
       "1067369  2011-12-09 12:50:00   4.95        12680          France   \n",
       "1067361  2011-12-09 12:50:00   3.75        12680          France   \n",
       "1067370  2011-12-09 12:50:00  18.00        12680          France   \n",
       "\n",
       "             InvoiceDate_DT   Total InvoiceQuater  InvoiceQuarterID  \\\n",
       "1067338 2011-12-09 12:31:00   17.00       Q4/2011                 7   \n",
       "1067337 2011-12-09 12:31:00   20.40       Q4/2011                 7   \n",
       "1067336 2011-12-09 12:31:00   27.04       Q4/2011                 7   \n",
       "1067335 2011-12-09 12:31:00   24.96       Q4/2011                 7   \n",
       "1067334 2011-12-09 12:31:00   20.40       Q4/2011                 7   \n",
       "1067333 2011-12-09 12:31:00   15.00       Q4/2011                 7   \n",
       "1067332 2011-12-09 12:31:00   23.40       Q4/2011                 7   \n",
       "1067331 2011-12-09 12:31:00    4.56       Q4/2011                 7   \n",
       "1067339 2011-12-09 12:31:00   17.85       Q4/2011                 7   \n",
       "1067330 2011-12-09 12:31:00    4.68       Q4/2011                 7   \n",
       "1067354 2011-12-09 12:49:00   70.80       Q4/2011                 7   \n",
       "1067353 2011-12-09 12:49:00  214.80       Q4/2011                 7   \n",
       "1067351 2011-12-09 12:49:00   23.60       Q4/2011                 7   \n",
       "1067352 2011-12-09 12:49:00   30.00       Q4/2011                 7   \n",
       "1067363 2011-12-09 12:50:00   23.40       Q4/2011                 7   \n",
       "1067368 2011-12-09 12:50:00   16.60       Q4/2011                 7   \n",
       "1067367 2011-12-09 12:50:00   16.60       Q4/2011                 7   \n",
       "1067366 2011-12-09 12:50:00   12.60       Q4/2011                 7   \n",
       "1067365 2011-12-09 12:50:00   10.20       Q4/2011                 7   \n",
       "1067364 2011-12-09 12:50:00   16.60       Q4/2011                 7   \n",
       "1067362 2011-12-09 12:50:00   15.60       Q4/2011                 7   \n",
       "1067355 2011-12-09 12:50:00   23.40       Q4/2011                 7   \n",
       "1067360 2011-12-09 12:50:00   15.00       Q4/2011                 7   \n",
       "1067359 2011-12-09 12:50:00   15.00       Q4/2011                 7   \n",
       "1067358 2011-12-09 12:50:00   15.00       Q4/2011                 7   \n",
       "1067357 2011-12-09 12:50:00   19.80       Q4/2011                 7   \n",
       "1067356 2011-12-09 12:50:00   19.80       Q4/2011                 7   \n",
       "1067369 2011-12-09 12:50:00   14.85       Q4/2011                 7   \n",
       "1067361 2011-12-09 12:50:00   15.00       Q4/2011                 7   \n",
       "1067370 2011-12-09 12:50:00   18.00       Q4/2011                 7   \n",
       "\n",
       "         CohortQuarterID  \n",
       "1067338                5  \n",
       "1067337                5  \n",
       "1067336                5  \n",
       "1067335                5  \n",
       "1067334                5  \n",
       "1067333                5  \n",
       "1067332                5  \n",
       "1067331                5  \n",
       "1067339                5  \n",
       "1067330                5  \n",
       "1067354                0  \n",
       "1067353                0  \n",
       "1067351                0  \n",
       "1067352                0  \n",
       "1067363                6  \n",
       "1067368                6  \n",
       "1067367                6  \n",
       "1067366                6  \n",
       "1067365                6  \n",
       "1067364                6  \n",
       "1067362                6  \n",
       "1067355                6  \n",
       "1067360                6  \n",
       "1067359                6  \n",
       "1067358                6  \n",
       "1067357                6  \n",
       "1067356                6  \n",
       "1067369                6  \n",
       "1067361                6  \n",
       "1067370                6  "
      ]
     },
     "execution_count": 117,
     "metadata": {},
     "output_type": "execute_result"
    }
   ],
   "source": [
    "retail_data.tail(30)"
   ]
  },
  {
   "cell_type": "code",
   "execution_count": 118,
   "id": "97b01164",
   "metadata": {},
   "outputs": [
    {
     "data": {
      "text/html": [
       "<div>\n",
       "<style scoped>\n",
       "    .dataframe tbody tr th:only-of-type {\n",
       "        vertical-align: middle;\n",
       "    }\n",
       "\n",
       "    .dataframe tbody tr th {\n",
       "        vertical-align: top;\n",
       "    }\n",
       "\n",
       "    .dataframe thead th {\n",
       "        text-align: right;\n",
       "    }\n",
       "</style>\n",
       "<table border=\"1\" class=\"dataframe\">\n",
       "  <thead>\n",
       "    <tr style=\"text-align: right;\">\n",
       "      <th></th>\n",
       "      <th>Invoice</th>\n",
       "      <th>StockCode</th>\n",
       "      <th>Description</th>\n",
       "      <th>Quantity</th>\n",
       "      <th>InvoiceDate</th>\n",
       "      <th>Price</th>\n",
       "      <th>Customer ID</th>\n",
       "      <th>Country</th>\n",
       "      <th>InvoiceDate_DT</th>\n",
       "      <th>Total</th>\n",
       "      <th>InvoiceQuater</th>\n",
       "      <th>InvoiceQuarterID</th>\n",
       "      <th>CohortQuarterID</th>\n",
       "    </tr>\n",
       "  </thead>\n",
       "  <tbody>\n",
       "    <tr>\n",
       "      <th>141805</th>\n",
       "      <td>502869</td>\n",
       "      <td>22131</td>\n",
       "      <td>FOOD CONTAINER SET 3 LOVE HEART</td>\n",
       "      <td>4</td>\n",
       "      <td>2010-03-28 16:13:00</td>\n",
       "      <td>1.95</td>\n",
       "      <td>13113</td>\n",
       "      <td>United Kingdom</td>\n",
       "      <td>2010-03-28 16:13:00</td>\n",
       "      <td>7.80</td>\n",
       "      <td>Q1/2010</td>\n",
       "      <td>0</td>\n",
       "      <td>0</td>\n",
       "    </tr>\n",
       "    <tr>\n",
       "      <th>141804</th>\n",
       "      <td>502869</td>\n",
       "      <td>21452</td>\n",
       "      <td>TOADSTOOL MONEY BOX</td>\n",
       "      <td>1</td>\n",
       "      <td>2010-03-28 16:13:00</td>\n",
       "      <td>2.95</td>\n",
       "      <td>13113</td>\n",
       "      <td>United Kingdom</td>\n",
       "      <td>2010-03-28 16:13:00</td>\n",
       "      <td>2.95</td>\n",
       "      <td>Q1/2010</td>\n",
       "      <td>0</td>\n",
       "      <td>0</td>\n",
       "    </tr>\n",
       "    <tr>\n",
       "      <th>141803</th>\n",
       "      <td>502869</td>\n",
       "      <td>22073</td>\n",
       "      <td>RETRO SPOT STORAGE JAR</td>\n",
       "      <td>2</td>\n",
       "      <td>2010-03-28 16:13:00</td>\n",
       "      <td>3.75</td>\n",
       "      <td>13113</td>\n",
       "      <td>United Kingdom</td>\n",
       "      <td>2010-03-28 16:13:00</td>\n",
       "      <td>7.50</td>\n",
       "      <td>Q1/2010</td>\n",
       "      <td>0</td>\n",
       "      <td>0</td>\n",
       "    </tr>\n",
       "    <tr>\n",
       "      <th>141802</th>\n",
       "      <td>502869</td>\n",
       "      <td>22057</td>\n",
       "      <td>CERAMIC PLATE STRAWBERRY DESIGN</td>\n",
       "      <td>4</td>\n",
       "      <td>2010-03-28 16:13:00</td>\n",
       "      <td>1.49</td>\n",
       "      <td>13113</td>\n",
       "      <td>United Kingdom</td>\n",
       "      <td>2010-03-28 16:13:00</td>\n",
       "      <td>5.96</td>\n",
       "      <td>Q1/2010</td>\n",
       "      <td>0</td>\n",
       "      <td>0</td>\n",
       "    </tr>\n",
       "    <tr>\n",
       "      <th>141801</th>\n",
       "      <td>502869</td>\n",
       "      <td>22063</td>\n",
       "      <td>CERAMIC BOWL WITH STRAWBERRY DESIGN</td>\n",
       "      <td>2</td>\n",
       "      <td>2010-03-28 16:13:00</td>\n",
       "      <td>2.95</td>\n",
       "      <td>13113</td>\n",
       "      <td>United Kingdom</td>\n",
       "      <td>2010-03-28 16:13:00</td>\n",
       "      <td>5.90</td>\n",
       "      <td>Q1/2010</td>\n",
       "      <td>0</td>\n",
       "      <td>0</td>\n",
       "    </tr>\n",
       "    <tr>\n",
       "      <th>...</th>\n",
       "      <td>...</td>\n",
       "      <td>...</td>\n",
       "      <td>...</td>\n",
       "      <td>...</td>\n",
       "      <td>...</td>\n",
       "      <td>...</td>\n",
       "      <td>...</td>\n",
       "      <td>...</td>\n",
       "      <td>...</td>\n",
       "      <td>...</td>\n",
       "      <td>...</td>\n",
       "      <td>...</td>\n",
       "      <td>...</td>\n",
       "    </tr>\n",
       "    <tr>\n",
       "      <th>1025344</th>\n",
       "      <td>578699</td>\n",
       "      <td>22457</td>\n",
       "      <td>NATURAL SLATE HEART CHALKBOARD</td>\n",
       "      <td>48</td>\n",
       "      <td>2011-11-25 10:22:00</td>\n",
       "      <td>2.55</td>\n",
       "      <td>13113</td>\n",
       "      <td>United Kingdom</td>\n",
       "      <td>2011-11-25 10:22:00</td>\n",
       "      <td>122.40</td>\n",
       "      <td>Q4/2011</td>\n",
       "      <td>7</td>\n",
       "      <td>0</td>\n",
       "    </tr>\n",
       "    <tr>\n",
       "      <th>1067354</th>\n",
       "      <td>581586</td>\n",
       "      <td>20685</td>\n",
       "      <td>DOORMAT RED RETROSPOT</td>\n",
       "      <td>10</td>\n",
       "      <td>2011-12-09 12:49:00</td>\n",
       "      <td>7.08</td>\n",
       "      <td>13113</td>\n",
       "      <td>United Kingdom</td>\n",
       "      <td>2011-12-09 12:49:00</td>\n",
       "      <td>70.80</td>\n",
       "      <td>Q4/2011</td>\n",
       "      <td>7</td>\n",
       "      <td>0</td>\n",
       "    </tr>\n",
       "    <tr>\n",
       "      <th>1067353</th>\n",
       "      <td>581586</td>\n",
       "      <td>21217</td>\n",
       "      <td>RED RETROSPOT ROUND CAKE TINS</td>\n",
       "      <td>24</td>\n",
       "      <td>2011-12-09 12:49:00</td>\n",
       "      <td>8.95</td>\n",
       "      <td>13113</td>\n",
       "      <td>United Kingdom</td>\n",
       "      <td>2011-12-09 12:49:00</td>\n",
       "      <td>214.80</td>\n",
       "      <td>Q4/2011</td>\n",
       "      <td>7</td>\n",
       "      <td>0</td>\n",
       "    </tr>\n",
       "    <tr>\n",
       "      <th>1067351</th>\n",
       "      <td>581586</td>\n",
       "      <td>22061</td>\n",
       "      <td>LARGE CAKE STAND  HANGING STRAWBERY</td>\n",
       "      <td>8</td>\n",
       "      <td>2011-12-09 12:49:00</td>\n",
       "      <td>2.95</td>\n",
       "      <td>13113</td>\n",
       "      <td>United Kingdom</td>\n",
       "      <td>2011-12-09 12:49:00</td>\n",
       "      <td>23.60</td>\n",
       "      <td>Q4/2011</td>\n",
       "      <td>7</td>\n",
       "      <td>0</td>\n",
       "    </tr>\n",
       "    <tr>\n",
       "      <th>1067352</th>\n",
       "      <td>581586</td>\n",
       "      <td>23275</td>\n",
       "      <td>SET OF 3 HANGING OWLS OLLIE BEAK</td>\n",
       "      <td>24</td>\n",
       "      <td>2011-12-09 12:49:00</td>\n",
       "      <td>1.25</td>\n",
       "      <td>13113</td>\n",
       "      <td>United Kingdom</td>\n",
       "      <td>2011-12-09 12:49:00</td>\n",
       "      <td>30.00</td>\n",
       "      <td>Q4/2011</td>\n",
       "      <td>7</td>\n",
       "      <td>0</td>\n",
       "    </tr>\n",
       "  </tbody>\n",
       "</table>\n",
       "<p>498 rows × 13 columns</p>\n",
       "</div>"
      ],
      "text/plain": [
       "        Invoice StockCode                          Description  Quantity  \\\n",
       "141805   502869     22131     FOOD CONTAINER SET 3 LOVE HEART          4   \n",
       "141804   502869     21452                  TOADSTOOL MONEY BOX         1   \n",
       "141803   502869     22073               RETRO SPOT STORAGE JAR         2   \n",
       "141802   502869     22057      CERAMIC PLATE STRAWBERRY DESIGN         4   \n",
       "141801   502869     22063  CERAMIC BOWL WITH STRAWBERRY DESIGN         2   \n",
       "...         ...       ...                                  ...       ...   \n",
       "1025344  578699     22457      NATURAL SLATE HEART CHALKBOARD         48   \n",
       "1067354  581586     20685                DOORMAT RED RETROSPOT        10   \n",
       "1067353  581586     21217        RED RETROSPOT ROUND CAKE TINS        24   \n",
       "1067351  581586     22061  LARGE CAKE STAND  HANGING STRAWBERY         8   \n",
       "1067352  581586     23275     SET OF 3 HANGING OWLS OLLIE BEAK        24   \n",
       "\n",
       "                 InvoiceDate  Price  Customer ID         Country  \\\n",
       "141805   2010-03-28 16:13:00   1.95        13113  United Kingdom   \n",
       "141804   2010-03-28 16:13:00   2.95        13113  United Kingdom   \n",
       "141803   2010-03-28 16:13:00   3.75        13113  United Kingdom   \n",
       "141802   2010-03-28 16:13:00   1.49        13113  United Kingdom   \n",
       "141801   2010-03-28 16:13:00   2.95        13113  United Kingdom   \n",
       "...                      ...    ...          ...             ...   \n",
       "1025344  2011-11-25 10:22:00   2.55        13113  United Kingdom   \n",
       "1067354  2011-12-09 12:49:00   7.08        13113  United Kingdom   \n",
       "1067353  2011-12-09 12:49:00   8.95        13113  United Kingdom   \n",
       "1067351  2011-12-09 12:49:00   2.95        13113  United Kingdom   \n",
       "1067352  2011-12-09 12:49:00   1.25        13113  United Kingdom   \n",
       "\n",
       "             InvoiceDate_DT   Total InvoiceQuater  InvoiceQuarterID  \\\n",
       "141805  2010-03-28 16:13:00    7.80       Q1/2010                 0   \n",
       "141804  2010-03-28 16:13:00    2.95       Q1/2010                 0   \n",
       "141803  2010-03-28 16:13:00    7.50       Q1/2010                 0   \n",
       "141802  2010-03-28 16:13:00    5.96       Q1/2010                 0   \n",
       "141801  2010-03-28 16:13:00    5.90       Q1/2010                 0   \n",
       "...                     ...     ...           ...               ...   \n",
       "1025344 2011-11-25 10:22:00  122.40       Q4/2011                 7   \n",
       "1067354 2011-12-09 12:49:00   70.80       Q4/2011                 7   \n",
       "1067353 2011-12-09 12:49:00  214.80       Q4/2011                 7   \n",
       "1067351 2011-12-09 12:49:00   23.60       Q4/2011                 7   \n",
       "1067352 2011-12-09 12:49:00   30.00       Q4/2011                 7   \n",
       "\n",
       "         CohortQuarterID  \n",
       "141805                 0  \n",
       "141804                 0  \n",
       "141803                 0  \n",
       "141802                 0  \n",
       "141801                 0  \n",
       "...                  ...  \n",
       "1025344                0  \n",
       "1067354                0  \n",
       "1067353                0  \n",
       "1067351                0  \n",
       "1067352                0  \n",
       "\n",
       "[498 rows x 13 columns]"
      ]
     },
     "execution_count": 118,
     "metadata": {},
     "output_type": "execute_result"
    }
   ],
   "source": [
    "retail_data[retail_data[\"Customer ID\"]==13113]"
   ]
  },
  {
   "cell_type": "code",
   "execution_count": 119,
   "id": "d8d637d0",
   "metadata": {},
   "outputs": [
    {
     "data": {
      "text/html": [
       "<div>\n",
       "<style scoped>\n",
       "    .dataframe tbody tr th:only-of-type {\n",
       "        vertical-align: middle;\n",
       "    }\n",
       "\n",
       "    .dataframe tbody tr th {\n",
       "        vertical-align: top;\n",
       "    }\n",
       "\n",
       "    .dataframe thead th {\n",
       "        text-align: right;\n",
       "    }\n",
       "</style>\n",
       "<table border=\"1\" class=\"dataframe\">\n",
       "  <thead>\n",
       "    <tr style=\"text-align: right;\">\n",
       "      <th></th>\n",
       "      <th>Invoice</th>\n",
       "      <th>StockCode</th>\n",
       "      <th>Description</th>\n",
       "      <th>Quantity</th>\n",
       "      <th>InvoiceDate</th>\n",
       "      <th>Price</th>\n",
       "      <th>Customer ID</th>\n",
       "      <th>Country</th>\n",
       "      <th>InvoiceDate_DT</th>\n",
       "      <th>Total</th>\n",
       "      <th>InvoiceQuater</th>\n",
       "      <th>InvoiceQuarterID</th>\n",
       "      <th>CohortQuarterID</th>\n",
       "    </tr>\n",
       "  </thead>\n",
       "  <tbody>\n",
       "    <tr>\n",
       "      <th>831253</th>\n",
       "      <td>563712</td>\n",
       "      <td>22029</td>\n",
       "      <td>SPACEBOY BIRTHDAY CARD</td>\n",
       "      <td>12</td>\n",
       "      <td>2011-08-18 15:44:00</td>\n",
       "      <td>0.42</td>\n",
       "      <td>12680</td>\n",
       "      <td>France</td>\n",
       "      <td>2011-08-18 15:44:00</td>\n",
       "      <td>5.04</td>\n",
       "      <td>Q3/2011</td>\n",
       "      <td>6</td>\n",
       "      <td>6</td>\n",
       "    </tr>\n",
       "    <tr>\n",
       "      <th>831252</th>\n",
       "      <td>563712</td>\n",
       "      <td>22367</td>\n",
       "      <td>CHILDRENS APRON SPACEBOY DESIGN</td>\n",
       "      <td>8</td>\n",
       "      <td>2011-08-18 15:44:00</td>\n",
       "      <td>1.95</td>\n",
       "      <td>12680</td>\n",
       "      <td>France</td>\n",
       "      <td>2011-08-18 15:44:00</td>\n",
       "      <td>15.60</td>\n",
       "      <td>Q3/2011</td>\n",
       "      <td>6</td>\n",
       "      <td>6</td>\n",
       "    </tr>\n",
       "    <tr>\n",
       "      <th>831254</th>\n",
       "      <td>563712</td>\n",
       "      <td>23256</td>\n",
       "      <td>CHILDRENS CUTLERY SPACEBOY</td>\n",
       "      <td>4</td>\n",
       "      <td>2011-08-18 15:44:00</td>\n",
       "      <td>4.15</td>\n",
       "      <td>12680</td>\n",
       "      <td>France</td>\n",
       "      <td>2011-08-18 15:44:00</td>\n",
       "      <td>16.60</td>\n",
       "      <td>Q3/2011</td>\n",
       "      <td>6</td>\n",
       "      <td>6</td>\n",
       "    </tr>\n",
       "    <tr>\n",
       "      <th>831251</th>\n",
       "      <td>563712</td>\n",
       "      <td>23254</td>\n",
       "      <td>CHILDRENS CUTLERY DOLLY GIRL</td>\n",
       "      <td>4</td>\n",
       "      <td>2011-08-18 15:44:00</td>\n",
       "      <td>4.15</td>\n",
       "      <td>12680</td>\n",
       "      <td>France</td>\n",
       "      <td>2011-08-18 15:44:00</td>\n",
       "      <td>16.60</td>\n",
       "      <td>Q3/2011</td>\n",
       "      <td>6</td>\n",
       "      <td>6</td>\n",
       "    </tr>\n",
       "    <tr>\n",
       "      <th>831259</th>\n",
       "      <td>563712</td>\n",
       "      <td>POST</td>\n",
       "      <td>POSTAGE</td>\n",
       "      <td>2</td>\n",
       "      <td>2011-08-18 15:44:00</td>\n",
       "      <td>18.00</td>\n",
       "      <td>12680</td>\n",
       "      <td>France</td>\n",
       "      <td>2011-08-18 15:44:00</td>\n",
       "      <td>36.00</td>\n",
       "      <td>Q3/2011</td>\n",
       "      <td>6</td>\n",
       "      <td>6</td>\n",
       "    </tr>\n",
       "    <tr>\n",
       "      <th>831257</th>\n",
       "      <td>563712</td>\n",
       "      <td>22099</td>\n",
       "      <td>CARAVAN SQUARE TISSUE BOX</td>\n",
       "      <td>36</td>\n",
       "      <td>2011-08-18 15:44:00</td>\n",
       "      <td>0.39</td>\n",
       "      <td>12680</td>\n",
       "      <td>France</td>\n",
       "      <td>2011-08-18 15:44:00</td>\n",
       "      <td>14.04</td>\n",
       "      <td>Q3/2011</td>\n",
       "      <td>6</td>\n",
       "      <td>6</td>\n",
       "    </tr>\n",
       "    <tr>\n",
       "      <th>831258</th>\n",
       "      <td>563712</td>\n",
       "      <td>22326</td>\n",
       "      <td>ROUND SNACK BOXES SET OF4 WOODLAND</td>\n",
       "      <td>6</td>\n",
       "      <td>2011-08-18 15:44:00</td>\n",
       "      <td>2.95</td>\n",
       "      <td>12680</td>\n",
       "      <td>France</td>\n",
       "      <td>2011-08-18 15:44:00</td>\n",
       "      <td>17.70</td>\n",
       "      <td>Q3/2011</td>\n",
       "      <td>6</td>\n",
       "      <td>6</td>\n",
       "    </tr>\n",
       "    <tr>\n",
       "      <th>831255</th>\n",
       "      <td>563712</td>\n",
       "      <td>22728</td>\n",
       "      <td>ALARM CLOCK BAKELIKE PINK</td>\n",
       "      <td>4</td>\n",
       "      <td>2011-08-18 15:44:00</td>\n",
       "      <td>3.75</td>\n",
       "      <td>12680</td>\n",
       "      <td>France</td>\n",
       "      <td>2011-08-18 15:44:00</td>\n",
       "      <td>15.00</td>\n",
       "      <td>Q3/2011</td>\n",
       "      <td>6</td>\n",
       "      <td>6</td>\n",
       "    </tr>\n",
       "    <tr>\n",
       "      <th>831250</th>\n",
       "      <td>563712</td>\n",
       "      <td>22899</td>\n",
       "      <td>CHILDREN'S APRON DOLLY GIRL</td>\n",
       "      <td>6</td>\n",
       "      <td>2011-08-18 15:44:00</td>\n",
       "      <td>2.10</td>\n",
       "      <td>12680</td>\n",
       "      <td>France</td>\n",
       "      <td>2011-08-18 15:44:00</td>\n",
       "      <td>12.60</td>\n",
       "      <td>Q3/2011</td>\n",
       "      <td>6</td>\n",
       "      <td>6</td>\n",
       "    </tr>\n",
       "    <tr>\n",
       "      <th>831256</th>\n",
       "      <td>563712</td>\n",
       "      <td>22727</td>\n",
       "      <td>ALARM CLOCK BAKELIKE RED</td>\n",
       "      <td>4</td>\n",
       "      <td>2011-08-18 15:44:00</td>\n",
       "      <td>3.75</td>\n",
       "      <td>12680</td>\n",
       "      <td>France</td>\n",
       "      <td>2011-08-18 15:44:00</td>\n",
       "      <td>15.00</td>\n",
       "      <td>Q3/2011</td>\n",
       "      <td>6</td>\n",
       "      <td>6</td>\n",
       "    </tr>\n",
       "    <tr>\n",
       "      <th>831248</th>\n",
       "      <td>563712</td>\n",
       "      <td>22712</td>\n",
       "      <td>CARD DOLLY GIRL</td>\n",
       "      <td>12</td>\n",
       "      <td>2011-08-18 15:44:00</td>\n",
       "      <td>0.42</td>\n",
       "      <td>12680</td>\n",
       "      <td>France</td>\n",
       "      <td>2011-08-18 15:44:00</td>\n",
       "      <td>5.04</td>\n",
       "      <td>Q3/2011</td>\n",
       "      <td>6</td>\n",
       "      <td>6</td>\n",
       "    </tr>\n",
       "    <tr>\n",
       "      <th>831247</th>\n",
       "      <td>563712</td>\n",
       "      <td>22979</td>\n",
       "      <td>PANTRY WASHING UP BRUSH</td>\n",
       "      <td>12</td>\n",
       "      <td>2011-08-18 15:44:00</td>\n",
       "      <td>1.45</td>\n",
       "      <td>12680</td>\n",
       "      <td>France</td>\n",
       "      <td>2011-08-18 15:44:00</td>\n",
       "      <td>17.40</td>\n",
       "      <td>Q3/2011</td>\n",
       "      <td>6</td>\n",
       "      <td>6</td>\n",
       "    </tr>\n",
       "    <tr>\n",
       "      <th>831246</th>\n",
       "      <td>563712</td>\n",
       "      <td>22980</td>\n",
       "      <td>PANTRY SCRUBBING BRUSH</td>\n",
       "      <td>12</td>\n",
       "      <td>2011-08-18 15:44:00</td>\n",
       "      <td>1.65</td>\n",
       "      <td>12680</td>\n",
       "      <td>France</td>\n",
       "      <td>2011-08-18 15:44:00</td>\n",
       "      <td>19.80</td>\n",
       "      <td>Q3/2011</td>\n",
       "      <td>6</td>\n",
       "      <td>6</td>\n",
       "    </tr>\n",
       "    <tr>\n",
       "      <th>831245</th>\n",
       "      <td>563712</td>\n",
       "      <td>22629</td>\n",
       "      <td>SPACEBOY LUNCH BOX</td>\n",
       "      <td>12</td>\n",
       "      <td>2011-08-18 15:44:00</td>\n",
       "      <td>1.95</td>\n",
       "      <td>12680</td>\n",
       "      <td>France</td>\n",
       "      <td>2011-08-18 15:44:00</td>\n",
       "      <td>23.40</td>\n",
       "      <td>Q3/2011</td>\n",
       "      <td>6</td>\n",
       "      <td>6</td>\n",
       "    </tr>\n",
       "    <tr>\n",
       "      <th>831244</th>\n",
       "      <td>563712</td>\n",
       "      <td>22555</td>\n",
       "      <td>PLASTERS IN TIN STRONGMAN</td>\n",
       "      <td>12</td>\n",
       "      <td>2011-08-18 15:44:00</td>\n",
       "      <td>1.65</td>\n",
       "      <td>12680</td>\n",
       "      <td>France</td>\n",
       "      <td>2011-08-18 15:44:00</td>\n",
       "      <td>19.80</td>\n",
       "      <td>Q3/2011</td>\n",
       "      <td>6</td>\n",
       "      <td>6</td>\n",
       "    </tr>\n",
       "    <tr>\n",
       "      <th>831243</th>\n",
       "      <td>563712</td>\n",
       "      <td>23190</td>\n",
       "      <td>BUNDLE OF 3 SCHOOL EXERCISE BOOKS</td>\n",
       "      <td>12</td>\n",
       "      <td>2011-08-18 15:44:00</td>\n",
       "      <td>1.65</td>\n",
       "      <td>12680</td>\n",
       "      <td>France</td>\n",
       "      <td>2011-08-18 15:44:00</td>\n",
       "      <td>19.80</td>\n",
       "      <td>Q3/2011</td>\n",
       "      <td>6</td>\n",
       "      <td>6</td>\n",
       "    </tr>\n",
       "    <tr>\n",
       "      <th>831242</th>\n",
       "      <td>563712</td>\n",
       "      <td>22037</td>\n",
       "      <td>ROBOT BIRTHDAY CARD</td>\n",
       "      <td>12</td>\n",
       "      <td>2011-08-18 15:44:00</td>\n",
       "      <td>0.42</td>\n",
       "      <td>12680</td>\n",
       "      <td>France</td>\n",
       "      <td>2011-08-18 15:44:00</td>\n",
       "      <td>5.04</td>\n",
       "      <td>Q3/2011</td>\n",
       "      <td>6</td>\n",
       "      <td>6</td>\n",
       "    </tr>\n",
       "    <tr>\n",
       "      <th>831241</th>\n",
       "      <td>563712</td>\n",
       "      <td>21986</td>\n",
       "      <td>PACK OF 12 PINK POLKADOT TISSUES</td>\n",
       "      <td>24</td>\n",
       "      <td>2011-08-18 15:44:00</td>\n",
       "      <td>0.29</td>\n",
       "      <td>12680</td>\n",
       "      <td>France</td>\n",
       "      <td>2011-08-18 15:44:00</td>\n",
       "      <td>6.96</td>\n",
       "      <td>Q3/2011</td>\n",
       "      <td>6</td>\n",
       "      <td>6</td>\n",
       "    </tr>\n",
       "    <tr>\n",
       "      <th>831240</th>\n",
       "      <td>563712</td>\n",
       "      <td>21981</td>\n",
       "      <td>PACK OF 12 WOODLAND TISSUES</td>\n",
       "      <td>24</td>\n",
       "      <td>2011-08-18 15:44:00</td>\n",
       "      <td>0.29</td>\n",
       "      <td>12680</td>\n",
       "      <td>France</td>\n",
       "      <td>2011-08-18 15:44:00</td>\n",
       "      <td>6.96</td>\n",
       "      <td>Q3/2011</td>\n",
       "      <td>6</td>\n",
       "      <td>6</td>\n",
       "    </tr>\n",
       "    <tr>\n",
       "      <th>831249</th>\n",
       "      <td>563712</td>\n",
       "      <td>22630</td>\n",
       "      <td>DOLLY GIRL LUNCH BOX</td>\n",
       "      <td>12</td>\n",
       "      <td>2011-08-18 15:44:00</td>\n",
       "      <td>1.95</td>\n",
       "      <td>12680</td>\n",
       "      <td>France</td>\n",
       "      <td>2011-08-18 15:44:00</td>\n",
       "      <td>23.40</td>\n",
       "      <td>Q3/2011</td>\n",
       "      <td>6</td>\n",
       "      <td>6</td>\n",
       "    </tr>\n",
       "    <tr>\n",
       "      <th>859960</th>\n",
       "      <td>566256</td>\n",
       "      <td>POST</td>\n",
       "      <td>POSTAGE</td>\n",
       "      <td>1</td>\n",
       "      <td>2011-09-11 12:27:00</td>\n",
       "      <td>18.00</td>\n",
       "      <td>12680</td>\n",
       "      <td>France</td>\n",
       "      <td>2011-09-11 12:27:00</td>\n",
       "      <td>18.00</td>\n",
       "      <td>Q3/2011</td>\n",
       "      <td>6</td>\n",
       "      <td>6</td>\n",
       "    </tr>\n",
       "    <tr>\n",
       "      <th>859959</th>\n",
       "      <td>566256</td>\n",
       "      <td>20751</td>\n",
       "      <td>FUNKY WASHING UP GLOVES ASSORTED</td>\n",
       "      <td>12</td>\n",
       "      <td>2011-09-11 12:27:00</td>\n",
       "      <td>2.10</td>\n",
       "      <td>12680</td>\n",
       "      <td>France</td>\n",
       "      <td>2011-09-11 12:27:00</td>\n",
       "      <td>25.20</td>\n",
       "      <td>Q3/2011</td>\n",
       "      <td>6</td>\n",
       "      <td>6</td>\n",
       "    </tr>\n",
       "    <tr>\n",
       "      <th>859958</th>\n",
       "      <td>566256</td>\n",
       "      <td>21208</td>\n",
       "      <td>PASTEL COLOUR HONEYCOMB FAN</td>\n",
       "      <td>12</td>\n",
       "      <td>2011-09-11 12:27:00</td>\n",
       "      <td>0.39</td>\n",
       "      <td>12680</td>\n",
       "      <td>France</td>\n",
       "      <td>2011-09-11 12:27:00</td>\n",
       "      <td>4.68</td>\n",
       "      <td>Q3/2011</td>\n",
       "      <td>6</td>\n",
       "      <td>6</td>\n",
       "    </tr>\n",
       "    <tr>\n",
       "      <th>859955</th>\n",
       "      <td>566256</td>\n",
       "      <td>22726</td>\n",
       "      <td>ALARM CLOCK BAKELIKE GREEN</td>\n",
       "      <td>4</td>\n",
       "      <td>2011-09-11 12:27:00</td>\n",
       "      <td>3.75</td>\n",
       "      <td>12680</td>\n",
       "      <td>France</td>\n",
       "      <td>2011-09-11 12:27:00</td>\n",
       "      <td>15.00</td>\n",
       "      <td>Q3/2011</td>\n",
       "      <td>6</td>\n",
       "      <td>6</td>\n",
       "    </tr>\n",
       "    <tr>\n",
       "      <th>859956</th>\n",
       "      <td>566256</td>\n",
       "      <td>20682</td>\n",
       "      <td>RED RETROSPOT CHILDRENS UMBRELLA</td>\n",
       "      <td>6</td>\n",
       "      <td>2011-09-11 12:27:00</td>\n",
       "      <td>3.25</td>\n",
       "      <td>12680</td>\n",
       "      <td>France</td>\n",
       "      <td>2011-09-11 12:27:00</td>\n",
       "      <td>19.50</td>\n",
       "      <td>Q3/2011</td>\n",
       "      <td>6</td>\n",
       "      <td>6</td>\n",
       "    </tr>\n",
       "    <tr>\n",
       "      <th>859954</th>\n",
       "      <td>566256</td>\n",
       "      <td>22730</td>\n",
       "      <td>ALARM CLOCK BAKELIKE IVORY</td>\n",
       "      <td>4</td>\n",
       "      <td>2011-09-11 12:27:00</td>\n",
       "      <td>3.75</td>\n",
       "      <td>12680</td>\n",
       "      <td>France</td>\n",
       "      <td>2011-09-11 12:27:00</td>\n",
       "      <td>15.00</td>\n",
       "      <td>Q3/2011</td>\n",
       "      <td>6</td>\n",
       "      <td>6</td>\n",
       "    </tr>\n",
       "    <tr>\n",
       "      <th>859957</th>\n",
       "      <td>566256</td>\n",
       "      <td>37495</td>\n",
       "      <td>FAIRY CAKE BIRTHDAY CANDLE SET</td>\n",
       "      <td>4</td>\n",
       "      <td>2011-09-11 12:27:00</td>\n",
       "      <td>3.75</td>\n",
       "      <td>12680</td>\n",
       "      <td>France</td>\n",
       "      <td>2011-09-11 12:27:00</td>\n",
       "      <td>15.00</td>\n",
       "      <td>Q3/2011</td>\n",
       "      <td>6</td>\n",
       "      <td>6</td>\n",
       "    </tr>\n",
       "    <tr>\n",
       "      <th>888248</th>\n",
       "      <td>568518</td>\n",
       "      <td>22728</td>\n",
       "      <td>ALARM CLOCK BAKELIKE PINK</td>\n",
       "      <td>4</td>\n",
       "      <td>2011-09-27 12:53:00</td>\n",
       "      <td>3.75</td>\n",
       "      <td>12680</td>\n",
       "      <td>France</td>\n",
       "      <td>2011-09-27 12:53:00</td>\n",
       "      <td>15.00</td>\n",
       "      <td>Q3/2011</td>\n",
       "      <td>6</td>\n",
       "      <td>6</td>\n",
       "    </tr>\n",
       "    <tr>\n",
       "      <th>888247</th>\n",
       "      <td>568518</td>\n",
       "      <td>22726</td>\n",
       "      <td>ALARM CLOCK BAKELIKE GREEN</td>\n",
       "      <td>4</td>\n",
       "      <td>2011-09-27 12:53:00</td>\n",
       "      <td>3.75</td>\n",
       "      <td>12680</td>\n",
       "      <td>France</td>\n",
       "      <td>2011-09-27 12:53:00</td>\n",
       "      <td>15.00</td>\n",
       "      <td>Q3/2011</td>\n",
       "      <td>6</td>\n",
       "      <td>6</td>\n",
       "    </tr>\n",
       "    <tr>\n",
       "      <th>888250</th>\n",
       "      <td>568518</td>\n",
       "      <td>POST</td>\n",
       "      <td>POSTAGE</td>\n",
       "      <td>1</td>\n",
       "      <td>2011-09-27 12:53:00</td>\n",
       "      <td>18.00</td>\n",
       "      <td>12680</td>\n",
       "      <td>France</td>\n",
       "      <td>2011-09-27 12:53:00</td>\n",
       "      <td>18.00</td>\n",
       "      <td>Q3/2011</td>\n",
       "      <td>6</td>\n",
       "      <td>6</td>\n",
       "    </tr>\n",
       "    <tr>\n",
       "      <th>888246</th>\n",
       "      <td>568518</td>\n",
       "      <td>22635</td>\n",
       "      <td>CHILDS BREAKFAST SET DOLLY GIRL</td>\n",
       "      <td>2</td>\n",
       "      <td>2011-09-27 12:53:00</td>\n",
       "      <td>9.95</td>\n",
       "      <td>12680</td>\n",
       "      <td>France</td>\n",
       "      <td>2011-09-27 12:53:00</td>\n",
       "      <td>19.90</td>\n",
       "      <td>Q3/2011</td>\n",
       "      <td>6</td>\n",
       "      <td>6</td>\n",
       "    </tr>\n",
       "    <tr>\n",
       "      <th>888249</th>\n",
       "      <td>568518</td>\n",
       "      <td>22727</td>\n",
       "      <td>ALARM CLOCK BAKELIKE RED</td>\n",
       "      <td>4</td>\n",
       "      <td>2011-09-27 12:53:00</td>\n",
       "      <td>3.75</td>\n",
       "      <td>12680</td>\n",
       "      <td>France</td>\n",
       "      <td>2011-09-27 12:53:00</td>\n",
       "      <td>15.00</td>\n",
       "      <td>Q3/2011</td>\n",
       "      <td>6</td>\n",
       "      <td>6</td>\n",
       "    </tr>\n",
       "    <tr>\n",
       "      <th>888244</th>\n",
       "      <td>568518</td>\n",
       "      <td>22629</td>\n",
       "      <td>SPACEBOY LUNCH BOX</td>\n",
       "      <td>12</td>\n",
       "      <td>2011-09-27 12:53:00</td>\n",
       "      <td>1.95</td>\n",
       "      <td>12680</td>\n",
       "      <td>France</td>\n",
       "      <td>2011-09-27 12:53:00</td>\n",
       "      <td>23.40</td>\n",
       "      <td>Q3/2011</td>\n",
       "      <td>6</td>\n",
       "      <td>6</td>\n",
       "    </tr>\n",
       "    <tr>\n",
       "      <th>888243</th>\n",
       "      <td>568518</td>\n",
       "      <td>22630</td>\n",
       "      <td>DOLLY GIRL LUNCH BOX</td>\n",
       "      <td>12</td>\n",
       "      <td>2011-09-27 12:53:00</td>\n",
       "      <td>1.95</td>\n",
       "      <td>12680</td>\n",
       "      <td>France</td>\n",
       "      <td>2011-09-27 12:53:00</td>\n",
       "      <td>23.40</td>\n",
       "      <td>Q3/2011</td>\n",
       "      <td>6</td>\n",
       "      <td>6</td>\n",
       "    </tr>\n",
       "    <tr>\n",
       "      <th>888242</th>\n",
       "      <td>568518</td>\n",
       "      <td>22556</td>\n",
       "      <td>PLASTERS IN TIN CIRCUS PARADE</td>\n",
       "      <td>12</td>\n",
       "      <td>2011-09-27 12:53:00</td>\n",
       "      <td>1.65</td>\n",
       "      <td>12680</td>\n",
       "      <td>France</td>\n",
       "      <td>2011-09-27 12:53:00</td>\n",
       "      <td>19.80</td>\n",
       "      <td>Q3/2011</td>\n",
       "      <td>6</td>\n",
       "      <td>6</td>\n",
       "    </tr>\n",
       "    <tr>\n",
       "      <th>888241</th>\n",
       "      <td>568518</td>\n",
       "      <td>22555</td>\n",
       "      <td>PLASTERS IN TIN STRONGMAN</td>\n",
       "      <td>12</td>\n",
       "      <td>2011-09-27 12:53:00</td>\n",
       "      <td>1.65</td>\n",
       "      <td>12680</td>\n",
       "      <td>France</td>\n",
       "      <td>2011-09-27 12:53:00</td>\n",
       "      <td>19.80</td>\n",
       "      <td>Q3/2011</td>\n",
       "      <td>6</td>\n",
       "      <td>6</td>\n",
       "    </tr>\n",
       "    <tr>\n",
       "      <th>888245</th>\n",
       "      <td>568518</td>\n",
       "      <td>22634</td>\n",
       "      <td>CHILDS BREAKFAST SET SPACEBOY</td>\n",
       "      <td>2</td>\n",
       "      <td>2011-09-27 12:53:00</td>\n",
       "      <td>9.95</td>\n",
       "      <td>12680</td>\n",
       "      <td>France</td>\n",
       "      <td>2011-09-27 12:53:00</td>\n",
       "      <td>19.90</td>\n",
       "      <td>Q3/2011</td>\n",
       "      <td>6</td>\n",
       "      <td>6</td>\n",
       "    </tr>\n",
       "    <tr>\n",
       "      <th>1067363</th>\n",
       "      <td>581587</td>\n",
       "      <td>22629</td>\n",
       "      <td>SPACEBOY LUNCH BOX</td>\n",
       "      <td>12</td>\n",
       "      <td>2011-12-09 12:50:00</td>\n",
       "      <td>1.95</td>\n",
       "      <td>12680</td>\n",
       "      <td>France</td>\n",
       "      <td>2011-12-09 12:50:00</td>\n",
       "      <td>23.40</td>\n",
       "      <td>Q4/2011</td>\n",
       "      <td>7</td>\n",
       "      <td>6</td>\n",
       "    </tr>\n",
       "    <tr>\n",
       "      <th>1067368</th>\n",
       "      <td>581587</td>\n",
       "      <td>23255</td>\n",
       "      <td>CHILDRENS CUTLERY CIRCUS PARADE</td>\n",
       "      <td>4</td>\n",
       "      <td>2011-12-09 12:50:00</td>\n",
       "      <td>4.15</td>\n",
       "      <td>12680</td>\n",
       "      <td>France</td>\n",
       "      <td>2011-12-09 12:50:00</td>\n",
       "      <td>16.60</td>\n",
       "      <td>Q4/2011</td>\n",
       "      <td>7</td>\n",
       "      <td>6</td>\n",
       "    </tr>\n",
       "    <tr>\n",
       "      <th>1067367</th>\n",
       "      <td>581587</td>\n",
       "      <td>23254</td>\n",
       "      <td>CHILDRENS CUTLERY DOLLY GIRL</td>\n",
       "      <td>4</td>\n",
       "      <td>2011-12-09 12:50:00</td>\n",
       "      <td>4.15</td>\n",
       "      <td>12680</td>\n",
       "      <td>France</td>\n",
       "      <td>2011-12-09 12:50:00</td>\n",
       "      <td>16.60</td>\n",
       "      <td>Q4/2011</td>\n",
       "      <td>7</td>\n",
       "      <td>6</td>\n",
       "    </tr>\n",
       "    <tr>\n",
       "      <th>1067366</th>\n",
       "      <td>581587</td>\n",
       "      <td>22899</td>\n",
       "      <td>CHILDREN'S APRON DOLLY GIRL</td>\n",
       "      <td>6</td>\n",
       "      <td>2011-12-09 12:50:00</td>\n",
       "      <td>2.10</td>\n",
       "      <td>12680</td>\n",
       "      <td>France</td>\n",
       "      <td>2011-12-09 12:50:00</td>\n",
       "      <td>12.60</td>\n",
       "      <td>Q4/2011</td>\n",
       "      <td>7</td>\n",
       "      <td>6</td>\n",
       "    </tr>\n",
       "    <tr>\n",
       "      <th>1067365</th>\n",
       "      <td>581587</td>\n",
       "      <td>22613</td>\n",
       "      <td>PACK OF 20 SPACEBOY NAPKINS</td>\n",
       "      <td>12</td>\n",
       "      <td>2011-12-09 12:50:00</td>\n",
       "      <td>0.85</td>\n",
       "      <td>12680</td>\n",
       "      <td>France</td>\n",
       "      <td>2011-12-09 12:50:00</td>\n",
       "      <td>10.20</td>\n",
       "      <td>Q4/2011</td>\n",
       "      <td>7</td>\n",
       "      <td>6</td>\n",
       "    </tr>\n",
       "    <tr>\n",
       "      <th>1067364</th>\n",
       "      <td>581587</td>\n",
       "      <td>23256</td>\n",
       "      <td>CHILDRENS CUTLERY SPACEBOY</td>\n",
       "      <td>4</td>\n",
       "      <td>2011-12-09 12:50:00</td>\n",
       "      <td>4.15</td>\n",
       "      <td>12680</td>\n",
       "      <td>France</td>\n",
       "      <td>2011-12-09 12:50:00</td>\n",
       "      <td>16.60</td>\n",
       "      <td>Q4/2011</td>\n",
       "      <td>7</td>\n",
       "      <td>6</td>\n",
       "    </tr>\n",
       "    <tr>\n",
       "      <th>1067362</th>\n",
       "      <td>581587</td>\n",
       "      <td>22367</td>\n",
       "      <td>CHILDRENS APRON SPACEBOY DESIGN</td>\n",
       "      <td>8</td>\n",
       "      <td>2011-12-09 12:50:00</td>\n",
       "      <td>1.95</td>\n",
       "      <td>12680</td>\n",
       "      <td>France</td>\n",
       "      <td>2011-12-09 12:50:00</td>\n",
       "      <td>15.60</td>\n",
       "      <td>Q4/2011</td>\n",
       "      <td>7</td>\n",
       "      <td>6</td>\n",
       "    </tr>\n",
       "    <tr>\n",
       "      <th>1067355</th>\n",
       "      <td>581587</td>\n",
       "      <td>22631</td>\n",
       "      <td>CIRCUS PARADE LUNCH BOX</td>\n",
       "      <td>12</td>\n",
       "      <td>2011-12-09 12:50:00</td>\n",
       "      <td>1.95</td>\n",
       "      <td>12680</td>\n",
       "      <td>France</td>\n",
       "      <td>2011-12-09 12:50:00</td>\n",
       "      <td>23.40</td>\n",
       "      <td>Q4/2011</td>\n",
       "      <td>7</td>\n",
       "      <td>6</td>\n",
       "    </tr>\n",
       "    <tr>\n",
       "      <th>1067360</th>\n",
       "      <td>581587</td>\n",
       "      <td>22726</td>\n",
       "      <td>ALARM CLOCK BAKELIKE GREEN</td>\n",
       "      <td>4</td>\n",
       "      <td>2011-12-09 12:50:00</td>\n",
       "      <td>3.75</td>\n",
       "      <td>12680</td>\n",
       "      <td>France</td>\n",
       "      <td>2011-12-09 12:50:00</td>\n",
       "      <td>15.00</td>\n",
       "      <td>Q4/2011</td>\n",
       "      <td>7</td>\n",
       "      <td>6</td>\n",
       "    </tr>\n",
       "    <tr>\n",
       "      <th>1067359</th>\n",
       "      <td>581587</td>\n",
       "      <td>22727</td>\n",
       "      <td>ALARM CLOCK BAKELIKE RED</td>\n",
       "      <td>4</td>\n",
       "      <td>2011-12-09 12:50:00</td>\n",
       "      <td>3.75</td>\n",
       "      <td>12680</td>\n",
       "      <td>France</td>\n",
       "      <td>2011-12-09 12:50:00</td>\n",
       "      <td>15.00</td>\n",
       "      <td>Q4/2011</td>\n",
       "      <td>7</td>\n",
       "      <td>6</td>\n",
       "    </tr>\n",
       "    <tr>\n",
       "      <th>1067358</th>\n",
       "      <td>581587</td>\n",
       "      <td>22728</td>\n",
       "      <td>ALARM CLOCK BAKELIKE PINK</td>\n",
       "      <td>4</td>\n",
       "      <td>2011-12-09 12:50:00</td>\n",
       "      <td>3.75</td>\n",
       "      <td>12680</td>\n",
       "      <td>France</td>\n",
       "      <td>2011-12-09 12:50:00</td>\n",
       "      <td>15.00</td>\n",
       "      <td>Q4/2011</td>\n",
       "      <td>7</td>\n",
       "      <td>6</td>\n",
       "    </tr>\n",
       "    <tr>\n",
       "      <th>1067357</th>\n",
       "      <td>581587</td>\n",
       "      <td>22555</td>\n",
       "      <td>PLASTERS IN TIN STRONGMAN</td>\n",
       "      <td>12</td>\n",
       "      <td>2011-12-09 12:50:00</td>\n",
       "      <td>1.65</td>\n",
       "      <td>12680</td>\n",
       "      <td>France</td>\n",
       "      <td>2011-12-09 12:50:00</td>\n",
       "      <td>19.80</td>\n",
       "      <td>Q4/2011</td>\n",
       "      <td>7</td>\n",
       "      <td>6</td>\n",
       "    </tr>\n",
       "    <tr>\n",
       "      <th>1067356</th>\n",
       "      <td>581587</td>\n",
       "      <td>22556</td>\n",
       "      <td>PLASTERS IN TIN CIRCUS PARADE</td>\n",
       "      <td>12</td>\n",
       "      <td>2011-12-09 12:50:00</td>\n",
       "      <td>1.65</td>\n",
       "      <td>12680</td>\n",
       "      <td>France</td>\n",
       "      <td>2011-12-09 12:50:00</td>\n",
       "      <td>19.80</td>\n",
       "      <td>Q4/2011</td>\n",
       "      <td>7</td>\n",
       "      <td>6</td>\n",
       "    </tr>\n",
       "    <tr>\n",
       "      <th>1067369</th>\n",
       "      <td>581587</td>\n",
       "      <td>22138</td>\n",
       "      <td>BAKING SET 9 PIECE RETROSPOT</td>\n",
       "      <td>3</td>\n",
       "      <td>2011-12-09 12:50:00</td>\n",
       "      <td>4.95</td>\n",
       "      <td>12680</td>\n",
       "      <td>France</td>\n",
       "      <td>2011-12-09 12:50:00</td>\n",
       "      <td>14.85</td>\n",
       "      <td>Q4/2011</td>\n",
       "      <td>7</td>\n",
       "      <td>6</td>\n",
       "    </tr>\n",
       "    <tr>\n",
       "      <th>1067361</th>\n",
       "      <td>581587</td>\n",
       "      <td>22730</td>\n",
       "      <td>ALARM CLOCK BAKELIKE IVORY</td>\n",
       "      <td>4</td>\n",
       "      <td>2011-12-09 12:50:00</td>\n",
       "      <td>3.75</td>\n",
       "      <td>12680</td>\n",
       "      <td>France</td>\n",
       "      <td>2011-12-09 12:50:00</td>\n",
       "      <td>15.00</td>\n",
       "      <td>Q4/2011</td>\n",
       "      <td>7</td>\n",
       "      <td>6</td>\n",
       "    </tr>\n",
       "    <tr>\n",
       "      <th>1067370</th>\n",
       "      <td>581587</td>\n",
       "      <td>POST</td>\n",
       "      <td>POSTAGE</td>\n",
       "      <td>1</td>\n",
       "      <td>2011-12-09 12:50:00</td>\n",
       "      <td>18.00</td>\n",
       "      <td>12680</td>\n",
       "      <td>France</td>\n",
       "      <td>2011-12-09 12:50:00</td>\n",
       "      <td>18.00</td>\n",
       "      <td>Q4/2011</td>\n",
       "      <td>7</td>\n",
       "      <td>6</td>\n",
       "    </tr>\n",
       "  </tbody>\n",
       "</table>\n",
       "</div>"
      ],
      "text/plain": [
       "        Invoice StockCode                          Description  Quantity  \\\n",
       "831253   563712     22029               SPACEBOY BIRTHDAY CARD        12   \n",
       "831252   563712     22367      CHILDRENS APRON SPACEBOY DESIGN         8   \n",
       "831254   563712     23256          CHILDRENS CUTLERY SPACEBOY          4   \n",
       "831251   563712     23254        CHILDRENS CUTLERY DOLLY GIRL          4   \n",
       "831259   563712      POST                              POSTAGE         2   \n",
       "831257   563712     22099            CARAVAN SQUARE TISSUE BOX        36   \n",
       "831258   563712     22326  ROUND SNACK BOXES SET OF4 WOODLAND          6   \n",
       "831255   563712     22728            ALARM CLOCK BAKELIKE PINK         4   \n",
       "831250   563712     22899         CHILDREN'S APRON DOLLY GIRL          6   \n",
       "831256   563712     22727            ALARM CLOCK BAKELIKE RED          4   \n",
       "831248   563712     22712                     CARD DOLLY GIRL         12   \n",
       "831247   563712     22979              PANTRY WASHING UP BRUSH        12   \n",
       "831246   563712     22980               PANTRY SCRUBBING BRUSH        12   \n",
       "831245   563712     22629                  SPACEBOY LUNCH BOX         12   \n",
       "831244   563712     22555            PLASTERS IN TIN STRONGMAN        12   \n",
       "831243   563712     23190  BUNDLE OF 3 SCHOOL EXERCISE BOOKS          12   \n",
       "831242   563712     22037                  ROBOT BIRTHDAY CARD        12   \n",
       "831241   563712     21986     PACK OF 12 PINK POLKADOT TISSUES        24   \n",
       "831240   563712     21981         PACK OF 12 WOODLAND TISSUES         24   \n",
       "831249   563712     22630                 DOLLY GIRL LUNCH BOX        12   \n",
       "859960   566256      POST                              POSTAGE         1   \n",
       "859959   566256     20751     FUNKY WASHING UP GLOVES ASSORTED        12   \n",
       "859958   566256     21208          PASTEL COLOUR HONEYCOMB FAN        12   \n",
       "859955   566256     22726           ALARM CLOCK BAKELIKE GREEN         4   \n",
       "859956   566256     20682     RED RETROSPOT CHILDRENS UMBRELLA         6   \n",
       "859954   566256     22730           ALARM CLOCK BAKELIKE IVORY         4   \n",
       "859957   566256     37495       FAIRY CAKE BIRTHDAY CANDLE SET         4   \n",
       "888248   568518     22728            ALARM CLOCK BAKELIKE PINK         4   \n",
       "888247   568518     22726           ALARM CLOCK BAKELIKE GREEN         4   \n",
       "888250   568518      POST                              POSTAGE         1   \n",
       "888246   568518     22635     CHILDS BREAKFAST SET DOLLY GIRL          2   \n",
       "888249   568518     22727            ALARM CLOCK BAKELIKE RED          4   \n",
       "888244   568518     22629                  SPACEBOY LUNCH BOX         12   \n",
       "888243   568518     22630                 DOLLY GIRL LUNCH BOX        12   \n",
       "888242   568518     22556       PLASTERS IN TIN CIRCUS PARADE         12   \n",
       "888241   568518     22555            PLASTERS IN TIN STRONGMAN        12   \n",
       "888245   568518     22634       CHILDS BREAKFAST SET SPACEBOY          2   \n",
       "1067363  581587     22629                  SPACEBOY LUNCH BOX         12   \n",
       "1067368  581587     23255      CHILDRENS CUTLERY CIRCUS PARADE         4   \n",
       "1067367  581587     23254        CHILDRENS CUTLERY DOLLY GIRL          4   \n",
       "1067366  581587     22899         CHILDREN'S APRON DOLLY GIRL          6   \n",
       "1067365  581587     22613          PACK OF 20 SPACEBOY NAPKINS        12   \n",
       "1067364  581587     23256          CHILDRENS CUTLERY SPACEBOY          4   \n",
       "1067362  581587     22367      CHILDRENS APRON SPACEBOY DESIGN         8   \n",
       "1067355  581587     22631             CIRCUS PARADE LUNCH BOX         12   \n",
       "1067360  581587     22726           ALARM CLOCK BAKELIKE GREEN         4   \n",
       "1067359  581587     22727            ALARM CLOCK BAKELIKE RED          4   \n",
       "1067358  581587     22728            ALARM CLOCK BAKELIKE PINK         4   \n",
       "1067357  581587     22555            PLASTERS IN TIN STRONGMAN        12   \n",
       "1067356  581587     22556       PLASTERS IN TIN CIRCUS PARADE         12   \n",
       "1067369  581587     22138        BAKING SET 9 PIECE RETROSPOT          3   \n",
       "1067361  581587     22730           ALARM CLOCK BAKELIKE IVORY         4   \n",
       "1067370  581587      POST                              POSTAGE         1   \n",
       "\n",
       "                 InvoiceDate  Price  Customer ID Country      InvoiceDate_DT  \\\n",
       "831253   2011-08-18 15:44:00   0.42        12680  France 2011-08-18 15:44:00   \n",
       "831252   2011-08-18 15:44:00   1.95        12680  France 2011-08-18 15:44:00   \n",
       "831254   2011-08-18 15:44:00   4.15        12680  France 2011-08-18 15:44:00   \n",
       "831251   2011-08-18 15:44:00   4.15        12680  France 2011-08-18 15:44:00   \n",
       "831259   2011-08-18 15:44:00  18.00        12680  France 2011-08-18 15:44:00   \n",
       "831257   2011-08-18 15:44:00   0.39        12680  France 2011-08-18 15:44:00   \n",
       "831258   2011-08-18 15:44:00   2.95        12680  France 2011-08-18 15:44:00   \n",
       "831255   2011-08-18 15:44:00   3.75        12680  France 2011-08-18 15:44:00   \n",
       "831250   2011-08-18 15:44:00   2.10        12680  France 2011-08-18 15:44:00   \n",
       "831256   2011-08-18 15:44:00   3.75        12680  France 2011-08-18 15:44:00   \n",
       "831248   2011-08-18 15:44:00   0.42        12680  France 2011-08-18 15:44:00   \n",
       "831247   2011-08-18 15:44:00   1.45        12680  France 2011-08-18 15:44:00   \n",
       "831246   2011-08-18 15:44:00   1.65        12680  France 2011-08-18 15:44:00   \n",
       "831245   2011-08-18 15:44:00   1.95        12680  France 2011-08-18 15:44:00   \n",
       "831244   2011-08-18 15:44:00   1.65        12680  France 2011-08-18 15:44:00   \n",
       "831243   2011-08-18 15:44:00   1.65        12680  France 2011-08-18 15:44:00   \n",
       "831242   2011-08-18 15:44:00   0.42        12680  France 2011-08-18 15:44:00   \n",
       "831241   2011-08-18 15:44:00   0.29        12680  France 2011-08-18 15:44:00   \n",
       "831240   2011-08-18 15:44:00   0.29        12680  France 2011-08-18 15:44:00   \n",
       "831249   2011-08-18 15:44:00   1.95        12680  France 2011-08-18 15:44:00   \n",
       "859960   2011-09-11 12:27:00  18.00        12680  France 2011-09-11 12:27:00   \n",
       "859959   2011-09-11 12:27:00   2.10        12680  France 2011-09-11 12:27:00   \n",
       "859958   2011-09-11 12:27:00   0.39        12680  France 2011-09-11 12:27:00   \n",
       "859955   2011-09-11 12:27:00   3.75        12680  France 2011-09-11 12:27:00   \n",
       "859956   2011-09-11 12:27:00   3.25        12680  France 2011-09-11 12:27:00   \n",
       "859954   2011-09-11 12:27:00   3.75        12680  France 2011-09-11 12:27:00   \n",
       "859957   2011-09-11 12:27:00   3.75        12680  France 2011-09-11 12:27:00   \n",
       "888248   2011-09-27 12:53:00   3.75        12680  France 2011-09-27 12:53:00   \n",
       "888247   2011-09-27 12:53:00   3.75        12680  France 2011-09-27 12:53:00   \n",
       "888250   2011-09-27 12:53:00  18.00        12680  France 2011-09-27 12:53:00   \n",
       "888246   2011-09-27 12:53:00   9.95        12680  France 2011-09-27 12:53:00   \n",
       "888249   2011-09-27 12:53:00   3.75        12680  France 2011-09-27 12:53:00   \n",
       "888244   2011-09-27 12:53:00   1.95        12680  France 2011-09-27 12:53:00   \n",
       "888243   2011-09-27 12:53:00   1.95        12680  France 2011-09-27 12:53:00   \n",
       "888242   2011-09-27 12:53:00   1.65        12680  France 2011-09-27 12:53:00   \n",
       "888241   2011-09-27 12:53:00   1.65        12680  France 2011-09-27 12:53:00   \n",
       "888245   2011-09-27 12:53:00   9.95        12680  France 2011-09-27 12:53:00   \n",
       "1067363  2011-12-09 12:50:00   1.95        12680  France 2011-12-09 12:50:00   \n",
       "1067368  2011-12-09 12:50:00   4.15        12680  France 2011-12-09 12:50:00   \n",
       "1067367  2011-12-09 12:50:00   4.15        12680  France 2011-12-09 12:50:00   \n",
       "1067366  2011-12-09 12:50:00   2.10        12680  France 2011-12-09 12:50:00   \n",
       "1067365  2011-12-09 12:50:00   0.85        12680  France 2011-12-09 12:50:00   \n",
       "1067364  2011-12-09 12:50:00   4.15        12680  France 2011-12-09 12:50:00   \n",
       "1067362  2011-12-09 12:50:00   1.95        12680  France 2011-12-09 12:50:00   \n",
       "1067355  2011-12-09 12:50:00   1.95        12680  France 2011-12-09 12:50:00   \n",
       "1067360  2011-12-09 12:50:00   3.75        12680  France 2011-12-09 12:50:00   \n",
       "1067359  2011-12-09 12:50:00   3.75        12680  France 2011-12-09 12:50:00   \n",
       "1067358  2011-12-09 12:50:00   3.75        12680  France 2011-12-09 12:50:00   \n",
       "1067357  2011-12-09 12:50:00   1.65        12680  France 2011-12-09 12:50:00   \n",
       "1067356  2011-12-09 12:50:00   1.65        12680  France 2011-12-09 12:50:00   \n",
       "1067369  2011-12-09 12:50:00   4.95        12680  France 2011-12-09 12:50:00   \n",
       "1067361  2011-12-09 12:50:00   3.75        12680  France 2011-12-09 12:50:00   \n",
       "1067370  2011-12-09 12:50:00  18.00        12680  France 2011-12-09 12:50:00   \n",
       "\n",
       "         Total InvoiceQuater  InvoiceQuarterID  CohortQuarterID  \n",
       "831253    5.04       Q3/2011                 6                6  \n",
       "831252   15.60       Q3/2011                 6                6  \n",
       "831254   16.60       Q3/2011                 6                6  \n",
       "831251   16.60       Q3/2011                 6                6  \n",
       "831259   36.00       Q3/2011                 6                6  \n",
       "831257   14.04       Q3/2011                 6                6  \n",
       "831258   17.70       Q3/2011                 6                6  \n",
       "831255   15.00       Q3/2011                 6                6  \n",
       "831250   12.60       Q3/2011                 6                6  \n",
       "831256   15.00       Q3/2011                 6                6  \n",
       "831248    5.04       Q3/2011                 6                6  \n",
       "831247   17.40       Q3/2011                 6                6  \n",
       "831246   19.80       Q3/2011                 6                6  \n",
       "831245   23.40       Q3/2011                 6                6  \n",
       "831244   19.80       Q3/2011                 6                6  \n",
       "831243   19.80       Q3/2011                 6                6  \n",
       "831242    5.04       Q3/2011                 6                6  \n",
       "831241    6.96       Q3/2011                 6                6  \n",
       "831240    6.96       Q3/2011                 6                6  \n",
       "831249   23.40       Q3/2011                 6                6  \n",
       "859960   18.00       Q3/2011                 6                6  \n",
       "859959   25.20       Q3/2011                 6                6  \n",
       "859958    4.68       Q3/2011                 6                6  \n",
       "859955   15.00       Q3/2011                 6                6  \n",
       "859956   19.50       Q3/2011                 6                6  \n",
       "859954   15.00       Q3/2011                 6                6  \n",
       "859957   15.00       Q3/2011                 6                6  \n",
       "888248   15.00       Q3/2011                 6                6  \n",
       "888247   15.00       Q3/2011                 6                6  \n",
       "888250   18.00       Q3/2011                 6                6  \n",
       "888246   19.90       Q3/2011                 6                6  \n",
       "888249   15.00       Q3/2011                 6                6  \n",
       "888244   23.40       Q3/2011                 6                6  \n",
       "888243   23.40       Q3/2011                 6                6  \n",
       "888242   19.80       Q3/2011                 6                6  \n",
       "888241   19.80       Q3/2011                 6                6  \n",
       "888245   19.90       Q3/2011                 6                6  \n",
       "1067363  23.40       Q4/2011                 7                6  \n",
       "1067368  16.60       Q4/2011                 7                6  \n",
       "1067367  16.60       Q4/2011                 7                6  \n",
       "1067366  12.60       Q4/2011                 7                6  \n",
       "1067365  10.20       Q4/2011                 7                6  \n",
       "1067364  16.60       Q4/2011                 7                6  \n",
       "1067362  15.60       Q4/2011                 7                6  \n",
       "1067355  23.40       Q4/2011                 7                6  \n",
       "1067360  15.00       Q4/2011                 7                6  \n",
       "1067359  15.00       Q4/2011                 7                6  \n",
       "1067358  15.00       Q4/2011                 7                6  \n",
       "1067357  19.80       Q4/2011                 7                6  \n",
       "1067356  19.80       Q4/2011                 7                6  \n",
       "1067369  14.85       Q4/2011                 7                6  \n",
       "1067361  15.00       Q4/2011                 7                6  \n",
       "1067370  18.00       Q4/2011                 7                6  "
      ]
     },
     "execution_count": 119,
     "metadata": {},
     "output_type": "execute_result"
    }
   ],
   "source": [
    "retail_data[retail_data[\"Customer ID\"]==12680]\n"
   ]
  },
  {
   "cell_type": "code",
   "execution_count": 120,
   "id": "de93a5b7",
   "metadata": {},
   "outputs": [
    {
     "data": {
      "text/html": [
       "<div>\n",
       "<style scoped>\n",
       "    .dataframe tbody tr th:only-of-type {\n",
       "        vertical-align: middle;\n",
       "    }\n",
       "\n",
       "    .dataframe tbody tr th {\n",
       "        vertical-align: top;\n",
       "    }\n",
       "\n",
       "    .dataframe thead th {\n",
       "        text-align: right;\n",
       "    }\n",
       "</style>\n",
       "<table border=\"1\" class=\"dataframe\">\n",
       "  <thead>\n",
       "    <tr style=\"text-align: right;\">\n",
       "      <th></th>\n",
       "      <th>Invoice</th>\n",
       "      <th>StockCode</th>\n",
       "      <th>Description</th>\n",
       "      <th>Quantity</th>\n",
       "      <th>InvoiceDate</th>\n",
       "      <th>Price</th>\n",
       "      <th>Customer ID</th>\n",
       "      <th>Country</th>\n",
       "      <th>InvoiceDate_DT</th>\n",
       "      <th>Total</th>\n",
       "      <th>InvoiceQuater</th>\n",
       "      <th>InvoiceQuarterID</th>\n",
       "      <th>CohortQuarterID</th>\n",
       "      <th>CohortQuarter</th>\n",
       "    </tr>\n",
       "  </thead>\n",
       "  <tbody>\n",
       "    <tr>\n",
       "      <th>45228</th>\n",
       "      <td>493410</td>\n",
       "      <td>TEST001</td>\n",
       "      <td>This is a test product.</td>\n",
       "      <td>5</td>\n",
       "      <td>2010-01-04 09:24:00</td>\n",
       "      <td>4.50</td>\n",
       "      <td>12346</td>\n",
       "      <td>United Kingdom</td>\n",
       "      <td>2010-01-04 09:24:00</td>\n",
       "      <td>22.50</td>\n",
       "      <td>Q1/2010</td>\n",
       "      <td>0</td>\n",
       "      <td>0</td>\n",
       "      <td>Q1/2010</td>\n",
       "    </tr>\n",
       "    <tr>\n",
       "      <th>45229</th>\n",
       "      <td>C493411</td>\n",
       "      <td>21539</td>\n",
       "      <td>RETRO SPOTS BUTTER DISH</td>\n",
       "      <td>-1</td>\n",
       "      <td>2010-01-04 09:43:00</td>\n",
       "      <td>4.25</td>\n",
       "      <td>14590</td>\n",
       "      <td>United Kingdom</td>\n",
       "      <td>2010-01-04 09:43:00</td>\n",
       "      <td>-4.25</td>\n",
       "      <td>Q1/2010</td>\n",
       "      <td>0</td>\n",
       "      <td>0</td>\n",
       "      <td>Q1/2010</td>\n",
       "    </tr>\n",
       "    <tr>\n",
       "      <th>45230</th>\n",
       "      <td>493412</td>\n",
       "      <td>TEST001</td>\n",
       "      <td>This is a test product.</td>\n",
       "      <td>5</td>\n",
       "      <td>2010-01-04 09:53:00</td>\n",
       "      <td>4.50</td>\n",
       "      <td>12346</td>\n",
       "      <td>United Kingdom</td>\n",
       "      <td>2010-01-04 09:53:00</td>\n",
       "      <td>22.50</td>\n",
       "      <td>Q1/2010</td>\n",
       "      <td>0</td>\n",
       "      <td>0</td>\n",
       "      <td>Q1/2010</td>\n",
       "    </tr>\n",
       "    <tr>\n",
       "      <th>45238</th>\n",
       "      <td>493414</td>\n",
       "      <td>21527</td>\n",
       "      <td>RETRO SPOT TRADITIONAL TEAPOT</td>\n",
       "      <td>12</td>\n",
       "      <td>2010-01-04 10:28:00</td>\n",
       "      <td>6.95</td>\n",
       "      <td>14590</td>\n",
       "      <td>United Kingdom</td>\n",
       "      <td>2010-01-04 10:28:00</td>\n",
       "      <td>83.40</td>\n",
       "      <td>Q1/2010</td>\n",
       "      <td>0</td>\n",
       "      <td>0</td>\n",
       "      <td>Q1/2010</td>\n",
       "    </tr>\n",
       "    <tr>\n",
       "      <th>45237</th>\n",
       "      <td>493414</td>\n",
       "      <td>35001G</td>\n",
       "      <td>HAND OPEN SHAPE GOLD</td>\n",
       "      <td>2</td>\n",
       "      <td>2010-01-04 10:28:00</td>\n",
       "      <td>4.25</td>\n",
       "      <td>14590</td>\n",
       "      <td>United Kingdom</td>\n",
       "      <td>2010-01-04 10:28:00</td>\n",
       "      <td>8.50</td>\n",
       "      <td>Q1/2010</td>\n",
       "      <td>0</td>\n",
       "      <td>0</td>\n",
       "      <td>Q1/2010</td>\n",
       "    </tr>\n",
       "  </tbody>\n",
       "</table>\n",
       "</div>"
      ],
      "text/plain": [
       "       Invoice StockCode                     Description  Quantity  \\\n",
       "45228   493410   TEST001         This is a test product.         5   \n",
       "45229  C493411     21539         RETRO SPOTS BUTTER DISH        -1   \n",
       "45230   493412   TEST001         This is a test product.         5   \n",
       "45238   493414     21527  RETRO SPOT TRADITIONAL TEAPOT         12   \n",
       "45237   493414    35001G            HAND OPEN SHAPE GOLD         2   \n",
       "\n",
       "               InvoiceDate  Price  Customer ID         Country  \\\n",
       "45228  2010-01-04 09:24:00   4.50        12346  United Kingdom   \n",
       "45229  2010-01-04 09:43:00   4.25        14590  United Kingdom   \n",
       "45230  2010-01-04 09:53:00   4.50        12346  United Kingdom   \n",
       "45238  2010-01-04 10:28:00   6.95        14590  United Kingdom   \n",
       "45237  2010-01-04 10:28:00   4.25        14590  United Kingdom   \n",
       "\n",
       "           InvoiceDate_DT  Total InvoiceQuater  InvoiceQuarterID  \\\n",
       "45228 2010-01-04 09:24:00  22.50       Q1/2010                 0   \n",
       "45229 2010-01-04 09:43:00  -4.25       Q1/2010                 0   \n",
       "45230 2010-01-04 09:53:00  22.50       Q1/2010                 0   \n",
       "45238 2010-01-04 10:28:00  83.40       Q1/2010                 0   \n",
       "45237 2010-01-04 10:28:00   8.50       Q1/2010                 0   \n",
       "\n",
       "       CohortQuarterID CohortQuarter  \n",
       "45228                0       Q1/2010  \n",
       "45229                0       Q1/2010  \n",
       "45230                0       Q1/2010  \n",
       "45238                0       Q1/2010  \n",
       "45237                0       Q1/2010  "
      ]
     },
     "execution_count": 120,
     "metadata": {},
     "output_type": "execute_result"
    }
   ],
   "source": [
    "retail_data[\"CohortQuarter\"]=retail_data['CohortQuarterID'].map(dict(zip(quarters_map.values(),quarters_map.keys())))\n",
    "retail_data.head()"
   ]
  },
  {
   "cell_type": "code",
   "execution_count": 121,
   "id": "cd4c9c77",
   "metadata": {},
   "outputs": [
    {
     "data": {
      "text/html": [
       "<div>\n",
       "<style scoped>\n",
       "    .dataframe tbody tr th:only-of-type {\n",
       "        vertical-align: middle;\n",
       "    }\n",
       "\n",
       "    .dataframe tbody tr th {\n",
       "        vertical-align: top;\n",
       "    }\n",
       "\n",
       "    .dataframe thead th {\n",
       "        text-align: right;\n",
       "    }\n",
       "</style>\n",
       "<table border=\"1\" class=\"dataframe\">\n",
       "  <thead>\n",
       "    <tr style=\"text-align: right;\">\n",
       "      <th></th>\n",
       "      <th>Invoice</th>\n",
       "      <th>StockCode</th>\n",
       "      <th>Description</th>\n",
       "      <th>Quantity</th>\n",
       "      <th>InvoiceDate</th>\n",
       "      <th>Price</th>\n",
       "      <th>Customer ID</th>\n",
       "      <th>Country</th>\n",
       "      <th>InvoiceDate_DT</th>\n",
       "      <th>Total</th>\n",
       "      <th>InvoiceQuater</th>\n",
       "      <th>InvoiceQuarterID</th>\n",
       "      <th>CohortQuarterID</th>\n",
       "      <th>CohortQuarter</th>\n",
       "    </tr>\n",
       "  </thead>\n",
       "  <tbody>\n",
       "    <tr>\n",
       "      <th>1067357</th>\n",
       "      <td>581587</td>\n",
       "      <td>22555</td>\n",
       "      <td>PLASTERS IN TIN STRONGMAN</td>\n",
       "      <td>12</td>\n",
       "      <td>2011-12-09 12:50:00</td>\n",
       "      <td>1.65</td>\n",
       "      <td>12680</td>\n",
       "      <td>France</td>\n",
       "      <td>2011-12-09 12:50:00</td>\n",
       "      <td>19.80</td>\n",
       "      <td>Q4/2011</td>\n",
       "      <td>7</td>\n",
       "      <td>6</td>\n",
       "      <td>Q3/2011</td>\n",
       "    </tr>\n",
       "    <tr>\n",
       "      <th>1067356</th>\n",
       "      <td>581587</td>\n",
       "      <td>22556</td>\n",
       "      <td>PLASTERS IN TIN CIRCUS PARADE</td>\n",
       "      <td>12</td>\n",
       "      <td>2011-12-09 12:50:00</td>\n",
       "      <td>1.65</td>\n",
       "      <td>12680</td>\n",
       "      <td>France</td>\n",
       "      <td>2011-12-09 12:50:00</td>\n",
       "      <td>19.80</td>\n",
       "      <td>Q4/2011</td>\n",
       "      <td>7</td>\n",
       "      <td>6</td>\n",
       "      <td>Q3/2011</td>\n",
       "    </tr>\n",
       "    <tr>\n",
       "      <th>1067369</th>\n",
       "      <td>581587</td>\n",
       "      <td>22138</td>\n",
       "      <td>BAKING SET 9 PIECE RETROSPOT</td>\n",
       "      <td>3</td>\n",
       "      <td>2011-12-09 12:50:00</td>\n",
       "      <td>4.95</td>\n",
       "      <td>12680</td>\n",
       "      <td>France</td>\n",
       "      <td>2011-12-09 12:50:00</td>\n",
       "      <td>14.85</td>\n",
       "      <td>Q4/2011</td>\n",
       "      <td>7</td>\n",
       "      <td>6</td>\n",
       "      <td>Q3/2011</td>\n",
       "    </tr>\n",
       "    <tr>\n",
       "      <th>1067361</th>\n",
       "      <td>581587</td>\n",
       "      <td>22730</td>\n",
       "      <td>ALARM CLOCK BAKELIKE IVORY</td>\n",
       "      <td>4</td>\n",
       "      <td>2011-12-09 12:50:00</td>\n",
       "      <td>3.75</td>\n",
       "      <td>12680</td>\n",
       "      <td>France</td>\n",
       "      <td>2011-12-09 12:50:00</td>\n",
       "      <td>15.00</td>\n",
       "      <td>Q4/2011</td>\n",
       "      <td>7</td>\n",
       "      <td>6</td>\n",
       "      <td>Q3/2011</td>\n",
       "    </tr>\n",
       "    <tr>\n",
       "      <th>1067370</th>\n",
       "      <td>581587</td>\n",
       "      <td>POST</td>\n",
       "      <td>POSTAGE</td>\n",
       "      <td>1</td>\n",
       "      <td>2011-12-09 12:50:00</td>\n",
       "      <td>18.00</td>\n",
       "      <td>12680</td>\n",
       "      <td>France</td>\n",
       "      <td>2011-12-09 12:50:00</td>\n",
       "      <td>18.00</td>\n",
       "      <td>Q4/2011</td>\n",
       "      <td>7</td>\n",
       "      <td>6</td>\n",
       "      <td>Q3/2011</td>\n",
       "    </tr>\n",
       "  </tbody>\n",
       "</table>\n",
       "</div>"
      ],
      "text/plain": [
       "        Invoice StockCode                     Description  Quantity  \\\n",
       "1067357  581587     22555       PLASTERS IN TIN STRONGMAN        12   \n",
       "1067356  581587     22556  PLASTERS IN TIN CIRCUS PARADE         12   \n",
       "1067369  581587     22138   BAKING SET 9 PIECE RETROSPOT          3   \n",
       "1067361  581587     22730      ALARM CLOCK BAKELIKE IVORY         4   \n",
       "1067370  581587      POST                         POSTAGE         1   \n",
       "\n",
       "                 InvoiceDate  Price  Customer ID Country      InvoiceDate_DT  \\\n",
       "1067357  2011-12-09 12:50:00   1.65        12680  France 2011-12-09 12:50:00   \n",
       "1067356  2011-12-09 12:50:00   1.65        12680  France 2011-12-09 12:50:00   \n",
       "1067369  2011-12-09 12:50:00   4.95        12680  France 2011-12-09 12:50:00   \n",
       "1067361  2011-12-09 12:50:00   3.75        12680  France 2011-12-09 12:50:00   \n",
       "1067370  2011-12-09 12:50:00  18.00        12680  France 2011-12-09 12:50:00   \n",
       "\n",
       "         Total InvoiceQuater  InvoiceQuarterID  CohortQuarterID CohortQuarter  \n",
       "1067357  19.80       Q4/2011                 7                6       Q3/2011  \n",
       "1067356  19.80       Q4/2011                 7                6       Q3/2011  \n",
       "1067369  14.85       Q4/2011                 7                6       Q3/2011  \n",
       "1067361  15.00       Q4/2011                 7                6       Q3/2011  \n",
       "1067370  18.00       Q4/2011                 7                6       Q3/2011  "
      ]
     },
     "execution_count": 121,
     "metadata": {},
     "output_type": "execute_result"
    }
   ],
   "source": [
    "retail_data.tail()"
   ]
  },
  {
   "cell_type": "code",
   "execution_count": 122,
   "id": "01645718",
   "metadata": {},
   "outputs": [
    {
     "data": {
      "text/html": [
       "<div>\n",
       "<style scoped>\n",
       "    .dataframe tbody tr th:only-of-type {\n",
       "        vertical-align: middle;\n",
       "    }\n",
       "\n",
       "    .dataframe tbody tr th {\n",
       "        vertical-align: top;\n",
       "    }\n",
       "\n",
       "    .dataframe thead th {\n",
       "        text-align: right;\n",
       "    }\n",
       "</style>\n",
       "<table border=\"1\" class=\"dataframe\">\n",
       "  <thead>\n",
       "    <tr style=\"text-align: right;\">\n",
       "      <th></th>\n",
       "      <th>Invoice</th>\n",
       "      <th>StockCode</th>\n",
       "      <th>Description</th>\n",
       "      <th>Quantity</th>\n",
       "      <th>InvoiceDate</th>\n",
       "      <th>Price</th>\n",
       "      <th>Customer ID</th>\n",
       "      <th>Country</th>\n",
       "      <th>InvoiceDate_DT</th>\n",
       "      <th>Total</th>\n",
       "      <th>InvoiceQuater</th>\n",
       "      <th>InvoiceQuarterID</th>\n",
       "      <th>CohortQuarterID</th>\n",
       "      <th>CohortQuarter</th>\n",
       "      <th>CohortIndex</th>\n",
       "    </tr>\n",
       "  </thead>\n",
       "  <tbody>\n",
       "    <tr>\n",
       "      <th>45228</th>\n",
       "      <td>493410</td>\n",
       "      <td>TEST001</td>\n",
       "      <td>This is a test product.</td>\n",
       "      <td>5</td>\n",
       "      <td>2010-01-04 09:24:00</td>\n",
       "      <td>4.50</td>\n",
       "      <td>12346</td>\n",
       "      <td>United Kingdom</td>\n",
       "      <td>2010-01-04 09:24:00</td>\n",
       "      <td>22.50</td>\n",
       "      <td>Q1/2010</td>\n",
       "      <td>0</td>\n",
       "      <td>0</td>\n",
       "      <td>Q1/2010</td>\n",
       "      <td>0</td>\n",
       "    </tr>\n",
       "    <tr>\n",
       "      <th>45229</th>\n",
       "      <td>C493411</td>\n",
       "      <td>21539</td>\n",
       "      <td>RETRO SPOTS BUTTER DISH</td>\n",
       "      <td>-1</td>\n",
       "      <td>2010-01-04 09:43:00</td>\n",
       "      <td>4.25</td>\n",
       "      <td>14590</td>\n",
       "      <td>United Kingdom</td>\n",
       "      <td>2010-01-04 09:43:00</td>\n",
       "      <td>-4.25</td>\n",
       "      <td>Q1/2010</td>\n",
       "      <td>0</td>\n",
       "      <td>0</td>\n",
       "      <td>Q1/2010</td>\n",
       "      <td>0</td>\n",
       "    </tr>\n",
       "    <tr>\n",
       "      <th>45230</th>\n",
       "      <td>493412</td>\n",
       "      <td>TEST001</td>\n",
       "      <td>This is a test product.</td>\n",
       "      <td>5</td>\n",
       "      <td>2010-01-04 09:53:00</td>\n",
       "      <td>4.50</td>\n",
       "      <td>12346</td>\n",
       "      <td>United Kingdom</td>\n",
       "      <td>2010-01-04 09:53:00</td>\n",
       "      <td>22.50</td>\n",
       "      <td>Q1/2010</td>\n",
       "      <td>0</td>\n",
       "      <td>0</td>\n",
       "      <td>Q1/2010</td>\n",
       "      <td>0</td>\n",
       "    </tr>\n",
       "    <tr>\n",
       "      <th>45238</th>\n",
       "      <td>493414</td>\n",
       "      <td>21527</td>\n",
       "      <td>RETRO SPOT TRADITIONAL TEAPOT</td>\n",
       "      <td>12</td>\n",
       "      <td>2010-01-04 10:28:00</td>\n",
       "      <td>6.95</td>\n",
       "      <td>14590</td>\n",
       "      <td>United Kingdom</td>\n",
       "      <td>2010-01-04 10:28:00</td>\n",
       "      <td>83.40</td>\n",
       "      <td>Q1/2010</td>\n",
       "      <td>0</td>\n",
       "      <td>0</td>\n",
       "      <td>Q1/2010</td>\n",
       "      <td>0</td>\n",
       "    </tr>\n",
       "    <tr>\n",
       "      <th>45237</th>\n",
       "      <td>493414</td>\n",
       "      <td>35001G</td>\n",
       "      <td>HAND OPEN SHAPE GOLD</td>\n",
       "      <td>2</td>\n",
       "      <td>2010-01-04 10:28:00</td>\n",
       "      <td>4.25</td>\n",
       "      <td>14590</td>\n",
       "      <td>United Kingdom</td>\n",
       "      <td>2010-01-04 10:28:00</td>\n",
       "      <td>8.50</td>\n",
       "      <td>Q1/2010</td>\n",
       "      <td>0</td>\n",
       "      <td>0</td>\n",
       "      <td>Q1/2010</td>\n",
       "      <td>0</td>\n",
       "    </tr>\n",
       "  </tbody>\n",
       "</table>\n",
       "</div>"
      ],
      "text/plain": [
       "       Invoice StockCode                     Description  Quantity  \\\n",
       "45228   493410   TEST001         This is a test product.         5   \n",
       "45229  C493411     21539         RETRO SPOTS BUTTER DISH        -1   \n",
       "45230   493412   TEST001         This is a test product.         5   \n",
       "45238   493414     21527  RETRO SPOT TRADITIONAL TEAPOT         12   \n",
       "45237   493414    35001G            HAND OPEN SHAPE GOLD         2   \n",
       "\n",
       "               InvoiceDate  Price  Customer ID         Country  \\\n",
       "45228  2010-01-04 09:24:00   4.50        12346  United Kingdom   \n",
       "45229  2010-01-04 09:43:00   4.25        14590  United Kingdom   \n",
       "45230  2010-01-04 09:53:00   4.50        12346  United Kingdom   \n",
       "45238  2010-01-04 10:28:00   6.95        14590  United Kingdom   \n",
       "45237  2010-01-04 10:28:00   4.25        14590  United Kingdom   \n",
       "\n",
       "           InvoiceDate_DT  Total InvoiceQuater  InvoiceQuarterID  \\\n",
       "45228 2010-01-04 09:24:00  22.50       Q1/2010                 0   \n",
       "45229 2010-01-04 09:43:00  -4.25       Q1/2010                 0   \n",
       "45230 2010-01-04 09:53:00  22.50       Q1/2010                 0   \n",
       "45238 2010-01-04 10:28:00  83.40       Q1/2010                 0   \n",
       "45237 2010-01-04 10:28:00   8.50       Q1/2010                 0   \n",
       "\n",
       "       CohortQuarterID CohortQuarter  CohortIndex  \n",
       "45228                0       Q1/2010            0  \n",
       "45229                0       Q1/2010            0  \n",
       "45230                0       Q1/2010            0  \n",
       "45238                0       Q1/2010            0  \n",
       "45237                0       Q1/2010            0  "
      ]
     },
     "execution_count": 122,
     "metadata": {},
     "output_type": "execute_result"
    }
   ],
   "source": [
    "retail_data['CohortIndex']=retail_data[\"InvoiceQuarterID\"]-retail_data['CohortQuarterID']\n",
    "\n",
    "retail_data.head()"
   ]
  },
  {
   "cell_type": "markdown",
   "id": "c718c568",
   "metadata": {},
   "source": [
    "Retention Cohort Analysis\n",
    "First, I will perform retention analysis and investigate the number of active users. For that, I will group the data, build a pivot table and calculate retention rate in %. Finally, I will plot the triangle chart with Plotly heatmap."
   ]
  },
  {
   "cell_type": "code",
   "execution_count": 123,
   "id": "b677c1bb",
   "metadata": {},
   "outputs": [
    {
     "data": {
      "text/html": [
       "<div>\n",
       "<style scoped>\n",
       "    .dataframe tbody tr th:only-of-type {\n",
       "        vertical-align: middle;\n",
       "    }\n",
       "\n",
       "    .dataframe tbody tr th {\n",
       "        vertical-align: top;\n",
       "    }\n",
       "\n",
       "    .dataframe thead th {\n",
       "        text-align: right;\n",
       "    }\n",
       "</style>\n",
       "<table border=\"1\" class=\"dataframe\">\n",
       "  <thead>\n",
       "    <tr style=\"text-align: right;\">\n",
       "      <th></th>\n",
       "      <th>CohortQuarterID</th>\n",
       "      <th>CohortIndex</th>\n",
       "      <th>Customer_Count</th>\n",
       "    </tr>\n",
       "  </thead>\n",
       "  <tbody>\n",
       "    <tr>\n",
       "      <th>0</th>\n",
       "      <td>0</td>\n",
       "      <td>0</td>\n",
       "      <td>1866</td>\n",
       "    </tr>\n",
       "    <tr>\n",
       "      <th>1</th>\n",
       "      <td>0</td>\n",
       "      <td>1</td>\n",
       "      <td>1152</td>\n",
       "    </tr>\n",
       "    <tr>\n",
       "      <th>2</th>\n",
       "      <td>0</td>\n",
       "      <td>2</td>\n",
       "      <td>1071</td>\n",
       "    </tr>\n",
       "    <tr>\n",
       "      <th>3</th>\n",
       "      <td>0</td>\n",
       "      <td>3</td>\n",
       "      <td>1148</td>\n",
       "    </tr>\n",
       "    <tr>\n",
       "      <th>4</th>\n",
       "      <td>0</td>\n",
       "      <td>4</td>\n",
       "      <td>854</td>\n",
       "    </tr>\n",
       "  </tbody>\n",
       "</table>\n",
       "</div>"
      ],
      "text/plain": [
       "   CohortQuarterID  CohortIndex  Customer_Count\n",
       "0                0            0            1866\n",
       "1                0            1            1152\n",
       "2                0            2            1071\n",
       "3                0            3            1148\n",
       "4                0            4             854"
      ]
     },
     "execution_count": 123,
     "metadata": {},
     "output_type": "execute_result"
    }
   ],
   "source": [
    "cohort_retention=retail_data.groupby(['CohortQuarterID','CohortIndex'])[\"Customer ID\"].apply(pd.Series.nunique).reset_index()\n",
    "cohort_retention.rename(columns={'Customer ID':'Customer_Count'},inplace=True)\n",
    "\n",
    "cohort_retention.head()"
   ]
  },
  {
   "cell_type": "code",
   "execution_count": 124,
   "id": "64544a1c",
   "metadata": {},
   "outputs": [
    {
     "data": {
      "text/html": [
       "<div>\n",
       "<style scoped>\n",
       "    .dataframe tbody tr th:only-of-type {\n",
       "        vertical-align: middle;\n",
       "    }\n",
       "\n",
       "    .dataframe tbody tr th {\n",
       "        vertical-align: top;\n",
       "    }\n",
       "\n",
       "    .dataframe thead th {\n",
       "        text-align: right;\n",
       "    }\n",
       "</style>\n",
       "<table border=\"1\" class=\"dataframe\">\n",
       "  <thead>\n",
       "    <tr style=\"text-align: right;\">\n",
       "      <th></th>\n",
       "      <th>CohortQuarterID</th>\n",
       "      <th>CohortIndex</th>\n",
       "      <th>Customer_Count</th>\n",
       "    </tr>\n",
       "  </thead>\n",
       "  <tbody>\n",
       "    <tr>\n",
       "      <th>0</th>\n",
       "      <td>0</td>\n",
       "      <td>0</td>\n",
       "      <td>1866</td>\n",
       "    </tr>\n",
       "    <tr>\n",
       "      <th>1</th>\n",
       "      <td>0</td>\n",
       "      <td>1</td>\n",
       "      <td>1152</td>\n",
       "    </tr>\n",
       "    <tr>\n",
       "      <th>2</th>\n",
       "      <td>0</td>\n",
       "      <td>2</td>\n",
       "      <td>1071</td>\n",
       "    </tr>\n",
       "    <tr>\n",
       "      <th>3</th>\n",
       "      <td>0</td>\n",
       "      <td>3</td>\n",
       "      <td>1148</td>\n",
       "    </tr>\n",
       "    <tr>\n",
       "      <th>4</th>\n",
       "      <td>0</td>\n",
       "      <td>4</td>\n",
       "      <td>854</td>\n",
       "    </tr>\n",
       "    <tr>\n",
       "      <th>5</th>\n",
       "      <td>0</td>\n",
       "      <td>5</td>\n",
       "      <td>853</td>\n",
       "    </tr>\n",
       "    <tr>\n",
       "      <th>6</th>\n",
       "      <td>0</td>\n",
       "      <td>6</td>\n",
       "      <td>858</td>\n",
       "    </tr>\n",
       "    <tr>\n",
       "      <th>7</th>\n",
       "      <td>0</td>\n",
       "      <td>7</td>\n",
       "      <td>852</td>\n",
       "    </tr>\n",
       "    <tr>\n",
       "      <th>8</th>\n",
       "      <td>1</td>\n",
       "      <td>0</td>\n",
       "      <td>960</td>\n",
       "    </tr>\n",
       "    <tr>\n",
       "      <th>9</th>\n",
       "      <td>1</td>\n",
       "      <td>1</td>\n",
       "      <td>396</td>\n",
       "    </tr>\n",
       "    <tr>\n",
       "      <th>10</th>\n",
       "      <td>1</td>\n",
       "      <td>2</td>\n",
       "      <td>447</td>\n",
       "    </tr>\n",
       "    <tr>\n",
       "      <th>11</th>\n",
       "      <td>1</td>\n",
       "      <td>3</td>\n",
       "      <td>232</td>\n",
       "    </tr>\n",
       "    <tr>\n",
       "      <th>12</th>\n",
       "      <td>1</td>\n",
       "      <td>4</td>\n",
       "      <td>314</td>\n",
       "    </tr>\n",
       "    <tr>\n",
       "      <th>13</th>\n",
       "      <td>1</td>\n",
       "      <td>5</td>\n",
       "      <td>288</td>\n",
       "    </tr>\n",
       "    <tr>\n",
       "      <th>14</th>\n",
       "      <td>1</td>\n",
       "      <td>6</td>\n",
       "      <td>316</td>\n",
       "    </tr>\n",
       "    <tr>\n",
       "      <th>15</th>\n",
       "      <td>2</td>\n",
       "      <td>0</td>\n",
       "      <td>632</td>\n",
       "    </tr>\n",
       "    <tr>\n",
       "      <th>16</th>\n",
       "      <td>2</td>\n",
       "      <td>1</td>\n",
       "      <td>303</td>\n",
       "    </tr>\n",
       "    <tr>\n",
       "      <th>17</th>\n",
       "      <td>2</td>\n",
       "      <td>2</td>\n",
       "      <td>168</td>\n",
       "    </tr>\n",
       "    <tr>\n",
       "      <th>18</th>\n",
       "      <td>2</td>\n",
       "      <td>3</td>\n",
       "      <td>169</td>\n",
       "    </tr>\n",
       "    <tr>\n",
       "      <th>19</th>\n",
       "      <td>2</td>\n",
       "      <td>4</td>\n",
       "      <td>207</td>\n",
       "    </tr>\n",
       "    <tr>\n",
       "      <th>20</th>\n",
       "      <td>2</td>\n",
       "      <td>5</td>\n",
       "      <td>210</td>\n",
       "    </tr>\n",
       "    <tr>\n",
       "      <th>21</th>\n",
       "      <td>3</td>\n",
       "      <td>0</td>\n",
       "      <td>831</td>\n",
       "    </tr>\n",
       "    <tr>\n",
       "      <th>22</th>\n",
       "      <td>3</td>\n",
       "      <td>1</td>\n",
       "      <td>177</td>\n",
       "    </tr>\n",
       "    <tr>\n",
       "      <th>23</th>\n",
       "      <td>3</td>\n",
       "      <td>2</td>\n",
       "      <td>203</td>\n",
       "    </tr>\n",
       "    <tr>\n",
       "      <th>24</th>\n",
       "      <td>3</td>\n",
       "      <td>3</td>\n",
       "      <td>168</td>\n",
       "    </tr>\n",
       "    <tr>\n",
       "      <th>25</th>\n",
       "      <td>3</td>\n",
       "      <td>4</td>\n",
       "      <td>297</td>\n",
       "    </tr>\n",
       "    <tr>\n",
       "      <th>26</th>\n",
       "      <td>4</td>\n",
       "      <td>0</td>\n",
       "      <td>381</td>\n",
       "    </tr>\n",
       "    <tr>\n",
       "      <th>27</th>\n",
       "      <td>4</td>\n",
       "      <td>1</td>\n",
       "      <td>161</td>\n",
       "    </tr>\n",
       "    <tr>\n",
       "      <th>28</th>\n",
       "      <td>4</td>\n",
       "      <td>2</td>\n",
       "      <td>130</td>\n",
       "    </tr>\n",
       "    <tr>\n",
       "      <th>29</th>\n",
       "      <td>4</td>\n",
       "      <td>3</td>\n",
       "      <td>139</td>\n",
       "    </tr>\n",
       "    <tr>\n",
       "      <th>30</th>\n",
       "      <td>5</td>\n",
       "      <td>0</td>\n",
       "      <td>324</td>\n",
       "    </tr>\n",
       "    <tr>\n",
       "      <th>31</th>\n",
       "      <td>5</td>\n",
       "      <td>1</td>\n",
       "      <td>143</td>\n",
       "    </tr>\n",
       "    <tr>\n",
       "      <th>32</th>\n",
       "      <td>5</td>\n",
       "      <td>2</td>\n",
       "      <td>128</td>\n",
       "    </tr>\n",
       "    <tr>\n",
       "      <th>33</th>\n",
       "      <td>6</td>\n",
       "      <td>0</td>\n",
       "      <td>402</td>\n",
       "    </tr>\n",
       "    <tr>\n",
       "      <th>34</th>\n",
       "      <td>6</td>\n",
       "      <td>1</td>\n",
       "      <td>213</td>\n",
       "    </tr>\n",
       "    <tr>\n",
       "      <th>35</th>\n",
       "      <td>7</td>\n",
       "      <td>0</td>\n",
       "      <td>446</td>\n",
       "    </tr>\n",
       "  </tbody>\n",
       "</table>\n",
       "</div>"
      ],
      "text/plain": [
       "    CohortQuarterID  CohortIndex  Customer_Count\n",
       "0                 0            0            1866\n",
       "1                 0            1            1152\n",
       "2                 0            2            1071\n",
       "3                 0            3            1148\n",
       "4                 0            4             854\n",
       "5                 0            5             853\n",
       "6                 0            6             858\n",
       "7                 0            7             852\n",
       "8                 1            0             960\n",
       "9                 1            1             396\n",
       "10                1            2             447\n",
       "11                1            3             232\n",
       "12                1            4             314\n",
       "13                1            5             288\n",
       "14                1            6             316\n",
       "15                2            0             632\n",
       "16                2            1             303\n",
       "17                2            2             168\n",
       "18                2            3             169\n",
       "19                2            4             207\n",
       "20                2            5             210\n",
       "21                3            0             831\n",
       "22                3            1             177\n",
       "23                3            2             203\n",
       "24                3            3             168\n",
       "25                3            4             297\n",
       "26                4            0             381\n",
       "27                4            1             161\n",
       "28                4            2             130\n",
       "29                4            3             139\n",
       "30                5            0             324\n",
       "31                5            1             143\n",
       "32                5            2             128\n",
       "33                6            0             402\n",
       "34                6            1             213\n",
       "35                7            0             446"
      ]
     },
     "execution_count": 124,
     "metadata": {},
     "output_type": "execute_result"
    }
   ],
   "source": [
    "cohort_retention"
   ]
  },
  {
   "cell_type": "code",
   "execution_count": 125,
   "id": "9e69fe59",
   "metadata": {},
   "outputs": [
    {
     "data": {
      "text/html": [
       "<div>\n",
       "<style scoped>\n",
       "    .dataframe tbody tr th:only-of-type {\n",
       "        vertical-align: middle;\n",
       "    }\n",
       "\n",
       "    .dataframe tbody tr th {\n",
       "        vertical-align: top;\n",
       "    }\n",
       "\n",
       "    .dataframe thead th {\n",
       "        text-align: right;\n",
       "    }\n",
       "</style>\n",
       "<table border=\"1\" class=\"dataframe\">\n",
       "  <thead>\n",
       "    <tr style=\"text-align: right;\">\n",
       "      <th>CohortIndex</th>\n",
       "      <th>0</th>\n",
       "      <th>1</th>\n",
       "      <th>2</th>\n",
       "      <th>3</th>\n",
       "      <th>4</th>\n",
       "      <th>5</th>\n",
       "      <th>6</th>\n",
       "      <th>7</th>\n",
       "    </tr>\n",
       "    <tr>\n",
       "      <th>CohortQuarterID</th>\n",
       "      <th></th>\n",
       "      <th></th>\n",
       "      <th></th>\n",
       "      <th></th>\n",
       "      <th></th>\n",
       "      <th></th>\n",
       "      <th></th>\n",
       "      <th></th>\n",
       "    </tr>\n",
       "  </thead>\n",
       "  <tbody>\n",
       "    <tr>\n",
       "      <th>0</th>\n",
       "      <td>1866.0</td>\n",
       "      <td>1152.0</td>\n",
       "      <td>1071.0</td>\n",
       "      <td>1148.0</td>\n",
       "      <td>854.0</td>\n",
       "      <td>853.0</td>\n",
       "      <td>858.0</td>\n",
       "      <td>852.0</td>\n",
       "    </tr>\n",
       "    <tr>\n",
       "      <th>1</th>\n",
       "      <td>960.0</td>\n",
       "      <td>396.0</td>\n",
       "      <td>447.0</td>\n",
       "      <td>232.0</td>\n",
       "      <td>314.0</td>\n",
       "      <td>288.0</td>\n",
       "      <td>316.0</td>\n",
       "      <td>NaN</td>\n",
       "    </tr>\n",
       "    <tr>\n",
       "      <th>2</th>\n",
       "      <td>632.0</td>\n",
       "      <td>303.0</td>\n",
       "      <td>168.0</td>\n",
       "      <td>169.0</td>\n",
       "      <td>207.0</td>\n",
       "      <td>210.0</td>\n",
       "      <td>NaN</td>\n",
       "      <td>NaN</td>\n",
       "    </tr>\n",
       "    <tr>\n",
       "      <th>3</th>\n",
       "      <td>831.0</td>\n",
       "      <td>177.0</td>\n",
       "      <td>203.0</td>\n",
       "      <td>168.0</td>\n",
       "      <td>297.0</td>\n",
       "      <td>NaN</td>\n",
       "      <td>NaN</td>\n",
       "      <td>NaN</td>\n",
       "    </tr>\n",
       "    <tr>\n",
       "      <th>4</th>\n",
       "      <td>381.0</td>\n",
       "      <td>161.0</td>\n",
       "      <td>130.0</td>\n",
       "      <td>139.0</td>\n",
       "      <td>NaN</td>\n",
       "      <td>NaN</td>\n",
       "      <td>NaN</td>\n",
       "      <td>NaN</td>\n",
       "    </tr>\n",
       "    <tr>\n",
       "      <th>5</th>\n",
       "      <td>324.0</td>\n",
       "      <td>143.0</td>\n",
       "      <td>128.0</td>\n",
       "      <td>NaN</td>\n",
       "      <td>NaN</td>\n",
       "      <td>NaN</td>\n",
       "      <td>NaN</td>\n",
       "      <td>NaN</td>\n",
       "    </tr>\n",
       "    <tr>\n",
       "      <th>6</th>\n",
       "      <td>402.0</td>\n",
       "      <td>213.0</td>\n",
       "      <td>NaN</td>\n",
       "      <td>NaN</td>\n",
       "      <td>NaN</td>\n",
       "      <td>NaN</td>\n",
       "      <td>NaN</td>\n",
       "      <td>NaN</td>\n",
       "    </tr>\n",
       "    <tr>\n",
       "      <th>7</th>\n",
       "      <td>446.0</td>\n",
       "      <td>NaN</td>\n",
       "      <td>NaN</td>\n",
       "      <td>NaN</td>\n",
       "      <td>NaN</td>\n",
       "      <td>NaN</td>\n",
       "      <td>NaN</td>\n",
       "      <td>NaN</td>\n",
       "    </tr>\n",
       "  </tbody>\n",
       "</table>\n",
       "</div>"
      ],
      "text/plain": [
       "CohortIndex           0       1       2       3      4      5      6      7\n",
       "CohortQuarterID                                                            \n",
       "0                1866.0  1152.0  1071.0  1148.0  854.0  853.0  858.0  852.0\n",
       "1                 960.0   396.0   447.0   232.0  314.0  288.0  316.0    NaN\n",
       "2                 632.0   303.0   168.0   169.0  207.0  210.0    NaN    NaN\n",
       "3                 831.0   177.0   203.0   168.0  297.0    NaN    NaN    NaN\n",
       "4                 381.0   161.0   130.0   139.0    NaN    NaN    NaN    NaN\n",
       "5                 324.0   143.0   128.0     NaN    NaN    NaN    NaN    NaN\n",
       "6                 402.0   213.0     NaN     NaN    NaN    NaN    NaN    NaN\n",
       "7                 446.0     NaN     NaN     NaN    NaN    NaN    NaN    NaN"
      ]
     },
     "execution_count": 125,
     "metadata": {},
     "output_type": "execute_result"
    }
   ],
   "source": [
    "cohort_retention_count=cohort_retention.pivot_table(index=\"CohortQuarterID\", \n",
    "                                                      columns='CohortIndex', \n",
    "                                                      values='Customer_Count')\n",
    "\n",
    "cohort_retention_count"
   ]
  },
  {
   "cell_type": "code",
   "execution_count": 126,
   "id": "fd27ac33",
   "metadata": {},
   "outputs": [
    {
     "data": {
      "text/html": [
       "<div>\n",
       "<style scoped>\n",
       "    .dataframe tbody tr th:only-of-type {\n",
       "        vertical-align: middle;\n",
       "    }\n",
       "\n",
       "    .dataframe tbody tr th {\n",
       "        vertical-align: top;\n",
       "    }\n",
       "\n",
       "    .dataframe thead th {\n",
       "        text-align: right;\n",
       "    }\n",
       "</style>\n",
       "<table border=\"1\" class=\"dataframe\">\n",
       "  <thead>\n",
       "    <tr style=\"text-align: right;\">\n",
       "      <th>CohortIndex</th>\n",
       "      <th>0</th>\n",
       "      <th>1</th>\n",
       "      <th>2</th>\n",
       "      <th>3</th>\n",
       "      <th>4</th>\n",
       "      <th>5</th>\n",
       "      <th>6</th>\n",
       "      <th>7</th>\n",
       "      <th>CohortQuarter</th>\n",
       "    </tr>\n",
       "    <tr>\n",
       "      <th>CohortQuarterID</th>\n",
       "      <th></th>\n",
       "      <th></th>\n",
       "      <th></th>\n",
       "      <th></th>\n",
       "      <th></th>\n",
       "      <th></th>\n",
       "      <th></th>\n",
       "      <th></th>\n",
       "      <th></th>\n",
       "    </tr>\n",
       "  </thead>\n",
       "  <tbody>\n",
       "    <tr>\n",
       "      <th>0</th>\n",
       "      <td>1866.0</td>\n",
       "      <td>1152.0</td>\n",
       "      <td>1071.0</td>\n",
       "      <td>1148.0</td>\n",
       "      <td>854.0</td>\n",
       "      <td>853.0</td>\n",
       "      <td>858.0</td>\n",
       "      <td>852.0</td>\n",
       "      <td>Q1/2010</td>\n",
       "    </tr>\n",
       "    <tr>\n",
       "      <th>1</th>\n",
       "      <td>960.0</td>\n",
       "      <td>396.0</td>\n",
       "      <td>447.0</td>\n",
       "      <td>232.0</td>\n",
       "      <td>314.0</td>\n",
       "      <td>288.0</td>\n",
       "      <td>316.0</td>\n",
       "      <td>NaN</td>\n",
       "      <td>Q2/2010</td>\n",
       "    </tr>\n",
       "    <tr>\n",
       "      <th>2</th>\n",
       "      <td>632.0</td>\n",
       "      <td>303.0</td>\n",
       "      <td>168.0</td>\n",
       "      <td>169.0</td>\n",
       "      <td>207.0</td>\n",
       "      <td>210.0</td>\n",
       "      <td>NaN</td>\n",
       "      <td>NaN</td>\n",
       "      <td>Q3/2010</td>\n",
       "    </tr>\n",
       "    <tr>\n",
       "      <th>3</th>\n",
       "      <td>831.0</td>\n",
       "      <td>177.0</td>\n",
       "      <td>203.0</td>\n",
       "      <td>168.0</td>\n",
       "      <td>297.0</td>\n",
       "      <td>NaN</td>\n",
       "      <td>NaN</td>\n",
       "      <td>NaN</td>\n",
       "      <td>Q4/2010</td>\n",
       "    </tr>\n",
       "    <tr>\n",
       "      <th>4</th>\n",
       "      <td>381.0</td>\n",
       "      <td>161.0</td>\n",
       "      <td>130.0</td>\n",
       "      <td>139.0</td>\n",
       "      <td>NaN</td>\n",
       "      <td>NaN</td>\n",
       "      <td>NaN</td>\n",
       "      <td>NaN</td>\n",
       "      <td>Q1/2011</td>\n",
       "    </tr>\n",
       "    <tr>\n",
       "      <th>5</th>\n",
       "      <td>324.0</td>\n",
       "      <td>143.0</td>\n",
       "      <td>128.0</td>\n",
       "      <td>NaN</td>\n",
       "      <td>NaN</td>\n",
       "      <td>NaN</td>\n",
       "      <td>NaN</td>\n",
       "      <td>NaN</td>\n",
       "      <td>Q2/2011</td>\n",
       "    </tr>\n",
       "    <tr>\n",
       "      <th>6</th>\n",
       "      <td>402.0</td>\n",
       "      <td>213.0</td>\n",
       "      <td>NaN</td>\n",
       "      <td>NaN</td>\n",
       "      <td>NaN</td>\n",
       "      <td>NaN</td>\n",
       "      <td>NaN</td>\n",
       "      <td>NaN</td>\n",
       "      <td>Q3/2011</td>\n",
       "    </tr>\n",
       "    <tr>\n",
       "      <th>7</th>\n",
       "      <td>446.0</td>\n",
       "      <td>NaN</td>\n",
       "      <td>NaN</td>\n",
       "      <td>NaN</td>\n",
       "      <td>NaN</td>\n",
       "      <td>NaN</td>\n",
       "      <td>NaN</td>\n",
       "      <td>NaN</td>\n",
       "      <td>Q4/2011</td>\n",
       "    </tr>\n",
       "  </tbody>\n",
       "</table>\n",
       "</div>"
      ],
      "text/plain": [
       "CohortIndex           0       1       2       3      4      5      6      7  \\\n",
       "CohortQuarterID                                                               \n",
       "0                1866.0  1152.0  1071.0  1148.0  854.0  853.0  858.0  852.0   \n",
       "1                 960.0   396.0   447.0   232.0  314.0  288.0  316.0    NaN   \n",
       "2                 632.0   303.0   168.0   169.0  207.0  210.0    NaN    NaN   \n",
       "3                 831.0   177.0   203.0   168.0  297.0    NaN    NaN    NaN   \n",
       "4                 381.0   161.0   130.0   139.0    NaN    NaN    NaN    NaN   \n",
       "5                 324.0   143.0   128.0     NaN    NaN    NaN    NaN    NaN   \n",
       "6                 402.0   213.0     NaN     NaN    NaN    NaN    NaN    NaN   \n",
       "7                 446.0     NaN     NaN     NaN    NaN    NaN    NaN    NaN   \n",
       "\n",
       "CohortIndex     CohortQuarter  \n",
       "CohortQuarterID                \n",
       "0                     Q1/2010  \n",
       "1                     Q2/2010  \n",
       "2                     Q3/2010  \n",
       "3                     Q4/2010  \n",
       "4                     Q1/2011  \n",
       "5                     Q2/2011  \n",
       "6                     Q3/2011  \n",
       "7                     Q4/2011  "
      ]
     },
     "execution_count": 126,
     "metadata": {},
     "output_type": "execute_result"
    }
   ],
   "source": [
    "cohort_retention_count[\"CohortQuarter\"]=cohort_retention_count.index.map(dict(zip(quarters_map.values(),quarters_map.keys())))\n",
    "\n",
    "cohort_retention_count"
   ]
  },
  {
   "cell_type": "code",
   "execution_count": 127,
   "id": "7031f2f3",
   "metadata": {},
   "outputs": [
    {
     "data": {
      "text/html": [
       "<div>\n",
       "<style scoped>\n",
       "    .dataframe tbody tr th:only-of-type {\n",
       "        vertical-align: middle;\n",
       "    }\n",
       "\n",
       "    .dataframe tbody tr th {\n",
       "        vertical-align: top;\n",
       "    }\n",
       "\n",
       "    .dataframe thead th {\n",
       "        text-align: right;\n",
       "    }\n",
       "</style>\n",
       "<table border=\"1\" class=\"dataframe\">\n",
       "  <thead>\n",
       "    <tr style=\"text-align: right;\">\n",
       "      <th>CohortIndex</th>\n",
       "      <th>0</th>\n",
       "      <th>1</th>\n",
       "      <th>2</th>\n",
       "      <th>3</th>\n",
       "      <th>4</th>\n",
       "      <th>5</th>\n",
       "      <th>6</th>\n",
       "      <th>7</th>\n",
       "    </tr>\n",
       "    <tr>\n",
       "      <th>CohortQuarter</th>\n",
       "      <th></th>\n",
       "      <th></th>\n",
       "      <th></th>\n",
       "      <th></th>\n",
       "      <th></th>\n",
       "      <th></th>\n",
       "      <th></th>\n",
       "      <th></th>\n",
       "    </tr>\n",
       "  </thead>\n",
       "  <tbody>\n",
       "    <tr>\n",
       "      <th>Q1/2010</th>\n",
       "      <td>1866.0</td>\n",
       "      <td>1152.0</td>\n",
       "      <td>1071.0</td>\n",
       "      <td>1148.0</td>\n",
       "      <td>854.0</td>\n",
       "      <td>853.0</td>\n",
       "      <td>858.0</td>\n",
       "      <td>852.0</td>\n",
       "    </tr>\n",
       "    <tr>\n",
       "      <th>Q2/2010</th>\n",
       "      <td>960.0</td>\n",
       "      <td>396.0</td>\n",
       "      <td>447.0</td>\n",
       "      <td>232.0</td>\n",
       "      <td>314.0</td>\n",
       "      <td>288.0</td>\n",
       "      <td>316.0</td>\n",
       "      <td>NaN</td>\n",
       "    </tr>\n",
       "    <tr>\n",
       "      <th>Q3/2010</th>\n",
       "      <td>632.0</td>\n",
       "      <td>303.0</td>\n",
       "      <td>168.0</td>\n",
       "      <td>169.0</td>\n",
       "      <td>207.0</td>\n",
       "      <td>210.0</td>\n",
       "      <td>NaN</td>\n",
       "      <td>NaN</td>\n",
       "    </tr>\n",
       "    <tr>\n",
       "      <th>Q4/2010</th>\n",
       "      <td>831.0</td>\n",
       "      <td>177.0</td>\n",
       "      <td>203.0</td>\n",
       "      <td>168.0</td>\n",
       "      <td>297.0</td>\n",
       "      <td>NaN</td>\n",
       "      <td>NaN</td>\n",
       "      <td>NaN</td>\n",
       "    </tr>\n",
       "    <tr>\n",
       "      <th>Q1/2011</th>\n",
       "      <td>381.0</td>\n",
       "      <td>161.0</td>\n",
       "      <td>130.0</td>\n",
       "      <td>139.0</td>\n",
       "      <td>NaN</td>\n",
       "      <td>NaN</td>\n",
       "      <td>NaN</td>\n",
       "      <td>NaN</td>\n",
       "    </tr>\n",
       "    <tr>\n",
       "      <th>Q2/2011</th>\n",
       "      <td>324.0</td>\n",
       "      <td>143.0</td>\n",
       "      <td>128.0</td>\n",
       "      <td>NaN</td>\n",
       "      <td>NaN</td>\n",
       "      <td>NaN</td>\n",
       "      <td>NaN</td>\n",
       "      <td>NaN</td>\n",
       "    </tr>\n",
       "    <tr>\n",
       "      <th>Q3/2011</th>\n",
       "      <td>402.0</td>\n",
       "      <td>213.0</td>\n",
       "      <td>NaN</td>\n",
       "      <td>NaN</td>\n",
       "      <td>NaN</td>\n",
       "      <td>NaN</td>\n",
       "      <td>NaN</td>\n",
       "      <td>NaN</td>\n",
       "    </tr>\n",
       "    <tr>\n",
       "      <th>Q4/2011</th>\n",
       "      <td>446.0</td>\n",
       "      <td>NaN</td>\n",
       "      <td>NaN</td>\n",
       "      <td>NaN</td>\n",
       "      <td>NaN</td>\n",
       "      <td>NaN</td>\n",
       "      <td>NaN</td>\n",
       "      <td>NaN</td>\n",
       "    </tr>\n",
       "  </tbody>\n",
       "</table>\n",
       "</div>"
      ],
      "text/plain": [
       "CohortIndex         0       1       2       3      4      5      6      7\n",
       "CohortQuarter                                                            \n",
       "Q1/2010        1866.0  1152.0  1071.0  1148.0  854.0  853.0  858.0  852.0\n",
       "Q2/2010         960.0   396.0   447.0   232.0  314.0  288.0  316.0    NaN\n",
       "Q3/2010         632.0   303.0   168.0   169.0  207.0  210.0    NaN    NaN\n",
       "Q4/2010         831.0   177.0   203.0   168.0  297.0    NaN    NaN    NaN\n",
       "Q1/2011         381.0   161.0   130.0   139.0    NaN    NaN    NaN    NaN\n",
       "Q2/2011         324.0   143.0   128.0     NaN    NaN    NaN    NaN    NaN\n",
       "Q3/2011         402.0   213.0     NaN     NaN    NaN    NaN    NaN    NaN\n",
       "Q4/2011         446.0     NaN     NaN     NaN    NaN    NaN    NaN    NaN"
      ]
     },
     "execution_count": 127,
     "metadata": {},
     "output_type": "execute_result"
    }
   ],
   "source": [
    "cohort_retention_count=cohort_retention_count.set_index('CohortQuarter')\n",
    "cohort_retention_count"
   ]
  },
  {
   "cell_type": "code",
   "execution_count": 128,
   "id": "233a3880",
   "metadata": {},
   "outputs": [
    {
     "data": {
      "text/plain": [
       "CohortQuarter\n",
       "Q1/2010    1866.0\n",
       "Q2/2010     960.0\n",
       "Q3/2010     632.0\n",
       "Q4/2010     831.0\n",
       "Q1/2011     381.0\n",
       "Q2/2011     324.0\n",
       "Q3/2011     402.0\n",
       "Q4/2011     446.0\n",
       "Name: 0, dtype: float64"
      ]
     },
     "execution_count": 128,
     "metadata": {},
     "output_type": "execute_result"
    }
   ],
   "source": [
    "cohort_size=cohort_retention_count.iloc[:,0]\n",
    "cohort_size"
   ]
  },
  {
   "cell_type": "code",
   "execution_count": 129,
   "id": "0daa0324",
   "metadata": {},
   "outputs": [
    {
     "data": {
      "text/html": [
       "<div>\n",
       "<style scoped>\n",
       "    .dataframe tbody tr th:only-of-type {\n",
       "        vertical-align: middle;\n",
       "    }\n",
       "\n",
       "    .dataframe tbody tr th {\n",
       "        vertical-align: top;\n",
       "    }\n",
       "\n",
       "    .dataframe thead th {\n",
       "        text-align: right;\n",
       "    }\n",
       "</style>\n",
       "<table border=\"1\" class=\"dataframe\">\n",
       "  <thead>\n",
       "    <tr style=\"text-align: right;\">\n",
       "      <th>CohortIndex</th>\n",
       "      <th>0</th>\n",
       "      <th>1</th>\n",
       "      <th>2</th>\n",
       "      <th>3</th>\n",
       "      <th>4</th>\n",
       "      <th>5</th>\n",
       "      <th>6</th>\n",
       "      <th>7</th>\n",
       "    </tr>\n",
       "    <tr>\n",
       "      <th>CohortQuarter</th>\n",
       "      <th></th>\n",
       "      <th></th>\n",
       "      <th></th>\n",
       "      <th></th>\n",
       "      <th></th>\n",
       "      <th></th>\n",
       "      <th></th>\n",
       "      <th></th>\n",
       "    </tr>\n",
       "  </thead>\n",
       "  <tbody>\n",
       "    <tr>\n",
       "      <th>Q1/2010</th>\n",
       "      <td>1.0</td>\n",
       "      <td>0.617363</td>\n",
       "      <td>0.573955</td>\n",
       "      <td>0.615220</td>\n",
       "      <td>0.457663</td>\n",
       "      <td>0.457128</td>\n",
       "      <td>0.459807</td>\n",
       "      <td>0.456592</td>\n",
       "    </tr>\n",
       "    <tr>\n",
       "      <th>Q2/2010</th>\n",
       "      <td>1.0</td>\n",
       "      <td>0.412500</td>\n",
       "      <td>0.465625</td>\n",
       "      <td>0.241667</td>\n",
       "      <td>0.327083</td>\n",
       "      <td>0.300000</td>\n",
       "      <td>0.329167</td>\n",
       "      <td>NaN</td>\n",
       "    </tr>\n",
       "    <tr>\n",
       "      <th>Q3/2010</th>\n",
       "      <td>1.0</td>\n",
       "      <td>0.479430</td>\n",
       "      <td>0.265823</td>\n",
       "      <td>0.267405</td>\n",
       "      <td>0.327532</td>\n",
       "      <td>0.332278</td>\n",
       "      <td>NaN</td>\n",
       "      <td>NaN</td>\n",
       "    </tr>\n",
       "    <tr>\n",
       "      <th>Q4/2010</th>\n",
       "      <td>1.0</td>\n",
       "      <td>0.212996</td>\n",
       "      <td>0.244284</td>\n",
       "      <td>0.202166</td>\n",
       "      <td>0.357401</td>\n",
       "      <td>NaN</td>\n",
       "      <td>NaN</td>\n",
       "      <td>NaN</td>\n",
       "    </tr>\n",
       "    <tr>\n",
       "      <th>Q1/2011</th>\n",
       "      <td>1.0</td>\n",
       "      <td>0.422572</td>\n",
       "      <td>0.341207</td>\n",
       "      <td>0.364829</td>\n",
       "      <td>NaN</td>\n",
       "      <td>NaN</td>\n",
       "      <td>NaN</td>\n",
       "      <td>NaN</td>\n",
       "    </tr>\n",
       "    <tr>\n",
       "      <th>Q2/2011</th>\n",
       "      <td>1.0</td>\n",
       "      <td>0.441358</td>\n",
       "      <td>0.395062</td>\n",
       "      <td>NaN</td>\n",
       "      <td>NaN</td>\n",
       "      <td>NaN</td>\n",
       "      <td>NaN</td>\n",
       "      <td>NaN</td>\n",
       "    </tr>\n",
       "    <tr>\n",
       "      <th>Q3/2011</th>\n",
       "      <td>1.0</td>\n",
       "      <td>0.529851</td>\n",
       "      <td>NaN</td>\n",
       "      <td>NaN</td>\n",
       "      <td>NaN</td>\n",
       "      <td>NaN</td>\n",
       "      <td>NaN</td>\n",
       "      <td>NaN</td>\n",
       "    </tr>\n",
       "    <tr>\n",
       "      <th>Q4/2011</th>\n",
       "      <td>1.0</td>\n",
       "      <td>NaN</td>\n",
       "      <td>NaN</td>\n",
       "      <td>NaN</td>\n",
       "      <td>NaN</td>\n",
       "      <td>NaN</td>\n",
       "      <td>NaN</td>\n",
       "      <td>NaN</td>\n",
       "    </tr>\n",
       "  </tbody>\n",
       "</table>\n",
       "</div>"
      ],
      "text/plain": [
       "CohortIndex      0         1         2         3         4         5  \\\n",
       "CohortQuarter                                                          \n",
       "Q1/2010        1.0  0.617363  0.573955  0.615220  0.457663  0.457128   \n",
       "Q2/2010        1.0  0.412500  0.465625  0.241667  0.327083  0.300000   \n",
       "Q3/2010        1.0  0.479430  0.265823  0.267405  0.327532  0.332278   \n",
       "Q4/2010        1.0  0.212996  0.244284  0.202166  0.357401       NaN   \n",
       "Q1/2011        1.0  0.422572  0.341207  0.364829       NaN       NaN   \n",
       "Q2/2011        1.0  0.441358  0.395062       NaN       NaN       NaN   \n",
       "Q3/2011        1.0  0.529851       NaN       NaN       NaN       NaN   \n",
       "Q4/2011        1.0       NaN       NaN       NaN       NaN       NaN   \n",
       "\n",
       "CohortIndex           6         7  \n",
       "CohortQuarter                      \n",
       "Q1/2010        0.459807  0.456592  \n",
       "Q2/2010        0.329167       NaN  \n",
       "Q3/2010             NaN       NaN  \n",
       "Q4/2010             NaN       NaN  \n",
       "Q1/2011             NaN       NaN  \n",
       "Q2/2011             NaN       NaN  \n",
       "Q3/2011             NaN       NaN  \n",
       "Q4/2011             NaN       NaN  "
      ]
     },
     "execution_count": 129,
     "metadata": {},
     "output_type": "execute_result"
    }
   ],
   "source": [
    "retention=cohort_retention_count.divide(cohort_size,axis=0)\n",
    "\n",
    "retention"
   ]
  },
  {
   "cell_type": "code",
   "execution_count": 130,
   "id": "c2947999",
   "metadata": {},
   "outputs": [
    {
     "data": {
      "text/html": [
       "<div>\n",
       "<style scoped>\n",
       "    .dataframe tbody tr th:only-of-type {\n",
       "        vertical-align: middle;\n",
       "    }\n",
       "\n",
       "    .dataframe tbody tr th {\n",
       "        vertical-align: top;\n",
       "    }\n",
       "\n",
       "    .dataframe thead th {\n",
       "        text-align: right;\n",
       "    }\n",
       "</style>\n",
       "<table border=\"1\" class=\"dataframe\">\n",
       "  <thead>\n",
       "    <tr style=\"text-align: right;\">\n",
       "      <th>CohortIndex</th>\n",
       "      <th>0</th>\n",
       "      <th>1</th>\n",
       "      <th>2</th>\n",
       "      <th>3</th>\n",
       "      <th>4</th>\n",
       "      <th>5</th>\n",
       "      <th>6</th>\n",
       "      <th>7</th>\n",
       "    </tr>\n",
       "    <tr>\n",
       "      <th>CohortQuarter</th>\n",
       "      <th></th>\n",
       "      <th></th>\n",
       "      <th></th>\n",
       "      <th></th>\n",
       "      <th></th>\n",
       "      <th></th>\n",
       "      <th></th>\n",
       "      <th></th>\n",
       "    </tr>\n",
       "  </thead>\n",
       "  <tbody>\n",
       "    <tr>\n",
       "      <th>Q1/2010</th>\n",
       "      <td>100.0</td>\n",
       "      <td>61.74</td>\n",
       "      <td>57.40</td>\n",
       "      <td>61.52</td>\n",
       "      <td>45.77</td>\n",
       "      <td>45.71</td>\n",
       "      <td>45.98</td>\n",
       "      <td>45.66</td>\n",
       "    </tr>\n",
       "    <tr>\n",
       "      <th>Q2/2010</th>\n",
       "      <td>100.0</td>\n",
       "      <td>41.25</td>\n",
       "      <td>46.56</td>\n",
       "      <td>24.17</td>\n",
       "      <td>32.71</td>\n",
       "      <td>30.00</td>\n",
       "      <td>32.92</td>\n",
       "      <td>NaN</td>\n",
       "    </tr>\n",
       "    <tr>\n",
       "      <th>Q3/2010</th>\n",
       "      <td>100.0</td>\n",
       "      <td>47.94</td>\n",
       "      <td>26.58</td>\n",
       "      <td>26.74</td>\n",
       "      <td>32.75</td>\n",
       "      <td>33.23</td>\n",
       "      <td>NaN</td>\n",
       "      <td>NaN</td>\n",
       "    </tr>\n",
       "    <tr>\n",
       "      <th>Q4/2010</th>\n",
       "      <td>100.0</td>\n",
       "      <td>21.30</td>\n",
       "      <td>24.43</td>\n",
       "      <td>20.22</td>\n",
       "      <td>35.74</td>\n",
       "      <td>NaN</td>\n",
       "      <td>NaN</td>\n",
       "      <td>NaN</td>\n",
       "    </tr>\n",
       "    <tr>\n",
       "      <th>Q1/2011</th>\n",
       "      <td>100.0</td>\n",
       "      <td>42.26</td>\n",
       "      <td>34.12</td>\n",
       "      <td>36.48</td>\n",
       "      <td>NaN</td>\n",
       "      <td>NaN</td>\n",
       "      <td>NaN</td>\n",
       "      <td>NaN</td>\n",
       "    </tr>\n",
       "    <tr>\n",
       "      <th>Q2/2011</th>\n",
       "      <td>100.0</td>\n",
       "      <td>44.14</td>\n",
       "      <td>39.51</td>\n",
       "      <td>NaN</td>\n",
       "      <td>NaN</td>\n",
       "      <td>NaN</td>\n",
       "      <td>NaN</td>\n",
       "      <td>NaN</td>\n",
       "    </tr>\n",
       "    <tr>\n",
       "      <th>Q3/2011</th>\n",
       "      <td>100.0</td>\n",
       "      <td>52.99</td>\n",
       "      <td>NaN</td>\n",
       "      <td>NaN</td>\n",
       "      <td>NaN</td>\n",
       "      <td>NaN</td>\n",
       "      <td>NaN</td>\n",
       "      <td>NaN</td>\n",
       "    </tr>\n",
       "    <tr>\n",
       "      <th>Q4/2011</th>\n",
       "      <td>100.0</td>\n",
       "      <td>NaN</td>\n",
       "      <td>NaN</td>\n",
       "      <td>NaN</td>\n",
       "      <td>NaN</td>\n",
       "      <td>NaN</td>\n",
       "      <td>NaN</td>\n",
       "      <td>NaN</td>\n",
       "    </tr>\n",
       "  </tbody>\n",
       "</table>\n",
       "</div>"
      ],
      "text/plain": [
       "CohortIndex        0      1      2      3      4      5      6      7\n",
       "CohortQuarter                                                        \n",
       "Q1/2010        100.0  61.74  57.40  61.52  45.77  45.71  45.98  45.66\n",
       "Q2/2010        100.0  41.25  46.56  24.17  32.71  30.00  32.92    NaN\n",
       "Q3/2010        100.0  47.94  26.58  26.74  32.75  33.23    NaN    NaN\n",
       "Q4/2010        100.0  21.30  24.43  20.22  35.74    NaN    NaN    NaN\n",
       "Q1/2011        100.0  42.26  34.12  36.48    NaN    NaN    NaN    NaN\n",
       "Q2/2011        100.0  44.14  39.51    NaN    NaN    NaN    NaN    NaN\n",
       "Q3/2011        100.0  52.99    NaN    NaN    NaN    NaN    NaN    NaN\n",
       "Q4/2011        100.0    NaN    NaN    NaN    NaN    NaN    NaN    NaN"
      ]
     },
     "execution_count": 130,
     "metadata": {},
     "output_type": "execute_result"
    }
   ],
   "source": [
    "retention=(retention*100).round(2)\n",
    "retention"
   ]
  },
  {
   "cell_type": "code",
   "execution_count": 131,
   "id": "39ce4d1f",
   "metadata": {},
   "outputs": [
    {
     "data": {
      "text/html": [
       "<div>\n",
       "<style scoped>\n",
       "    .dataframe tbody tr th:only-of-type {\n",
       "        vertical-align: middle;\n",
       "    }\n",
       "\n",
       "    .dataframe tbody tr th {\n",
       "        vertical-align: top;\n",
       "    }\n",
       "\n",
       "    .dataframe thead th {\n",
       "        text-align: right;\n",
       "    }\n",
       "</style>\n",
       "<table border=\"1\" class=\"dataframe\">\n",
       "  <thead>\n",
       "    <tr style=\"text-align: right;\">\n",
       "      <th>CohortIndex</th>\n",
       "      <th>0</th>\n",
       "      <th>1</th>\n",
       "      <th>2</th>\n",
       "      <th>3</th>\n",
       "      <th>4</th>\n",
       "      <th>5</th>\n",
       "      <th>6</th>\n",
       "      <th>7</th>\n",
       "    </tr>\n",
       "    <tr>\n",
       "      <th>CohortQuarter</th>\n",
       "      <th></th>\n",
       "      <th></th>\n",
       "      <th></th>\n",
       "      <th></th>\n",
       "      <th></th>\n",
       "      <th></th>\n",
       "      <th></th>\n",
       "      <th></th>\n",
       "    </tr>\n",
       "  </thead>\n",
       "  <tbody>\n",
       "    <tr>\n",
       "      <th>Q4/2011</th>\n",
       "      <td>100.0</td>\n",
       "      <td>NaN</td>\n",
       "      <td>NaN</td>\n",
       "      <td>NaN</td>\n",
       "      <td>NaN</td>\n",
       "      <td>NaN</td>\n",
       "      <td>NaN</td>\n",
       "      <td>NaN</td>\n",
       "    </tr>\n",
       "    <tr>\n",
       "      <th>Q3/2011</th>\n",
       "      <td>100.0</td>\n",
       "      <td>52.99</td>\n",
       "      <td>NaN</td>\n",
       "      <td>NaN</td>\n",
       "      <td>NaN</td>\n",
       "      <td>NaN</td>\n",
       "      <td>NaN</td>\n",
       "      <td>NaN</td>\n",
       "    </tr>\n",
       "    <tr>\n",
       "      <th>Q2/2011</th>\n",
       "      <td>100.0</td>\n",
       "      <td>44.14</td>\n",
       "      <td>39.51</td>\n",
       "      <td>NaN</td>\n",
       "      <td>NaN</td>\n",
       "      <td>NaN</td>\n",
       "      <td>NaN</td>\n",
       "      <td>NaN</td>\n",
       "    </tr>\n",
       "    <tr>\n",
       "      <th>Q1/2011</th>\n",
       "      <td>100.0</td>\n",
       "      <td>42.26</td>\n",
       "      <td>34.12</td>\n",
       "      <td>36.48</td>\n",
       "      <td>NaN</td>\n",
       "      <td>NaN</td>\n",
       "      <td>NaN</td>\n",
       "      <td>NaN</td>\n",
       "    </tr>\n",
       "    <tr>\n",
       "      <th>Q4/2010</th>\n",
       "      <td>100.0</td>\n",
       "      <td>21.30</td>\n",
       "      <td>24.43</td>\n",
       "      <td>20.22</td>\n",
       "      <td>35.74</td>\n",
       "      <td>NaN</td>\n",
       "      <td>NaN</td>\n",
       "      <td>NaN</td>\n",
       "    </tr>\n",
       "    <tr>\n",
       "      <th>Q3/2010</th>\n",
       "      <td>100.0</td>\n",
       "      <td>47.94</td>\n",
       "      <td>26.58</td>\n",
       "      <td>26.74</td>\n",
       "      <td>32.75</td>\n",
       "      <td>33.23</td>\n",
       "      <td>NaN</td>\n",
       "      <td>NaN</td>\n",
       "    </tr>\n",
       "    <tr>\n",
       "      <th>Q2/2010</th>\n",
       "      <td>100.0</td>\n",
       "      <td>41.25</td>\n",
       "      <td>46.56</td>\n",
       "      <td>24.17</td>\n",
       "      <td>32.71</td>\n",
       "      <td>30.00</td>\n",
       "      <td>32.92</td>\n",
       "      <td>NaN</td>\n",
       "    </tr>\n",
       "    <tr>\n",
       "      <th>Q1/2010</th>\n",
       "      <td>100.0</td>\n",
       "      <td>61.74</td>\n",
       "      <td>57.40</td>\n",
       "      <td>61.52</td>\n",
       "      <td>45.77</td>\n",
       "      <td>45.71</td>\n",
       "      <td>45.98</td>\n",
       "      <td>45.66</td>\n",
       "    </tr>\n",
       "  </tbody>\n",
       "</table>\n",
       "</div>"
      ],
      "text/plain": [
       "CohortIndex        0      1      2      3      4      5      6      7\n",
       "CohortQuarter                                                        \n",
       "Q4/2011        100.0    NaN    NaN    NaN    NaN    NaN    NaN    NaN\n",
       "Q3/2011        100.0  52.99    NaN    NaN    NaN    NaN    NaN    NaN\n",
       "Q2/2011        100.0  44.14  39.51    NaN    NaN    NaN    NaN    NaN\n",
       "Q1/2011        100.0  42.26  34.12  36.48    NaN    NaN    NaN    NaN\n",
       "Q4/2010        100.0  21.30  24.43  20.22  35.74    NaN    NaN    NaN\n",
       "Q3/2010        100.0  47.94  26.58  26.74  32.75  33.23    NaN    NaN\n",
       "Q2/2010        100.0  41.25  46.56  24.17  32.71  30.00  32.92    NaN\n",
       "Q1/2010        100.0  61.74  57.40  61.52  45.77  45.71  45.98  45.66"
      ]
     },
     "execution_count": 131,
     "metadata": {},
     "output_type": "execute_result"
    }
   ],
   "source": [
    "retention=retention.iloc[::-1]\n",
    "retention"
   ]
  },
  {
   "cell_type": "code",
   "execution_count": 132,
   "id": "bc9f6758",
   "metadata": {},
   "outputs": [
    {
     "data": {
      "application/vnd.plotly.v1+json": {
       "config": {
        "plotlyServerURL": "https://plot.ly"
       },
       "data": [
        {
         "colorbar": {
          "title": {
           "text": "Retention Rate, %"
          }
         },
         "colorscale": [
          [
           0,
           "rgb(247,252,245)"
          ],
          [
           0.125,
           "rgb(229,245,224)"
          ],
          [
           0.25,
           "rgb(199,233,192)"
          ],
          [
           0.375,
           "rgb(161,217,155)"
          ],
          [
           0.5,
           "rgb(116,196,118)"
          ],
          [
           0.625,
           "rgb(65,171,93)"
          ],
          [
           0.75,
           "rgb(35,139,69)"
          ],
          [
           0.875,
           "rgb(0,109,44)"
          ],
          [
           1,
           "rgb(0,68,27)"
          ]
         ],
         "text": {
          "bdata": "AAAAAAAAWUAAAAAAAAD4fwAAAAAAAPh/AAAAAAAA+H8AAAAAAAD4fwAAAAAAAPh/AAAAAAAA+H8AAAAAAAD4fwAAAAAAAFlAH4XrUbh+SkAAAAAAAAD4fwAAAAAAAPh/AAAAAAAA+H8AAAAAAAD4fwAAAAAAAPh/AAAAAAAA+H8AAAAAAABZQFK4HoXrEUZA4XoUrkfBQ0AAAAAAAAD4fwAAAAAAAPh/AAAAAAAA+H8AAAAAAAD4fwAAAAAAAPh/AAAAAAAAWUDhehSuRyFFQI/C9ShcD0FAPQrXo3A9QkAAAAAAAAD4fwAAAAAAAPh/AAAAAAAA+H8AAAAAAAD4fwAAAAAAAFlAzczMzMxMNUCuR+F6FG44QLgehetRODRAH4XrUbjeQUAAAAAAAAD4fwAAAAAAAPh/AAAAAAAA+H8AAAAAAABZQLgehetR+EdAFK5H4XqUOkA9CtejcL06QAAAAAAAYEBAPQrXo3CdQEAAAAAAAAD4fwAAAAAAAPh/AAAAAAAAWUAAAAAAAKBEQEjhehSuR0dA7FG4HoUrOEB7FK5H4VpAQAAAAAAAAD5A9ihcj8J1QEAAAAAAAAD4fwAAAAAAAFlAH4XrUbjeTkAzMzMzM7NMQMP1KFyPwk5Aw/UoXI/iRkB7FK5H4dpGQD0K16Nw/UZAFK5H4XrURkA=",
          "dtype": "f8",
          "shape": "8, 8"
         },
         "texttemplate": "%{text}%",
         "type": "heatmap",
         "xgap": 3,
         "y": [
          "Q4/2011",
          "Q3/2011",
          "Q2/2011",
          "Q1/2011",
          "Q4/2010",
          "Q3/2010",
          "Q2/2010",
          "Q1/2010"
         ],
         "ygap": 3,
         "z": {
          "bdata": "AAAAAAAAWUAAAAAAAAD4fwAAAAAAAPh/AAAAAAAA+H8AAAAAAAD4fwAAAAAAAPh/AAAAAAAA+H8AAAAAAAD4fwAAAAAAAFlAH4XrUbh+SkAAAAAAAAD4fwAAAAAAAPh/AAAAAAAA+H8AAAAAAAD4fwAAAAAAAPh/AAAAAAAA+H8AAAAAAABZQFK4HoXrEUZA4XoUrkfBQ0AAAAAAAAD4fwAAAAAAAPh/AAAAAAAA+H8AAAAAAAD4fwAAAAAAAPh/AAAAAAAAWUDhehSuRyFFQI/C9ShcD0FAPQrXo3A9QkAAAAAAAAD4fwAAAAAAAPh/AAAAAAAA+H8AAAAAAAD4fwAAAAAAAFlAzczMzMxMNUCuR+F6FG44QLgehetRODRAH4XrUbjeQUAAAAAAAAD4fwAAAAAAAPh/AAAAAAAA+H8AAAAAAABZQLgehetR+EdAFK5H4XqUOkA9CtejcL06QAAAAAAAYEBAPQrXo3CdQEAAAAAAAAD4fwAAAAAAAPh/AAAAAAAAWUAAAAAAAKBEQEjhehSuR0dA7FG4HoUrOEB7FK5H4VpAQAAAAAAAAD5A9ihcj8J1QEAAAAAAAAD4fwAAAAAAAFlAH4XrUbjeTkAzMzMzM7NMQMP1KFyPwk5Aw/UoXI/iRkB7FK5H4dpGQD0K16Nw/UZAFK5H4XrURkA=",
          "dtype": "f8",
          "shape": "8, 8"
         }
        }
       ],
       "layout": {
        "plot_bgcolor": "white",
        "template": {
         "data": {
          "bar": [
           {
            "error_x": {
             "color": "#2a3f5f"
            },
            "error_y": {
             "color": "#2a3f5f"
            },
            "marker": {
             "line": {
              "color": "#E5ECF6",
              "width": 0.5
             },
             "pattern": {
              "fillmode": "overlay",
              "size": 10,
              "solidity": 0.2
             }
            },
            "type": "bar"
           }
          ],
          "barpolar": [
           {
            "marker": {
             "line": {
              "color": "#E5ECF6",
              "width": 0.5
             },
             "pattern": {
              "fillmode": "overlay",
              "size": 10,
              "solidity": 0.2
             }
            },
            "type": "barpolar"
           }
          ],
          "carpet": [
           {
            "aaxis": {
             "endlinecolor": "#2a3f5f",
             "gridcolor": "white",
             "linecolor": "white",
             "minorgridcolor": "white",
             "startlinecolor": "#2a3f5f"
            },
            "baxis": {
             "endlinecolor": "#2a3f5f",
             "gridcolor": "white",
             "linecolor": "white",
             "minorgridcolor": "white",
             "startlinecolor": "#2a3f5f"
            },
            "type": "carpet"
           }
          ],
          "choropleth": [
           {
            "colorbar": {
             "outlinewidth": 0,
             "ticks": ""
            },
            "type": "choropleth"
           }
          ],
          "contour": [
           {
            "colorbar": {
             "outlinewidth": 0,
             "ticks": ""
            },
            "colorscale": [
             [
              0,
              "#0d0887"
             ],
             [
              0.1111111111111111,
              "#46039f"
             ],
             [
              0.2222222222222222,
              "#7201a8"
             ],
             [
              0.3333333333333333,
              "#9c179e"
             ],
             [
              0.4444444444444444,
              "#bd3786"
             ],
             [
              0.5555555555555556,
              "#d8576b"
             ],
             [
              0.6666666666666666,
              "#ed7953"
             ],
             [
              0.7777777777777778,
              "#fb9f3a"
             ],
             [
              0.8888888888888888,
              "#fdca26"
             ],
             [
              1,
              "#f0f921"
             ]
            ],
            "type": "contour"
           }
          ],
          "contourcarpet": [
           {
            "colorbar": {
             "outlinewidth": 0,
             "ticks": ""
            },
            "type": "contourcarpet"
           }
          ],
          "heatmap": [
           {
            "colorbar": {
             "outlinewidth": 0,
             "ticks": ""
            },
            "colorscale": [
             [
              0,
              "#0d0887"
             ],
             [
              0.1111111111111111,
              "#46039f"
             ],
             [
              0.2222222222222222,
              "#7201a8"
             ],
             [
              0.3333333333333333,
              "#9c179e"
             ],
             [
              0.4444444444444444,
              "#bd3786"
             ],
             [
              0.5555555555555556,
              "#d8576b"
             ],
             [
              0.6666666666666666,
              "#ed7953"
             ],
             [
              0.7777777777777778,
              "#fb9f3a"
             ],
             [
              0.8888888888888888,
              "#fdca26"
             ],
             [
              1,
              "#f0f921"
             ]
            ],
            "type": "heatmap"
           }
          ],
          "histogram": [
           {
            "marker": {
             "pattern": {
              "fillmode": "overlay",
              "size": 10,
              "solidity": 0.2
             }
            },
            "type": "histogram"
           }
          ],
          "histogram2d": [
           {
            "colorbar": {
             "outlinewidth": 0,
             "ticks": ""
            },
            "colorscale": [
             [
              0,
              "#0d0887"
             ],
             [
              0.1111111111111111,
              "#46039f"
             ],
             [
              0.2222222222222222,
              "#7201a8"
             ],
             [
              0.3333333333333333,
              "#9c179e"
             ],
             [
              0.4444444444444444,
              "#bd3786"
             ],
             [
              0.5555555555555556,
              "#d8576b"
             ],
             [
              0.6666666666666666,
              "#ed7953"
             ],
             [
              0.7777777777777778,
              "#fb9f3a"
             ],
             [
              0.8888888888888888,
              "#fdca26"
             ],
             [
              1,
              "#f0f921"
             ]
            ],
            "type": "histogram2d"
           }
          ],
          "histogram2dcontour": [
           {
            "colorbar": {
             "outlinewidth": 0,
             "ticks": ""
            },
            "colorscale": [
             [
              0,
              "#0d0887"
             ],
             [
              0.1111111111111111,
              "#46039f"
             ],
             [
              0.2222222222222222,
              "#7201a8"
             ],
             [
              0.3333333333333333,
              "#9c179e"
             ],
             [
              0.4444444444444444,
              "#bd3786"
             ],
             [
              0.5555555555555556,
              "#d8576b"
             ],
             [
              0.6666666666666666,
              "#ed7953"
             ],
             [
              0.7777777777777778,
              "#fb9f3a"
             ],
             [
              0.8888888888888888,
              "#fdca26"
             ],
             [
              1,
              "#f0f921"
             ]
            ],
            "type": "histogram2dcontour"
           }
          ],
          "mesh3d": [
           {
            "colorbar": {
             "outlinewidth": 0,
             "ticks": ""
            },
            "type": "mesh3d"
           }
          ],
          "parcoords": [
           {
            "line": {
             "colorbar": {
              "outlinewidth": 0,
              "ticks": ""
             }
            },
            "type": "parcoords"
           }
          ],
          "pie": [
           {
            "automargin": true,
            "type": "pie"
           }
          ],
          "scatter": [
           {
            "fillpattern": {
             "fillmode": "overlay",
             "size": 10,
             "solidity": 0.2
            },
            "type": "scatter"
           }
          ],
          "scatter3d": [
           {
            "line": {
             "colorbar": {
              "outlinewidth": 0,
              "ticks": ""
             }
            },
            "marker": {
             "colorbar": {
              "outlinewidth": 0,
              "ticks": ""
             }
            },
            "type": "scatter3d"
           }
          ],
          "scattercarpet": [
           {
            "marker": {
             "colorbar": {
              "outlinewidth": 0,
              "ticks": ""
             }
            },
            "type": "scattercarpet"
           }
          ],
          "scattergeo": [
           {
            "marker": {
             "colorbar": {
              "outlinewidth": 0,
              "ticks": ""
             }
            },
            "type": "scattergeo"
           }
          ],
          "scattergl": [
           {
            "marker": {
             "colorbar": {
              "outlinewidth": 0,
              "ticks": ""
             }
            },
            "type": "scattergl"
           }
          ],
          "scattermap": [
           {
            "marker": {
             "colorbar": {
              "outlinewidth": 0,
              "ticks": ""
             }
            },
            "type": "scattermap"
           }
          ],
          "scattermapbox": [
           {
            "marker": {
             "colorbar": {
              "outlinewidth": 0,
              "ticks": ""
             }
            },
            "type": "scattermapbox"
           }
          ],
          "scatterpolar": [
           {
            "marker": {
             "colorbar": {
              "outlinewidth": 0,
              "ticks": ""
             }
            },
            "type": "scatterpolar"
           }
          ],
          "scatterpolargl": [
           {
            "marker": {
             "colorbar": {
              "outlinewidth": 0,
              "ticks": ""
             }
            },
            "type": "scatterpolargl"
           }
          ],
          "scatterternary": [
           {
            "marker": {
             "colorbar": {
              "outlinewidth": 0,
              "ticks": ""
             }
            },
            "type": "scatterternary"
           }
          ],
          "surface": [
           {
            "colorbar": {
             "outlinewidth": 0,
             "ticks": ""
            },
            "colorscale": [
             [
              0,
              "#0d0887"
             ],
             [
              0.1111111111111111,
              "#46039f"
             ],
             [
              0.2222222222222222,
              "#7201a8"
             ],
             [
              0.3333333333333333,
              "#9c179e"
             ],
             [
              0.4444444444444444,
              "#bd3786"
             ],
             [
              0.5555555555555556,
              "#d8576b"
             ],
             [
              0.6666666666666666,
              "#ed7953"
             ],
             [
              0.7777777777777778,
              "#fb9f3a"
             ],
             [
              0.8888888888888888,
              "#fdca26"
             ],
             [
              1,
              "#f0f921"
             ]
            ],
            "type": "surface"
           }
          ],
          "table": [
           {
            "cells": {
             "fill": {
              "color": "#EBF0F8"
             },
             "line": {
              "color": "white"
             }
            },
            "header": {
             "fill": {
              "color": "#C8D4E3"
             },
             "line": {
              "color": "white"
             }
            },
            "type": "table"
           }
          ]
         },
         "layout": {
          "annotationdefaults": {
           "arrowcolor": "#2a3f5f",
           "arrowhead": 0,
           "arrowwidth": 1
          },
          "autotypenumbers": "strict",
          "coloraxis": {
           "colorbar": {
            "outlinewidth": 0,
            "ticks": ""
           }
          },
          "colorscale": {
           "diverging": [
            [
             0,
             "#8e0152"
            ],
            [
             0.1,
             "#c51b7d"
            ],
            [
             0.2,
             "#de77ae"
            ],
            [
             0.3,
             "#f1b6da"
            ],
            [
             0.4,
             "#fde0ef"
            ],
            [
             0.5,
             "#f7f7f7"
            ],
            [
             0.6,
             "#e6f5d0"
            ],
            [
             0.7,
             "#b8e186"
            ],
            [
             0.8,
             "#7fbc41"
            ],
            [
             0.9,
             "#4d9221"
            ],
            [
             1,
             "#276419"
            ]
           ],
           "sequential": [
            [
             0,
             "#0d0887"
            ],
            [
             0.1111111111111111,
             "#46039f"
            ],
            [
             0.2222222222222222,
             "#7201a8"
            ],
            [
             0.3333333333333333,
             "#9c179e"
            ],
            [
             0.4444444444444444,
             "#bd3786"
            ],
            [
             0.5555555555555556,
             "#d8576b"
            ],
            [
             0.6666666666666666,
             "#ed7953"
            ],
            [
             0.7777777777777778,
             "#fb9f3a"
            ],
            [
             0.8888888888888888,
             "#fdca26"
            ],
            [
             1,
             "#f0f921"
            ]
           ],
           "sequentialminus": [
            [
             0,
             "#0d0887"
            ],
            [
             0.1111111111111111,
             "#46039f"
            ],
            [
             0.2222222222222222,
             "#7201a8"
            ],
            [
             0.3333333333333333,
             "#9c179e"
            ],
            [
             0.4444444444444444,
             "#bd3786"
            ],
            [
             0.5555555555555556,
             "#d8576b"
            ],
            [
             0.6666666666666666,
             "#ed7953"
            ],
            [
             0.7777777777777778,
             "#fb9f3a"
            ],
            [
             0.8888888888888888,
             "#fdca26"
            ],
            [
             1,
             "#f0f921"
            ]
           ]
          },
          "colorway": [
           "#636efa",
           "#EF553B",
           "#00cc96",
           "#ab63fa",
           "#FFA15A",
           "#19d3f3",
           "#FF6692",
           "#B6E880",
           "#FF97FF",
           "#FECB52"
          ],
          "font": {
           "color": "#2a3f5f"
          },
          "geo": {
           "bgcolor": "white",
           "lakecolor": "white",
           "landcolor": "#E5ECF6",
           "showlakes": true,
           "showland": true,
           "subunitcolor": "white"
          },
          "hoverlabel": {
           "align": "left"
          },
          "hovermode": "closest",
          "mapbox": {
           "style": "light"
          },
          "paper_bgcolor": "white",
          "plot_bgcolor": "#E5ECF6",
          "polar": {
           "angularaxis": {
            "gridcolor": "white",
            "linecolor": "white",
            "ticks": ""
           },
           "bgcolor": "#E5ECF6",
           "radialaxis": {
            "gridcolor": "white",
            "linecolor": "white",
            "ticks": ""
           }
          },
          "scene": {
           "xaxis": {
            "backgroundcolor": "#E5ECF6",
            "gridcolor": "white",
            "gridwidth": 2,
            "linecolor": "white",
            "showbackground": true,
            "ticks": "",
            "zerolinecolor": "white"
           },
           "yaxis": {
            "backgroundcolor": "#E5ECF6",
            "gridcolor": "white",
            "gridwidth": 2,
            "linecolor": "white",
            "showbackground": true,
            "ticks": "",
            "zerolinecolor": "white"
           },
           "zaxis": {
            "backgroundcolor": "#E5ECF6",
            "gridcolor": "white",
            "gridwidth": 2,
            "linecolor": "white",
            "showbackground": true,
            "ticks": "",
            "zerolinecolor": "white"
           }
          },
          "shapedefaults": {
           "line": {
            "color": "#2a3f5f"
           }
          },
          "ternary": {
           "aaxis": {
            "gridcolor": "white",
            "linecolor": "white",
            "ticks": ""
           },
           "baxis": {
            "gridcolor": "white",
            "linecolor": "white",
            "ticks": ""
           },
           "bgcolor": "#E5ECF6",
           "caxis": {
            "gridcolor": "white",
            "linecolor": "white",
            "ticks": ""
           }
          },
          "title": {
           "x": 0.05
          },
          "xaxis": {
           "automargin": true,
           "gridcolor": "white",
           "linecolor": "white",
           "ticks": "",
           "title": {
            "standoff": 15
           },
           "zerolinecolor": "white",
           "zerolinewidth": 2
          },
          "yaxis": {
           "automargin": true,
           "gridcolor": "white",
           "linecolor": "white",
           "ticks": "",
           "title": {
            "standoff": 15
           },
           "zerolinecolor": "white",
           "zerolinewidth": 2
          }
         }
        },
        "title": {
         "text": "Cohort Analysis: Retention Rate",
         "x": 0.5,
         "y": 0.99
        },
        "xaxis": {
         "title": {
          "text": "Cohorts"
         }
        },
        "yaxis": {
         "title": {
          "text": "Quarters"
         }
        }
       }
      }
     },
     "metadata": {},
     "output_type": "display_data"
    }
   ],
   "source": [
    "fig = go.Figure(data=go.Heatmap(\n",
    "                    z=retention.values,\n",
    "                    y=retention.index,\n",
    "                    colorscale='Greens',\n",
    "                    text=retention,\n",
    "                    texttemplate = \"%{text}%\",\n",
    "                    colorbar_title='Retention Rate, %',\n",
    "                    xgap=3,\n",
    "                    ygap=3))\n",
    "\n",
    "#fig.update_xaxes(side=\"top\")\n",
    "\n",
    "fig.update_layout(title=\"Cohort Analysis: Retention Rate\",\n",
    "                  xaxis_title=\"Cohorts\",\n",
    "                  yaxis_title=\"Quarters\",\n",
    "                  \n",
    "                  title_x=0.5,\n",
    "                  title_y=0.99,\n",
    "                  plot_bgcolor='white')\n",
    "fig.show()\n"
   ]
  },
  {
   "cell_type": "markdown",
   "id": "57ccfb57",
   "metadata": {},
   "source": [
    "The results are quite interesting. Have you noticed how retention drops in 2010? An it seems that the store has implemented some measures to improve the situation in 2011, so more customers returned to shop here agein."
   ]
  },
  {
   "cell_type": "markdown",
   "id": "e31afdbd",
   "metadata": {},
   "source": [
    "Average Quantity Cohort Analysis\n",
    "One more dimension I am interested is how many products are sold on average, and how this changes with time.\n",
    "\n",
    "Here, I will use the same method, but group my data using mean() function."
   ]
  },
  {
   "cell_type": "code",
   "execution_count": 134,
   "id": "0845a074",
   "metadata": {},
   "outputs": [
    {
     "data": {
      "text/html": [
       "<div>\n",
       "<style scoped>\n",
       "    .dataframe tbody tr th:only-of-type {\n",
       "        vertical-align: middle;\n",
       "    }\n",
       "\n",
       "    .dataframe tbody tr th {\n",
       "        vertical-align: top;\n",
       "    }\n",
       "\n",
       "    .dataframe thead th {\n",
       "        text-align: right;\n",
       "    }\n",
       "</style>\n",
       "<table border=\"1\" class=\"dataframe\">\n",
       "  <thead>\n",
       "    <tr style=\"text-align: right;\">\n",
       "      <th></th>\n",
       "      <th>CohortQuarterID</th>\n",
       "      <th>CohortIndex</th>\n",
       "      <th>Average Quantity</th>\n",
       "    </tr>\n",
       "  </thead>\n",
       "  <tbody>\n",
       "    <tr>\n",
       "      <th>0</th>\n",
       "      <td>0</td>\n",
       "      <td>0</td>\n",
       "      <td>15.510993</td>\n",
       "    </tr>\n",
       "    <tr>\n",
       "      <th>1</th>\n",
       "      <td>0</td>\n",
       "      <td>1</td>\n",
       "      <td>13.124922</td>\n",
       "    </tr>\n",
       "    <tr>\n",
       "      <th>2</th>\n",
       "      <td>0</td>\n",
       "      <td>2</td>\n",
       "      <td>14.435120</td>\n",
       "    </tr>\n",
       "    <tr>\n",
       "      <th>3</th>\n",
       "      <td>0</td>\n",
       "      <td>3</td>\n",
       "      <td>13.058323</td>\n",
       "    </tr>\n",
       "    <tr>\n",
       "      <th>4</th>\n",
       "      <td>0</td>\n",
       "      <td>4</td>\n",
       "      <td>13.955552</td>\n",
       "    </tr>\n",
       "  </tbody>\n",
       "</table>\n",
       "</div>"
      ],
      "text/plain": [
       "   CohortQuarterID  CohortIndex  Average Quantity\n",
       "0                0            0         15.510993\n",
       "1                0            1         13.124922\n",
       "2                0            2         14.435120\n",
       "3                0            3         13.058323\n",
       "4                0            4         13.955552"
      ]
     },
     "execution_count": 134,
     "metadata": {},
     "output_type": "execute_result"
    }
   ],
   "source": [
    "cohort_quantity=retail_data.groupby([\"CohortQuarterID\",\"CohortIndex\"])[\"Quantity\"].mean().reset_index()\n",
    "\n",
    "cohort_quantity.rename(columns={'Quantity':'Average Quantity'},inplace=True)\n",
    "\n",
    "cohort_quantity.head()"
   ]
  },
  {
   "cell_type": "code",
   "execution_count": 136,
   "id": "64781108",
   "metadata": {},
   "outputs": [
    {
     "data": {
      "text/html": [
       "<div>\n",
       "<style scoped>\n",
       "    .dataframe tbody tr th:only-of-type {\n",
       "        vertical-align: middle;\n",
       "    }\n",
       "\n",
       "    .dataframe tbody tr th {\n",
       "        vertical-align: top;\n",
       "    }\n",
       "\n",
       "    .dataframe thead th {\n",
       "        text-align: right;\n",
       "    }\n",
       "</style>\n",
       "<table border=\"1\" class=\"dataframe\">\n",
       "  <thead>\n",
       "    <tr style=\"text-align: right;\">\n",
       "      <th>CohortIndex</th>\n",
       "      <th>0</th>\n",
       "      <th>1</th>\n",
       "      <th>2</th>\n",
       "      <th>3</th>\n",
       "      <th>4</th>\n",
       "      <th>5</th>\n",
       "      <th>6</th>\n",
       "      <th>7</th>\n",
       "    </tr>\n",
       "    <tr>\n",
       "      <th>CohortQuarterID</th>\n",
       "      <th></th>\n",
       "      <th></th>\n",
       "      <th></th>\n",
       "      <th></th>\n",
       "      <th></th>\n",
       "      <th></th>\n",
       "      <th></th>\n",
       "      <th></th>\n",
       "    </tr>\n",
       "  </thead>\n",
       "  <tbody>\n",
       "    <tr>\n",
       "      <th>0</th>\n",
       "      <td>15.5</td>\n",
       "      <td>13.1</td>\n",
       "      <td>14.4</td>\n",
       "      <td>13.1</td>\n",
       "      <td>14.0</td>\n",
       "      <td>13.7</td>\n",
       "      <td>15.1</td>\n",
       "      <td>13.5</td>\n",
       "    </tr>\n",
       "    <tr>\n",
       "      <th>1</th>\n",
       "      <td>10.3</td>\n",
       "      <td>11.2</td>\n",
       "      <td>10.1</td>\n",
       "      <td>14.8</td>\n",
       "      <td>14.2</td>\n",
       "      <td>15.4</td>\n",
       "      <td>9.7</td>\n",
       "      <td>NaN</td>\n",
       "    </tr>\n",
       "    <tr>\n",
       "      <th>2</th>\n",
       "      <td>13.5</td>\n",
       "      <td>7.9</td>\n",
       "      <td>9.6</td>\n",
       "      <td>11.8</td>\n",
       "      <td>13.9</td>\n",
       "      <td>10.2</td>\n",
       "      <td>NaN</td>\n",
       "      <td>NaN</td>\n",
       "    </tr>\n",
       "    <tr>\n",
       "      <th>3</th>\n",
       "      <td>7.6</td>\n",
       "      <td>8.4</td>\n",
       "      <td>8.3</td>\n",
       "      <td>9.7</td>\n",
       "      <td>8.7</td>\n",
       "      <td>NaN</td>\n",
       "      <td>NaN</td>\n",
       "      <td>NaN</td>\n",
       "    </tr>\n",
       "    <tr>\n",
       "      <th>4</th>\n",
       "      <td>9.6</td>\n",
       "      <td>13.4</td>\n",
       "      <td>12.4</td>\n",
       "      <td>11.5</td>\n",
       "      <td>NaN</td>\n",
       "      <td>NaN</td>\n",
       "      <td>NaN</td>\n",
       "      <td>NaN</td>\n",
       "    </tr>\n",
       "    <tr>\n",
       "      <th>5</th>\n",
       "      <td>8.8</td>\n",
       "      <td>11.3</td>\n",
       "      <td>9.2</td>\n",
       "      <td>NaN</td>\n",
       "      <td>NaN</td>\n",
       "      <td>NaN</td>\n",
       "      <td>NaN</td>\n",
       "      <td>NaN</td>\n",
       "    </tr>\n",
       "    <tr>\n",
       "      <th>6</th>\n",
       "      <td>9.2</td>\n",
       "      <td>6.2</td>\n",
       "      <td>NaN</td>\n",
       "      <td>NaN</td>\n",
       "      <td>NaN</td>\n",
       "      <td>NaN</td>\n",
       "      <td>NaN</td>\n",
       "      <td>NaN</td>\n",
       "    </tr>\n",
       "    <tr>\n",
       "      <th>7</th>\n",
       "      <td>9.1</td>\n",
       "      <td>NaN</td>\n",
       "      <td>NaN</td>\n",
       "      <td>NaN</td>\n",
       "      <td>NaN</td>\n",
       "      <td>NaN</td>\n",
       "      <td>NaN</td>\n",
       "      <td>NaN</td>\n",
       "    </tr>\n",
       "  </tbody>\n",
       "</table>\n",
       "</div>"
      ],
      "text/plain": [
       "CohortIndex         0     1     2     3     4     5     6     7\n",
       "CohortQuarterID                                                \n",
       "0                15.5  13.1  14.4  13.1  14.0  13.7  15.1  13.5\n",
       "1                10.3  11.2  10.1  14.8  14.2  15.4   9.7   NaN\n",
       "2                13.5   7.9   9.6  11.8  13.9  10.2   NaN   NaN\n",
       "3                 7.6   8.4   8.3   9.7   8.7   NaN   NaN   NaN\n",
       "4                 9.6  13.4  12.4  11.5   NaN   NaN   NaN   NaN\n",
       "5                 8.8  11.3   9.2   NaN   NaN   NaN   NaN   NaN\n",
       "6                 9.2   6.2   NaN   NaN   NaN   NaN   NaN   NaN\n",
       "7                 9.1   NaN   NaN   NaN   NaN   NaN   NaN   NaN"
      ]
     },
     "execution_count": 136,
     "metadata": {},
     "output_type": "execute_result"
    }
   ],
   "source": [
    "average_quantity=cohort_quantity.pivot_table(index=\"CohortQuarterID\", \n",
    "                                                      columns='CohortIndex', \n",
    "                                                      values='Average Quantity').round(1)\n",
    "\n",
    "average_quantity"
   ]
  },
  {
   "cell_type": "code",
   "execution_count": 137,
   "id": "6e17d078",
   "metadata": {},
   "outputs": [
    {
     "data": {
      "text/html": [
       "<div>\n",
       "<style scoped>\n",
       "    .dataframe tbody tr th:only-of-type {\n",
       "        vertical-align: middle;\n",
       "    }\n",
       "\n",
       "    .dataframe tbody tr th {\n",
       "        vertical-align: top;\n",
       "    }\n",
       "\n",
       "    .dataframe thead th {\n",
       "        text-align: right;\n",
       "    }\n",
       "</style>\n",
       "<table border=\"1\" class=\"dataframe\">\n",
       "  <thead>\n",
       "    <tr style=\"text-align: right;\">\n",
       "      <th>CohortIndex</th>\n",
       "      <th>0</th>\n",
       "      <th>1</th>\n",
       "      <th>2</th>\n",
       "      <th>3</th>\n",
       "      <th>4</th>\n",
       "      <th>5</th>\n",
       "      <th>6</th>\n",
       "      <th>7</th>\n",
       "      <th>CohorQuarter</th>\n",
       "    </tr>\n",
       "    <tr>\n",
       "      <th>CohortQuarterID</th>\n",
       "      <th></th>\n",
       "      <th></th>\n",
       "      <th></th>\n",
       "      <th></th>\n",
       "      <th></th>\n",
       "      <th></th>\n",
       "      <th></th>\n",
       "      <th></th>\n",
       "      <th></th>\n",
       "    </tr>\n",
       "  </thead>\n",
       "  <tbody>\n",
       "    <tr>\n",
       "      <th>0</th>\n",
       "      <td>15.5</td>\n",
       "      <td>13.1</td>\n",
       "      <td>14.4</td>\n",
       "      <td>13.1</td>\n",
       "      <td>14.0</td>\n",
       "      <td>13.7</td>\n",
       "      <td>15.1</td>\n",
       "      <td>13.5</td>\n",
       "      <td>Q1/2010</td>\n",
       "    </tr>\n",
       "    <tr>\n",
       "      <th>1</th>\n",
       "      <td>10.3</td>\n",
       "      <td>11.2</td>\n",
       "      <td>10.1</td>\n",
       "      <td>14.8</td>\n",
       "      <td>14.2</td>\n",
       "      <td>15.4</td>\n",
       "      <td>9.7</td>\n",
       "      <td>NaN</td>\n",
       "      <td>Q2/2010</td>\n",
       "    </tr>\n",
       "    <tr>\n",
       "      <th>2</th>\n",
       "      <td>13.5</td>\n",
       "      <td>7.9</td>\n",
       "      <td>9.6</td>\n",
       "      <td>11.8</td>\n",
       "      <td>13.9</td>\n",
       "      <td>10.2</td>\n",
       "      <td>NaN</td>\n",
       "      <td>NaN</td>\n",
       "      <td>Q3/2010</td>\n",
       "    </tr>\n",
       "    <tr>\n",
       "      <th>3</th>\n",
       "      <td>7.6</td>\n",
       "      <td>8.4</td>\n",
       "      <td>8.3</td>\n",
       "      <td>9.7</td>\n",
       "      <td>8.7</td>\n",
       "      <td>NaN</td>\n",
       "      <td>NaN</td>\n",
       "      <td>NaN</td>\n",
       "      <td>Q4/2010</td>\n",
       "    </tr>\n",
       "    <tr>\n",
       "      <th>4</th>\n",
       "      <td>9.6</td>\n",
       "      <td>13.4</td>\n",
       "      <td>12.4</td>\n",
       "      <td>11.5</td>\n",
       "      <td>NaN</td>\n",
       "      <td>NaN</td>\n",
       "      <td>NaN</td>\n",
       "      <td>NaN</td>\n",
       "      <td>Q1/2011</td>\n",
       "    </tr>\n",
       "    <tr>\n",
       "      <th>5</th>\n",
       "      <td>8.8</td>\n",
       "      <td>11.3</td>\n",
       "      <td>9.2</td>\n",
       "      <td>NaN</td>\n",
       "      <td>NaN</td>\n",
       "      <td>NaN</td>\n",
       "      <td>NaN</td>\n",
       "      <td>NaN</td>\n",
       "      <td>Q2/2011</td>\n",
       "    </tr>\n",
       "    <tr>\n",
       "      <th>6</th>\n",
       "      <td>9.2</td>\n",
       "      <td>6.2</td>\n",
       "      <td>NaN</td>\n",
       "      <td>NaN</td>\n",
       "      <td>NaN</td>\n",
       "      <td>NaN</td>\n",
       "      <td>NaN</td>\n",
       "      <td>NaN</td>\n",
       "      <td>Q3/2011</td>\n",
       "    </tr>\n",
       "    <tr>\n",
       "      <th>7</th>\n",
       "      <td>9.1</td>\n",
       "      <td>NaN</td>\n",
       "      <td>NaN</td>\n",
       "      <td>NaN</td>\n",
       "      <td>NaN</td>\n",
       "      <td>NaN</td>\n",
       "      <td>NaN</td>\n",
       "      <td>NaN</td>\n",
       "      <td>Q4/2011</td>\n",
       "    </tr>\n",
       "  </tbody>\n",
       "</table>\n",
       "</div>"
      ],
      "text/plain": [
       "CohortIndex         0     1     2     3     4     5     6     7 CohorQuarter\n",
       "CohortQuarterID                                                             \n",
       "0                15.5  13.1  14.4  13.1  14.0  13.7  15.1  13.5      Q1/2010\n",
       "1                10.3  11.2  10.1  14.8  14.2  15.4   9.7   NaN      Q2/2010\n",
       "2                13.5   7.9   9.6  11.8  13.9  10.2   NaN   NaN      Q3/2010\n",
       "3                 7.6   8.4   8.3   9.7   8.7   NaN   NaN   NaN      Q4/2010\n",
       "4                 9.6  13.4  12.4  11.5   NaN   NaN   NaN   NaN      Q1/2011\n",
       "5                 8.8  11.3   9.2   NaN   NaN   NaN   NaN   NaN      Q2/2011\n",
       "6                 9.2   6.2   NaN   NaN   NaN   NaN   NaN   NaN      Q3/2011\n",
       "7                 9.1   NaN   NaN   NaN   NaN   NaN   NaN   NaN      Q4/2011"
      ]
     },
     "execution_count": 137,
     "metadata": {},
     "output_type": "execute_result"
    }
   ],
   "source": [
    "average_quantity[\"CohorQuarter\"]=average_quantity.index.map(dict(zip(quarters_map.values(),quarters_map.keys())))\n",
    "\n",
    "average_quantity"
   ]
  },
  {
   "cell_type": "code",
   "execution_count": 139,
   "id": "6f0d3a87",
   "metadata": {},
   "outputs": [],
   "source": [
    "average_quantity=average_quantity.set_index('CohorQuarter')\n"
   ]
  },
  {
   "cell_type": "code",
   "execution_count": 144,
   "id": "a180c588",
   "metadata": {},
   "outputs": [
    {
     "data": {
      "text/html": [
       "<div>\n",
       "<style scoped>\n",
       "    .dataframe tbody tr th:only-of-type {\n",
       "        vertical-align: middle;\n",
       "    }\n",
       "\n",
       "    .dataframe tbody tr th {\n",
       "        vertical-align: top;\n",
       "    }\n",
       "\n",
       "    .dataframe thead th {\n",
       "        text-align: right;\n",
       "    }\n",
       "</style>\n",
       "<table border=\"1\" class=\"dataframe\">\n",
       "  <thead>\n",
       "    <tr style=\"text-align: right;\">\n",
       "      <th>CohortIndex</th>\n",
       "      <th>0</th>\n",
       "      <th>1</th>\n",
       "      <th>2</th>\n",
       "      <th>3</th>\n",
       "      <th>4</th>\n",
       "      <th>5</th>\n",
       "      <th>6</th>\n",
       "      <th>7</th>\n",
       "    </tr>\n",
       "    <tr>\n",
       "      <th>CohorQuarter</th>\n",
       "      <th></th>\n",
       "      <th></th>\n",
       "      <th></th>\n",
       "      <th></th>\n",
       "      <th></th>\n",
       "      <th></th>\n",
       "      <th></th>\n",
       "      <th></th>\n",
       "    </tr>\n",
       "  </thead>\n",
       "  <tbody>\n",
       "    <tr>\n",
       "      <th>Q4/2011</th>\n",
       "      <td>9.1</td>\n",
       "      <td>NaN</td>\n",
       "      <td>NaN</td>\n",
       "      <td>NaN</td>\n",
       "      <td>NaN</td>\n",
       "      <td>NaN</td>\n",
       "      <td>NaN</td>\n",
       "      <td>NaN</td>\n",
       "    </tr>\n",
       "    <tr>\n",
       "      <th>Q3/2011</th>\n",
       "      <td>9.2</td>\n",
       "      <td>6.2</td>\n",
       "      <td>NaN</td>\n",
       "      <td>NaN</td>\n",
       "      <td>NaN</td>\n",
       "      <td>NaN</td>\n",
       "      <td>NaN</td>\n",
       "      <td>NaN</td>\n",
       "    </tr>\n",
       "    <tr>\n",
       "      <th>Q2/2011</th>\n",
       "      <td>8.8</td>\n",
       "      <td>11.3</td>\n",
       "      <td>9.2</td>\n",
       "      <td>NaN</td>\n",
       "      <td>NaN</td>\n",
       "      <td>NaN</td>\n",
       "      <td>NaN</td>\n",
       "      <td>NaN</td>\n",
       "    </tr>\n",
       "    <tr>\n",
       "      <th>Q1/2011</th>\n",
       "      <td>9.6</td>\n",
       "      <td>13.4</td>\n",
       "      <td>12.4</td>\n",
       "      <td>11.5</td>\n",
       "      <td>NaN</td>\n",
       "      <td>NaN</td>\n",
       "      <td>NaN</td>\n",
       "      <td>NaN</td>\n",
       "    </tr>\n",
       "    <tr>\n",
       "      <th>Q4/2010</th>\n",
       "      <td>7.6</td>\n",
       "      <td>8.4</td>\n",
       "      <td>8.3</td>\n",
       "      <td>9.7</td>\n",
       "      <td>8.7</td>\n",
       "      <td>NaN</td>\n",
       "      <td>NaN</td>\n",
       "      <td>NaN</td>\n",
       "    </tr>\n",
       "    <tr>\n",
       "      <th>Q3/2010</th>\n",
       "      <td>13.5</td>\n",
       "      <td>7.9</td>\n",
       "      <td>9.6</td>\n",
       "      <td>11.8</td>\n",
       "      <td>13.9</td>\n",
       "      <td>10.2</td>\n",
       "      <td>NaN</td>\n",
       "      <td>NaN</td>\n",
       "    </tr>\n",
       "    <tr>\n",
       "      <th>Q2/2010</th>\n",
       "      <td>10.3</td>\n",
       "      <td>11.2</td>\n",
       "      <td>10.1</td>\n",
       "      <td>14.8</td>\n",
       "      <td>14.2</td>\n",
       "      <td>15.4</td>\n",
       "      <td>9.7</td>\n",
       "      <td>NaN</td>\n",
       "    </tr>\n",
       "    <tr>\n",
       "      <th>Q1/2010</th>\n",
       "      <td>15.5</td>\n",
       "      <td>13.1</td>\n",
       "      <td>14.4</td>\n",
       "      <td>13.1</td>\n",
       "      <td>14.0</td>\n",
       "      <td>13.7</td>\n",
       "      <td>15.1</td>\n",
       "      <td>13.5</td>\n",
       "    </tr>\n",
       "  </tbody>\n",
       "</table>\n",
       "</div>"
      ],
      "text/plain": [
       "CohortIndex      0     1     2     3     4     5     6     7\n",
       "CohorQuarter                                                \n",
       "Q4/2011        9.1   NaN   NaN   NaN   NaN   NaN   NaN   NaN\n",
       "Q3/2011        9.2   6.2   NaN   NaN   NaN   NaN   NaN   NaN\n",
       "Q2/2011        8.8  11.3   9.2   NaN   NaN   NaN   NaN   NaN\n",
       "Q1/2011        9.6  13.4  12.4  11.5   NaN   NaN   NaN   NaN\n",
       "Q4/2010        7.6   8.4   8.3   9.7   8.7   NaN   NaN   NaN\n",
       "Q3/2010       13.5   7.9   9.6  11.8  13.9  10.2   NaN   NaN\n",
       "Q2/2010       10.3  11.2  10.1  14.8  14.2  15.4   9.7   NaN\n",
       "Q1/2010       15.5  13.1  14.4  13.1  14.0  13.7  15.1  13.5"
      ]
     },
     "execution_count": 144,
     "metadata": {},
     "output_type": "execute_result"
    }
   ],
   "source": [
    "average_quantity"
   ]
  },
  {
   "cell_type": "code",
   "execution_count": 142,
   "id": "5ee90990",
   "metadata": {},
   "outputs": [],
   "source": [
    "average_quantity=average_quantity.iloc[::-1]"
   ]
  },
  {
   "cell_type": "code",
   "execution_count": 143,
   "id": "a06f3233",
   "metadata": {},
   "outputs": [
    {
     "data": {
      "application/vnd.plotly.v1+json": {
       "config": {
        "plotlyServerURL": "https://plot.ly"
       },
       "data": [
        {
         "colorbar": {
          "title": {
           "text": "Average Quantity"
          }
         },
         "colorscale": [
          [
           0,
           "rgb(247,251,255)"
          ],
          [
           0.125,
           "rgb(222,235,247)"
          ],
          [
           0.25,
           "rgb(198,219,239)"
          ],
          [
           0.375,
           "rgb(158,202,225)"
          ],
          [
           0.5,
           "rgb(107,174,214)"
          ],
          [
           0.625,
           "rgb(66,146,198)"
          ],
          [
           0.75,
           "rgb(33,113,181)"
          ],
          [
           0.875,
           "rgb(8,81,156)"
          ],
          [
           1,
           "rgb(8,48,107)"
          ]
         ],
         "text": {
          "bdata": "MzMzMzMzIkAAAAAAAAD4fwAAAAAAAPh/AAAAAAAA+H8AAAAAAAD4fwAAAAAAAPh/AAAAAAAA+H8AAAAAAAD4f2ZmZmZmZiJAzczMzMzMGEAAAAAAAAD4fwAAAAAAAPh/AAAAAAAA+H8AAAAAAAD4fwAAAAAAAPh/AAAAAAAA+H+amZmZmZkhQJqZmZmZmSZAZmZmZmZmIkAAAAAAAAD4fwAAAAAAAPh/AAAAAAAA+H8AAAAAAAD4fwAAAAAAAPh/MzMzMzMzI0DNzMzMzMwqQM3MzMzMzChAAAAAAAAAJ0AAAAAAAAD4fwAAAAAAAPh/AAAAAAAA+H8AAAAAAAD4f2ZmZmZmZh5AzczMzMzMIECamZmZmZkgQGZmZmZmZiNAZmZmZmZmIUAAAAAAAAD4fwAAAAAAAPh/AAAAAAAA+H8AAAAAAAArQJqZmZmZmR9AMzMzMzMzI0CamZmZmZknQM3MzMzMzCtAZmZmZmZmJEAAAAAAAAD4fwAAAAAAAPh/mpmZmZmZJEBmZmZmZmYmQDMzMzMzMyRAmpmZmZmZLUBmZmZmZmYsQM3MzMzMzC5AZmZmZmZmI0AAAAAAAAD4fwAAAAAAAC9AMzMzMzMzKkDNzMzMzMwsQDMzMzMzMypAAAAAAAAALEBmZmZmZmYrQDMzMzMzMy5AAAAAAAAAK0A=",
          "dtype": "f8",
          "shape": "8, 8"
         },
         "texttemplate": "%{text}",
         "type": "heatmap",
         "xgap": 3,
         "y": [
          "Q4/2011",
          "Q3/2011",
          "Q2/2011",
          "Q1/2011",
          "Q4/2010",
          "Q3/2010",
          "Q2/2010",
          "Q1/2010"
         ],
         "ygap": 3,
         "z": {
          "bdata": "MzMzMzMzIkAAAAAAAAD4fwAAAAAAAPh/AAAAAAAA+H8AAAAAAAD4fwAAAAAAAPh/AAAAAAAA+H8AAAAAAAD4f2ZmZmZmZiJAzczMzMzMGEAAAAAAAAD4fwAAAAAAAPh/AAAAAAAA+H8AAAAAAAD4fwAAAAAAAPh/AAAAAAAA+H+amZmZmZkhQJqZmZmZmSZAZmZmZmZmIkAAAAAAAAD4fwAAAAAAAPh/AAAAAAAA+H8AAAAAAAD4fwAAAAAAAPh/MzMzMzMzI0DNzMzMzMwqQM3MzMzMzChAAAAAAAAAJ0AAAAAAAAD4fwAAAAAAAPh/AAAAAAAA+H8AAAAAAAD4f2ZmZmZmZh5AzczMzMzMIECamZmZmZkgQGZmZmZmZiNAZmZmZmZmIUAAAAAAAAD4fwAAAAAAAPh/AAAAAAAA+H8AAAAAAAArQJqZmZmZmR9AMzMzMzMzI0CamZmZmZknQM3MzMzMzCtAZmZmZmZmJEAAAAAAAAD4fwAAAAAAAPh/mpmZmZmZJEBmZmZmZmYmQDMzMzMzMyRAmpmZmZmZLUBmZmZmZmYsQM3MzMzMzC5AZmZmZmZmI0AAAAAAAAD4fwAAAAAAAC9AMzMzMzMzKkDNzMzMzMwsQDMzMzMzMypAAAAAAAAALEBmZmZmZmYrQDMzMzMzMy5AAAAAAAAAK0A=",
          "dtype": "f8",
          "shape": "8, 8"
         }
        }
       ],
       "layout": {
        "plot_bgcolor": "white",
        "template": {
         "data": {
          "bar": [
           {
            "error_x": {
             "color": "#2a3f5f"
            },
            "error_y": {
             "color": "#2a3f5f"
            },
            "marker": {
             "line": {
              "color": "#E5ECF6",
              "width": 0.5
             },
             "pattern": {
              "fillmode": "overlay",
              "size": 10,
              "solidity": 0.2
             }
            },
            "type": "bar"
           }
          ],
          "barpolar": [
           {
            "marker": {
             "line": {
              "color": "#E5ECF6",
              "width": 0.5
             },
             "pattern": {
              "fillmode": "overlay",
              "size": 10,
              "solidity": 0.2
             }
            },
            "type": "barpolar"
           }
          ],
          "carpet": [
           {
            "aaxis": {
             "endlinecolor": "#2a3f5f",
             "gridcolor": "white",
             "linecolor": "white",
             "minorgridcolor": "white",
             "startlinecolor": "#2a3f5f"
            },
            "baxis": {
             "endlinecolor": "#2a3f5f",
             "gridcolor": "white",
             "linecolor": "white",
             "minorgridcolor": "white",
             "startlinecolor": "#2a3f5f"
            },
            "type": "carpet"
           }
          ],
          "choropleth": [
           {
            "colorbar": {
             "outlinewidth": 0,
             "ticks": ""
            },
            "type": "choropleth"
           }
          ],
          "contour": [
           {
            "colorbar": {
             "outlinewidth": 0,
             "ticks": ""
            },
            "colorscale": [
             [
              0,
              "#0d0887"
             ],
             [
              0.1111111111111111,
              "#46039f"
             ],
             [
              0.2222222222222222,
              "#7201a8"
             ],
             [
              0.3333333333333333,
              "#9c179e"
             ],
             [
              0.4444444444444444,
              "#bd3786"
             ],
             [
              0.5555555555555556,
              "#d8576b"
             ],
             [
              0.6666666666666666,
              "#ed7953"
             ],
             [
              0.7777777777777778,
              "#fb9f3a"
             ],
             [
              0.8888888888888888,
              "#fdca26"
             ],
             [
              1,
              "#f0f921"
             ]
            ],
            "type": "contour"
           }
          ],
          "contourcarpet": [
           {
            "colorbar": {
             "outlinewidth": 0,
             "ticks": ""
            },
            "type": "contourcarpet"
           }
          ],
          "heatmap": [
           {
            "colorbar": {
             "outlinewidth": 0,
             "ticks": ""
            },
            "colorscale": [
             [
              0,
              "#0d0887"
             ],
             [
              0.1111111111111111,
              "#46039f"
             ],
             [
              0.2222222222222222,
              "#7201a8"
             ],
             [
              0.3333333333333333,
              "#9c179e"
             ],
             [
              0.4444444444444444,
              "#bd3786"
             ],
             [
              0.5555555555555556,
              "#d8576b"
             ],
             [
              0.6666666666666666,
              "#ed7953"
             ],
             [
              0.7777777777777778,
              "#fb9f3a"
             ],
             [
              0.8888888888888888,
              "#fdca26"
             ],
             [
              1,
              "#f0f921"
             ]
            ],
            "type": "heatmap"
           }
          ],
          "histogram": [
           {
            "marker": {
             "pattern": {
              "fillmode": "overlay",
              "size": 10,
              "solidity": 0.2
             }
            },
            "type": "histogram"
           }
          ],
          "histogram2d": [
           {
            "colorbar": {
             "outlinewidth": 0,
             "ticks": ""
            },
            "colorscale": [
             [
              0,
              "#0d0887"
             ],
             [
              0.1111111111111111,
              "#46039f"
             ],
             [
              0.2222222222222222,
              "#7201a8"
             ],
             [
              0.3333333333333333,
              "#9c179e"
             ],
             [
              0.4444444444444444,
              "#bd3786"
             ],
             [
              0.5555555555555556,
              "#d8576b"
             ],
             [
              0.6666666666666666,
              "#ed7953"
             ],
             [
              0.7777777777777778,
              "#fb9f3a"
             ],
             [
              0.8888888888888888,
              "#fdca26"
             ],
             [
              1,
              "#f0f921"
             ]
            ],
            "type": "histogram2d"
           }
          ],
          "histogram2dcontour": [
           {
            "colorbar": {
             "outlinewidth": 0,
             "ticks": ""
            },
            "colorscale": [
             [
              0,
              "#0d0887"
             ],
             [
              0.1111111111111111,
              "#46039f"
             ],
             [
              0.2222222222222222,
              "#7201a8"
             ],
             [
              0.3333333333333333,
              "#9c179e"
             ],
             [
              0.4444444444444444,
              "#bd3786"
             ],
             [
              0.5555555555555556,
              "#d8576b"
             ],
             [
              0.6666666666666666,
              "#ed7953"
             ],
             [
              0.7777777777777778,
              "#fb9f3a"
             ],
             [
              0.8888888888888888,
              "#fdca26"
             ],
             [
              1,
              "#f0f921"
             ]
            ],
            "type": "histogram2dcontour"
           }
          ],
          "mesh3d": [
           {
            "colorbar": {
             "outlinewidth": 0,
             "ticks": ""
            },
            "type": "mesh3d"
           }
          ],
          "parcoords": [
           {
            "line": {
             "colorbar": {
              "outlinewidth": 0,
              "ticks": ""
             }
            },
            "type": "parcoords"
           }
          ],
          "pie": [
           {
            "automargin": true,
            "type": "pie"
           }
          ],
          "scatter": [
           {
            "fillpattern": {
             "fillmode": "overlay",
             "size": 10,
             "solidity": 0.2
            },
            "type": "scatter"
           }
          ],
          "scatter3d": [
           {
            "line": {
             "colorbar": {
              "outlinewidth": 0,
              "ticks": ""
             }
            },
            "marker": {
             "colorbar": {
              "outlinewidth": 0,
              "ticks": ""
             }
            },
            "type": "scatter3d"
           }
          ],
          "scattercarpet": [
           {
            "marker": {
             "colorbar": {
              "outlinewidth": 0,
              "ticks": ""
             }
            },
            "type": "scattercarpet"
           }
          ],
          "scattergeo": [
           {
            "marker": {
             "colorbar": {
              "outlinewidth": 0,
              "ticks": ""
             }
            },
            "type": "scattergeo"
           }
          ],
          "scattergl": [
           {
            "marker": {
             "colorbar": {
              "outlinewidth": 0,
              "ticks": ""
             }
            },
            "type": "scattergl"
           }
          ],
          "scattermap": [
           {
            "marker": {
             "colorbar": {
              "outlinewidth": 0,
              "ticks": ""
             }
            },
            "type": "scattermap"
           }
          ],
          "scattermapbox": [
           {
            "marker": {
             "colorbar": {
              "outlinewidth": 0,
              "ticks": ""
             }
            },
            "type": "scattermapbox"
           }
          ],
          "scatterpolar": [
           {
            "marker": {
             "colorbar": {
              "outlinewidth": 0,
              "ticks": ""
             }
            },
            "type": "scatterpolar"
           }
          ],
          "scatterpolargl": [
           {
            "marker": {
             "colorbar": {
              "outlinewidth": 0,
              "ticks": ""
             }
            },
            "type": "scatterpolargl"
           }
          ],
          "scatterternary": [
           {
            "marker": {
             "colorbar": {
              "outlinewidth": 0,
              "ticks": ""
             }
            },
            "type": "scatterternary"
           }
          ],
          "surface": [
           {
            "colorbar": {
             "outlinewidth": 0,
             "ticks": ""
            },
            "colorscale": [
             [
              0,
              "#0d0887"
             ],
             [
              0.1111111111111111,
              "#46039f"
             ],
             [
              0.2222222222222222,
              "#7201a8"
             ],
             [
              0.3333333333333333,
              "#9c179e"
             ],
             [
              0.4444444444444444,
              "#bd3786"
             ],
             [
              0.5555555555555556,
              "#d8576b"
             ],
             [
              0.6666666666666666,
              "#ed7953"
             ],
             [
              0.7777777777777778,
              "#fb9f3a"
             ],
             [
              0.8888888888888888,
              "#fdca26"
             ],
             [
              1,
              "#f0f921"
             ]
            ],
            "type": "surface"
           }
          ],
          "table": [
           {
            "cells": {
             "fill": {
              "color": "#EBF0F8"
             },
             "line": {
              "color": "white"
             }
            },
            "header": {
             "fill": {
              "color": "#C8D4E3"
             },
             "line": {
              "color": "white"
             }
            },
            "type": "table"
           }
          ]
         },
         "layout": {
          "annotationdefaults": {
           "arrowcolor": "#2a3f5f",
           "arrowhead": 0,
           "arrowwidth": 1
          },
          "autotypenumbers": "strict",
          "coloraxis": {
           "colorbar": {
            "outlinewidth": 0,
            "ticks": ""
           }
          },
          "colorscale": {
           "diverging": [
            [
             0,
             "#8e0152"
            ],
            [
             0.1,
             "#c51b7d"
            ],
            [
             0.2,
             "#de77ae"
            ],
            [
             0.3,
             "#f1b6da"
            ],
            [
             0.4,
             "#fde0ef"
            ],
            [
             0.5,
             "#f7f7f7"
            ],
            [
             0.6,
             "#e6f5d0"
            ],
            [
             0.7,
             "#b8e186"
            ],
            [
             0.8,
             "#7fbc41"
            ],
            [
             0.9,
             "#4d9221"
            ],
            [
             1,
             "#276419"
            ]
           ],
           "sequential": [
            [
             0,
             "#0d0887"
            ],
            [
             0.1111111111111111,
             "#46039f"
            ],
            [
             0.2222222222222222,
             "#7201a8"
            ],
            [
             0.3333333333333333,
             "#9c179e"
            ],
            [
             0.4444444444444444,
             "#bd3786"
            ],
            [
             0.5555555555555556,
             "#d8576b"
            ],
            [
             0.6666666666666666,
             "#ed7953"
            ],
            [
             0.7777777777777778,
             "#fb9f3a"
            ],
            [
             0.8888888888888888,
             "#fdca26"
            ],
            [
             1,
             "#f0f921"
            ]
           ],
           "sequentialminus": [
            [
             0,
             "#0d0887"
            ],
            [
             0.1111111111111111,
             "#46039f"
            ],
            [
             0.2222222222222222,
             "#7201a8"
            ],
            [
             0.3333333333333333,
             "#9c179e"
            ],
            [
             0.4444444444444444,
             "#bd3786"
            ],
            [
             0.5555555555555556,
             "#d8576b"
            ],
            [
             0.6666666666666666,
             "#ed7953"
            ],
            [
             0.7777777777777778,
             "#fb9f3a"
            ],
            [
             0.8888888888888888,
             "#fdca26"
            ],
            [
             1,
             "#f0f921"
            ]
           ]
          },
          "colorway": [
           "#636efa",
           "#EF553B",
           "#00cc96",
           "#ab63fa",
           "#FFA15A",
           "#19d3f3",
           "#FF6692",
           "#B6E880",
           "#FF97FF",
           "#FECB52"
          ],
          "font": {
           "color": "#2a3f5f"
          },
          "geo": {
           "bgcolor": "white",
           "lakecolor": "white",
           "landcolor": "#E5ECF6",
           "showlakes": true,
           "showland": true,
           "subunitcolor": "white"
          },
          "hoverlabel": {
           "align": "left"
          },
          "hovermode": "closest",
          "mapbox": {
           "style": "light"
          },
          "paper_bgcolor": "white",
          "plot_bgcolor": "#E5ECF6",
          "polar": {
           "angularaxis": {
            "gridcolor": "white",
            "linecolor": "white",
            "ticks": ""
           },
           "bgcolor": "#E5ECF6",
           "radialaxis": {
            "gridcolor": "white",
            "linecolor": "white",
            "ticks": ""
           }
          },
          "scene": {
           "xaxis": {
            "backgroundcolor": "#E5ECF6",
            "gridcolor": "white",
            "gridwidth": 2,
            "linecolor": "white",
            "showbackground": true,
            "ticks": "",
            "zerolinecolor": "white"
           },
           "yaxis": {
            "backgroundcolor": "#E5ECF6",
            "gridcolor": "white",
            "gridwidth": 2,
            "linecolor": "white",
            "showbackground": true,
            "ticks": "",
            "zerolinecolor": "white"
           },
           "zaxis": {
            "backgroundcolor": "#E5ECF6",
            "gridcolor": "white",
            "gridwidth": 2,
            "linecolor": "white",
            "showbackground": true,
            "ticks": "",
            "zerolinecolor": "white"
           }
          },
          "shapedefaults": {
           "line": {
            "color": "#2a3f5f"
           }
          },
          "ternary": {
           "aaxis": {
            "gridcolor": "white",
            "linecolor": "white",
            "ticks": ""
           },
           "baxis": {
            "gridcolor": "white",
            "linecolor": "white",
            "ticks": ""
           },
           "bgcolor": "#E5ECF6",
           "caxis": {
            "gridcolor": "white",
            "linecolor": "white",
            "ticks": ""
           }
          },
          "title": {
           "x": 0.05
          },
          "xaxis": {
           "automargin": true,
           "gridcolor": "white",
           "linecolor": "white",
           "ticks": "",
           "title": {
            "standoff": 15
           },
           "zerolinecolor": "white",
           "zerolinewidth": 2
          },
          "yaxis": {
           "automargin": true,
           "gridcolor": "white",
           "linecolor": "white",
           "ticks": "",
           "title": {
            "standoff": 15
           },
           "zerolinecolor": "white",
           "zerolinewidth": 2
          }
         }
        },
        "title": {
         "text": "Cohort Analysis: Average Quantity",
         "x": 0.5,
         "y": 0.99
        },
        "xaxis": {
         "side": "top",
         "title": {
          "text": "Cohorts"
         }
        },
        "yaxis": {
         "title": {
          "text": "Quarters"
         }
        }
       }
      }
     },
     "metadata": {},
     "output_type": "display_data"
    }
   ],
   "source": [
    "fig = go.Figure(data=go.Heatmap(\n",
    "                    z=average_quantity,\n",
    "                    y=average_quantity.index,\n",
    "                    colorscale='Blues',\n",
    "                    text=average_quantity,\n",
    "                    texttemplate = \"%{text}\",\n",
    "                    colorbar_title='Average Quantity',\n",
    "                    xgap=3,\n",
    "                    ygap=3))\n",
    "\n",
    "fig.update_xaxes(side=\"top\")\n",
    "\n",
    "fig.update_layout(title=\"Cohort Analysis: Average Quantity\",\n",
    "                  xaxis_title=\"Cohorts\",\n",
    "                  yaxis_title=\"Quarters\",\n",
    "                  \n",
    "                  title_x=0.5,\n",
    "                  title_y=0.99,\n",
    "                  plot_bgcolor='white')\n",
    "fig.show()\n"
   ]
  },
  {
   "cell_type": "markdown",
   "id": "c545c7b4",
   "metadata": {},
   "source": [
    "Here as well, a drop in the average sold quantity of products can be noticed in 2010. In 2011 things started to improve but then dropped back; however it may mean that more expensive products are now sold in smaller amounts."
   ]
  },
  {
   "cell_type": "markdown",
   "id": "163640d3",
   "metadata": {},
   "source": [
    "Online Sales on Timeline\n",
    "\n",
    "Finally, I will built two more charts to show how the sales amount was changing with time. I will break down data by quarters and by months."
   ]
  },
  {
   "cell_type": "code",
   "execution_count": 147,
   "id": "685e76aa",
   "metadata": {},
   "outputs": [],
   "source": [
    "retail_quarters_by_sales = retail_data.groupby(['InvoiceQuarterID'], as_index=False)['Total'].agg('sum')\n",
    "retail_quarters_by_sales['InvoiceQuarter'] = retail_quarters_by_sales['InvoiceQuarterID'].map(dict(zip(quarters_map.values(), \n",
    "                                                                                                               quarters_map.keys())))"
   ]
  },
  {
   "cell_type": "code",
   "execution_count": 148,
   "id": "366acfc0",
   "metadata": {},
   "outputs": [
    {
     "data": {
      "application/vnd.plotly.v1+json": {
       "config": {
        "plotlyServerURL": "https://plot.ly"
       },
       "data": [
        {
         "marker": {
          "color": {
           "bdata": "TmIQ+ARKOUEdWmR7c9E5QcdLN6lDdz1BqMZLN3yTRkE9CtcjgcI2QajGSxeIqzlBoBovbZ8wQEGuR+HaP7BCQQ==",
           "dtype": "f8"
          },
          "colorscale": [
           [
            0,
            "rgb(12,51,131)"
           ],
           [
            0.25,
            "rgb(10,136,186)"
           ],
           [
            0.5,
            "rgb(242,211,56)"
           ],
           [
            0.75,
            "rgb(242,143,56)"
           ],
           [
            1,
            "rgb(217,30,30)"
           ]
          ],
          "opacity": 1
         },
         "name": "Quarterly Sales",
         "text": "Total",
         "textposition": "outside",
         "texttemplate": "%{text}: £%{y:.3s}",
         "type": "bar",
         "x": [
          "Q1/2010",
          "Q2/2010",
          "Q3/2010",
          "Q4/2010",
          "Q1/2011",
          "Q2/2011",
          "Q3/2011",
          "Q4/2011"
         ],
         "y": {
          "bdata": "TmIQ+ARKOUEdWmR7c9E5QcdLN6lDdz1BqMZLN3yTRkE9CtcjgcI2QajGSxeIqzlBoBovbZ8wQEGuR+HaP7BCQQ==",
          "dtype": "f8"
         }
        }
       ],
       "layout": {
        "barmode": "group",
        "plot_bgcolor": "white",
        "showlegend": false,
        "template": {
         "data": {
          "bar": [
           {
            "error_x": {
             "color": "#2a3f5f"
            },
            "error_y": {
             "color": "#2a3f5f"
            },
            "marker": {
             "line": {
              "color": "#E5ECF6",
              "width": 0.5
             },
             "pattern": {
              "fillmode": "overlay",
              "size": 10,
              "solidity": 0.2
             }
            },
            "type": "bar"
           }
          ],
          "barpolar": [
           {
            "marker": {
             "line": {
              "color": "#E5ECF6",
              "width": 0.5
             },
             "pattern": {
              "fillmode": "overlay",
              "size": 10,
              "solidity": 0.2
             }
            },
            "type": "barpolar"
           }
          ],
          "carpet": [
           {
            "aaxis": {
             "endlinecolor": "#2a3f5f",
             "gridcolor": "white",
             "linecolor": "white",
             "minorgridcolor": "white",
             "startlinecolor": "#2a3f5f"
            },
            "baxis": {
             "endlinecolor": "#2a3f5f",
             "gridcolor": "white",
             "linecolor": "white",
             "minorgridcolor": "white",
             "startlinecolor": "#2a3f5f"
            },
            "type": "carpet"
           }
          ],
          "choropleth": [
           {
            "colorbar": {
             "outlinewidth": 0,
             "ticks": ""
            },
            "type": "choropleth"
           }
          ],
          "contour": [
           {
            "colorbar": {
             "outlinewidth": 0,
             "ticks": ""
            },
            "colorscale": [
             [
              0,
              "#0d0887"
             ],
             [
              0.1111111111111111,
              "#46039f"
             ],
             [
              0.2222222222222222,
              "#7201a8"
             ],
             [
              0.3333333333333333,
              "#9c179e"
             ],
             [
              0.4444444444444444,
              "#bd3786"
             ],
             [
              0.5555555555555556,
              "#d8576b"
             ],
             [
              0.6666666666666666,
              "#ed7953"
             ],
             [
              0.7777777777777778,
              "#fb9f3a"
             ],
             [
              0.8888888888888888,
              "#fdca26"
             ],
             [
              1,
              "#f0f921"
             ]
            ],
            "type": "contour"
           }
          ],
          "contourcarpet": [
           {
            "colorbar": {
             "outlinewidth": 0,
             "ticks": ""
            },
            "type": "contourcarpet"
           }
          ],
          "heatmap": [
           {
            "colorbar": {
             "outlinewidth": 0,
             "ticks": ""
            },
            "colorscale": [
             [
              0,
              "#0d0887"
             ],
             [
              0.1111111111111111,
              "#46039f"
             ],
             [
              0.2222222222222222,
              "#7201a8"
             ],
             [
              0.3333333333333333,
              "#9c179e"
             ],
             [
              0.4444444444444444,
              "#bd3786"
             ],
             [
              0.5555555555555556,
              "#d8576b"
             ],
             [
              0.6666666666666666,
              "#ed7953"
             ],
             [
              0.7777777777777778,
              "#fb9f3a"
             ],
             [
              0.8888888888888888,
              "#fdca26"
             ],
             [
              1,
              "#f0f921"
             ]
            ],
            "type": "heatmap"
           }
          ],
          "histogram": [
           {
            "marker": {
             "pattern": {
              "fillmode": "overlay",
              "size": 10,
              "solidity": 0.2
             }
            },
            "type": "histogram"
           }
          ],
          "histogram2d": [
           {
            "colorbar": {
             "outlinewidth": 0,
             "ticks": ""
            },
            "colorscale": [
             [
              0,
              "#0d0887"
             ],
             [
              0.1111111111111111,
              "#46039f"
             ],
             [
              0.2222222222222222,
              "#7201a8"
             ],
             [
              0.3333333333333333,
              "#9c179e"
             ],
             [
              0.4444444444444444,
              "#bd3786"
             ],
             [
              0.5555555555555556,
              "#d8576b"
             ],
             [
              0.6666666666666666,
              "#ed7953"
             ],
             [
              0.7777777777777778,
              "#fb9f3a"
             ],
             [
              0.8888888888888888,
              "#fdca26"
             ],
             [
              1,
              "#f0f921"
             ]
            ],
            "type": "histogram2d"
           }
          ],
          "histogram2dcontour": [
           {
            "colorbar": {
             "outlinewidth": 0,
             "ticks": ""
            },
            "colorscale": [
             [
              0,
              "#0d0887"
             ],
             [
              0.1111111111111111,
              "#46039f"
             ],
             [
              0.2222222222222222,
              "#7201a8"
             ],
             [
              0.3333333333333333,
              "#9c179e"
             ],
             [
              0.4444444444444444,
              "#bd3786"
             ],
             [
              0.5555555555555556,
              "#d8576b"
             ],
             [
              0.6666666666666666,
              "#ed7953"
             ],
             [
              0.7777777777777778,
              "#fb9f3a"
             ],
             [
              0.8888888888888888,
              "#fdca26"
             ],
             [
              1,
              "#f0f921"
             ]
            ],
            "type": "histogram2dcontour"
           }
          ],
          "mesh3d": [
           {
            "colorbar": {
             "outlinewidth": 0,
             "ticks": ""
            },
            "type": "mesh3d"
           }
          ],
          "parcoords": [
           {
            "line": {
             "colorbar": {
              "outlinewidth": 0,
              "ticks": ""
             }
            },
            "type": "parcoords"
           }
          ],
          "pie": [
           {
            "automargin": true,
            "type": "pie"
           }
          ],
          "scatter": [
           {
            "fillpattern": {
             "fillmode": "overlay",
             "size": 10,
             "solidity": 0.2
            },
            "type": "scatter"
           }
          ],
          "scatter3d": [
           {
            "line": {
             "colorbar": {
              "outlinewidth": 0,
              "ticks": ""
             }
            },
            "marker": {
             "colorbar": {
              "outlinewidth": 0,
              "ticks": ""
             }
            },
            "type": "scatter3d"
           }
          ],
          "scattercarpet": [
           {
            "marker": {
             "colorbar": {
              "outlinewidth": 0,
              "ticks": ""
             }
            },
            "type": "scattercarpet"
           }
          ],
          "scattergeo": [
           {
            "marker": {
             "colorbar": {
              "outlinewidth": 0,
              "ticks": ""
             }
            },
            "type": "scattergeo"
           }
          ],
          "scattergl": [
           {
            "marker": {
             "colorbar": {
              "outlinewidth": 0,
              "ticks": ""
             }
            },
            "type": "scattergl"
           }
          ],
          "scattermap": [
           {
            "marker": {
             "colorbar": {
              "outlinewidth": 0,
              "ticks": ""
             }
            },
            "type": "scattermap"
           }
          ],
          "scattermapbox": [
           {
            "marker": {
             "colorbar": {
              "outlinewidth": 0,
              "ticks": ""
             }
            },
            "type": "scattermapbox"
           }
          ],
          "scatterpolar": [
           {
            "marker": {
             "colorbar": {
              "outlinewidth": 0,
              "ticks": ""
             }
            },
            "type": "scatterpolar"
           }
          ],
          "scatterpolargl": [
           {
            "marker": {
             "colorbar": {
              "outlinewidth": 0,
              "ticks": ""
             }
            },
            "type": "scatterpolargl"
           }
          ],
          "scatterternary": [
           {
            "marker": {
             "colorbar": {
              "outlinewidth": 0,
              "ticks": ""
             }
            },
            "type": "scatterternary"
           }
          ],
          "surface": [
           {
            "colorbar": {
             "outlinewidth": 0,
             "ticks": ""
            },
            "colorscale": [
             [
              0,
              "#0d0887"
             ],
             [
              0.1111111111111111,
              "#46039f"
             ],
             [
              0.2222222222222222,
              "#7201a8"
             ],
             [
              0.3333333333333333,
              "#9c179e"
             ],
             [
              0.4444444444444444,
              "#bd3786"
             ],
             [
              0.5555555555555556,
              "#d8576b"
             ],
             [
              0.6666666666666666,
              "#ed7953"
             ],
             [
              0.7777777777777778,
              "#fb9f3a"
             ],
             [
              0.8888888888888888,
              "#fdca26"
             ],
             [
              1,
              "#f0f921"
             ]
            ],
            "type": "surface"
           }
          ],
          "table": [
           {
            "cells": {
             "fill": {
              "color": "#EBF0F8"
             },
             "line": {
              "color": "white"
             }
            },
            "header": {
             "fill": {
              "color": "#C8D4E3"
             },
             "line": {
              "color": "white"
             }
            },
            "type": "table"
           }
          ]
         },
         "layout": {
          "annotationdefaults": {
           "arrowcolor": "#2a3f5f",
           "arrowhead": 0,
           "arrowwidth": 1
          },
          "autotypenumbers": "strict",
          "coloraxis": {
           "colorbar": {
            "outlinewidth": 0,
            "ticks": ""
           }
          },
          "colorscale": {
           "diverging": [
            [
             0,
             "#8e0152"
            ],
            [
             0.1,
             "#c51b7d"
            ],
            [
             0.2,
             "#de77ae"
            ],
            [
             0.3,
             "#f1b6da"
            ],
            [
             0.4,
             "#fde0ef"
            ],
            [
             0.5,
             "#f7f7f7"
            ],
            [
             0.6,
             "#e6f5d0"
            ],
            [
             0.7,
             "#b8e186"
            ],
            [
             0.8,
             "#7fbc41"
            ],
            [
             0.9,
             "#4d9221"
            ],
            [
             1,
             "#276419"
            ]
           ],
           "sequential": [
            [
             0,
             "#0d0887"
            ],
            [
             0.1111111111111111,
             "#46039f"
            ],
            [
             0.2222222222222222,
             "#7201a8"
            ],
            [
             0.3333333333333333,
             "#9c179e"
            ],
            [
             0.4444444444444444,
             "#bd3786"
            ],
            [
             0.5555555555555556,
             "#d8576b"
            ],
            [
             0.6666666666666666,
             "#ed7953"
            ],
            [
             0.7777777777777778,
             "#fb9f3a"
            ],
            [
             0.8888888888888888,
             "#fdca26"
            ],
            [
             1,
             "#f0f921"
            ]
           ],
           "sequentialminus": [
            [
             0,
             "#0d0887"
            ],
            [
             0.1111111111111111,
             "#46039f"
            ],
            [
             0.2222222222222222,
             "#7201a8"
            ],
            [
             0.3333333333333333,
             "#9c179e"
            ],
            [
             0.4444444444444444,
             "#bd3786"
            ],
            [
             0.5555555555555556,
             "#d8576b"
            ],
            [
             0.6666666666666666,
             "#ed7953"
            ],
            [
             0.7777777777777778,
             "#fb9f3a"
            ],
            [
             0.8888888888888888,
             "#fdca26"
            ],
            [
             1,
             "#f0f921"
            ]
           ]
          },
          "colorway": [
           "#636efa",
           "#EF553B",
           "#00cc96",
           "#ab63fa",
           "#FFA15A",
           "#19d3f3",
           "#FF6692",
           "#B6E880",
           "#FF97FF",
           "#FECB52"
          ],
          "font": {
           "color": "#2a3f5f"
          },
          "geo": {
           "bgcolor": "white",
           "lakecolor": "white",
           "landcolor": "#E5ECF6",
           "showlakes": true,
           "showland": true,
           "subunitcolor": "white"
          },
          "hoverlabel": {
           "align": "left"
          },
          "hovermode": "closest",
          "mapbox": {
           "style": "light"
          },
          "paper_bgcolor": "white",
          "plot_bgcolor": "#E5ECF6",
          "polar": {
           "angularaxis": {
            "gridcolor": "white",
            "linecolor": "white",
            "ticks": ""
           },
           "bgcolor": "#E5ECF6",
           "radialaxis": {
            "gridcolor": "white",
            "linecolor": "white",
            "ticks": ""
           }
          },
          "scene": {
           "xaxis": {
            "backgroundcolor": "#E5ECF6",
            "gridcolor": "white",
            "gridwidth": 2,
            "linecolor": "white",
            "showbackground": true,
            "ticks": "",
            "zerolinecolor": "white"
           },
           "yaxis": {
            "backgroundcolor": "#E5ECF6",
            "gridcolor": "white",
            "gridwidth": 2,
            "linecolor": "white",
            "showbackground": true,
            "ticks": "",
            "zerolinecolor": "white"
           },
           "zaxis": {
            "backgroundcolor": "#E5ECF6",
            "gridcolor": "white",
            "gridwidth": 2,
            "linecolor": "white",
            "showbackground": true,
            "ticks": "",
            "zerolinecolor": "white"
           }
          },
          "shapedefaults": {
           "line": {
            "color": "#2a3f5f"
           }
          },
          "ternary": {
           "aaxis": {
            "gridcolor": "white",
            "linecolor": "white",
            "ticks": ""
           },
           "baxis": {
            "gridcolor": "white",
            "linecolor": "white",
            "ticks": ""
           },
           "bgcolor": "#E5ECF6",
           "caxis": {
            "gridcolor": "white",
            "linecolor": "white",
            "ticks": ""
           }
          },
          "title": {
           "x": 0.05
          },
          "xaxis": {
           "automargin": true,
           "gridcolor": "white",
           "linecolor": "white",
           "ticks": "",
           "title": {
            "standoff": 15
           },
           "zerolinecolor": "white",
           "zerolinewidth": 2
          },
          "yaxis": {
           "automargin": true,
           "gridcolor": "white",
           "linecolor": "white",
           "ticks": "",
           "title": {
            "standoff": 15
           },
           "zerolinecolor": "white",
           "zerolinewidth": 2
          }
         }
        },
        "title": {
         "text": "Quarterly Sales",
         "x": 0.45
        },
        "xaxis": {
         "title": {
          "text": "Quarters"
         }
        },
        "yaxis": {
         "title": {
          "text": "Total Amount, £"
         }
        }
       }
      }
     },
     "metadata": {},
     "output_type": "display_data"
    }
   ],
   "source": [
    "fig = go.Figure(data=[\n",
    "    go.Bar(name='Quarterly Sales', \n",
    "           x=retail_quarters_by_sales['InvoiceQuarter'],\n",
    "           y=retail_quarters_by_sales['Total'],\n",
    "           marker_opacity=1,\n",
    "           text='Total',\n",
    "           marker={'color': retail_quarters_by_sales['Total'],\n",
    "                   'colorscale': 'Portland'}\n",
    "          )\n",
    "    ])\n",
    "\n",
    "fig.update_traces(texttemplate='%{text}: £%{y:.3s}', textposition='outside')\n",
    "fig.update_layout(barmode='group', showlegend=False)\n",
    "\n",
    "fig.update_layout(title=\"Quarterly Sales\",\n",
    "                  title_x = 0.45,\n",
    "                  xaxis_title=\"Quarters\",\n",
    "                  yaxis_title=\"Total Amount, £\",\n",
    "                  plot_bgcolor='white')\n",
    "fig.show()"
   ]
  },
  {
   "cell_type": "markdown",
   "id": "dcca5fa1",
   "metadata": {},
   "source": [
    "We can easily notice the seasonal fluctuations here: people tend to buy a lot before Christmas, and afterwards, a significant drop happens."
   ]
  },
  {
   "cell_type": "code",
   "execution_count": 149,
   "id": "d9e3f377",
   "metadata": {},
   "outputs": [],
   "source": [
    "retail_monthly = retail_data.copy()\n",
    "retail_monthly['InvoiceMonth'] = retail_monthly['InvoiceDate_DT'].dt.to_period('M')\n",
    "retail_monthly_by_sales = retail_monthly.groupby(['InvoiceMonth'], as_index=False)['Total'].agg('sum')"
   ]
  },
  {
   "cell_type": "code",
   "execution_count": 150,
   "id": "adb52f0e",
   "metadata": {},
   "outputs": [
    {
     "data": {
      "text/html": [
       "<div>\n",
       "<style scoped>\n",
       "    .dataframe tbody tr th:only-of-type {\n",
       "        vertical-align: middle;\n",
       "    }\n",
       "\n",
       "    .dataframe tbody tr th {\n",
       "        vertical-align: top;\n",
       "    }\n",
       "\n",
       "    .dataframe thead th {\n",
       "        text-align: right;\n",
       "    }\n",
       "</style>\n",
       "<table border=\"1\" class=\"dataframe\">\n",
       "  <thead>\n",
       "    <tr style=\"text-align: right;\">\n",
       "      <th></th>\n",
       "      <th>Invoice</th>\n",
       "      <th>StockCode</th>\n",
       "      <th>Description</th>\n",
       "      <th>Quantity</th>\n",
       "      <th>InvoiceDate</th>\n",
       "      <th>Price</th>\n",
       "      <th>Customer ID</th>\n",
       "      <th>Country</th>\n",
       "      <th>InvoiceDate_DT</th>\n",
       "      <th>Total</th>\n",
       "      <th>InvoiceQuater</th>\n",
       "      <th>InvoiceQuarterID</th>\n",
       "      <th>CohortQuarterID</th>\n",
       "      <th>CohortQuarter</th>\n",
       "      <th>CohortIndex</th>\n",
       "      <th>InvoiceMonth</th>\n",
       "    </tr>\n",
       "  </thead>\n",
       "  <tbody>\n",
       "    <tr>\n",
       "      <th>45228</th>\n",
       "      <td>493410</td>\n",
       "      <td>TEST001</td>\n",
       "      <td>This is a test product.</td>\n",
       "      <td>5</td>\n",
       "      <td>2010-01-04 09:24:00</td>\n",
       "      <td>4.50</td>\n",
       "      <td>12346</td>\n",
       "      <td>United Kingdom</td>\n",
       "      <td>2010-01-04 09:24:00</td>\n",
       "      <td>22.50</td>\n",
       "      <td>Q1/2010</td>\n",
       "      <td>0</td>\n",
       "      <td>0</td>\n",
       "      <td>Q1/2010</td>\n",
       "      <td>0</td>\n",
       "      <td>2010-01</td>\n",
       "    </tr>\n",
       "    <tr>\n",
       "      <th>45229</th>\n",
       "      <td>C493411</td>\n",
       "      <td>21539</td>\n",
       "      <td>RETRO SPOTS BUTTER DISH</td>\n",
       "      <td>-1</td>\n",
       "      <td>2010-01-04 09:43:00</td>\n",
       "      <td>4.25</td>\n",
       "      <td>14590</td>\n",
       "      <td>United Kingdom</td>\n",
       "      <td>2010-01-04 09:43:00</td>\n",
       "      <td>-4.25</td>\n",
       "      <td>Q1/2010</td>\n",
       "      <td>0</td>\n",
       "      <td>0</td>\n",
       "      <td>Q1/2010</td>\n",
       "      <td>0</td>\n",
       "      <td>2010-01</td>\n",
       "    </tr>\n",
       "    <tr>\n",
       "      <th>45230</th>\n",
       "      <td>493412</td>\n",
       "      <td>TEST001</td>\n",
       "      <td>This is a test product.</td>\n",
       "      <td>5</td>\n",
       "      <td>2010-01-04 09:53:00</td>\n",
       "      <td>4.50</td>\n",
       "      <td>12346</td>\n",
       "      <td>United Kingdom</td>\n",
       "      <td>2010-01-04 09:53:00</td>\n",
       "      <td>22.50</td>\n",
       "      <td>Q1/2010</td>\n",
       "      <td>0</td>\n",
       "      <td>0</td>\n",
       "      <td>Q1/2010</td>\n",
       "      <td>0</td>\n",
       "      <td>2010-01</td>\n",
       "    </tr>\n",
       "    <tr>\n",
       "      <th>45238</th>\n",
       "      <td>493414</td>\n",
       "      <td>21527</td>\n",
       "      <td>RETRO SPOT TRADITIONAL TEAPOT</td>\n",
       "      <td>12</td>\n",
       "      <td>2010-01-04 10:28:00</td>\n",
       "      <td>6.95</td>\n",
       "      <td>14590</td>\n",
       "      <td>United Kingdom</td>\n",
       "      <td>2010-01-04 10:28:00</td>\n",
       "      <td>83.40</td>\n",
       "      <td>Q1/2010</td>\n",
       "      <td>0</td>\n",
       "      <td>0</td>\n",
       "      <td>Q1/2010</td>\n",
       "      <td>0</td>\n",
       "      <td>2010-01</td>\n",
       "    </tr>\n",
       "    <tr>\n",
       "      <th>45237</th>\n",
       "      <td>493414</td>\n",
       "      <td>35001G</td>\n",
       "      <td>HAND OPEN SHAPE GOLD</td>\n",
       "      <td>2</td>\n",
       "      <td>2010-01-04 10:28:00</td>\n",
       "      <td>4.25</td>\n",
       "      <td>14590</td>\n",
       "      <td>United Kingdom</td>\n",
       "      <td>2010-01-04 10:28:00</td>\n",
       "      <td>8.50</td>\n",
       "      <td>Q1/2010</td>\n",
       "      <td>0</td>\n",
       "      <td>0</td>\n",
       "      <td>Q1/2010</td>\n",
       "      <td>0</td>\n",
       "      <td>2010-01</td>\n",
       "    </tr>\n",
       "  </tbody>\n",
       "</table>\n",
       "</div>"
      ],
      "text/plain": [
       "       Invoice StockCode                     Description  Quantity  \\\n",
       "45228   493410   TEST001         This is a test product.         5   \n",
       "45229  C493411     21539         RETRO SPOTS BUTTER DISH        -1   \n",
       "45230   493412   TEST001         This is a test product.         5   \n",
       "45238   493414     21527  RETRO SPOT TRADITIONAL TEAPOT         12   \n",
       "45237   493414    35001G            HAND OPEN SHAPE GOLD         2   \n",
       "\n",
       "               InvoiceDate  Price  Customer ID         Country  \\\n",
       "45228  2010-01-04 09:24:00   4.50        12346  United Kingdom   \n",
       "45229  2010-01-04 09:43:00   4.25        14590  United Kingdom   \n",
       "45230  2010-01-04 09:53:00   4.50        12346  United Kingdom   \n",
       "45238  2010-01-04 10:28:00   6.95        14590  United Kingdom   \n",
       "45237  2010-01-04 10:28:00   4.25        14590  United Kingdom   \n",
       "\n",
       "           InvoiceDate_DT  Total InvoiceQuater  InvoiceQuarterID  \\\n",
       "45228 2010-01-04 09:24:00  22.50       Q1/2010                 0   \n",
       "45229 2010-01-04 09:43:00  -4.25       Q1/2010                 0   \n",
       "45230 2010-01-04 09:53:00  22.50       Q1/2010                 0   \n",
       "45238 2010-01-04 10:28:00  83.40       Q1/2010                 0   \n",
       "45237 2010-01-04 10:28:00   8.50       Q1/2010                 0   \n",
       "\n",
       "       CohortQuarterID CohortQuarter  CohortIndex InvoiceMonth  \n",
       "45228                0       Q1/2010            0      2010-01  \n",
       "45229                0       Q1/2010            0      2010-01  \n",
       "45230                0       Q1/2010            0      2010-01  \n",
       "45238                0       Q1/2010            0      2010-01  \n",
       "45237                0       Q1/2010            0      2010-01  "
      ]
     },
     "execution_count": 150,
     "metadata": {},
     "output_type": "execute_result"
    }
   ],
   "source": [
    "retail_monthly.head()"
   ]
  },
  {
   "cell_type": "code",
   "execution_count": 151,
   "id": "3538ecbc",
   "metadata": {},
   "outputs": [
    {
     "data": {
      "application/vnd.plotly.v1+json": {
       "config": {
        "plotlyServerURL": "https://plot.ly"
       },
       "data": [
        {
         "marker": {
          "color": {
           "bdata": "qvHSzeE7IEFOYhBY3t4dQcuhRfa4aCNBgZVDC/YbIUGamZkZaRYhQR+F69GHcCFBzczMzMMsIUG4HoXr8OshQQisHJrS1SdB9ihcj/tyLUHqJjFIH1ExQdejcL22OCpBUrgehQn/HEGamZmZCKUaQYXrUTj5siFBRItsZ/8AGkGPwvUodsgjQR+F61EajiJBy6FF9jyGIUEAAAAAYM8iQbTIdr7gbCxB4XoULhe+LUHXo3C9d0cxQVK4HoXx5xRB",
           "dtype": "f8"
          },
          "colorscale": [
           [
            0,
            "rgb(12,51,131)"
           ],
           [
            0.25,
            "rgb(10,136,186)"
           ],
           [
            0.5,
            "rgb(242,211,56)"
           ],
           [
            0.75,
            "rgb(242,143,56)"
           ],
           [
            1,
            "rgb(217,30,30)"
           ]
          ],
          "opacity": 1
         },
         "name": "Monthly Sales",
         "type": "bar",
         "x": [
          "2010-01",
          "2010-02",
          "2010-03",
          "2010-04",
          "2010-05",
          "2010-06",
          "2010-07",
          "2010-08",
          "2010-09",
          "2010-10",
          "2010-11",
          "2010-12",
          "2011-01",
          "2011-02",
          "2011-03",
          "2011-04",
          "2011-05",
          "2011-06",
          "2011-07",
          "2011-08",
          "2011-09",
          "2011-10",
          "2011-11",
          "2011-12"
         ],
         "y": {
          "bdata": "qvHSzeE7IEFOYhBY3t4dQcuhRfa4aCNBgZVDC/YbIUGamZkZaRYhQR+F69GHcCFBzczMzMMsIUG4HoXr8OshQQisHJrS1SdB9ihcj/tyLUHqJjFIH1ExQdejcL22OCpBUrgehQn/HEGamZmZCKUaQYXrUTj5siFBRItsZ/8AGkGPwvUodsgjQR+F61EajiJBy6FF9jyGIUEAAAAAYM8iQbTIdr7gbCxB4XoULhe+LUHXo3C9d0cxQVK4HoXx5xRB",
          "dtype": "f8"
         }
        }
       ],
       "layout": {
        "barmode": "group",
        "plot_bgcolor": "white",
        "showlegend": false,
        "template": {
         "data": {
          "bar": [
           {
            "error_x": {
             "color": "#2a3f5f"
            },
            "error_y": {
             "color": "#2a3f5f"
            },
            "marker": {
             "line": {
              "color": "#E5ECF6",
              "width": 0.5
             },
             "pattern": {
              "fillmode": "overlay",
              "size": 10,
              "solidity": 0.2
             }
            },
            "type": "bar"
           }
          ],
          "barpolar": [
           {
            "marker": {
             "line": {
              "color": "#E5ECF6",
              "width": 0.5
             },
             "pattern": {
              "fillmode": "overlay",
              "size": 10,
              "solidity": 0.2
             }
            },
            "type": "barpolar"
           }
          ],
          "carpet": [
           {
            "aaxis": {
             "endlinecolor": "#2a3f5f",
             "gridcolor": "white",
             "linecolor": "white",
             "minorgridcolor": "white",
             "startlinecolor": "#2a3f5f"
            },
            "baxis": {
             "endlinecolor": "#2a3f5f",
             "gridcolor": "white",
             "linecolor": "white",
             "minorgridcolor": "white",
             "startlinecolor": "#2a3f5f"
            },
            "type": "carpet"
           }
          ],
          "choropleth": [
           {
            "colorbar": {
             "outlinewidth": 0,
             "ticks": ""
            },
            "type": "choropleth"
           }
          ],
          "contour": [
           {
            "colorbar": {
             "outlinewidth": 0,
             "ticks": ""
            },
            "colorscale": [
             [
              0,
              "#0d0887"
             ],
             [
              0.1111111111111111,
              "#46039f"
             ],
             [
              0.2222222222222222,
              "#7201a8"
             ],
             [
              0.3333333333333333,
              "#9c179e"
             ],
             [
              0.4444444444444444,
              "#bd3786"
             ],
             [
              0.5555555555555556,
              "#d8576b"
             ],
             [
              0.6666666666666666,
              "#ed7953"
             ],
             [
              0.7777777777777778,
              "#fb9f3a"
             ],
             [
              0.8888888888888888,
              "#fdca26"
             ],
             [
              1,
              "#f0f921"
             ]
            ],
            "type": "contour"
           }
          ],
          "contourcarpet": [
           {
            "colorbar": {
             "outlinewidth": 0,
             "ticks": ""
            },
            "type": "contourcarpet"
           }
          ],
          "heatmap": [
           {
            "colorbar": {
             "outlinewidth": 0,
             "ticks": ""
            },
            "colorscale": [
             [
              0,
              "#0d0887"
             ],
             [
              0.1111111111111111,
              "#46039f"
             ],
             [
              0.2222222222222222,
              "#7201a8"
             ],
             [
              0.3333333333333333,
              "#9c179e"
             ],
             [
              0.4444444444444444,
              "#bd3786"
             ],
             [
              0.5555555555555556,
              "#d8576b"
             ],
             [
              0.6666666666666666,
              "#ed7953"
             ],
             [
              0.7777777777777778,
              "#fb9f3a"
             ],
             [
              0.8888888888888888,
              "#fdca26"
             ],
             [
              1,
              "#f0f921"
             ]
            ],
            "type": "heatmap"
           }
          ],
          "histogram": [
           {
            "marker": {
             "pattern": {
              "fillmode": "overlay",
              "size": 10,
              "solidity": 0.2
             }
            },
            "type": "histogram"
           }
          ],
          "histogram2d": [
           {
            "colorbar": {
             "outlinewidth": 0,
             "ticks": ""
            },
            "colorscale": [
             [
              0,
              "#0d0887"
             ],
             [
              0.1111111111111111,
              "#46039f"
             ],
             [
              0.2222222222222222,
              "#7201a8"
             ],
             [
              0.3333333333333333,
              "#9c179e"
             ],
             [
              0.4444444444444444,
              "#bd3786"
             ],
             [
              0.5555555555555556,
              "#d8576b"
             ],
             [
              0.6666666666666666,
              "#ed7953"
             ],
             [
              0.7777777777777778,
              "#fb9f3a"
             ],
             [
              0.8888888888888888,
              "#fdca26"
             ],
             [
              1,
              "#f0f921"
             ]
            ],
            "type": "histogram2d"
           }
          ],
          "histogram2dcontour": [
           {
            "colorbar": {
             "outlinewidth": 0,
             "ticks": ""
            },
            "colorscale": [
             [
              0,
              "#0d0887"
             ],
             [
              0.1111111111111111,
              "#46039f"
             ],
             [
              0.2222222222222222,
              "#7201a8"
             ],
             [
              0.3333333333333333,
              "#9c179e"
             ],
             [
              0.4444444444444444,
              "#bd3786"
             ],
             [
              0.5555555555555556,
              "#d8576b"
             ],
             [
              0.6666666666666666,
              "#ed7953"
             ],
             [
              0.7777777777777778,
              "#fb9f3a"
             ],
             [
              0.8888888888888888,
              "#fdca26"
             ],
             [
              1,
              "#f0f921"
             ]
            ],
            "type": "histogram2dcontour"
           }
          ],
          "mesh3d": [
           {
            "colorbar": {
             "outlinewidth": 0,
             "ticks": ""
            },
            "type": "mesh3d"
           }
          ],
          "parcoords": [
           {
            "line": {
             "colorbar": {
              "outlinewidth": 0,
              "ticks": ""
             }
            },
            "type": "parcoords"
           }
          ],
          "pie": [
           {
            "automargin": true,
            "type": "pie"
           }
          ],
          "scatter": [
           {
            "fillpattern": {
             "fillmode": "overlay",
             "size": 10,
             "solidity": 0.2
            },
            "type": "scatter"
           }
          ],
          "scatter3d": [
           {
            "line": {
             "colorbar": {
              "outlinewidth": 0,
              "ticks": ""
             }
            },
            "marker": {
             "colorbar": {
              "outlinewidth": 0,
              "ticks": ""
             }
            },
            "type": "scatter3d"
           }
          ],
          "scattercarpet": [
           {
            "marker": {
             "colorbar": {
              "outlinewidth": 0,
              "ticks": ""
             }
            },
            "type": "scattercarpet"
           }
          ],
          "scattergeo": [
           {
            "marker": {
             "colorbar": {
              "outlinewidth": 0,
              "ticks": ""
             }
            },
            "type": "scattergeo"
           }
          ],
          "scattergl": [
           {
            "marker": {
             "colorbar": {
              "outlinewidth": 0,
              "ticks": ""
             }
            },
            "type": "scattergl"
           }
          ],
          "scattermap": [
           {
            "marker": {
             "colorbar": {
              "outlinewidth": 0,
              "ticks": ""
             }
            },
            "type": "scattermap"
           }
          ],
          "scattermapbox": [
           {
            "marker": {
             "colorbar": {
              "outlinewidth": 0,
              "ticks": ""
             }
            },
            "type": "scattermapbox"
           }
          ],
          "scatterpolar": [
           {
            "marker": {
             "colorbar": {
              "outlinewidth": 0,
              "ticks": ""
             }
            },
            "type": "scatterpolar"
           }
          ],
          "scatterpolargl": [
           {
            "marker": {
             "colorbar": {
              "outlinewidth": 0,
              "ticks": ""
             }
            },
            "type": "scatterpolargl"
           }
          ],
          "scatterternary": [
           {
            "marker": {
             "colorbar": {
              "outlinewidth": 0,
              "ticks": ""
             }
            },
            "type": "scatterternary"
           }
          ],
          "surface": [
           {
            "colorbar": {
             "outlinewidth": 0,
             "ticks": ""
            },
            "colorscale": [
             [
              0,
              "#0d0887"
             ],
             [
              0.1111111111111111,
              "#46039f"
             ],
             [
              0.2222222222222222,
              "#7201a8"
             ],
             [
              0.3333333333333333,
              "#9c179e"
             ],
             [
              0.4444444444444444,
              "#bd3786"
             ],
             [
              0.5555555555555556,
              "#d8576b"
             ],
             [
              0.6666666666666666,
              "#ed7953"
             ],
             [
              0.7777777777777778,
              "#fb9f3a"
             ],
             [
              0.8888888888888888,
              "#fdca26"
             ],
             [
              1,
              "#f0f921"
             ]
            ],
            "type": "surface"
           }
          ],
          "table": [
           {
            "cells": {
             "fill": {
              "color": "#EBF0F8"
             },
             "line": {
              "color": "white"
             }
            },
            "header": {
             "fill": {
              "color": "#C8D4E3"
             },
             "line": {
              "color": "white"
             }
            },
            "type": "table"
           }
          ]
         },
         "layout": {
          "annotationdefaults": {
           "arrowcolor": "#2a3f5f",
           "arrowhead": 0,
           "arrowwidth": 1
          },
          "autotypenumbers": "strict",
          "coloraxis": {
           "colorbar": {
            "outlinewidth": 0,
            "ticks": ""
           }
          },
          "colorscale": {
           "diverging": [
            [
             0,
             "#8e0152"
            ],
            [
             0.1,
             "#c51b7d"
            ],
            [
             0.2,
             "#de77ae"
            ],
            [
             0.3,
             "#f1b6da"
            ],
            [
             0.4,
             "#fde0ef"
            ],
            [
             0.5,
             "#f7f7f7"
            ],
            [
             0.6,
             "#e6f5d0"
            ],
            [
             0.7,
             "#b8e186"
            ],
            [
             0.8,
             "#7fbc41"
            ],
            [
             0.9,
             "#4d9221"
            ],
            [
             1,
             "#276419"
            ]
           ],
           "sequential": [
            [
             0,
             "#0d0887"
            ],
            [
             0.1111111111111111,
             "#46039f"
            ],
            [
             0.2222222222222222,
             "#7201a8"
            ],
            [
             0.3333333333333333,
             "#9c179e"
            ],
            [
             0.4444444444444444,
             "#bd3786"
            ],
            [
             0.5555555555555556,
             "#d8576b"
            ],
            [
             0.6666666666666666,
             "#ed7953"
            ],
            [
             0.7777777777777778,
             "#fb9f3a"
            ],
            [
             0.8888888888888888,
             "#fdca26"
            ],
            [
             1,
             "#f0f921"
            ]
           ],
           "sequentialminus": [
            [
             0,
             "#0d0887"
            ],
            [
             0.1111111111111111,
             "#46039f"
            ],
            [
             0.2222222222222222,
             "#7201a8"
            ],
            [
             0.3333333333333333,
             "#9c179e"
            ],
            [
             0.4444444444444444,
             "#bd3786"
            ],
            [
             0.5555555555555556,
             "#d8576b"
            ],
            [
             0.6666666666666666,
             "#ed7953"
            ],
            [
             0.7777777777777778,
             "#fb9f3a"
            ],
            [
             0.8888888888888888,
             "#fdca26"
            ],
            [
             1,
             "#f0f921"
            ]
           ]
          },
          "colorway": [
           "#636efa",
           "#EF553B",
           "#00cc96",
           "#ab63fa",
           "#FFA15A",
           "#19d3f3",
           "#FF6692",
           "#B6E880",
           "#FF97FF",
           "#FECB52"
          ],
          "font": {
           "color": "#2a3f5f"
          },
          "geo": {
           "bgcolor": "white",
           "lakecolor": "white",
           "landcolor": "#E5ECF6",
           "showlakes": true,
           "showland": true,
           "subunitcolor": "white"
          },
          "hoverlabel": {
           "align": "left"
          },
          "hovermode": "closest",
          "mapbox": {
           "style": "light"
          },
          "paper_bgcolor": "white",
          "plot_bgcolor": "#E5ECF6",
          "polar": {
           "angularaxis": {
            "gridcolor": "white",
            "linecolor": "white",
            "ticks": ""
           },
           "bgcolor": "#E5ECF6",
           "radialaxis": {
            "gridcolor": "white",
            "linecolor": "white",
            "ticks": ""
           }
          },
          "scene": {
           "xaxis": {
            "backgroundcolor": "#E5ECF6",
            "gridcolor": "white",
            "gridwidth": 2,
            "linecolor": "white",
            "showbackground": true,
            "ticks": "",
            "zerolinecolor": "white"
           },
           "yaxis": {
            "backgroundcolor": "#E5ECF6",
            "gridcolor": "white",
            "gridwidth": 2,
            "linecolor": "white",
            "showbackground": true,
            "ticks": "",
            "zerolinecolor": "white"
           },
           "zaxis": {
            "backgroundcolor": "#E5ECF6",
            "gridcolor": "white",
            "gridwidth": 2,
            "linecolor": "white",
            "showbackground": true,
            "ticks": "",
            "zerolinecolor": "white"
           }
          },
          "shapedefaults": {
           "line": {
            "color": "#2a3f5f"
           }
          },
          "ternary": {
           "aaxis": {
            "gridcolor": "white",
            "linecolor": "white",
            "ticks": ""
           },
           "baxis": {
            "gridcolor": "white",
            "linecolor": "white",
            "ticks": ""
           },
           "bgcolor": "#E5ECF6",
           "caxis": {
            "gridcolor": "white",
            "linecolor": "white",
            "ticks": ""
           }
          },
          "title": {
           "x": 0.05
          },
          "xaxis": {
           "automargin": true,
           "gridcolor": "white",
           "linecolor": "white",
           "ticks": "",
           "title": {
            "standoff": 15
           },
           "zerolinecolor": "white",
           "zerolinewidth": 2
          },
          "yaxis": {
           "automargin": true,
           "gridcolor": "white",
           "linecolor": "white",
           "ticks": "",
           "title": {
            "standoff": 15
           },
           "zerolinecolor": "white",
           "zerolinewidth": 2
          }
         }
        },
        "title": {
         "text": "Monthly Sales",
         "x": 0.45
        },
        "xaxis": {
         "title": {
          "text": "Months"
         }
        },
        "yaxis": {
         "title": {
          "text": "Total Amount, £"
         }
        }
       }
      }
     },
     "metadata": {},
     "output_type": "display_data"
    }
   ],
   "source": [
    "fig = go.Figure(data=[\n",
    "    go.Bar(name='Monthly Sales', \n",
    "           x=retail_monthly_by_sales['InvoiceMonth'].astype(str),\n",
    "           y=retail_monthly_by_sales['Total'],\n",
    "           marker_opacity=1,\n",
    "           marker={'color': retail_monthly_by_sales['Total'],\n",
    "                   'colorscale': 'Portland'}\n",
    "          )\n",
    "    ])\n",
    "\n",
    "fig.update_layout(barmode='group', showlegend=False)\n",
    "\n",
    "fig.update_layout(title=\"Monthly Sales\",\n",
    "                  title_x = 0.45,\n",
    "                  xaxis_title=\"Months\",\n",
    "                  yaxis_title=\"Total Amount, £\",\n",
    "                  plot_bgcolor='white')\n",
    "fig.show()"
   ]
  },
  {
   "cell_type": "code",
   "execution_count": 152,
   "id": "e04fa86c",
   "metadata": {},
   "outputs": [],
   "source": [
    "retail_data_month=retail_data.copy()"
   ]
  },
  {
   "cell_type": "code",
   "execution_count": 153,
   "id": "6674a9e4",
   "metadata": {},
   "outputs": [
    {
     "data": {
      "text/html": [
       "<div>\n",
       "<style scoped>\n",
       "    .dataframe tbody tr th:only-of-type {\n",
       "        vertical-align: middle;\n",
       "    }\n",
       "\n",
       "    .dataframe tbody tr th {\n",
       "        vertical-align: top;\n",
       "    }\n",
       "\n",
       "    .dataframe thead th {\n",
       "        text-align: right;\n",
       "    }\n",
       "</style>\n",
       "<table border=\"1\" class=\"dataframe\">\n",
       "  <thead>\n",
       "    <tr style=\"text-align: right;\">\n",
       "      <th></th>\n",
       "      <th>Invoice</th>\n",
       "      <th>StockCode</th>\n",
       "      <th>Description</th>\n",
       "      <th>Quantity</th>\n",
       "      <th>InvoiceDate</th>\n",
       "      <th>Price</th>\n",
       "      <th>Customer ID</th>\n",
       "      <th>Country</th>\n",
       "      <th>InvoiceDate_DT</th>\n",
       "      <th>Total</th>\n",
       "      <th>InvoiceQuater</th>\n",
       "      <th>InvoiceQuarterID</th>\n",
       "      <th>CohortQuarterID</th>\n",
       "      <th>CohortQuarter</th>\n",
       "      <th>CohortIndex</th>\n",
       "      <th>InvoiceMonth</th>\n",
       "    </tr>\n",
       "  </thead>\n",
       "  <tbody>\n",
       "    <tr>\n",
       "      <th>45228</th>\n",
       "      <td>493410</td>\n",
       "      <td>TEST001</td>\n",
       "      <td>This is a test product.</td>\n",
       "      <td>5</td>\n",
       "      <td>2010-01-04 09:24:00</td>\n",
       "      <td>4.50</td>\n",
       "      <td>12346</td>\n",
       "      <td>United Kingdom</td>\n",
       "      <td>2010-01-04 09:24:00</td>\n",
       "      <td>22.50</td>\n",
       "      <td>Q1/2010</td>\n",
       "      <td>0</td>\n",
       "      <td>0</td>\n",
       "      <td>Q1/2010</td>\n",
       "      <td>0</td>\n",
       "      <td>1/2010</td>\n",
       "    </tr>\n",
       "    <tr>\n",
       "      <th>45229</th>\n",
       "      <td>C493411</td>\n",
       "      <td>21539</td>\n",
       "      <td>RETRO SPOTS BUTTER DISH</td>\n",
       "      <td>-1</td>\n",
       "      <td>2010-01-04 09:43:00</td>\n",
       "      <td>4.25</td>\n",
       "      <td>14590</td>\n",
       "      <td>United Kingdom</td>\n",
       "      <td>2010-01-04 09:43:00</td>\n",
       "      <td>-4.25</td>\n",
       "      <td>Q1/2010</td>\n",
       "      <td>0</td>\n",
       "      <td>0</td>\n",
       "      <td>Q1/2010</td>\n",
       "      <td>0</td>\n",
       "      <td>1/2010</td>\n",
       "    </tr>\n",
       "    <tr>\n",
       "      <th>45230</th>\n",
       "      <td>493412</td>\n",
       "      <td>TEST001</td>\n",
       "      <td>This is a test product.</td>\n",
       "      <td>5</td>\n",
       "      <td>2010-01-04 09:53:00</td>\n",
       "      <td>4.50</td>\n",
       "      <td>12346</td>\n",
       "      <td>United Kingdom</td>\n",
       "      <td>2010-01-04 09:53:00</td>\n",
       "      <td>22.50</td>\n",
       "      <td>Q1/2010</td>\n",
       "      <td>0</td>\n",
       "      <td>0</td>\n",
       "      <td>Q1/2010</td>\n",
       "      <td>0</td>\n",
       "      <td>1/2010</td>\n",
       "    </tr>\n",
       "    <tr>\n",
       "      <th>45238</th>\n",
       "      <td>493414</td>\n",
       "      <td>21527</td>\n",
       "      <td>RETRO SPOT TRADITIONAL TEAPOT</td>\n",
       "      <td>12</td>\n",
       "      <td>2010-01-04 10:28:00</td>\n",
       "      <td>6.95</td>\n",
       "      <td>14590</td>\n",
       "      <td>United Kingdom</td>\n",
       "      <td>2010-01-04 10:28:00</td>\n",
       "      <td>83.40</td>\n",
       "      <td>Q1/2010</td>\n",
       "      <td>0</td>\n",
       "      <td>0</td>\n",
       "      <td>Q1/2010</td>\n",
       "      <td>0</td>\n",
       "      <td>1/2010</td>\n",
       "    </tr>\n",
       "    <tr>\n",
       "      <th>45237</th>\n",
       "      <td>493414</td>\n",
       "      <td>35001G</td>\n",
       "      <td>HAND OPEN SHAPE GOLD</td>\n",
       "      <td>2</td>\n",
       "      <td>2010-01-04 10:28:00</td>\n",
       "      <td>4.25</td>\n",
       "      <td>14590</td>\n",
       "      <td>United Kingdom</td>\n",
       "      <td>2010-01-04 10:28:00</td>\n",
       "      <td>8.50</td>\n",
       "      <td>Q1/2010</td>\n",
       "      <td>0</td>\n",
       "      <td>0</td>\n",
       "      <td>Q1/2010</td>\n",
       "      <td>0</td>\n",
       "      <td>1/2010</td>\n",
       "    </tr>\n",
       "  </tbody>\n",
       "</table>\n",
       "</div>"
      ],
      "text/plain": [
       "       Invoice StockCode                     Description  Quantity  \\\n",
       "45228   493410   TEST001         This is a test product.         5   \n",
       "45229  C493411     21539         RETRO SPOTS BUTTER DISH        -1   \n",
       "45230   493412   TEST001         This is a test product.         5   \n",
       "45238   493414     21527  RETRO SPOT TRADITIONAL TEAPOT         12   \n",
       "45237   493414    35001G            HAND OPEN SHAPE GOLD         2   \n",
       "\n",
       "               InvoiceDate  Price  Customer ID         Country  \\\n",
       "45228  2010-01-04 09:24:00   4.50        12346  United Kingdom   \n",
       "45229  2010-01-04 09:43:00   4.25        14590  United Kingdom   \n",
       "45230  2010-01-04 09:53:00   4.50        12346  United Kingdom   \n",
       "45238  2010-01-04 10:28:00   6.95        14590  United Kingdom   \n",
       "45237  2010-01-04 10:28:00   4.25        14590  United Kingdom   \n",
       "\n",
       "           InvoiceDate_DT  Total InvoiceQuater  InvoiceQuarterID  \\\n",
       "45228 2010-01-04 09:24:00  22.50       Q1/2010                 0   \n",
       "45229 2010-01-04 09:43:00  -4.25       Q1/2010                 0   \n",
       "45230 2010-01-04 09:53:00  22.50       Q1/2010                 0   \n",
       "45238 2010-01-04 10:28:00  83.40       Q1/2010                 0   \n",
       "45237 2010-01-04 10:28:00   8.50       Q1/2010                 0   \n",
       "\n",
       "       CohortQuarterID CohortQuarter  CohortIndex InvoiceMonth  \n",
       "45228                0       Q1/2010            0       1/2010  \n",
       "45229                0       Q1/2010            0       1/2010  \n",
       "45230                0       Q1/2010            0       1/2010  \n",
       "45238                0       Q1/2010            0       1/2010  \n",
       "45237                0       Q1/2010            0       1/2010  "
      ]
     },
     "execution_count": 153,
     "metadata": {},
     "output_type": "execute_result"
    }
   ],
   "source": [
    "retail_data_month['InvoiceMonth']=(retail_data['InvoiceDate_DT'].dt.month.astype(str) + '/' + retail_data['InvoiceDate_DT'].dt.year.astype(str))\n",
    "\n",
    "retail_data_month.head()"
   ]
  },
  {
   "cell_type": "code",
   "execution_count": 154,
   "id": "6e7f1e18",
   "metadata": {},
   "outputs": [
    {
     "data": {
      "text/plain": [
       "array(['1/2010', '2/2010', '3/2010', '4/2010', '5/2010', '6/2010',\n",
       "       '7/2010', '8/2010', '9/2010', '10/2010', '11/2010', '12/2010',\n",
       "       '1/2011', '2/2011', '3/2011', '4/2011', '5/2011', '6/2011',\n",
       "       '7/2011', '8/2011', '9/2011', '10/2011', '11/2011', '12/2011'],\n",
       "      dtype=object)"
      ]
     },
     "execution_count": 154,
     "metadata": {},
     "output_type": "execute_result"
    }
   ],
   "source": [
    "retail_data_month[\"InvoiceMonth\"].unique()\n"
   ]
  },
  {
   "cell_type": "code",
   "execution_count": 155,
   "id": "a21eda47",
   "metadata": {},
   "outputs": [
    {
     "data": {
      "text/plain": [
       "{'1/2010': 0,\n",
       " '2/2010': 1,\n",
       " '3/2010': 2,\n",
       " '4/2010': 3,\n",
       " '5/2010': 4,\n",
       " '6/2010': 5,\n",
       " '7/2010': 6,\n",
       " '8/2010': 7,\n",
       " '9/2010': 8,\n",
       " '10/2010': 9,\n",
       " '11/2010': 10,\n",
       " '12/2010': 11,\n",
       " '1/2011': 12,\n",
       " '2/2011': 13,\n",
       " '3/2011': 14,\n",
       " '4/2011': 15,\n",
       " '5/2011': 16,\n",
       " '6/2011': 17,\n",
       " '7/2011': 18,\n",
       " '8/2011': 19,\n",
       " '9/2011': 20,\n",
       " '10/2011': 21,\n",
       " '11/2011': 22,\n",
       " '12/2011': 23}"
      ]
     },
     "execution_count": 155,
     "metadata": {},
     "output_type": "execute_result"
    }
   ],
   "source": [
    "month_map=dict(zip(retail_data_month[\"InvoiceMonth\"].unique(),range(len(retail_data_month['InvoiceMonth'].unique()))))\n",
    "month_map\n"
   ]
  },
  {
   "cell_type": "code",
   "execution_count": 157,
   "id": "8ba40920",
   "metadata": {},
   "outputs": [
    {
     "data": {
      "text/html": [
       "<div>\n",
       "<style scoped>\n",
       "    .dataframe tbody tr th:only-of-type {\n",
       "        vertical-align: middle;\n",
       "    }\n",
       "\n",
       "    .dataframe tbody tr th {\n",
       "        vertical-align: top;\n",
       "    }\n",
       "\n",
       "    .dataframe thead th {\n",
       "        text-align: right;\n",
       "    }\n",
       "</style>\n",
       "<table border=\"1\" class=\"dataframe\">\n",
       "  <thead>\n",
       "    <tr style=\"text-align: right;\">\n",
       "      <th></th>\n",
       "      <th>Invoice</th>\n",
       "      <th>StockCode</th>\n",
       "      <th>Description</th>\n",
       "      <th>Quantity</th>\n",
       "      <th>InvoiceDate</th>\n",
       "      <th>Price</th>\n",
       "      <th>Customer ID</th>\n",
       "      <th>Country</th>\n",
       "      <th>InvoiceDate_DT</th>\n",
       "      <th>Total</th>\n",
       "      <th>InvoiceQuater</th>\n",
       "      <th>InvoiceQuarterID</th>\n",
       "      <th>CohortQuarterID</th>\n",
       "      <th>CohortQuarter</th>\n",
       "      <th>CohortIndex</th>\n",
       "      <th>InvoiceMonth</th>\n",
       "      <th>InvoiceMonthID</th>\n",
       "    </tr>\n",
       "  </thead>\n",
       "  <tbody>\n",
       "    <tr>\n",
       "      <th>45228</th>\n",
       "      <td>493410</td>\n",
       "      <td>TEST001</td>\n",
       "      <td>This is a test product.</td>\n",
       "      <td>5</td>\n",
       "      <td>2010-01-04 09:24:00</td>\n",
       "      <td>4.50</td>\n",
       "      <td>12346</td>\n",
       "      <td>United Kingdom</td>\n",
       "      <td>2010-01-04 09:24:00</td>\n",
       "      <td>22.50</td>\n",
       "      <td>Q1/2010</td>\n",
       "      <td>0</td>\n",
       "      <td>0</td>\n",
       "      <td>Q1/2010</td>\n",
       "      <td>0</td>\n",
       "      <td>1/2010</td>\n",
       "      <td>0</td>\n",
       "    </tr>\n",
       "    <tr>\n",
       "      <th>45229</th>\n",
       "      <td>C493411</td>\n",
       "      <td>21539</td>\n",
       "      <td>RETRO SPOTS BUTTER DISH</td>\n",
       "      <td>-1</td>\n",
       "      <td>2010-01-04 09:43:00</td>\n",
       "      <td>4.25</td>\n",
       "      <td>14590</td>\n",
       "      <td>United Kingdom</td>\n",
       "      <td>2010-01-04 09:43:00</td>\n",
       "      <td>-4.25</td>\n",
       "      <td>Q1/2010</td>\n",
       "      <td>0</td>\n",
       "      <td>0</td>\n",
       "      <td>Q1/2010</td>\n",
       "      <td>0</td>\n",
       "      <td>1/2010</td>\n",
       "      <td>0</td>\n",
       "    </tr>\n",
       "    <tr>\n",
       "      <th>45230</th>\n",
       "      <td>493412</td>\n",
       "      <td>TEST001</td>\n",
       "      <td>This is a test product.</td>\n",
       "      <td>5</td>\n",
       "      <td>2010-01-04 09:53:00</td>\n",
       "      <td>4.50</td>\n",
       "      <td>12346</td>\n",
       "      <td>United Kingdom</td>\n",
       "      <td>2010-01-04 09:53:00</td>\n",
       "      <td>22.50</td>\n",
       "      <td>Q1/2010</td>\n",
       "      <td>0</td>\n",
       "      <td>0</td>\n",
       "      <td>Q1/2010</td>\n",
       "      <td>0</td>\n",
       "      <td>1/2010</td>\n",
       "      <td>0</td>\n",
       "    </tr>\n",
       "    <tr>\n",
       "      <th>45238</th>\n",
       "      <td>493414</td>\n",
       "      <td>21527</td>\n",
       "      <td>RETRO SPOT TRADITIONAL TEAPOT</td>\n",
       "      <td>12</td>\n",
       "      <td>2010-01-04 10:28:00</td>\n",
       "      <td>6.95</td>\n",
       "      <td>14590</td>\n",
       "      <td>United Kingdom</td>\n",
       "      <td>2010-01-04 10:28:00</td>\n",
       "      <td>83.40</td>\n",
       "      <td>Q1/2010</td>\n",
       "      <td>0</td>\n",
       "      <td>0</td>\n",
       "      <td>Q1/2010</td>\n",
       "      <td>0</td>\n",
       "      <td>1/2010</td>\n",
       "      <td>0</td>\n",
       "    </tr>\n",
       "    <tr>\n",
       "      <th>45237</th>\n",
       "      <td>493414</td>\n",
       "      <td>35001G</td>\n",
       "      <td>HAND OPEN SHAPE GOLD</td>\n",
       "      <td>2</td>\n",
       "      <td>2010-01-04 10:28:00</td>\n",
       "      <td>4.25</td>\n",
       "      <td>14590</td>\n",
       "      <td>United Kingdom</td>\n",
       "      <td>2010-01-04 10:28:00</td>\n",
       "      <td>8.50</td>\n",
       "      <td>Q1/2010</td>\n",
       "      <td>0</td>\n",
       "      <td>0</td>\n",
       "      <td>Q1/2010</td>\n",
       "      <td>0</td>\n",
       "      <td>1/2010</td>\n",
       "      <td>0</td>\n",
       "    </tr>\n",
       "  </tbody>\n",
       "</table>\n",
       "</div>"
      ],
      "text/plain": [
       "       Invoice StockCode                     Description  Quantity  \\\n",
       "45228   493410   TEST001         This is a test product.         5   \n",
       "45229  C493411     21539         RETRO SPOTS BUTTER DISH        -1   \n",
       "45230   493412   TEST001         This is a test product.         5   \n",
       "45238   493414     21527  RETRO SPOT TRADITIONAL TEAPOT         12   \n",
       "45237   493414    35001G            HAND OPEN SHAPE GOLD         2   \n",
       "\n",
       "               InvoiceDate  Price  Customer ID         Country  \\\n",
       "45228  2010-01-04 09:24:00   4.50        12346  United Kingdom   \n",
       "45229  2010-01-04 09:43:00   4.25        14590  United Kingdom   \n",
       "45230  2010-01-04 09:53:00   4.50        12346  United Kingdom   \n",
       "45238  2010-01-04 10:28:00   6.95        14590  United Kingdom   \n",
       "45237  2010-01-04 10:28:00   4.25        14590  United Kingdom   \n",
       "\n",
       "           InvoiceDate_DT  Total InvoiceQuater  InvoiceQuarterID  \\\n",
       "45228 2010-01-04 09:24:00  22.50       Q1/2010                 0   \n",
       "45229 2010-01-04 09:43:00  -4.25       Q1/2010                 0   \n",
       "45230 2010-01-04 09:53:00  22.50       Q1/2010                 0   \n",
       "45238 2010-01-04 10:28:00  83.40       Q1/2010                 0   \n",
       "45237 2010-01-04 10:28:00   8.50       Q1/2010                 0   \n",
       "\n",
       "       CohortQuarterID CohortQuarter  CohortIndex InvoiceMonth  InvoiceMonthID  \n",
       "45228                0       Q1/2010            0       1/2010               0  \n",
       "45229                0       Q1/2010            0       1/2010               0  \n",
       "45230                0       Q1/2010            0       1/2010               0  \n",
       "45238                0       Q1/2010            0       1/2010               0  \n",
       "45237                0       Q1/2010            0       1/2010               0  "
      ]
     },
     "execution_count": 157,
     "metadata": {},
     "output_type": "execute_result"
    }
   ],
   "source": [
    "retail_data_month['InvoiceMonthID']=retail_data_month['InvoiceMonth'].map(month_map)\n",
    "\n",
    "retail_data_month.head()"
   ]
  },
  {
   "cell_type": "code",
   "execution_count": 159,
   "id": "28f3ff4c",
   "metadata": {},
   "outputs": [
    {
     "data": {
      "text/html": [
       "<div>\n",
       "<style scoped>\n",
       "    .dataframe tbody tr th:only-of-type {\n",
       "        vertical-align: middle;\n",
       "    }\n",
       "\n",
       "    .dataframe tbody tr th {\n",
       "        vertical-align: top;\n",
       "    }\n",
       "\n",
       "    .dataframe thead th {\n",
       "        text-align: right;\n",
       "    }\n",
       "</style>\n",
       "<table border=\"1\" class=\"dataframe\">\n",
       "  <thead>\n",
       "    <tr style=\"text-align: right;\">\n",
       "      <th></th>\n",
       "      <th>Invoice</th>\n",
       "      <th>StockCode</th>\n",
       "      <th>Description</th>\n",
       "      <th>Quantity</th>\n",
       "      <th>InvoiceDate</th>\n",
       "      <th>Price</th>\n",
       "      <th>Customer ID</th>\n",
       "      <th>Country</th>\n",
       "      <th>InvoiceDate_DT</th>\n",
       "      <th>Total</th>\n",
       "      <th>InvoiceQuater</th>\n",
       "      <th>InvoiceQuarterID</th>\n",
       "      <th>CohortQuarterID</th>\n",
       "      <th>CohortQuarter</th>\n",
       "      <th>CohortIndex</th>\n",
       "      <th>InvoiceMonth</th>\n",
       "      <th>InvoiceMonthID</th>\n",
       "      <th>cohortMonthID</th>\n",
       "    </tr>\n",
       "  </thead>\n",
       "  <tbody>\n",
       "    <tr>\n",
       "      <th>45228</th>\n",
       "      <td>493410</td>\n",
       "      <td>TEST001</td>\n",
       "      <td>This is a test product.</td>\n",
       "      <td>5</td>\n",
       "      <td>2010-01-04 09:24:00</td>\n",
       "      <td>4.50</td>\n",
       "      <td>12346</td>\n",
       "      <td>United Kingdom</td>\n",
       "      <td>2010-01-04 09:24:00</td>\n",
       "      <td>22.50</td>\n",
       "      <td>Q1/2010</td>\n",
       "      <td>0</td>\n",
       "      <td>0</td>\n",
       "      <td>Q1/2010</td>\n",
       "      <td>0</td>\n",
       "      <td>1/2010</td>\n",
       "      <td>0</td>\n",
       "      <td>0</td>\n",
       "    </tr>\n",
       "    <tr>\n",
       "      <th>45229</th>\n",
       "      <td>C493411</td>\n",
       "      <td>21539</td>\n",
       "      <td>RETRO SPOTS BUTTER DISH</td>\n",
       "      <td>-1</td>\n",
       "      <td>2010-01-04 09:43:00</td>\n",
       "      <td>4.25</td>\n",
       "      <td>14590</td>\n",
       "      <td>United Kingdom</td>\n",
       "      <td>2010-01-04 09:43:00</td>\n",
       "      <td>-4.25</td>\n",
       "      <td>Q1/2010</td>\n",
       "      <td>0</td>\n",
       "      <td>0</td>\n",
       "      <td>Q1/2010</td>\n",
       "      <td>0</td>\n",
       "      <td>1/2010</td>\n",
       "      <td>0</td>\n",
       "      <td>0</td>\n",
       "    </tr>\n",
       "    <tr>\n",
       "      <th>45230</th>\n",
       "      <td>493412</td>\n",
       "      <td>TEST001</td>\n",
       "      <td>This is a test product.</td>\n",
       "      <td>5</td>\n",
       "      <td>2010-01-04 09:53:00</td>\n",
       "      <td>4.50</td>\n",
       "      <td>12346</td>\n",
       "      <td>United Kingdom</td>\n",
       "      <td>2010-01-04 09:53:00</td>\n",
       "      <td>22.50</td>\n",
       "      <td>Q1/2010</td>\n",
       "      <td>0</td>\n",
       "      <td>0</td>\n",
       "      <td>Q1/2010</td>\n",
       "      <td>0</td>\n",
       "      <td>1/2010</td>\n",
       "      <td>0</td>\n",
       "      <td>0</td>\n",
       "    </tr>\n",
       "    <tr>\n",
       "      <th>45238</th>\n",
       "      <td>493414</td>\n",
       "      <td>21527</td>\n",
       "      <td>RETRO SPOT TRADITIONAL TEAPOT</td>\n",
       "      <td>12</td>\n",
       "      <td>2010-01-04 10:28:00</td>\n",
       "      <td>6.95</td>\n",
       "      <td>14590</td>\n",
       "      <td>United Kingdom</td>\n",
       "      <td>2010-01-04 10:28:00</td>\n",
       "      <td>83.40</td>\n",
       "      <td>Q1/2010</td>\n",
       "      <td>0</td>\n",
       "      <td>0</td>\n",
       "      <td>Q1/2010</td>\n",
       "      <td>0</td>\n",
       "      <td>1/2010</td>\n",
       "      <td>0</td>\n",
       "      <td>0</td>\n",
       "    </tr>\n",
       "    <tr>\n",
       "      <th>45237</th>\n",
       "      <td>493414</td>\n",
       "      <td>35001G</td>\n",
       "      <td>HAND OPEN SHAPE GOLD</td>\n",
       "      <td>2</td>\n",
       "      <td>2010-01-04 10:28:00</td>\n",
       "      <td>4.25</td>\n",
       "      <td>14590</td>\n",
       "      <td>United Kingdom</td>\n",
       "      <td>2010-01-04 10:28:00</td>\n",
       "      <td>8.50</td>\n",
       "      <td>Q1/2010</td>\n",
       "      <td>0</td>\n",
       "      <td>0</td>\n",
       "      <td>Q1/2010</td>\n",
       "      <td>0</td>\n",
       "      <td>1/2010</td>\n",
       "      <td>0</td>\n",
       "      <td>0</td>\n",
       "    </tr>\n",
       "  </tbody>\n",
       "</table>\n",
       "</div>"
      ],
      "text/plain": [
       "       Invoice StockCode                     Description  Quantity  \\\n",
       "45228   493410   TEST001         This is a test product.         5   \n",
       "45229  C493411     21539         RETRO SPOTS BUTTER DISH        -1   \n",
       "45230   493412   TEST001         This is a test product.         5   \n",
       "45238   493414     21527  RETRO SPOT TRADITIONAL TEAPOT         12   \n",
       "45237   493414    35001G            HAND OPEN SHAPE GOLD         2   \n",
       "\n",
       "               InvoiceDate  Price  Customer ID         Country  \\\n",
       "45228  2010-01-04 09:24:00   4.50        12346  United Kingdom   \n",
       "45229  2010-01-04 09:43:00   4.25        14590  United Kingdom   \n",
       "45230  2010-01-04 09:53:00   4.50        12346  United Kingdom   \n",
       "45238  2010-01-04 10:28:00   6.95        14590  United Kingdom   \n",
       "45237  2010-01-04 10:28:00   4.25        14590  United Kingdom   \n",
       "\n",
       "           InvoiceDate_DT  Total InvoiceQuater  InvoiceQuarterID  \\\n",
       "45228 2010-01-04 09:24:00  22.50       Q1/2010                 0   \n",
       "45229 2010-01-04 09:43:00  -4.25       Q1/2010                 0   \n",
       "45230 2010-01-04 09:53:00  22.50       Q1/2010                 0   \n",
       "45238 2010-01-04 10:28:00  83.40       Q1/2010                 0   \n",
       "45237 2010-01-04 10:28:00   8.50       Q1/2010                 0   \n",
       "\n",
       "       CohortQuarterID CohortQuarter  CohortIndex InvoiceMonth  \\\n",
       "45228                0       Q1/2010            0       1/2010   \n",
       "45229                0       Q1/2010            0       1/2010   \n",
       "45230                0       Q1/2010            0       1/2010   \n",
       "45238                0       Q1/2010            0       1/2010   \n",
       "45237                0       Q1/2010            0       1/2010   \n",
       "\n",
       "       InvoiceMonthID  cohortMonthID  \n",
       "45228               0              0  \n",
       "45229               0              0  \n",
       "45230               0              0  \n",
       "45238               0              0  \n",
       "45237               0              0  "
      ]
     },
     "execution_count": 159,
     "metadata": {},
     "output_type": "execute_result"
    }
   ],
   "source": [
    "retail_data_month[\"cohortMonthID\"]=retail_data_month.groupby('Customer ID')['InvoiceMonthID'].transform('min')\n",
    "retail_data_month.head()"
   ]
  },
  {
   "cell_type": "code",
   "execution_count": 160,
   "id": "cdd2414a",
   "metadata": {},
   "outputs": [
    {
     "data": {
      "text/html": [
       "<div>\n",
       "<style scoped>\n",
       "    .dataframe tbody tr th:only-of-type {\n",
       "        vertical-align: middle;\n",
       "    }\n",
       "\n",
       "    .dataframe tbody tr th {\n",
       "        vertical-align: top;\n",
       "    }\n",
       "\n",
       "    .dataframe thead th {\n",
       "        text-align: right;\n",
       "    }\n",
       "</style>\n",
       "<table border=\"1\" class=\"dataframe\">\n",
       "  <thead>\n",
       "    <tr style=\"text-align: right;\">\n",
       "      <th></th>\n",
       "      <th>Invoice</th>\n",
       "      <th>StockCode</th>\n",
       "      <th>Description</th>\n",
       "      <th>Quantity</th>\n",
       "      <th>InvoiceDate</th>\n",
       "      <th>Price</th>\n",
       "      <th>Customer ID</th>\n",
       "      <th>Country</th>\n",
       "      <th>InvoiceDate_DT</th>\n",
       "      <th>Total</th>\n",
       "      <th>InvoiceQuater</th>\n",
       "      <th>InvoiceQuarterID</th>\n",
       "      <th>CohortQuarterID</th>\n",
       "      <th>CohortQuarter</th>\n",
       "      <th>CohortIndex</th>\n",
       "      <th>InvoiceMonth</th>\n",
       "      <th>InvoiceMonthID</th>\n",
       "      <th>cohortMonthID</th>\n",
       "      <th>cohortMonth</th>\n",
       "    </tr>\n",
       "  </thead>\n",
       "  <tbody>\n",
       "    <tr>\n",
       "      <th>45228</th>\n",
       "      <td>493410</td>\n",
       "      <td>TEST001</td>\n",
       "      <td>This is a test product.</td>\n",
       "      <td>5</td>\n",
       "      <td>2010-01-04 09:24:00</td>\n",
       "      <td>4.50</td>\n",
       "      <td>12346</td>\n",
       "      <td>United Kingdom</td>\n",
       "      <td>2010-01-04 09:24:00</td>\n",
       "      <td>22.50</td>\n",
       "      <td>Q1/2010</td>\n",
       "      <td>0</td>\n",
       "      <td>0</td>\n",
       "      <td>Q1/2010</td>\n",
       "      <td>0</td>\n",
       "      <td>1/2010</td>\n",
       "      <td>0</td>\n",
       "      <td>0</td>\n",
       "      <td>1/2010</td>\n",
       "    </tr>\n",
       "    <tr>\n",
       "      <th>45229</th>\n",
       "      <td>C493411</td>\n",
       "      <td>21539</td>\n",
       "      <td>RETRO SPOTS BUTTER DISH</td>\n",
       "      <td>-1</td>\n",
       "      <td>2010-01-04 09:43:00</td>\n",
       "      <td>4.25</td>\n",
       "      <td>14590</td>\n",
       "      <td>United Kingdom</td>\n",
       "      <td>2010-01-04 09:43:00</td>\n",
       "      <td>-4.25</td>\n",
       "      <td>Q1/2010</td>\n",
       "      <td>0</td>\n",
       "      <td>0</td>\n",
       "      <td>Q1/2010</td>\n",
       "      <td>0</td>\n",
       "      <td>1/2010</td>\n",
       "      <td>0</td>\n",
       "      <td>0</td>\n",
       "      <td>1/2010</td>\n",
       "    </tr>\n",
       "    <tr>\n",
       "      <th>45230</th>\n",
       "      <td>493412</td>\n",
       "      <td>TEST001</td>\n",
       "      <td>This is a test product.</td>\n",
       "      <td>5</td>\n",
       "      <td>2010-01-04 09:53:00</td>\n",
       "      <td>4.50</td>\n",
       "      <td>12346</td>\n",
       "      <td>United Kingdom</td>\n",
       "      <td>2010-01-04 09:53:00</td>\n",
       "      <td>22.50</td>\n",
       "      <td>Q1/2010</td>\n",
       "      <td>0</td>\n",
       "      <td>0</td>\n",
       "      <td>Q1/2010</td>\n",
       "      <td>0</td>\n",
       "      <td>1/2010</td>\n",
       "      <td>0</td>\n",
       "      <td>0</td>\n",
       "      <td>1/2010</td>\n",
       "    </tr>\n",
       "    <tr>\n",
       "      <th>45238</th>\n",
       "      <td>493414</td>\n",
       "      <td>21527</td>\n",
       "      <td>RETRO SPOT TRADITIONAL TEAPOT</td>\n",
       "      <td>12</td>\n",
       "      <td>2010-01-04 10:28:00</td>\n",
       "      <td>6.95</td>\n",
       "      <td>14590</td>\n",
       "      <td>United Kingdom</td>\n",
       "      <td>2010-01-04 10:28:00</td>\n",
       "      <td>83.40</td>\n",
       "      <td>Q1/2010</td>\n",
       "      <td>0</td>\n",
       "      <td>0</td>\n",
       "      <td>Q1/2010</td>\n",
       "      <td>0</td>\n",
       "      <td>1/2010</td>\n",
       "      <td>0</td>\n",
       "      <td>0</td>\n",
       "      <td>1/2010</td>\n",
       "    </tr>\n",
       "    <tr>\n",
       "      <th>45237</th>\n",
       "      <td>493414</td>\n",
       "      <td>35001G</td>\n",
       "      <td>HAND OPEN SHAPE GOLD</td>\n",
       "      <td>2</td>\n",
       "      <td>2010-01-04 10:28:00</td>\n",
       "      <td>4.25</td>\n",
       "      <td>14590</td>\n",
       "      <td>United Kingdom</td>\n",
       "      <td>2010-01-04 10:28:00</td>\n",
       "      <td>8.50</td>\n",
       "      <td>Q1/2010</td>\n",
       "      <td>0</td>\n",
       "      <td>0</td>\n",
       "      <td>Q1/2010</td>\n",
       "      <td>0</td>\n",
       "      <td>1/2010</td>\n",
       "      <td>0</td>\n",
       "      <td>0</td>\n",
       "      <td>1/2010</td>\n",
       "    </tr>\n",
       "  </tbody>\n",
       "</table>\n",
       "</div>"
      ],
      "text/plain": [
       "       Invoice StockCode                     Description  Quantity  \\\n",
       "45228   493410   TEST001         This is a test product.         5   \n",
       "45229  C493411     21539         RETRO SPOTS BUTTER DISH        -1   \n",
       "45230   493412   TEST001         This is a test product.         5   \n",
       "45238   493414     21527  RETRO SPOT TRADITIONAL TEAPOT         12   \n",
       "45237   493414    35001G            HAND OPEN SHAPE GOLD         2   \n",
       "\n",
       "               InvoiceDate  Price  Customer ID         Country  \\\n",
       "45228  2010-01-04 09:24:00   4.50        12346  United Kingdom   \n",
       "45229  2010-01-04 09:43:00   4.25        14590  United Kingdom   \n",
       "45230  2010-01-04 09:53:00   4.50        12346  United Kingdom   \n",
       "45238  2010-01-04 10:28:00   6.95        14590  United Kingdom   \n",
       "45237  2010-01-04 10:28:00   4.25        14590  United Kingdom   \n",
       "\n",
       "           InvoiceDate_DT  Total InvoiceQuater  InvoiceQuarterID  \\\n",
       "45228 2010-01-04 09:24:00  22.50       Q1/2010                 0   \n",
       "45229 2010-01-04 09:43:00  -4.25       Q1/2010                 0   \n",
       "45230 2010-01-04 09:53:00  22.50       Q1/2010                 0   \n",
       "45238 2010-01-04 10:28:00  83.40       Q1/2010                 0   \n",
       "45237 2010-01-04 10:28:00   8.50       Q1/2010                 0   \n",
       "\n",
       "       CohortQuarterID CohortQuarter  CohortIndex InvoiceMonth  \\\n",
       "45228                0       Q1/2010            0       1/2010   \n",
       "45229                0       Q1/2010            0       1/2010   \n",
       "45230                0       Q1/2010            0       1/2010   \n",
       "45238                0       Q1/2010            0       1/2010   \n",
       "45237                0       Q1/2010            0       1/2010   \n",
       "\n",
       "       InvoiceMonthID  cohortMonthID cohortMonth  \n",
       "45228               0              0      1/2010  \n",
       "45229               0              0      1/2010  \n",
       "45230               0              0      1/2010  \n",
       "45238               0              0      1/2010  \n",
       "45237               0              0      1/2010  "
      ]
     },
     "execution_count": 160,
     "metadata": {},
     "output_type": "execute_result"
    }
   ],
   "source": [
    "retail_data_month['cohortMonth']=retail_data_month['cohortMonthID'].map(dict(zip(month_map.values(),month_map.keys())))\n",
    "\n",
    "\n",
    "retail_data_month.head()"
   ]
  },
  {
   "cell_type": "code",
   "execution_count": 161,
   "id": "71303e2a",
   "metadata": {},
   "outputs": [
    {
     "data": {
      "text/html": [
       "<div>\n",
       "<style scoped>\n",
       "    .dataframe tbody tr th:only-of-type {\n",
       "        vertical-align: middle;\n",
       "    }\n",
       "\n",
       "    .dataframe tbody tr th {\n",
       "        vertical-align: top;\n",
       "    }\n",
       "\n",
       "    .dataframe thead th {\n",
       "        text-align: right;\n",
       "    }\n",
       "</style>\n",
       "<table border=\"1\" class=\"dataframe\">\n",
       "  <thead>\n",
       "    <tr style=\"text-align: right;\">\n",
       "      <th></th>\n",
       "      <th>Invoice</th>\n",
       "      <th>StockCode</th>\n",
       "      <th>Description</th>\n",
       "      <th>Quantity</th>\n",
       "      <th>InvoiceDate</th>\n",
       "      <th>Price</th>\n",
       "      <th>Customer ID</th>\n",
       "      <th>Country</th>\n",
       "      <th>InvoiceDate_DT</th>\n",
       "      <th>Total</th>\n",
       "      <th>InvoiceQuater</th>\n",
       "      <th>InvoiceQuarterID</th>\n",
       "      <th>CohortQuarterID</th>\n",
       "      <th>CohortQuarter</th>\n",
       "      <th>CohortIndex</th>\n",
       "      <th>InvoiceMonth</th>\n",
       "      <th>InvoiceMonthID</th>\n",
       "      <th>cohortMonthID</th>\n",
       "      <th>cohortMonth</th>\n",
       "    </tr>\n",
       "  </thead>\n",
       "  <tbody>\n",
       "    <tr>\n",
       "      <th>1067357</th>\n",
       "      <td>581587</td>\n",
       "      <td>22555</td>\n",
       "      <td>PLASTERS IN TIN STRONGMAN</td>\n",
       "      <td>12</td>\n",
       "      <td>2011-12-09 12:50:00</td>\n",
       "      <td>1.65</td>\n",
       "      <td>12680</td>\n",
       "      <td>France</td>\n",
       "      <td>2011-12-09 12:50:00</td>\n",
       "      <td>19.80</td>\n",
       "      <td>Q4/2011</td>\n",
       "      <td>7</td>\n",
       "      <td>6</td>\n",
       "      <td>Q3/2011</td>\n",
       "      <td>1</td>\n",
       "      <td>12/2011</td>\n",
       "      <td>23</td>\n",
       "      <td>19</td>\n",
       "      <td>8/2011</td>\n",
       "    </tr>\n",
       "    <tr>\n",
       "      <th>1067356</th>\n",
       "      <td>581587</td>\n",
       "      <td>22556</td>\n",
       "      <td>PLASTERS IN TIN CIRCUS PARADE</td>\n",
       "      <td>12</td>\n",
       "      <td>2011-12-09 12:50:00</td>\n",
       "      <td>1.65</td>\n",
       "      <td>12680</td>\n",
       "      <td>France</td>\n",
       "      <td>2011-12-09 12:50:00</td>\n",
       "      <td>19.80</td>\n",
       "      <td>Q4/2011</td>\n",
       "      <td>7</td>\n",
       "      <td>6</td>\n",
       "      <td>Q3/2011</td>\n",
       "      <td>1</td>\n",
       "      <td>12/2011</td>\n",
       "      <td>23</td>\n",
       "      <td>19</td>\n",
       "      <td>8/2011</td>\n",
       "    </tr>\n",
       "    <tr>\n",
       "      <th>1067369</th>\n",
       "      <td>581587</td>\n",
       "      <td>22138</td>\n",
       "      <td>BAKING SET 9 PIECE RETROSPOT</td>\n",
       "      <td>3</td>\n",
       "      <td>2011-12-09 12:50:00</td>\n",
       "      <td>4.95</td>\n",
       "      <td>12680</td>\n",
       "      <td>France</td>\n",
       "      <td>2011-12-09 12:50:00</td>\n",
       "      <td>14.85</td>\n",
       "      <td>Q4/2011</td>\n",
       "      <td>7</td>\n",
       "      <td>6</td>\n",
       "      <td>Q3/2011</td>\n",
       "      <td>1</td>\n",
       "      <td>12/2011</td>\n",
       "      <td>23</td>\n",
       "      <td>19</td>\n",
       "      <td>8/2011</td>\n",
       "    </tr>\n",
       "    <tr>\n",
       "      <th>1067361</th>\n",
       "      <td>581587</td>\n",
       "      <td>22730</td>\n",
       "      <td>ALARM CLOCK BAKELIKE IVORY</td>\n",
       "      <td>4</td>\n",
       "      <td>2011-12-09 12:50:00</td>\n",
       "      <td>3.75</td>\n",
       "      <td>12680</td>\n",
       "      <td>France</td>\n",
       "      <td>2011-12-09 12:50:00</td>\n",
       "      <td>15.00</td>\n",
       "      <td>Q4/2011</td>\n",
       "      <td>7</td>\n",
       "      <td>6</td>\n",
       "      <td>Q3/2011</td>\n",
       "      <td>1</td>\n",
       "      <td>12/2011</td>\n",
       "      <td>23</td>\n",
       "      <td>19</td>\n",
       "      <td>8/2011</td>\n",
       "    </tr>\n",
       "    <tr>\n",
       "      <th>1067370</th>\n",
       "      <td>581587</td>\n",
       "      <td>POST</td>\n",
       "      <td>POSTAGE</td>\n",
       "      <td>1</td>\n",
       "      <td>2011-12-09 12:50:00</td>\n",
       "      <td>18.00</td>\n",
       "      <td>12680</td>\n",
       "      <td>France</td>\n",
       "      <td>2011-12-09 12:50:00</td>\n",
       "      <td>18.00</td>\n",
       "      <td>Q4/2011</td>\n",
       "      <td>7</td>\n",
       "      <td>6</td>\n",
       "      <td>Q3/2011</td>\n",
       "      <td>1</td>\n",
       "      <td>12/2011</td>\n",
       "      <td>23</td>\n",
       "      <td>19</td>\n",
       "      <td>8/2011</td>\n",
       "    </tr>\n",
       "  </tbody>\n",
       "</table>\n",
       "</div>"
      ],
      "text/plain": [
       "        Invoice StockCode                     Description  Quantity  \\\n",
       "1067357  581587     22555       PLASTERS IN TIN STRONGMAN        12   \n",
       "1067356  581587     22556  PLASTERS IN TIN CIRCUS PARADE         12   \n",
       "1067369  581587     22138   BAKING SET 9 PIECE RETROSPOT          3   \n",
       "1067361  581587     22730      ALARM CLOCK BAKELIKE IVORY         4   \n",
       "1067370  581587      POST                         POSTAGE         1   \n",
       "\n",
       "                 InvoiceDate  Price  Customer ID Country      InvoiceDate_DT  \\\n",
       "1067357  2011-12-09 12:50:00   1.65        12680  France 2011-12-09 12:50:00   \n",
       "1067356  2011-12-09 12:50:00   1.65        12680  France 2011-12-09 12:50:00   \n",
       "1067369  2011-12-09 12:50:00   4.95        12680  France 2011-12-09 12:50:00   \n",
       "1067361  2011-12-09 12:50:00   3.75        12680  France 2011-12-09 12:50:00   \n",
       "1067370  2011-12-09 12:50:00  18.00        12680  France 2011-12-09 12:50:00   \n",
       "\n",
       "         Total InvoiceQuater  InvoiceQuarterID  CohortQuarterID CohortQuarter  \\\n",
       "1067357  19.80       Q4/2011                 7                6       Q3/2011   \n",
       "1067356  19.80       Q4/2011                 7                6       Q3/2011   \n",
       "1067369  14.85       Q4/2011                 7                6       Q3/2011   \n",
       "1067361  15.00       Q4/2011                 7                6       Q3/2011   \n",
       "1067370  18.00       Q4/2011                 7                6       Q3/2011   \n",
       "\n",
       "         CohortIndex InvoiceMonth  InvoiceMonthID  cohortMonthID cohortMonth  \n",
       "1067357            1      12/2011              23             19      8/2011  \n",
       "1067356            1      12/2011              23             19      8/2011  \n",
       "1067369            1      12/2011              23             19      8/2011  \n",
       "1067361            1      12/2011              23             19      8/2011  \n",
       "1067370            1      12/2011              23             19      8/2011  "
      ]
     },
     "execution_count": 161,
     "metadata": {},
     "output_type": "execute_result"
    }
   ],
   "source": [
    "retail_data_month.tail()\n"
   ]
  },
  {
   "cell_type": "code",
   "execution_count": 163,
   "id": "cd36aa64",
   "metadata": {},
   "outputs": [
    {
     "data": {
      "text/html": [
       "<div>\n",
       "<style scoped>\n",
       "    .dataframe tbody tr th:only-of-type {\n",
       "        vertical-align: middle;\n",
       "    }\n",
       "\n",
       "    .dataframe tbody tr th {\n",
       "        vertical-align: top;\n",
       "    }\n",
       "\n",
       "    .dataframe thead th {\n",
       "        text-align: right;\n",
       "    }\n",
       "</style>\n",
       "<table border=\"1\" class=\"dataframe\">\n",
       "  <thead>\n",
       "    <tr style=\"text-align: right;\">\n",
       "      <th></th>\n",
       "      <th>Invoice</th>\n",
       "      <th>StockCode</th>\n",
       "      <th>Description</th>\n",
       "      <th>Quantity</th>\n",
       "      <th>InvoiceDate</th>\n",
       "      <th>Price</th>\n",
       "      <th>Customer ID</th>\n",
       "      <th>Country</th>\n",
       "      <th>InvoiceDate_DT</th>\n",
       "      <th>Total</th>\n",
       "      <th>InvoiceQuater</th>\n",
       "      <th>InvoiceQuarterID</th>\n",
       "      <th>CohortQuarterID</th>\n",
       "      <th>CohortQuarter</th>\n",
       "      <th>CohortIndex</th>\n",
       "      <th>InvoiceMonth</th>\n",
       "      <th>InvoiceMonthID</th>\n",
       "      <th>cohortMonthID</th>\n",
       "      <th>cohortMonth</th>\n",
       "      <th>cohortMonthIndex</th>\n",
       "    </tr>\n",
       "  </thead>\n",
       "  <tbody>\n",
       "    <tr>\n",
       "      <th>45228</th>\n",
       "      <td>493410</td>\n",
       "      <td>TEST001</td>\n",
       "      <td>This is a test product.</td>\n",
       "      <td>5</td>\n",
       "      <td>2010-01-04 09:24:00</td>\n",
       "      <td>4.50</td>\n",
       "      <td>12346</td>\n",
       "      <td>United Kingdom</td>\n",
       "      <td>2010-01-04 09:24:00</td>\n",
       "      <td>22.50</td>\n",
       "      <td>Q1/2010</td>\n",
       "      <td>0</td>\n",
       "      <td>0</td>\n",
       "      <td>Q1/2010</td>\n",
       "      <td>0</td>\n",
       "      <td>1/2010</td>\n",
       "      <td>0</td>\n",
       "      <td>0</td>\n",
       "      <td>1/2010</td>\n",
       "      <td>0</td>\n",
       "    </tr>\n",
       "    <tr>\n",
       "      <th>45229</th>\n",
       "      <td>C493411</td>\n",
       "      <td>21539</td>\n",
       "      <td>RETRO SPOTS BUTTER DISH</td>\n",
       "      <td>-1</td>\n",
       "      <td>2010-01-04 09:43:00</td>\n",
       "      <td>4.25</td>\n",
       "      <td>14590</td>\n",
       "      <td>United Kingdom</td>\n",
       "      <td>2010-01-04 09:43:00</td>\n",
       "      <td>-4.25</td>\n",
       "      <td>Q1/2010</td>\n",
       "      <td>0</td>\n",
       "      <td>0</td>\n",
       "      <td>Q1/2010</td>\n",
       "      <td>0</td>\n",
       "      <td>1/2010</td>\n",
       "      <td>0</td>\n",
       "      <td>0</td>\n",
       "      <td>1/2010</td>\n",
       "      <td>0</td>\n",
       "    </tr>\n",
       "    <tr>\n",
       "      <th>45230</th>\n",
       "      <td>493412</td>\n",
       "      <td>TEST001</td>\n",
       "      <td>This is a test product.</td>\n",
       "      <td>5</td>\n",
       "      <td>2010-01-04 09:53:00</td>\n",
       "      <td>4.50</td>\n",
       "      <td>12346</td>\n",
       "      <td>United Kingdom</td>\n",
       "      <td>2010-01-04 09:53:00</td>\n",
       "      <td>22.50</td>\n",
       "      <td>Q1/2010</td>\n",
       "      <td>0</td>\n",
       "      <td>0</td>\n",
       "      <td>Q1/2010</td>\n",
       "      <td>0</td>\n",
       "      <td>1/2010</td>\n",
       "      <td>0</td>\n",
       "      <td>0</td>\n",
       "      <td>1/2010</td>\n",
       "      <td>0</td>\n",
       "    </tr>\n",
       "    <tr>\n",
       "      <th>45238</th>\n",
       "      <td>493414</td>\n",
       "      <td>21527</td>\n",
       "      <td>RETRO SPOT TRADITIONAL TEAPOT</td>\n",
       "      <td>12</td>\n",
       "      <td>2010-01-04 10:28:00</td>\n",
       "      <td>6.95</td>\n",
       "      <td>14590</td>\n",
       "      <td>United Kingdom</td>\n",
       "      <td>2010-01-04 10:28:00</td>\n",
       "      <td>83.40</td>\n",
       "      <td>Q1/2010</td>\n",
       "      <td>0</td>\n",
       "      <td>0</td>\n",
       "      <td>Q1/2010</td>\n",
       "      <td>0</td>\n",
       "      <td>1/2010</td>\n",
       "      <td>0</td>\n",
       "      <td>0</td>\n",
       "      <td>1/2010</td>\n",
       "      <td>0</td>\n",
       "    </tr>\n",
       "    <tr>\n",
       "      <th>45237</th>\n",
       "      <td>493414</td>\n",
       "      <td>35001G</td>\n",
       "      <td>HAND OPEN SHAPE GOLD</td>\n",
       "      <td>2</td>\n",
       "      <td>2010-01-04 10:28:00</td>\n",
       "      <td>4.25</td>\n",
       "      <td>14590</td>\n",
       "      <td>United Kingdom</td>\n",
       "      <td>2010-01-04 10:28:00</td>\n",
       "      <td>8.50</td>\n",
       "      <td>Q1/2010</td>\n",
       "      <td>0</td>\n",
       "      <td>0</td>\n",
       "      <td>Q1/2010</td>\n",
       "      <td>0</td>\n",
       "      <td>1/2010</td>\n",
       "      <td>0</td>\n",
       "      <td>0</td>\n",
       "      <td>1/2010</td>\n",
       "      <td>0</td>\n",
       "    </tr>\n",
       "  </tbody>\n",
       "</table>\n",
       "</div>"
      ],
      "text/plain": [
       "       Invoice StockCode                     Description  Quantity  \\\n",
       "45228   493410   TEST001         This is a test product.         5   \n",
       "45229  C493411     21539         RETRO SPOTS BUTTER DISH        -1   \n",
       "45230   493412   TEST001         This is a test product.         5   \n",
       "45238   493414     21527  RETRO SPOT TRADITIONAL TEAPOT         12   \n",
       "45237   493414    35001G            HAND OPEN SHAPE GOLD         2   \n",
       "\n",
       "               InvoiceDate  Price  Customer ID         Country  \\\n",
       "45228  2010-01-04 09:24:00   4.50        12346  United Kingdom   \n",
       "45229  2010-01-04 09:43:00   4.25        14590  United Kingdom   \n",
       "45230  2010-01-04 09:53:00   4.50        12346  United Kingdom   \n",
       "45238  2010-01-04 10:28:00   6.95        14590  United Kingdom   \n",
       "45237  2010-01-04 10:28:00   4.25        14590  United Kingdom   \n",
       "\n",
       "           InvoiceDate_DT  Total InvoiceQuater  InvoiceQuarterID  \\\n",
       "45228 2010-01-04 09:24:00  22.50       Q1/2010                 0   \n",
       "45229 2010-01-04 09:43:00  -4.25       Q1/2010                 0   \n",
       "45230 2010-01-04 09:53:00  22.50       Q1/2010                 0   \n",
       "45238 2010-01-04 10:28:00  83.40       Q1/2010                 0   \n",
       "45237 2010-01-04 10:28:00   8.50       Q1/2010                 0   \n",
       "\n",
       "       CohortQuarterID CohortQuarter  CohortIndex InvoiceMonth  \\\n",
       "45228                0       Q1/2010            0       1/2010   \n",
       "45229                0       Q1/2010            0       1/2010   \n",
       "45230                0       Q1/2010            0       1/2010   \n",
       "45238                0       Q1/2010            0       1/2010   \n",
       "45237                0       Q1/2010            0       1/2010   \n",
       "\n",
       "       InvoiceMonthID  cohortMonthID cohortMonth  cohortMonthIndex  \n",
       "45228               0              0      1/2010                 0  \n",
       "45229               0              0      1/2010                 0  \n",
       "45230               0              0      1/2010                 0  \n",
       "45238               0              0      1/2010                 0  \n",
       "45237               0              0      1/2010                 0  "
      ]
     },
     "execution_count": 163,
     "metadata": {},
     "output_type": "execute_result"
    }
   ],
   "source": [
    "retail_data_month[\"cohortMonthIndex\"]=retail_data_month['InvoiceMonthID']-retail_data_month[\"cohortMonthID\"]\n",
    "\n",
    "retail_data_month.head()"
   ]
  },
  {
   "cell_type": "code",
   "execution_count": 164,
   "id": "a3994052",
   "metadata": {},
   "outputs": [
    {
     "data": {
      "text/html": [
       "<div>\n",
       "<style scoped>\n",
       "    .dataframe tbody tr th:only-of-type {\n",
       "        vertical-align: middle;\n",
       "    }\n",
       "\n",
       "    .dataframe tbody tr th {\n",
       "        vertical-align: top;\n",
       "    }\n",
       "\n",
       "    .dataframe thead th {\n",
       "        text-align: right;\n",
       "    }\n",
       "</style>\n",
       "<table border=\"1\" class=\"dataframe\">\n",
       "  <thead>\n",
       "    <tr style=\"text-align: right;\">\n",
       "      <th></th>\n",
       "      <th>Invoice</th>\n",
       "      <th>StockCode</th>\n",
       "      <th>Description</th>\n",
       "      <th>Quantity</th>\n",
       "      <th>InvoiceDate</th>\n",
       "      <th>Price</th>\n",
       "      <th>Customer ID</th>\n",
       "      <th>Country</th>\n",
       "      <th>InvoiceDate_DT</th>\n",
       "      <th>Total</th>\n",
       "      <th>InvoiceQuater</th>\n",
       "      <th>InvoiceQuarterID</th>\n",
       "      <th>CohortQuarterID</th>\n",
       "      <th>CohortQuarter</th>\n",
       "      <th>CohortIndex</th>\n",
       "      <th>InvoiceMonth</th>\n",
       "      <th>InvoiceMonthID</th>\n",
       "      <th>cohortMonthID</th>\n",
       "      <th>cohortMonth</th>\n",
       "      <th>cohortMonthIndex</th>\n",
       "    </tr>\n",
       "  </thead>\n",
       "  <tbody>\n",
       "    <tr>\n",
       "      <th>1067357</th>\n",
       "      <td>581587</td>\n",
       "      <td>22555</td>\n",
       "      <td>PLASTERS IN TIN STRONGMAN</td>\n",
       "      <td>12</td>\n",
       "      <td>2011-12-09 12:50:00</td>\n",
       "      <td>1.65</td>\n",
       "      <td>12680</td>\n",
       "      <td>France</td>\n",
       "      <td>2011-12-09 12:50:00</td>\n",
       "      <td>19.80</td>\n",
       "      <td>Q4/2011</td>\n",
       "      <td>7</td>\n",
       "      <td>6</td>\n",
       "      <td>Q3/2011</td>\n",
       "      <td>1</td>\n",
       "      <td>12/2011</td>\n",
       "      <td>23</td>\n",
       "      <td>19</td>\n",
       "      <td>8/2011</td>\n",
       "      <td>4</td>\n",
       "    </tr>\n",
       "    <tr>\n",
       "      <th>1067356</th>\n",
       "      <td>581587</td>\n",
       "      <td>22556</td>\n",
       "      <td>PLASTERS IN TIN CIRCUS PARADE</td>\n",
       "      <td>12</td>\n",
       "      <td>2011-12-09 12:50:00</td>\n",
       "      <td>1.65</td>\n",
       "      <td>12680</td>\n",
       "      <td>France</td>\n",
       "      <td>2011-12-09 12:50:00</td>\n",
       "      <td>19.80</td>\n",
       "      <td>Q4/2011</td>\n",
       "      <td>7</td>\n",
       "      <td>6</td>\n",
       "      <td>Q3/2011</td>\n",
       "      <td>1</td>\n",
       "      <td>12/2011</td>\n",
       "      <td>23</td>\n",
       "      <td>19</td>\n",
       "      <td>8/2011</td>\n",
       "      <td>4</td>\n",
       "    </tr>\n",
       "    <tr>\n",
       "      <th>1067369</th>\n",
       "      <td>581587</td>\n",
       "      <td>22138</td>\n",
       "      <td>BAKING SET 9 PIECE RETROSPOT</td>\n",
       "      <td>3</td>\n",
       "      <td>2011-12-09 12:50:00</td>\n",
       "      <td>4.95</td>\n",
       "      <td>12680</td>\n",
       "      <td>France</td>\n",
       "      <td>2011-12-09 12:50:00</td>\n",
       "      <td>14.85</td>\n",
       "      <td>Q4/2011</td>\n",
       "      <td>7</td>\n",
       "      <td>6</td>\n",
       "      <td>Q3/2011</td>\n",
       "      <td>1</td>\n",
       "      <td>12/2011</td>\n",
       "      <td>23</td>\n",
       "      <td>19</td>\n",
       "      <td>8/2011</td>\n",
       "      <td>4</td>\n",
       "    </tr>\n",
       "    <tr>\n",
       "      <th>1067361</th>\n",
       "      <td>581587</td>\n",
       "      <td>22730</td>\n",
       "      <td>ALARM CLOCK BAKELIKE IVORY</td>\n",
       "      <td>4</td>\n",
       "      <td>2011-12-09 12:50:00</td>\n",
       "      <td>3.75</td>\n",
       "      <td>12680</td>\n",
       "      <td>France</td>\n",
       "      <td>2011-12-09 12:50:00</td>\n",
       "      <td>15.00</td>\n",
       "      <td>Q4/2011</td>\n",
       "      <td>7</td>\n",
       "      <td>6</td>\n",
       "      <td>Q3/2011</td>\n",
       "      <td>1</td>\n",
       "      <td>12/2011</td>\n",
       "      <td>23</td>\n",
       "      <td>19</td>\n",
       "      <td>8/2011</td>\n",
       "      <td>4</td>\n",
       "    </tr>\n",
       "    <tr>\n",
       "      <th>1067370</th>\n",
       "      <td>581587</td>\n",
       "      <td>POST</td>\n",
       "      <td>POSTAGE</td>\n",
       "      <td>1</td>\n",
       "      <td>2011-12-09 12:50:00</td>\n",
       "      <td>18.00</td>\n",
       "      <td>12680</td>\n",
       "      <td>France</td>\n",
       "      <td>2011-12-09 12:50:00</td>\n",
       "      <td>18.00</td>\n",
       "      <td>Q4/2011</td>\n",
       "      <td>7</td>\n",
       "      <td>6</td>\n",
       "      <td>Q3/2011</td>\n",
       "      <td>1</td>\n",
       "      <td>12/2011</td>\n",
       "      <td>23</td>\n",
       "      <td>19</td>\n",
       "      <td>8/2011</td>\n",
       "      <td>4</td>\n",
       "    </tr>\n",
       "  </tbody>\n",
       "</table>\n",
       "</div>"
      ],
      "text/plain": [
       "        Invoice StockCode                     Description  Quantity  \\\n",
       "1067357  581587     22555       PLASTERS IN TIN STRONGMAN        12   \n",
       "1067356  581587     22556  PLASTERS IN TIN CIRCUS PARADE         12   \n",
       "1067369  581587     22138   BAKING SET 9 PIECE RETROSPOT          3   \n",
       "1067361  581587     22730      ALARM CLOCK BAKELIKE IVORY         4   \n",
       "1067370  581587      POST                         POSTAGE         1   \n",
       "\n",
       "                 InvoiceDate  Price  Customer ID Country      InvoiceDate_DT  \\\n",
       "1067357  2011-12-09 12:50:00   1.65        12680  France 2011-12-09 12:50:00   \n",
       "1067356  2011-12-09 12:50:00   1.65        12680  France 2011-12-09 12:50:00   \n",
       "1067369  2011-12-09 12:50:00   4.95        12680  France 2011-12-09 12:50:00   \n",
       "1067361  2011-12-09 12:50:00   3.75        12680  France 2011-12-09 12:50:00   \n",
       "1067370  2011-12-09 12:50:00  18.00        12680  France 2011-12-09 12:50:00   \n",
       "\n",
       "         Total InvoiceQuater  InvoiceQuarterID  CohortQuarterID CohortQuarter  \\\n",
       "1067357  19.80       Q4/2011                 7                6       Q3/2011   \n",
       "1067356  19.80       Q4/2011                 7                6       Q3/2011   \n",
       "1067369  14.85       Q4/2011                 7                6       Q3/2011   \n",
       "1067361  15.00       Q4/2011                 7                6       Q3/2011   \n",
       "1067370  18.00       Q4/2011                 7                6       Q3/2011   \n",
       "\n",
       "         CohortIndex InvoiceMonth  InvoiceMonthID  cohortMonthID cohortMonth  \\\n",
       "1067357            1      12/2011              23             19      8/2011   \n",
       "1067356            1      12/2011              23             19      8/2011   \n",
       "1067369            1      12/2011              23             19      8/2011   \n",
       "1067361            1      12/2011              23             19      8/2011   \n",
       "1067370            1      12/2011              23             19      8/2011   \n",
       "\n",
       "         cohortMonthIndex  \n",
       "1067357                 4  \n",
       "1067356                 4  \n",
       "1067369                 4  \n",
       "1067361                 4  \n",
       "1067370                 4  "
      ]
     },
     "execution_count": 164,
     "metadata": {},
     "output_type": "execute_result"
    }
   ],
   "source": [
    "retail_data_month.tail()"
   ]
  },
  {
   "cell_type": "markdown",
   "id": "d60d6591",
   "metadata": {},
   "source": [
    "Monthly retention rate\n"
   ]
  },
  {
   "cell_type": "code",
   "execution_count": 165,
   "id": "9cbf6b67",
   "metadata": {},
   "outputs": [
    {
     "data": {
      "text/html": [
       "<div>\n",
       "<style scoped>\n",
       "    .dataframe tbody tr th:only-of-type {\n",
       "        vertical-align: middle;\n",
       "    }\n",
       "\n",
       "    .dataframe tbody tr th {\n",
       "        vertical-align: top;\n",
       "    }\n",
       "\n",
       "    .dataframe thead th {\n",
       "        text-align: right;\n",
       "    }\n",
       "</style>\n",
       "<table border=\"1\" class=\"dataframe\">\n",
       "  <thead>\n",
       "    <tr style=\"text-align: right;\">\n",
       "      <th></th>\n",
       "      <th>cohortMonthID</th>\n",
       "      <th>cohortMonthIndex</th>\n",
       "      <th>Customer Count</th>\n",
       "    </tr>\n",
       "  </thead>\n",
       "  <tbody>\n",
       "    <tr>\n",
       "      <th>0</th>\n",
       "      <td>0</td>\n",
       "      <td>0</td>\n",
       "      <td>786</td>\n",
       "    </tr>\n",
       "    <tr>\n",
       "      <th>1</th>\n",
       "      <td>0</td>\n",
       "      <td>1</td>\n",
       "      <td>305</td>\n",
       "    </tr>\n",
       "    <tr>\n",
       "      <th>2</th>\n",
       "      <td>0</td>\n",
       "      <td>2</td>\n",
       "      <td>365</td>\n",
       "    </tr>\n",
       "    <tr>\n",
       "      <th>3</th>\n",
       "      <td>0</td>\n",
       "      <td>3</td>\n",
       "      <td>342</td>\n",
       "    </tr>\n",
       "    <tr>\n",
       "      <th>4</th>\n",
       "      <td>0</td>\n",
       "      <td>4</td>\n",
       "      <td>334</td>\n",
       "    </tr>\n",
       "  </tbody>\n",
       "</table>\n",
       "</div>"
      ],
      "text/plain": [
       "   cohortMonthID  cohortMonthIndex  Customer Count\n",
       "0              0                 0             786\n",
       "1              0                 1             305\n",
       "2              0                 2             365\n",
       "3              0                 3             342\n",
       "4              0                 4             334"
      ]
     },
     "execution_count": 165,
     "metadata": {},
     "output_type": "execute_result"
    }
   ],
   "source": [
    "cohort_retention_month = retail_data_month.groupby(['cohortMonthID', 'cohortMonthIndex'])['Customer ID'].apply(pd.Series.nunique).reset_index()\n",
    "cohort_retention_month.rename(columns={'Customer ID': 'Customer Count'}, inplace=True)\n",
    "\n",
    "cohort_retention_month.head()\n"
   ]
  },
  {
   "cell_type": "code",
   "execution_count": 166,
   "id": "55112196",
   "metadata": {},
   "outputs": [
    {
     "data": {
      "text/html": [
       "<div>\n",
       "<style scoped>\n",
       "    .dataframe tbody tr th:only-of-type {\n",
       "        vertical-align: middle;\n",
       "    }\n",
       "\n",
       "    .dataframe tbody tr th {\n",
       "        vertical-align: top;\n",
       "    }\n",
       "\n",
       "    .dataframe thead th {\n",
       "        text-align: right;\n",
       "    }\n",
       "</style>\n",
       "<table border=\"1\" class=\"dataframe\">\n",
       "  <thead>\n",
       "    <tr style=\"text-align: right;\">\n",
       "      <th>cohortMonthIndex</th>\n",
       "      <th>0</th>\n",
       "      <th>1</th>\n",
       "      <th>2</th>\n",
       "      <th>3</th>\n",
       "      <th>4</th>\n",
       "      <th>5</th>\n",
       "      <th>6</th>\n",
       "      <th>7</th>\n",
       "      <th>8</th>\n",
       "      <th>9</th>\n",
       "      <th>...</th>\n",
       "      <th>14</th>\n",
       "      <th>15</th>\n",
       "      <th>16</th>\n",
       "      <th>17</th>\n",
       "      <th>18</th>\n",
       "      <th>19</th>\n",
       "      <th>20</th>\n",
       "      <th>21</th>\n",
       "      <th>22</th>\n",
       "      <th>23</th>\n",
       "    </tr>\n",
       "    <tr>\n",
       "      <th>CohortMonth</th>\n",
       "      <th></th>\n",
       "      <th></th>\n",
       "      <th></th>\n",
       "      <th></th>\n",
       "      <th></th>\n",
       "      <th></th>\n",
       "      <th></th>\n",
       "      <th></th>\n",
       "      <th></th>\n",
       "      <th></th>\n",
       "      <th></th>\n",
       "      <th></th>\n",
       "      <th></th>\n",
       "      <th></th>\n",
       "      <th></th>\n",
       "      <th></th>\n",
       "      <th></th>\n",
       "      <th></th>\n",
       "      <th></th>\n",
       "      <th></th>\n",
       "      <th></th>\n",
       "    </tr>\n",
       "  </thead>\n",
       "  <tbody>\n",
       "    <tr>\n",
       "      <th>1/2010</th>\n",
       "      <td>786.0</td>\n",
       "      <td>305.0</td>\n",
       "      <td>365.0</td>\n",
       "      <td>342.0</td>\n",
       "      <td>334.0</td>\n",
       "      <td>330.0</td>\n",
       "      <td>320.0</td>\n",
       "      <td>294.0</td>\n",
       "      <td>321.0</td>\n",
       "      <td>363.0</td>\n",
       "      <td>...</td>\n",
       "      <td>254.0</td>\n",
       "      <td>215.0</td>\n",
       "      <td>269.0</td>\n",
       "      <td>245.0</td>\n",
       "      <td>236.0</td>\n",
       "      <td>230.0</td>\n",
       "      <td>263.0</td>\n",
       "      <td>236.0</td>\n",
       "      <td>310.0</td>\n",
       "      <td>147.0</td>\n",
       "    </tr>\n",
       "    <tr>\n",
       "      <th>2/2010</th>\n",
       "      <td>502.0</td>\n",
       "      <td>168.0</td>\n",
       "      <td>141.0</td>\n",
       "      <td>176.0</td>\n",
       "      <td>165.0</td>\n",
       "      <td>132.0</td>\n",
       "      <td>133.0</td>\n",
       "      <td>176.0</td>\n",
       "      <td>166.0</td>\n",
       "      <td>184.0</td>\n",
       "      <td>...</td>\n",
       "      <td>91.0</td>\n",
       "      <td>124.0</td>\n",
       "      <td>116.0</td>\n",
       "      <td>107.0</td>\n",
       "      <td>102.0</td>\n",
       "      <td>145.0</td>\n",
       "      <td>145.0</td>\n",
       "      <td>127.0</td>\n",
       "      <td>59.0</td>\n",
       "      <td>NaN</td>\n",
       "    </tr>\n",
       "    <tr>\n",
       "      <th>3/2010</th>\n",
       "      <td>578.0</td>\n",
       "      <td>154.0</td>\n",
       "      <td>165.0</td>\n",
       "      <td>156.0</td>\n",
       "      <td>147.0</td>\n",
       "      <td>131.0</td>\n",
       "      <td>159.0</td>\n",
       "      <td>198.0</td>\n",
       "      <td>202.0</td>\n",
       "      <td>104.0</td>\n",
       "      <td>...</td>\n",
       "      <td>120.0</td>\n",
       "      <td>118.0</td>\n",
       "      <td>114.0</td>\n",
       "      <td>105.0</td>\n",
       "      <td>120.0</td>\n",
       "      <td>131.0</td>\n",
       "      <td>154.0</td>\n",
       "      <td>65.0</td>\n",
       "      <td>NaN</td>\n",
       "      <td>NaN</td>\n",
       "    </tr>\n",
       "    <tr>\n",
       "      <th>4/2010</th>\n",
       "      <td>361.0</td>\n",
       "      <td>91.0</td>\n",
       "      <td>80.0</td>\n",
       "      <td>68.0</td>\n",
       "      <td>75.0</td>\n",
       "      <td>88.0</td>\n",
       "      <td>108.0</td>\n",
       "      <td>111.0</td>\n",
       "      <td>55.0</td>\n",
       "      <td>45.0</td>\n",
       "      <td>...</td>\n",
       "      <td>59.0</td>\n",
       "      <td>56.0</td>\n",
       "      <td>48.0</td>\n",
       "      <td>59.0</td>\n",
       "      <td>67.0</td>\n",
       "      <td>78.0</td>\n",
       "      <td>30.0</td>\n",
       "      <td>NaN</td>\n",
       "      <td>NaN</td>\n",
       "      <td>NaN</td>\n",
       "    </tr>\n",
       "    <tr>\n",
       "      <th>5/2010</th>\n",
       "      <td>296.0</td>\n",
       "      <td>61.0</td>\n",
       "      <td>55.0</td>\n",
       "      <td>55.0</td>\n",
       "      <td>55.0</td>\n",
       "      <td>79.0</td>\n",
       "      <td>70.0</td>\n",
       "      <td>45.0</td>\n",
       "      <td>20.0</td>\n",
       "      <td>27.0</td>\n",
       "      <td>...</td>\n",
       "      <td>31.0</td>\n",
       "      <td>41.0</td>\n",
       "      <td>49.0</td>\n",
       "      <td>51.0</td>\n",
       "      <td>53.0</td>\n",
       "      <td>18.0</td>\n",
       "      <td>NaN</td>\n",
       "      <td>NaN</td>\n",
       "      <td>NaN</td>\n",
       "      <td>NaN</td>\n",
       "    </tr>\n",
       "  </tbody>\n",
       "</table>\n",
       "<p>5 rows × 24 columns</p>\n",
       "</div>"
      ],
      "text/plain": [
       "cohortMonthIndex     0      1      2      3      4      5      6      7   \\\n",
       "CohortMonth                                                                \n",
       "1/2010            786.0  305.0  365.0  342.0  334.0  330.0  320.0  294.0   \n",
       "2/2010            502.0  168.0  141.0  176.0  165.0  132.0  133.0  176.0   \n",
       "3/2010            578.0  154.0  165.0  156.0  147.0  131.0  159.0  198.0   \n",
       "4/2010            361.0   91.0   80.0   68.0   75.0   88.0  108.0  111.0   \n",
       "5/2010            296.0   61.0   55.0   55.0   55.0   79.0   70.0   45.0   \n",
       "\n",
       "cohortMonthIndex     8      9   ...     14     15     16     17     18     19  \\\n",
       "CohortMonth                     ...                                             \n",
       "1/2010            321.0  363.0  ...  254.0  215.0  269.0  245.0  236.0  230.0   \n",
       "2/2010            166.0  184.0  ...   91.0  124.0  116.0  107.0  102.0  145.0   \n",
       "3/2010            202.0  104.0  ...  120.0  118.0  114.0  105.0  120.0  131.0   \n",
       "4/2010             55.0   45.0  ...   59.0   56.0   48.0   59.0   67.0   78.0   \n",
       "5/2010             20.0   27.0  ...   31.0   41.0   49.0   51.0   53.0   18.0   \n",
       "\n",
       "cohortMonthIndex     20     21     22     23  \n",
       "CohortMonth                                   \n",
       "1/2010            263.0  236.0  310.0  147.0  \n",
       "2/2010            145.0  127.0   59.0    NaN  \n",
       "3/2010            154.0   65.0    NaN    NaN  \n",
       "4/2010             30.0    NaN    NaN    NaN  \n",
       "5/2010              NaN    NaN    NaN    NaN  \n",
       "\n",
       "[5 rows x 24 columns]"
      ]
     },
     "execution_count": 166,
     "metadata": {},
     "output_type": "execute_result"
    }
   ],
   "source": [
    "cohort_retention_count_month = cohort_retention_month.pivot_table(index='cohortMonthID', \n",
    "                                                      columns='cohortMonthIndex', \n",
    "                                                      values='Customer Count')\n",
    "cohort_retention_count_month['CohortMonth'] = cohort_retention_count_month.index.map(dict(zip(month_map.values(), \n",
    "                                                                                    month_map.keys())))\n",
    "cohort_retention_count_month = cohort_retention_count_month.set_index('CohortMonth')\n",
    "\n",
    "cohort_retention_count_month.head()"
   ]
  },
  {
   "cell_type": "code",
   "execution_count": 169,
   "id": "8f4f9543",
   "metadata": {},
   "outputs": [
    {
     "data": {
      "text/html": [
       "<div>\n",
       "<style scoped>\n",
       "    .dataframe tbody tr th:only-of-type {\n",
       "        vertical-align: middle;\n",
       "    }\n",
       "\n",
       "    .dataframe tbody tr th {\n",
       "        vertical-align: top;\n",
       "    }\n",
       "\n",
       "    .dataframe thead th {\n",
       "        text-align: right;\n",
       "    }\n",
       "</style>\n",
       "<table border=\"1\" class=\"dataframe\">\n",
       "  <thead>\n",
       "    <tr style=\"text-align: right;\">\n",
       "      <th>cohortMonthIndex</th>\n",
       "      <th>0</th>\n",
       "      <th>1</th>\n",
       "      <th>2</th>\n",
       "      <th>3</th>\n",
       "      <th>4</th>\n",
       "      <th>5</th>\n",
       "      <th>6</th>\n",
       "      <th>7</th>\n",
       "      <th>8</th>\n",
       "      <th>9</th>\n",
       "      <th>...</th>\n",
       "      <th>14</th>\n",
       "      <th>15</th>\n",
       "      <th>16</th>\n",
       "      <th>17</th>\n",
       "      <th>18</th>\n",
       "      <th>19</th>\n",
       "      <th>20</th>\n",
       "      <th>21</th>\n",
       "      <th>22</th>\n",
       "      <th>23</th>\n",
       "    </tr>\n",
       "    <tr>\n",
       "      <th>CohortMonth</th>\n",
       "      <th></th>\n",
       "      <th></th>\n",
       "      <th></th>\n",
       "      <th></th>\n",
       "      <th></th>\n",
       "      <th></th>\n",
       "      <th></th>\n",
       "      <th></th>\n",
       "      <th></th>\n",
       "      <th></th>\n",
       "      <th></th>\n",
       "      <th></th>\n",
       "      <th></th>\n",
       "      <th></th>\n",
       "      <th></th>\n",
       "      <th></th>\n",
       "      <th></th>\n",
       "      <th></th>\n",
       "      <th></th>\n",
       "      <th></th>\n",
       "      <th></th>\n",
       "    </tr>\n",
       "  </thead>\n",
       "  <tbody>\n",
       "    <tr>\n",
       "      <th>1/2010</th>\n",
       "      <td>786.0</td>\n",
       "      <td>305.0</td>\n",
       "      <td>365.0</td>\n",
       "      <td>342.0</td>\n",
       "      <td>334.0</td>\n",
       "      <td>330.0</td>\n",
       "      <td>320.0</td>\n",
       "      <td>294.0</td>\n",
       "      <td>321.0</td>\n",
       "      <td>363.0</td>\n",
       "      <td>...</td>\n",
       "      <td>254.0</td>\n",
       "      <td>215.0</td>\n",
       "      <td>269.0</td>\n",
       "      <td>245.0</td>\n",
       "      <td>236.0</td>\n",
       "      <td>230.0</td>\n",
       "      <td>263.0</td>\n",
       "      <td>236.0</td>\n",
       "      <td>310.0</td>\n",
       "      <td>147.0</td>\n",
       "    </tr>\n",
       "    <tr>\n",
       "      <th>2/2010</th>\n",
       "      <td>502.0</td>\n",
       "      <td>168.0</td>\n",
       "      <td>141.0</td>\n",
       "      <td>176.0</td>\n",
       "      <td>165.0</td>\n",
       "      <td>132.0</td>\n",
       "      <td>133.0</td>\n",
       "      <td>176.0</td>\n",
       "      <td>166.0</td>\n",
       "      <td>184.0</td>\n",
       "      <td>...</td>\n",
       "      <td>91.0</td>\n",
       "      <td>124.0</td>\n",
       "      <td>116.0</td>\n",
       "      <td>107.0</td>\n",
       "      <td>102.0</td>\n",
       "      <td>145.0</td>\n",
       "      <td>145.0</td>\n",
       "      <td>127.0</td>\n",
       "      <td>59.0</td>\n",
       "      <td>NaN</td>\n",
       "    </tr>\n",
       "    <tr>\n",
       "      <th>3/2010</th>\n",
       "      <td>578.0</td>\n",
       "      <td>154.0</td>\n",
       "      <td>165.0</td>\n",
       "      <td>156.0</td>\n",
       "      <td>147.0</td>\n",
       "      <td>131.0</td>\n",
       "      <td>159.0</td>\n",
       "      <td>198.0</td>\n",
       "      <td>202.0</td>\n",
       "      <td>104.0</td>\n",
       "      <td>...</td>\n",
       "      <td>120.0</td>\n",
       "      <td>118.0</td>\n",
       "      <td>114.0</td>\n",
       "      <td>105.0</td>\n",
       "      <td>120.0</td>\n",
       "      <td>131.0</td>\n",
       "      <td>154.0</td>\n",
       "      <td>65.0</td>\n",
       "      <td>NaN</td>\n",
       "      <td>NaN</td>\n",
       "    </tr>\n",
       "    <tr>\n",
       "      <th>4/2010</th>\n",
       "      <td>361.0</td>\n",
       "      <td>91.0</td>\n",
       "      <td>80.0</td>\n",
       "      <td>68.0</td>\n",
       "      <td>75.0</td>\n",
       "      <td>88.0</td>\n",
       "      <td>108.0</td>\n",
       "      <td>111.0</td>\n",
       "      <td>55.0</td>\n",
       "      <td>45.0</td>\n",
       "      <td>...</td>\n",
       "      <td>59.0</td>\n",
       "      <td>56.0</td>\n",
       "      <td>48.0</td>\n",
       "      <td>59.0</td>\n",
       "      <td>67.0</td>\n",
       "      <td>78.0</td>\n",
       "      <td>30.0</td>\n",
       "      <td>NaN</td>\n",
       "      <td>NaN</td>\n",
       "      <td>NaN</td>\n",
       "    </tr>\n",
       "    <tr>\n",
       "      <th>5/2010</th>\n",
       "      <td>296.0</td>\n",
       "      <td>61.0</td>\n",
       "      <td>55.0</td>\n",
       "      <td>55.0</td>\n",
       "      <td>55.0</td>\n",
       "      <td>79.0</td>\n",
       "      <td>70.0</td>\n",
       "      <td>45.0</td>\n",
       "      <td>20.0</td>\n",
       "      <td>27.0</td>\n",
       "      <td>...</td>\n",
       "      <td>31.0</td>\n",
       "      <td>41.0</td>\n",
       "      <td>49.0</td>\n",
       "      <td>51.0</td>\n",
       "      <td>53.0</td>\n",
       "      <td>18.0</td>\n",
       "      <td>NaN</td>\n",
       "      <td>NaN</td>\n",
       "      <td>NaN</td>\n",
       "      <td>NaN</td>\n",
       "    </tr>\n",
       "    <tr>\n",
       "      <th>6/2010</th>\n",
       "      <td>303.0</td>\n",
       "      <td>63.0</td>\n",
       "      <td>59.0</td>\n",
       "      <td>63.0</td>\n",
       "      <td>72.0</td>\n",
       "      <td>92.0</td>\n",
       "      <td>41.0</td>\n",
       "      <td>30.0</td>\n",
       "      <td>24.0</td>\n",
       "      <td>40.0</td>\n",
       "      <td>...</td>\n",
       "      <td>33.0</td>\n",
       "      <td>40.0</td>\n",
       "      <td>44.0</td>\n",
       "      <td>68.0</td>\n",
       "      <td>22.0</td>\n",
       "      <td>NaN</td>\n",
       "      <td>NaN</td>\n",
       "      <td>NaN</td>\n",
       "      <td>NaN</td>\n",
       "      <td>NaN</td>\n",
       "    </tr>\n",
       "    <tr>\n",
       "      <th>7/2010</th>\n",
       "      <td>203.0</td>\n",
       "      <td>44.0</td>\n",
       "      <td>44.0</td>\n",
       "      <td>57.0</td>\n",
       "      <td>62.0</td>\n",
       "      <td>35.0</td>\n",
       "      <td>27.0</td>\n",
       "      <td>29.0</td>\n",
       "      <td>29.0</td>\n",
       "      <td>24.0</td>\n",
       "      <td>...</td>\n",
       "      <td>40.0</td>\n",
       "      <td>36.0</td>\n",
       "      <td>51.0</td>\n",
       "      <td>20.0</td>\n",
       "      <td>NaN</td>\n",
       "      <td>NaN</td>\n",
       "      <td>NaN</td>\n",
       "      <td>NaN</td>\n",
       "      <td>NaN</td>\n",
       "      <td>NaN</td>\n",
       "    </tr>\n",
       "    <tr>\n",
       "      <th>8/2010</th>\n",
       "      <td>173.0</td>\n",
       "      <td>40.0</td>\n",
       "      <td>54.0</td>\n",
       "      <td>55.0</td>\n",
       "      <td>31.0</td>\n",
       "      <td>24.0</td>\n",
       "      <td>18.0</td>\n",
       "      <td>25.0</td>\n",
       "      <td>23.0</td>\n",
       "      <td>22.0</td>\n",
       "      <td>...</td>\n",
       "      <td>32.0</td>\n",
       "      <td>33.0</td>\n",
       "      <td>11.0</td>\n",
       "      <td>NaN</td>\n",
       "      <td>NaN</td>\n",
       "      <td>NaN</td>\n",
       "      <td>NaN</td>\n",
       "      <td>NaN</td>\n",
       "      <td>NaN</td>\n",
       "      <td>NaN</td>\n",
       "    </tr>\n",
       "    <tr>\n",
       "      <th>9/2010</th>\n",
       "      <td>256.0</td>\n",
       "      <td>74.0</td>\n",
       "      <td>67.0</td>\n",
       "      <td>35.0</td>\n",
       "      <td>25.0</td>\n",
       "      <td>26.0</td>\n",
       "      <td>36.0</td>\n",
       "      <td>25.0</td>\n",
       "      <td>31.0</td>\n",
       "      <td>36.0</td>\n",
       "      <td>...</td>\n",
       "      <td>49.0</td>\n",
       "      <td>14.0</td>\n",
       "      <td>NaN</td>\n",
       "      <td>NaN</td>\n",
       "      <td>NaN</td>\n",
       "      <td>NaN</td>\n",
       "      <td>NaN</td>\n",
       "      <td>NaN</td>\n",
       "      <td>NaN</td>\n",
       "      <td>NaN</td>\n",
       "    </tr>\n",
       "    <tr>\n",
       "      <th>10/2010</th>\n",
       "      <td>406.0</td>\n",
       "      <td>121.0</td>\n",
       "      <td>68.0</td>\n",
       "      <td>50.0</td>\n",
       "      <td>39.0</td>\n",
       "      <td>37.0</td>\n",
       "      <td>53.0</td>\n",
       "      <td>54.0</td>\n",
       "      <td>44.0</td>\n",
       "      <td>36.0</td>\n",
       "      <td>...</td>\n",
       "      <td>31.0</td>\n",
       "      <td>NaN</td>\n",
       "      <td>NaN</td>\n",
       "      <td>NaN</td>\n",
       "      <td>NaN</td>\n",
       "      <td>NaN</td>\n",
       "      <td>NaN</td>\n",
       "      <td>NaN</td>\n",
       "      <td>NaN</td>\n",
       "      <td>NaN</td>\n",
       "    </tr>\n",
       "    <tr>\n",
       "      <th>11/2010</th>\n",
       "      <td>347.0</td>\n",
       "      <td>73.0</td>\n",
       "      <td>32.0</td>\n",
       "      <td>35.0</td>\n",
       "      <td>30.0</td>\n",
       "      <td>30.0</td>\n",
       "      <td>45.0</td>\n",
       "      <td>39.0</td>\n",
       "      <td>29.0</td>\n",
       "      <td>30.0</td>\n",
       "      <td>...</td>\n",
       "      <td>NaN</td>\n",
       "      <td>NaN</td>\n",
       "      <td>NaN</td>\n",
       "      <td>NaN</td>\n",
       "      <td>NaN</td>\n",
       "      <td>NaN</td>\n",
       "      <td>NaN</td>\n",
       "      <td>NaN</td>\n",
       "      <td>NaN</td>\n",
       "      <td>NaN</td>\n",
       "    </tr>\n",
       "    <tr>\n",
       "      <th>12/2010</th>\n",
       "      <td>78.0</td>\n",
       "      <td>9.0</td>\n",
       "      <td>4.0</td>\n",
       "      <td>7.0</td>\n",
       "      <td>9.0</td>\n",
       "      <td>6.0</td>\n",
       "      <td>4.0</td>\n",
       "      <td>7.0</td>\n",
       "      <td>5.0</td>\n",
       "      <td>2.0</td>\n",
       "      <td>...</td>\n",
       "      <td>NaN</td>\n",
       "      <td>NaN</td>\n",
       "      <td>NaN</td>\n",
       "      <td>NaN</td>\n",
       "      <td>NaN</td>\n",
       "      <td>NaN</td>\n",
       "      <td>NaN</td>\n",
       "      <td>NaN</td>\n",
       "      <td>NaN</td>\n",
       "      <td>NaN</td>\n",
       "    </tr>\n",
       "    <tr>\n",
       "      <th>1/2011</th>\n",
       "      <td>75.0</td>\n",
       "      <td>17.0</td>\n",
       "      <td>15.0</td>\n",
       "      <td>14.0</td>\n",
       "      <td>15.0</td>\n",
       "      <td>11.0</td>\n",
       "      <td>11.0</td>\n",
       "      <td>10.0</td>\n",
       "      <td>8.0</td>\n",
       "      <td>17.0</td>\n",
       "      <td>...</td>\n",
       "      <td>NaN</td>\n",
       "      <td>NaN</td>\n",
       "      <td>NaN</td>\n",
       "      <td>NaN</td>\n",
       "      <td>NaN</td>\n",
       "      <td>NaN</td>\n",
       "      <td>NaN</td>\n",
       "      <td>NaN</td>\n",
       "      <td>NaN</td>\n",
       "      <td>NaN</td>\n",
       "    </tr>\n",
       "    <tr>\n",
       "      <th>2/2011</th>\n",
       "      <td>125.0</td>\n",
       "      <td>25.0</td>\n",
       "      <td>22.0</td>\n",
       "      <td>23.0</td>\n",
       "      <td>27.0</td>\n",
       "      <td>21.0</td>\n",
       "      <td>22.0</td>\n",
       "      <td>20.0</td>\n",
       "      <td>21.0</td>\n",
       "      <td>25.0</td>\n",
       "      <td>...</td>\n",
       "      <td>NaN</td>\n",
       "      <td>NaN</td>\n",
       "      <td>NaN</td>\n",
       "      <td>NaN</td>\n",
       "      <td>NaN</td>\n",
       "      <td>NaN</td>\n",
       "      <td>NaN</td>\n",
       "      <td>NaN</td>\n",
       "      <td>NaN</td>\n",
       "      <td>NaN</td>\n",
       "    </tr>\n",
       "    <tr>\n",
       "      <th>3/2011</th>\n",
       "      <td>181.0</td>\n",
       "      <td>43.0</td>\n",
       "      <td>44.0</td>\n",
       "      <td>40.0</td>\n",
       "      <td>41.0</td>\n",
       "      <td>31.0</td>\n",
       "      <td>39.0</td>\n",
       "      <td>41.0</td>\n",
       "      <td>46.0</td>\n",
       "      <td>17.0</td>\n",
       "      <td>...</td>\n",
       "      <td>NaN</td>\n",
       "      <td>NaN</td>\n",
       "      <td>NaN</td>\n",
       "      <td>NaN</td>\n",
       "      <td>NaN</td>\n",
       "      <td>NaN</td>\n",
       "      <td>NaN</td>\n",
       "      <td>NaN</td>\n",
       "      <td>NaN</td>\n",
       "      <td>NaN</td>\n",
       "    </tr>\n",
       "  </tbody>\n",
       "</table>\n",
       "<p>15 rows × 24 columns</p>\n",
       "</div>"
      ],
      "text/plain": [
       "cohortMonthIndex     0      1      2      3      4      5      6      7   \\\n",
       "CohortMonth                                                                \n",
       "1/2010            786.0  305.0  365.0  342.0  334.0  330.0  320.0  294.0   \n",
       "2/2010            502.0  168.0  141.0  176.0  165.0  132.0  133.0  176.0   \n",
       "3/2010            578.0  154.0  165.0  156.0  147.0  131.0  159.0  198.0   \n",
       "4/2010            361.0   91.0   80.0   68.0   75.0   88.0  108.0  111.0   \n",
       "5/2010            296.0   61.0   55.0   55.0   55.0   79.0   70.0   45.0   \n",
       "6/2010            303.0   63.0   59.0   63.0   72.0   92.0   41.0   30.0   \n",
       "7/2010            203.0   44.0   44.0   57.0   62.0   35.0   27.0   29.0   \n",
       "8/2010            173.0   40.0   54.0   55.0   31.0   24.0   18.0   25.0   \n",
       "9/2010            256.0   74.0   67.0   35.0   25.0   26.0   36.0   25.0   \n",
       "10/2010           406.0  121.0   68.0   50.0   39.0   37.0   53.0   54.0   \n",
       "11/2010           347.0   73.0   32.0   35.0   30.0   30.0   45.0   39.0   \n",
       "12/2010            78.0    9.0    4.0    7.0    9.0    6.0    4.0    7.0   \n",
       "1/2011             75.0   17.0   15.0   14.0   15.0   11.0   11.0   10.0   \n",
       "2/2011            125.0   25.0   22.0   23.0   27.0   21.0   22.0   20.0   \n",
       "3/2011            181.0   43.0   44.0   40.0   41.0   31.0   39.0   41.0   \n",
       "\n",
       "cohortMonthIndex     8      9   ...     14     15     16     17     18     19  \\\n",
       "CohortMonth                     ...                                             \n",
       "1/2010            321.0  363.0  ...  254.0  215.0  269.0  245.0  236.0  230.0   \n",
       "2/2010            166.0  184.0  ...   91.0  124.0  116.0  107.0  102.0  145.0   \n",
       "3/2010            202.0  104.0  ...  120.0  118.0  114.0  105.0  120.0  131.0   \n",
       "4/2010             55.0   45.0  ...   59.0   56.0   48.0   59.0   67.0   78.0   \n",
       "5/2010             20.0   27.0  ...   31.0   41.0   49.0   51.0   53.0   18.0   \n",
       "6/2010             24.0   40.0  ...   33.0   40.0   44.0   68.0   22.0    NaN   \n",
       "7/2010             29.0   24.0  ...   40.0   36.0   51.0   20.0    NaN    NaN   \n",
       "8/2010             23.0   22.0  ...   32.0   33.0   11.0    NaN    NaN    NaN   \n",
       "9/2010             31.0   36.0  ...   49.0   14.0    NaN    NaN    NaN    NaN   \n",
       "10/2010            44.0   36.0  ...   31.0    NaN    NaN    NaN    NaN    NaN   \n",
       "11/2010            29.0   30.0  ...    NaN    NaN    NaN    NaN    NaN    NaN   \n",
       "12/2010             5.0    2.0  ...    NaN    NaN    NaN    NaN    NaN    NaN   \n",
       "1/2011              8.0   17.0  ...    NaN    NaN    NaN    NaN    NaN    NaN   \n",
       "2/2011             21.0   25.0  ...    NaN    NaN    NaN    NaN    NaN    NaN   \n",
       "3/2011             46.0   17.0  ...    NaN    NaN    NaN    NaN    NaN    NaN   \n",
       "\n",
       "cohortMonthIndex     20     21     22     23  \n",
       "CohortMonth                                   \n",
       "1/2010            263.0  236.0  310.0  147.0  \n",
       "2/2010            145.0  127.0   59.0    NaN  \n",
       "3/2010            154.0   65.0    NaN    NaN  \n",
       "4/2010             30.0    NaN    NaN    NaN  \n",
       "5/2010              NaN    NaN    NaN    NaN  \n",
       "6/2010              NaN    NaN    NaN    NaN  \n",
       "7/2010              NaN    NaN    NaN    NaN  \n",
       "8/2010              NaN    NaN    NaN    NaN  \n",
       "9/2010              NaN    NaN    NaN    NaN  \n",
       "10/2010             NaN    NaN    NaN    NaN  \n",
       "11/2010             NaN    NaN    NaN    NaN  \n",
       "12/2010             NaN    NaN    NaN    NaN  \n",
       "1/2011              NaN    NaN    NaN    NaN  \n",
       "2/2011              NaN    NaN    NaN    NaN  \n",
       "3/2011              NaN    NaN    NaN    NaN  \n",
       "\n",
       "[15 rows x 24 columns]"
      ]
     },
     "execution_count": 169,
     "metadata": {},
     "output_type": "execute_result"
    }
   ],
   "source": [
    "cohort_retention_count_month.head(15)"
   ]
  },
  {
   "cell_type": "code",
   "execution_count": 167,
   "id": "79d9729c",
   "metadata": {},
   "outputs": [],
   "source": [
    "cohort_size_month = cohort_retention_count_month.iloc[:, 0]\n",
    "retention_month = cohort_retention_count_month.divide(cohort_size_month, axis = 0)\n",
    "retention_month = (retention_month*100).round(2)\n",
    "retention_month = retention_month.iloc[::-1]"
   ]
  },
  {
   "cell_type": "code",
   "execution_count": 168,
   "id": "2bedd271",
   "metadata": {},
   "outputs": [
    {
     "data": {
      "text/html": [
       "<div>\n",
       "<style scoped>\n",
       "    .dataframe tbody tr th:only-of-type {\n",
       "        vertical-align: middle;\n",
       "    }\n",
       "\n",
       "    .dataframe tbody tr th {\n",
       "        vertical-align: top;\n",
       "    }\n",
       "\n",
       "    .dataframe thead th {\n",
       "        text-align: right;\n",
       "    }\n",
       "</style>\n",
       "<table border=\"1\" class=\"dataframe\">\n",
       "  <thead>\n",
       "    <tr style=\"text-align: right;\">\n",
       "      <th>cohortMonthIndex</th>\n",
       "      <th>0</th>\n",
       "      <th>1</th>\n",
       "      <th>2</th>\n",
       "      <th>3</th>\n",
       "      <th>4</th>\n",
       "      <th>5</th>\n",
       "      <th>6</th>\n",
       "      <th>7</th>\n",
       "      <th>8</th>\n",
       "      <th>9</th>\n",
       "      <th>...</th>\n",
       "      <th>14</th>\n",
       "      <th>15</th>\n",
       "      <th>16</th>\n",
       "      <th>17</th>\n",
       "      <th>18</th>\n",
       "      <th>19</th>\n",
       "      <th>20</th>\n",
       "      <th>21</th>\n",
       "      <th>22</th>\n",
       "      <th>23</th>\n",
       "    </tr>\n",
       "    <tr>\n",
       "      <th>CohortMonth</th>\n",
       "      <th></th>\n",
       "      <th></th>\n",
       "      <th></th>\n",
       "      <th></th>\n",
       "      <th></th>\n",
       "      <th></th>\n",
       "      <th></th>\n",
       "      <th></th>\n",
       "      <th></th>\n",
       "      <th></th>\n",
       "      <th></th>\n",
       "      <th></th>\n",
       "      <th></th>\n",
       "      <th></th>\n",
       "      <th></th>\n",
       "      <th></th>\n",
       "      <th></th>\n",
       "      <th></th>\n",
       "      <th></th>\n",
       "      <th></th>\n",
       "      <th></th>\n",
       "    </tr>\n",
       "  </thead>\n",
       "  <tbody>\n",
       "    <tr>\n",
       "      <th>12/2011</th>\n",
       "      <td>100.0</td>\n",
       "      <td>NaN</td>\n",
       "      <td>NaN</td>\n",
       "      <td>NaN</td>\n",
       "      <td>NaN</td>\n",
       "      <td>NaN</td>\n",
       "      <td>NaN</td>\n",
       "      <td>NaN</td>\n",
       "      <td>NaN</td>\n",
       "      <td>NaN</td>\n",
       "      <td>...</td>\n",
       "      <td>NaN</td>\n",
       "      <td>NaN</td>\n",
       "      <td>NaN</td>\n",
       "      <td>NaN</td>\n",
       "      <td>NaN</td>\n",
       "      <td>NaN</td>\n",
       "      <td>NaN</td>\n",
       "      <td>NaN</td>\n",
       "      <td>NaN</td>\n",
       "      <td>NaN</td>\n",
       "    </tr>\n",
       "    <tr>\n",
       "      <th>11/2011</th>\n",
       "      <td>100.0</td>\n",
       "      <td>17.01</td>\n",
       "      <td>NaN</td>\n",
       "      <td>NaN</td>\n",
       "      <td>NaN</td>\n",
       "      <td>NaN</td>\n",
       "      <td>NaN</td>\n",
       "      <td>NaN</td>\n",
       "      <td>NaN</td>\n",
       "      <td>NaN</td>\n",
       "      <td>...</td>\n",
       "      <td>NaN</td>\n",
       "      <td>NaN</td>\n",
       "      <td>NaN</td>\n",
       "      <td>NaN</td>\n",
       "      <td>NaN</td>\n",
       "      <td>NaN</td>\n",
       "      <td>NaN</td>\n",
       "      <td>NaN</td>\n",
       "      <td>NaN</td>\n",
       "      <td>NaN</td>\n",
       "    </tr>\n",
       "    <tr>\n",
       "      <th>10/2011</th>\n",
       "      <td>100.0</td>\n",
       "      <td>33.04</td>\n",
       "      <td>17.41</td>\n",
       "      <td>NaN</td>\n",
       "      <td>NaN</td>\n",
       "      <td>NaN</td>\n",
       "      <td>NaN</td>\n",
       "      <td>NaN</td>\n",
       "      <td>NaN</td>\n",
       "      <td>NaN</td>\n",
       "      <td>...</td>\n",
       "      <td>NaN</td>\n",
       "      <td>NaN</td>\n",
       "      <td>NaN</td>\n",
       "      <td>NaN</td>\n",
       "      <td>NaN</td>\n",
       "      <td>NaN</td>\n",
       "      <td>NaN</td>\n",
       "      <td>NaN</td>\n",
       "      <td>NaN</td>\n",
       "      <td>NaN</td>\n",
       "    </tr>\n",
       "    <tr>\n",
       "      <th>9/2011</th>\n",
       "      <td>100.0</td>\n",
       "      <td>34.55</td>\n",
       "      <td>38.74</td>\n",
       "      <td>15.71</td>\n",
       "      <td>NaN</td>\n",
       "      <td>NaN</td>\n",
       "      <td>NaN</td>\n",
       "      <td>NaN</td>\n",
       "      <td>NaN</td>\n",
       "      <td>NaN</td>\n",
       "      <td>...</td>\n",
       "      <td>NaN</td>\n",
       "      <td>NaN</td>\n",
       "      <td>NaN</td>\n",
       "      <td>NaN</td>\n",
       "      <td>NaN</td>\n",
       "      <td>NaN</td>\n",
       "      <td>NaN</td>\n",
       "      <td>NaN</td>\n",
       "      <td>NaN</td>\n",
       "      <td>NaN</td>\n",
       "    </tr>\n",
       "    <tr>\n",
       "      <th>8/2011</th>\n",
       "      <td>100.0</td>\n",
       "      <td>33.33</td>\n",
       "      <td>30.56</td>\n",
       "      <td>27.78</td>\n",
       "      <td>18.52</td>\n",
       "      <td>NaN</td>\n",
       "      <td>NaN</td>\n",
       "      <td>NaN</td>\n",
       "      <td>NaN</td>\n",
       "      <td>NaN</td>\n",
       "      <td>...</td>\n",
       "      <td>NaN</td>\n",
       "      <td>NaN</td>\n",
       "      <td>NaN</td>\n",
       "      <td>NaN</td>\n",
       "      <td>NaN</td>\n",
       "      <td>NaN</td>\n",
       "      <td>NaN</td>\n",
       "      <td>NaN</td>\n",
       "      <td>NaN</td>\n",
       "      <td>NaN</td>\n",
       "    </tr>\n",
       "    <tr>\n",
       "      <th>7/2011</th>\n",
       "      <td>100.0</td>\n",
       "      <td>23.30</td>\n",
       "      <td>30.10</td>\n",
       "      <td>29.13</td>\n",
       "      <td>34.95</td>\n",
       "      <td>15.53</td>\n",
       "      <td>NaN</td>\n",
       "      <td>NaN</td>\n",
       "      <td>NaN</td>\n",
       "      <td>NaN</td>\n",
       "      <td>...</td>\n",
       "      <td>NaN</td>\n",
       "      <td>NaN</td>\n",
       "      <td>NaN</td>\n",
       "      <td>NaN</td>\n",
       "      <td>NaN</td>\n",
       "      <td>NaN</td>\n",
       "      <td>NaN</td>\n",
       "      <td>NaN</td>\n",
       "      <td>NaN</td>\n",
       "      <td>NaN</td>\n",
       "    </tr>\n",
       "    <tr>\n",
       "      <th>6/2011</th>\n",
       "      <td>100.0</td>\n",
       "      <td>26.85</td>\n",
       "      <td>22.22</td>\n",
       "      <td>27.78</td>\n",
       "      <td>22.22</td>\n",
       "      <td>28.70</td>\n",
       "      <td>10.19</td>\n",
       "      <td>NaN</td>\n",
       "      <td>NaN</td>\n",
       "      <td>NaN</td>\n",
       "      <td>...</td>\n",
       "      <td>NaN</td>\n",
       "      <td>NaN</td>\n",
       "      <td>NaN</td>\n",
       "      <td>NaN</td>\n",
       "      <td>NaN</td>\n",
       "      <td>NaN</td>\n",
       "      <td>NaN</td>\n",
       "      <td>NaN</td>\n",
       "      <td>NaN</td>\n",
       "      <td>NaN</td>\n",
       "    </tr>\n",
       "    <tr>\n",
       "      <th>5/2011</th>\n",
       "      <td>100.0</td>\n",
       "      <td>27.27</td>\n",
       "      <td>24.55</td>\n",
       "      <td>18.18</td>\n",
       "      <td>21.82</td>\n",
       "      <td>20.91</td>\n",
       "      <td>26.36</td>\n",
       "      <td>10.91</td>\n",
       "      <td>NaN</td>\n",
       "      <td>NaN</td>\n",
       "      <td>...</td>\n",
       "      <td>NaN</td>\n",
       "      <td>NaN</td>\n",
       "      <td>NaN</td>\n",
       "      <td>NaN</td>\n",
       "      <td>NaN</td>\n",
       "      <td>NaN</td>\n",
       "      <td>NaN</td>\n",
       "      <td>NaN</td>\n",
       "      <td>NaN</td>\n",
       "      <td>NaN</td>\n",
       "    </tr>\n",
       "    <tr>\n",
       "      <th>4/2011</th>\n",
       "      <td>100.0</td>\n",
       "      <td>26.42</td>\n",
       "      <td>20.75</td>\n",
       "      <td>19.81</td>\n",
       "      <td>19.81</td>\n",
       "      <td>24.53</td>\n",
       "      <td>19.81</td>\n",
       "      <td>25.47</td>\n",
       "      <td>12.26</td>\n",
       "      <td>NaN</td>\n",
       "      <td>...</td>\n",
       "      <td>NaN</td>\n",
       "      <td>NaN</td>\n",
       "      <td>NaN</td>\n",
       "      <td>NaN</td>\n",
       "      <td>NaN</td>\n",
       "      <td>NaN</td>\n",
       "      <td>NaN</td>\n",
       "      <td>NaN</td>\n",
       "      <td>NaN</td>\n",
       "      <td>NaN</td>\n",
       "    </tr>\n",
       "    <tr>\n",
       "      <th>3/2011</th>\n",
       "      <td>100.0</td>\n",
       "      <td>23.76</td>\n",
       "      <td>24.31</td>\n",
       "      <td>22.10</td>\n",
       "      <td>22.65</td>\n",
       "      <td>17.13</td>\n",
       "      <td>21.55</td>\n",
       "      <td>22.65</td>\n",
       "      <td>25.41</td>\n",
       "      <td>9.39</td>\n",
       "      <td>...</td>\n",
       "      <td>NaN</td>\n",
       "      <td>NaN</td>\n",
       "      <td>NaN</td>\n",
       "      <td>NaN</td>\n",
       "      <td>NaN</td>\n",
       "      <td>NaN</td>\n",
       "      <td>NaN</td>\n",
       "      <td>NaN</td>\n",
       "      <td>NaN</td>\n",
       "      <td>NaN</td>\n",
       "    </tr>\n",
       "    <tr>\n",
       "      <th>2/2011</th>\n",
       "      <td>100.0</td>\n",
       "      <td>20.00</td>\n",
       "      <td>17.60</td>\n",
       "      <td>18.40</td>\n",
       "      <td>21.60</td>\n",
       "      <td>16.80</td>\n",
       "      <td>17.60</td>\n",
       "      <td>16.00</td>\n",
       "      <td>16.80</td>\n",
       "      <td>20.00</td>\n",
       "      <td>...</td>\n",
       "      <td>NaN</td>\n",
       "      <td>NaN</td>\n",
       "      <td>NaN</td>\n",
       "      <td>NaN</td>\n",
       "      <td>NaN</td>\n",
       "      <td>NaN</td>\n",
       "      <td>NaN</td>\n",
       "      <td>NaN</td>\n",
       "      <td>NaN</td>\n",
       "      <td>NaN</td>\n",
       "    </tr>\n",
       "    <tr>\n",
       "      <th>1/2011</th>\n",
       "      <td>100.0</td>\n",
       "      <td>22.67</td>\n",
       "      <td>20.00</td>\n",
       "      <td>18.67</td>\n",
       "      <td>20.00</td>\n",
       "      <td>14.67</td>\n",
       "      <td>14.67</td>\n",
       "      <td>13.33</td>\n",
       "      <td>10.67</td>\n",
       "      <td>22.67</td>\n",
       "      <td>...</td>\n",
       "      <td>NaN</td>\n",
       "      <td>NaN</td>\n",
       "      <td>NaN</td>\n",
       "      <td>NaN</td>\n",
       "      <td>NaN</td>\n",
       "      <td>NaN</td>\n",
       "      <td>NaN</td>\n",
       "      <td>NaN</td>\n",
       "      <td>NaN</td>\n",
       "      <td>NaN</td>\n",
       "    </tr>\n",
       "    <tr>\n",
       "      <th>12/2010</th>\n",
       "      <td>100.0</td>\n",
       "      <td>11.54</td>\n",
       "      <td>5.13</td>\n",
       "      <td>8.97</td>\n",
       "      <td>11.54</td>\n",
       "      <td>7.69</td>\n",
       "      <td>5.13</td>\n",
       "      <td>8.97</td>\n",
       "      <td>6.41</td>\n",
       "      <td>2.56</td>\n",
       "      <td>...</td>\n",
       "      <td>NaN</td>\n",
       "      <td>NaN</td>\n",
       "      <td>NaN</td>\n",
       "      <td>NaN</td>\n",
       "      <td>NaN</td>\n",
       "      <td>NaN</td>\n",
       "      <td>NaN</td>\n",
       "      <td>NaN</td>\n",
       "      <td>NaN</td>\n",
       "      <td>NaN</td>\n",
       "    </tr>\n",
       "    <tr>\n",
       "      <th>11/2010</th>\n",
       "      <td>100.0</td>\n",
       "      <td>21.04</td>\n",
       "      <td>9.22</td>\n",
       "      <td>10.09</td>\n",
       "      <td>8.65</td>\n",
       "      <td>8.65</td>\n",
       "      <td>12.97</td>\n",
       "      <td>11.24</td>\n",
       "      <td>8.36</td>\n",
       "      <td>8.65</td>\n",
       "      <td>...</td>\n",
       "      <td>NaN</td>\n",
       "      <td>NaN</td>\n",
       "      <td>NaN</td>\n",
       "      <td>NaN</td>\n",
       "      <td>NaN</td>\n",
       "      <td>NaN</td>\n",
       "      <td>NaN</td>\n",
       "      <td>NaN</td>\n",
       "      <td>NaN</td>\n",
       "      <td>NaN</td>\n",
       "    </tr>\n",
       "    <tr>\n",
       "      <th>10/2010</th>\n",
       "      <td>100.0</td>\n",
       "      <td>29.80</td>\n",
       "      <td>16.75</td>\n",
       "      <td>12.32</td>\n",
       "      <td>9.61</td>\n",
       "      <td>9.11</td>\n",
       "      <td>13.05</td>\n",
       "      <td>13.30</td>\n",
       "      <td>10.84</td>\n",
       "      <td>8.87</td>\n",
       "      <td>...</td>\n",
       "      <td>7.64</td>\n",
       "      <td>NaN</td>\n",
       "      <td>NaN</td>\n",
       "      <td>NaN</td>\n",
       "      <td>NaN</td>\n",
       "      <td>NaN</td>\n",
       "      <td>NaN</td>\n",
       "      <td>NaN</td>\n",
       "      <td>NaN</td>\n",
       "      <td>NaN</td>\n",
       "    </tr>\n",
       "    <tr>\n",
       "      <th>9/2010</th>\n",
       "      <td>100.0</td>\n",
       "      <td>28.91</td>\n",
       "      <td>26.17</td>\n",
       "      <td>13.67</td>\n",
       "      <td>9.77</td>\n",
       "      <td>10.16</td>\n",
       "      <td>14.06</td>\n",
       "      <td>9.77</td>\n",
       "      <td>12.11</td>\n",
       "      <td>14.06</td>\n",
       "      <td>...</td>\n",
       "      <td>19.14</td>\n",
       "      <td>5.47</td>\n",
       "      <td>NaN</td>\n",
       "      <td>NaN</td>\n",
       "      <td>NaN</td>\n",
       "      <td>NaN</td>\n",
       "      <td>NaN</td>\n",
       "      <td>NaN</td>\n",
       "      <td>NaN</td>\n",
       "      <td>NaN</td>\n",
       "    </tr>\n",
       "    <tr>\n",
       "      <th>8/2010</th>\n",
       "      <td>100.0</td>\n",
       "      <td>23.12</td>\n",
       "      <td>31.21</td>\n",
       "      <td>31.79</td>\n",
       "      <td>17.92</td>\n",
       "      <td>13.87</td>\n",
       "      <td>10.40</td>\n",
       "      <td>14.45</td>\n",
       "      <td>13.29</td>\n",
       "      <td>12.72</td>\n",
       "      <td>...</td>\n",
       "      <td>18.50</td>\n",
       "      <td>19.08</td>\n",
       "      <td>6.36</td>\n",
       "      <td>NaN</td>\n",
       "      <td>NaN</td>\n",
       "      <td>NaN</td>\n",
       "      <td>NaN</td>\n",
       "      <td>NaN</td>\n",
       "      <td>NaN</td>\n",
       "      <td>NaN</td>\n",
       "    </tr>\n",
       "    <tr>\n",
       "      <th>7/2010</th>\n",
       "      <td>100.0</td>\n",
       "      <td>21.67</td>\n",
       "      <td>21.67</td>\n",
       "      <td>28.08</td>\n",
       "      <td>30.54</td>\n",
       "      <td>17.24</td>\n",
       "      <td>13.30</td>\n",
       "      <td>14.29</td>\n",
       "      <td>14.29</td>\n",
       "      <td>11.82</td>\n",
       "      <td>...</td>\n",
       "      <td>19.70</td>\n",
       "      <td>17.73</td>\n",
       "      <td>25.12</td>\n",
       "      <td>9.85</td>\n",
       "      <td>NaN</td>\n",
       "      <td>NaN</td>\n",
       "      <td>NaN</td>\n",
       "      <td>NaN</td>\n",
       "      <td>NaN</td>\n",
       "      <td>NaN</td>\n",
       "    </tr>\n",
       "    <tr>\n",
       "      <th>6/2010</th>\n",
       "      <td>100.0</td>\n",
       "      <td>20.79</td>\n",
       "      <td>19.47</td>\n",
       "      <td>20.79</td>\n",
       "      <td>23.76</td>\n",
       "      <td>30.36</td>\n",
       "      <td>13.53</td>\n",
       "      <td>9.90</td>\n",
       "      <td>7.92</td>\n",
       "      <td>13.20</td>\n",
       "      <td>...</td>\n",
       "      <td>10.89</td>\n",
       "      <td>13.20</td>\n",
       "      <td>14.52</td>\n",
       "      <td>22.44</td>\n",
       "      <td>7.26</td>\n",
       "      <td>NaN</td>\n",
       "      <td>NaN</td>\n",
       "      <td>NaN</td>\n",
       "      <td>NaN</td>\n",
       "      <td>NaN</td>\n",
       "    </tr>\n",
       "    <tr>\n",
       "      <th>5/2010</th>\n",
       "      <td>100.0</td>\n",
       "      <td>20.61</td>\n",
       "      <td>18.58</td>\n",
       "      <td>18.58</td>\n",
       "      <td>18.58</td>\n",
       "      <td>26.69</td>\n",
       "      <td>23.65</td>\n",
       "      <td>15.20</td>\n",
       "      <td>6.76</td>\n",
       "      <td>9.12</td>\n",
       "      <td>...</td>\n",
       "      <td>10.47</td>\n",
       "      <td>13.85</td>\n",
       "      <td>16.55</td>\n",
       "      <td>17.23</td>\n",
       "      <td>17.91</td>\n",
       "      <td>6.08</td>\n",
       "      <td>NaN</td>\n",
       "      <td>NaN</td>\n",
       "      <td>NaN</td>\n",
       "      <td>NaN</td>\n",
       "    </tr>\n",
       "    <tr>\n",
       "      <th>4/2010</th>\n",
       "      <td>100.0</td>\n",
       "      <td>25.21</td>\n",
       "      <td>22.16</td>\n",
       "      <td>18.84</td>\n",
       "      <td>20.78</td>\n",
       "      <td>24.38</td>\n",
       "      <td>29.92</td>\n",
       "      <td>30.75</td>\n",
       "      <td>15.24</td>\n",
       "      <td>12.47</td>\n",
       "      <td>...</td>\n",
       "      <td>16.34</td>\n",
       "      <td>15.51</td>\n",
       "      <td>13.30</td>\n",
       "      <td>16.34</td>\n",
       "      <td>18.56</td>\n",
       "      <td>21.61</td>\n",
       "      <td>8.31</td>\n",
       "      <td>NaN</td>\n",
       "      <td>NaN</td>\n",
       "      <td>NaN</td>\n",
       "    </tr>\n",
       "    <tr>\n",
       "      <th>3/2010</th>\n",
       "      <td>100.0</td>\n",
       "      <td>26.64</td>\n",
       "      <td>28.55</td>\n",
       "      <td>26.99</td>\n",
       "      <td>25.43</td>\n",
       "      <td>22.66</td>\n",
       "      <td>27.51</td>\n",
       "      <td>34.26</td>\n",
       "      <td>34.95</td>\n",
       "      <td>17.99</td>\n",
       "      <td>...</td>\n",
       "      <td>20.76</td>\n",
       "      <td>20.42</td>\n",
       "      <td>19.72</td>\n",
       "      <td>18.17</td>\n",
       "      <td>20.76</td>\n",
       "      <td>22.66</td>\n",
       "      <td>26.64</td>\n",
       "      <td>11.25</td>\n",
       "      <td>NaN</td>\n",
       "      <td>NaN</td>\n",
       "    </tr>\n",
       "    <tr>\n",
       "      <th>2/2010</th>\n",
       "      <td>100.0</td>\n",
       "      <td>33.47</td>\n",
       "      <td>28.09</td>\n",
       "      <td>35.06</td>\n",
       "      <td>32.87</td>\n",
       "      <td>26.29</td>\n",
       "      <td>26.49</td>\n",
       "      <td>35.06</td>\n",
       "      <td>33.07</td>\n",
       "      <td>36.65</td>\n",
       "      <td>...</td>\n",
       "      <td>18.13</td>\n",
       "      <td>24.70</td>\n",
       "      <td>23.11</td>\n",
       "      <td>21.31</td>\n",
       "      <td>20.32</td>\n",
       "      <td>28.88</td>\n",
       "      <td>28.88</td>\n",
       "      <td>25.30</td>\n",
       "      <td>11.75</td>\n",
       "      <td>NaN</td>\n",
       "    </tr>\n",
       "    <tr>\n",
       "      <th>1/2010</th>\n",
       "      <td>100.0</td>\n",
       "      <td>38.80</td>\n",
       "      <td>46.44</td>\n",
       "      <td>43.51</td>\n",
       "      <td>42.49</td>\n",
       "      <td>41.98</td>\n",
       "      <td>40.71</td>\n",
       "      <td>37.40</td>\n",
       "      <td>40.84</td>\n",
       "      <td>46.18</td>\n",
       "      <td>...</td>\n",
       "      <td>32.32</td>\n",
       "      <td>27.35</td>\n",
       "      <td>34.22</td>\n",
       "      <td>31.17</td>\n",
       "      <td>30.03</td>\n",
       "      <td>29.26</td>\n",
       "      <td>33.46</td>\n",
       "      <td>30.03</td>\n",
       "      <td>39.44</td>\n",
       "      <td>18.7</td>\n",
       "    </tr>\n",
       "  </tbody>\n",
       "</table>\n",
       "<p>24 rows × 24 columns</p>\n",
       "</div>"
      ],
      "text/plain": [
       "cohortMonthIndex     0      1      2      3      4      5      6      7   \\\n",
       "CohortMonth                                                                \n",
       "12/2011           100.0    NaN    NaN    NaN    NaN    NaN    NaN    NaN   \n",
       "11/2011           100.0  17.01    NaN    NaN    NaN    NaN    NaN    NaN   \n",
       "10/2011           100.0  33.04  17.41    NaN    NaN    NaN    NaN    NaN   \n",
       "9/2011            100.0  34.55  38.74  15.71    NaN    NaN    NaN    NaN   \n",
       "8/2011            100.0  33.33  30.56  27.78  18.52    NaN    NaN    NaN   \n",
       "7/2011            100.0  23.30  30.10  29.13  34.95  15.53    NaN    NaN   \n",
       "6/2011            100.0  26.85  22.22  27.78  22.22  28.70  10.19    NaN   \n",
       "5/2011            100.0  27.27  24.55  18.18  21.82  20.91  26.36  10.91   \n",
       "4/2011            100.0  26.42  20.75  19.81  19.81  24.53  19.81  25.47   \n",
       "3/2011            100.0  23.76  24.31  22.10  22.65  17.13  21.55  22.65   \n",
       "2/2011            100.0  20.00  17.60  18.40  21.60  16.80  17.60  16.00   \n",
       "1/2011            100.0  22.67  20.00  18.67  20.00  14.67  14.67  13.33   \n",
       "12/2010           100.0  11.54   5.13   8.97  11.54   7.69   5.13   8.97   \n",
       "11/2010           100.0  21.04   9.22  10.09   8.65   8.65  12.97  11.24   \n",
       "10/2010           100.0  29.80  16.75  12.32   9.61   9.11  13.05  13.30   \n",
       "9/2010            100.0  28.91  26.17  13.67   9.77  10.16  14.06   9.77   \n",
       "8/2010            100.0  23.12  31.21  31.79  17.92  13.87  10.40  14.45   \n",
       "7/2010            100.0  21.67  21.67  28.08  30.54  17.24  13.30  14.29   \n",
       "6/2010            100.0  20.79  19.47  20.79  23.76  30.36  13.53   9.90   \n",
       "5/2010            100.0  20.61  18.58  18.58  18.58  26.69  23.65  15.20   \n",
       "4/2010            100.0  25.21  22.16  18.84  20.78  24.38  29.92  30.75   \n",
       "3/2010            100.0  26.64  28.55  26.99  25.43  22.66  27.51  34.26   \n",
       "2/2010            100.0  33.47  28.09  35.06  32.87  26.29  26.49  35.06   \n",
       "1/2010            100.0  38.80  46.44  43.51  42.49  41.98  40.71  37.40   \n",
       "\n",
       "cohortMonthIndex     8      9   ...     14     15     16     17     18     19  \\\n",
       "CohortMonth                     ...                                             \n",
       "12/2011             NaN    NaN  ...    NaN    NaN    NaN    NaN    NaN    NaN   \n",
       "11/2011             NaN    NaN  ...    NaN    NaN    NaN    NaN    NaN    NaN   \n",
       "10/2011             NaN    NaN  ...    NaN    NaN    NaN    NaN    NaN    NaN   \n",
       "9/2011              NaN    NaN  ...    NaN    NaN    NaN    NaN    NaN    NaN   \n",
       "8/2011              NaN    NaN  ...    NaN    NaN    NaN    NaN    NaN    NaN   \n",
       "7/2011              NaN    NaN  ...    NaN    NaN    NaN    NaN    NaN    NaN   \n",
       "6/2011              NaN    NaN  ...    NaN    NaN    NaN    NaN    NaN    NaN   \n",
       "5/2011              NaN    NaN  ...    NaN    NaN    NaN    NaN    NaN    NaN   \n",
       "4/2011            12.26    NaN  ...    NaN    NaN    NaN    NaN    NaN    NaN   \n",
       "3/2011            25.41   9.39  ...    NaN    NaN    NaN    NaN    NaN    NaN   \n",
       "2/2011            16.80  20.00  ...    NaN    NaN    NaN    NaN    NaN    NaN   \n",
       "1/2011            10.67  22.67  ...    NaN    NaN    NaN    NaN    NaN    NaN   \n",
       "12/2010            6.41   2.56  ...    NaN    NaN    NaN    NaN    NaN    NaN   \n",
       "11/2010            8.36   8.65  ...    NaN    NaN    NaN    NaN    NaN    NaN   \n",
       "10/2010           10.84   8.87  ...   7.64    NaN    NaN    NaN    NaN    NaN   \n",
       "9/2010            12.11  14.06  ...  19.14   5.47    NaN    NaN    NaN    NaN   \n",
       "8/2010            13.29  12.72  ...  18.50  19.08   6.36    NaN    NaN    NaN   \n",
       "7/2010            14.29  11.82  ...  19.70  17.73  25.12   9.85    NaN    NaN   \n",
       "6/2010             7.92  13.20  ...  10.89  13.20  14.52  22.44   7.26    NaN   \n",
       "5/2010             6.76   9.12  ...  10.47  13.85  16.55  17.23  17.91   6.08   \n",
       "4/2010            15.24  12.47  ...  16.34  15.51  13.30  16.34  18.56  21.61   \n",
       "3/2010            34.95  17.99  ...  20.76  20.42  19.72  18.17  20.76  22.66   \n",
       "2/2010            33.07  36.65  ...  18.13  24.70  23.11  21.31  20.32  28.88   \n",
       "1/2010            40.84  46.18  ...  32.32  27.35  34.22  31.17  30.03  29.26   \n",
       "\n",
       "cohortMonthIndex     20     21     22    23  \n",
       "CohortMonth                                  \n",
       "12/2011             NaN    NaN    NaN   NaN  \n",
       "11/2011             NaN    NaN    NaN   NaN  \n",
       "10/2011             NaN    NaN    NaN   NaN  \n",
       "9/2011              NaN    NaN    NaN   NaN  \n",
       "8/2011              NaN    NaN    NaN   NaN  \n",
       "7/2011              NaN    NaN    NaN   NaN  \n",
       "6/2011              NaN    NaN    NaN   NaN  \n",
       "5/2011              NaN    NaN    NaN   NaN  \n",
       "4/2011              NaN    NaN    NaN   NaN  \n",
       "3/2011              NaN    NaN    NaN   NaN  \n",
       "2/2011              NaN    NaN    NaN   NaN  \n",
       "1/2011              NaN    NaN    NaN   NaN  \n",
       "12/2010             NaN    NaN    NaN   NaN  \n",
       "11/2010             NaN    NaN    NaN   NaN  \n",
       "10/2010             NaN    NaN    NaN   NaN  \n",
       "9/2010              NaN    NaN    NaN   NaN  \n",
       "8/2010              NaN    NaN    NaN   NaN  \n",
       "7/2010              NaN    NaN    NaN   NaN  \n",
       "6/2010              NaN    NaN    NaN   NaN  \n",
       "5/2010              NaN    NaN    NaN   NaN  \n",
       "4/2010             8.31    NaN    NaN   NaN  \n",
       "3/2010            26.64  11.25    NaN   NaN  \n",
       "2/2010            28.88  25.30  11.75   NaN  \n",
       "1/2010            33.46  30.03  39.44  18.7  \n",
       "\n",
       "[24 rows x 24 columns]"
      ]
     },
     "execution_count": 168,
     "metadata": {},
     "output_type": "execute_result"
    }
   ],
   "source": [
    "retention_month"
   ]
  },
  {
   "cell_type": "code",
   "execution_count": 170,
   "id": "790b9c2e",
   "metadata": {},
   "outputs": [
    {
     "data": {
      "application/vnd.plotly.v1+json": {
       "config": {
        "plotlyServerURL": "https://plot.ly"
       },
       "data": [
        {
         "colorbar": {
          "title": {
           "text": "Retention Rate, %"
          }
         },
         "colorscale": [
          [
           0,
           "rgb(247,252,245)"
          ],
          [
           0.125,
           "rgb(229,245,224)"
          ],
          [
           0.25,
           "rgb(199,233,192)"
          ],
          [
           0.375,
           "rgb(161,217,155)"
          ],
          [
           0.5,
           "rgb(116,196,118)"
          ],
          [
           0.625,
           "rgb(65,171,93)"
          ],
          [
           0.75,
           "rgb(35,139,69)"
          ],
          [
           0.875,
           "rgb(0,109,44)"
          ],
          [
           1,
           "rgb(0,68,27)"
          ]
         ],
         "text": {
          "bdata": "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",
          "dtype": "f8",
          "shape": "24, 24"
         },
         "texttemplate": "%{text}%",
         "type": "heatmap",
         "xgap": 3,
         "y": [
          "12/2011",
          "11/2011",
          "10/2011",
          "9/2011",
          "8/2011",
          "7/2011",
          "6/2011",
          "5/2011",
          "4/2011",
          "3/2011",
          "2/2011",
          "1/2011",
          "12/2010",
          "11/2010",
          "10/2010",
          "9/2010",
          "8/2010",
          "7/2010",
          "6/2010",
          "5/2010",
          "4/2010",
          "3/2010",
          "2/2010",
          "1/2010"
         ],
         "ygap": 3,
         "z": {
          "bdata": "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",
          "dtype": "f8",
          "shape": "24, 24"
         }
        }
       ],
       "layout": {
        "plot_bgcolor": "white",
        "template": {
         "data": {
          "bar": [
           {
            "error_x": {
             "color": "#2a3f5f"
            },
            "error_y": {
             "color": "#2a3f5f"
            },
            "marker": {
             "line": {
              "color": "#E5ECF6",
              "width": 0.5
             },
             "pattern": {
              "fillmode": "overlay",
              "size": 10,
              "solidity": 0.2
             }
            },
            "type": "bar"
           }
          ],
          "barpolar": [
           {
            "marker": {
             "line": {
              "color": "#E5ECF6",
              "width": 0.5
             },
             "pattern": {
              "fillmode": "overlay",
              "size": 10,
              "solidity": 0.2
             }
            },
            "type": "barpolar"
           }
          ],
          "carpet": [
           {
            "aaxis": {
             "endlinecolor": "#2a3f5f",
             "gridcolor": "white",
             "linecolor": "white",
             "minorgridcolor": "white",
             "startlinecolor": "#2a3f5f"
            },
            "baxis": {
             "endlinecolor": "#2a3f5f",
             "gridcolor": "white",
             "linecolor": "white",
             "minorgridcolor": "white",
             "startlinecolor": "#2a3f5f"
            },
            "type": "carpet"
           }
          ],
          "choropleth": [
           {
            "colorbar": {
             "outlinewidth": 0,
             "ticks": ""
            },
            "type": "choropleth"
           }
          ],
          "contour": [
           {
            "colorbar": {
             "outlinewidth": 0,
             "ticks": ""
            },
            "colorscale": [
             [
              0,
              "#0d0887"
             ],
             [
              0.1111111111111111,
              "#46039f"
             ],
             [
              0.2222222222222222,
              "#7201a8"
             ],
             [
              0.3333333333333333,
              "#9c179e"
             ],
             [
              0.4444444444444444,
              "#bd3786"
             ],
             [
              0.5555555555555556,
              "#d8576b"
             ],
             [
              0.6666666666666666,
              "#ed7953"
             ],
             [
              0.7777777777777778,
              "#fb9f3a"
             ],
             [
              0.8888888888888888,
              "#fdca26"
             ],
             [
              1,
              "#f0f921"
             ]
            ],
            "type": "contour"
           }
          ],
          "contourcarpet": [
           {
            "colorbar": {
             "outlinewidth": 0,
             "ticks": ""
            },
            "type": "contourcarpet"
           }
          ],
          "heatmap": [
           {
            "colorbar": {
             "outlinewidth": 0,
             "ticks": ""
            },
            "colorscale": [
             [
              0,
              "#0d0887"
             ],
             [
              0.1111111111111111,
              "#46039f"
             ],
             [
              0.2222222222222222,
              "#7201a8"
             ],
             [
              0.3333333333333333,
              "#9c179e"
             ],
             [
              0.4444444444444444,
              "#bd3786"
             ],
             [
              0.5555555555555556,
              "#d8576b"
             ],
             [
              0.6666666666666666,
              "#ed7953"
             ],
             [
              0.7777777777777778,
              "#fb9f3a"
             ],
             [
              0.8888888888888888,
              "#fdca26"
             ],
             [
              1,
              "#f0f921"
             ]
            ],
            "type": "heatmap"
           }
          ],
          "histogram": [
           {
            "marker": {
             "pattern": {
              "fillmode": "overlay",
              "size": 10,
              "solidity": 0.2
             }
            },
            "type": "histogram"
           }
          ],
          "histogram2d": [
           {
            "colorbar": {
             "outlinewidth": 0,
             "ticks": ""
            },
            "colorscale": [
             [
              0,
              "#0d0887"
             ],
             [
              0.1111111111111111,
              "#46039f"
             ],
             [
              0.2222222222222222,
              "#7201a8"
             ],
             [
              0.3333333333333333,
              "#9c179e"
             ],
             [
              0.4444444444444444,
              "#bd3786"
             ],
             [
              0.5555555555555556,
              "#d8576b"
             ],
             [
              0.6666666666666666,
              "#ed7953"
             ],
             [
              0.7777777777777778,
              "#fb9f3a"
             ],
             [
              0.8888888888888888,
              "#fdca26"
             ],
             [
              1,
              "#f0f921"
             ]
            ],
            "type": "histogram2d"
           }
          ],
          "histogram2dcontour": [
           {
            "colorbar": {
             "outlinewidth": 0,
             "ticks": ""
            },
            "colorscale": [
             [
              0,
              "#0d0887"
             ],
             [
              0.1111111111111111,
              "#46039f"
             ],
             [
              0.2222222222222222,
              "#7201a8"
             ],
             [
              0.3333333333333333,
              "#9c179e"
             ],
             [
              0.4444444444444444,
              "#bd3786"
             ],
             [
              0.5555555555555556,
              "#d8576b"
             ],
             [
              0.6666666666666666,
              "#ed7953"
             ],
             [
              0.7777777777777778,
              "#fb9f3a"
             ],
             [
              0.8888888888888888,
              "#fdca26"
             ],
             [
              1,
              "#f0f921"
             ]
            ],
            "type": "histogram2dcontour"
           }
          ],
          "mesh3d": [
           {
            "colorbar": {
             "outlinewidth": 0,
             "ticks": ""
            },
            "type": "mesh3d"
           }
          ],
          "parcoords": [
           {
            "line": {
             "colorbar": {
              "outlinewidth": 0,
              "ticks": ""
             }
            },
            "type": "parcoords"
           }
          ],
          "pie": [
           {
            "automargin": true,
            "type": "pie"
           }
          ],
          "scatter": [
           {
            "fillpattern": {
             "fillmode": "overlay",
             "size": 10,
             "solidity": 0.2
            },
            "type": "scatter"
           }
          ],
          "scatter3d": [
           {
            "line": {
             "colorbar": {
              "outlinewidth": 0,
              "ticks": ""
             }
            },
            "marker": {
             "colorbar": {
              "outlinewidth": 0,
              "ticks": ""
             }
            },
            "type": "scatter3d"
           }
          ],
          "scattercarpet": [
           {
            "marker": {
             "colorbar": {
              "outlinewidth": 0,
              "ticks": ""
             }
            },
            "type": "scattercarpet"
           }
          ],
          "scattergeo": [
           {
            "marker": {
             "colorbar": {
              "outlinewidth": 0,
              "ticks": ""
             }
            },
            "type": "scattergeo"
           }
          ],
          "scattergl": [
           {
            "marker": {
             "colorbar": {
              "outlinewidth": 0,
              "ticks": ""
             }
            },
            "type": "scattergl"
           }
          ],
          "scattermap": [
           {
            "marker": {
             "colorbar": {
              "outlinewidth": 0,
              "ticks": ""
             }
            },
            "type": "scattermap"
           }
          ],
          "scattermapbox": [
           {
            "marker": {
             "colorbar": {
              "outlinewidth": 0,
              "ticks": ""
             }
            },
            "type": "scattermapbox"
           }
          ],
          "scatterpolar": [
           {
            "marker": {
             "colorbar": {
              "outlinewidth": 0,
              "ticks": ""
             }
            },
            "type": "scatterpolar"
           }
          ],
          "scatterpolargl": [
           {
            "marker": {
             "colorbar": {
              "outlinewidth": 0,
              "ticks": ""
             }
            },
            "type": "scatterpolargl"
           }
          ],
          "scatterternary": [
           {
            "marker": {
             "colorbar": {
              "outlinewidth": 0,
              "ticks": ""
             }
            },
            "type": "scatterternary"
           }
          ],
          "surface": [
           {
            "colorbar": {
             "outlinewidth": 0,
             "ticks": ""
            },
            "colorscale": [
             [
              0,
              "#0d0887"
             ],
             [
              0.1111111111111111,
              "#46039f"
             ],
             [
              0.2222222222222222,
              "#7201a8"
             ],
             [
              0.3333333333333333,
              "#9c179e"
             ],
             [
              0.4444444444444444,
              "#bd3786"
             ],
             [
              0.5555555555555556,
              "#d8576b"
             ],
             [
              0.6666666666666666,
              "#ed7953"
             ],
             [
              0.7777777777777778,
              "#fb9f3a"
             ],
             [
              0.8888888888888888,
              "#fdca26"
             ],
             [
              1,
              "#f0f921"
             ]
            ],
            "type": "surface"
           }
          ],
          "table": [
           {
            "cells": {
             "fill": {
              "color": "#EBF0F8"
             },
             "line": {
              "color": "white"
             }
            },
            "header": {
             "fill": {
              "color": "#C8D4E3"
             },
             "line": {
              "color": "white"
             }
            },
            "type": "table"
           }
          ]
         },
         "layout": {
          "annotationdefaults": {
           "arrowcolor": "#2a3f5f",
           "arrowhead": 0,
           "arrowwidth": 1
          },
          "autotypenumbers": "strict",
          "coloraxis": {
           "colorbar": {
            "outlinewidth": 0,
            "ticks": ""
           }
          },
          "colorscale": {
           "diverging": [
            [
             0,
             "#8e0152"
            ],
            [
             0.1,
             "#c51b7d"
            ],
            [
             0.2,
             "#de77ae"
            ],
            [
             0.3,
             "#f1b6da"
            ],
            [
             0.4,
             "#fde0ef"
            ],
            [
             0.5,
             "#f7f7f7"
            ],
            [
             0.6,
             "#e6f5d0"
            ],
            [
             0.7,
             "#b8e186"
            ],
            [
             0.8,
             "#7fbc41"
            ],
            [
             0.9,
             "#4d9221"
            ],
            [
             1,
             "#276419"
            ]
           ],
           "sequential": [
            [
             0,
             "#0d0887"
            ],
            [
             0.1111111111111111,
             "#46039f"
            ],
            [
             0.2222222222222222,
             "#7201a8"
            ],
            [
             0.3333333333333333,
             "#9c179e"
            ],
            [
             0.4444444444444444,
             "#bd3786"
            ],
            [
             0.5555555555555556,
             "#d8576b"
            ],
            [
             0.6666666666666666,
             "#ed7953"
            ],
            [
             0.7777777777777778,
             "#fb9f3a"
            ],
            [
             0.8888888888888888,
             "#fdca26"
            ],
            [
             1,
             "#f0f921"
            ]
           ],
           "sequentialminus": [
            [
             0,
             "#0d0887"
            ],
            [
             0.1111111111111111,
             "#46039f"
            ],
            [
             0.2222222222222222,
             "#7201a8"
            ],
            [
             0.3333333333333333,
             "#9c179e"
            ],
            [
             0.4444444444444444,
             "#bd3786"
            ],
            [
             0.5555555555555556,
             "#d8576b"
            ],
            [
             0.6666666666666666,
             "#ed7953"
            ],
            [
             0.7777777777777778,
             "#fb9f3a"
            ],
            [
             0.8888888888888888,
             "#fdca26"
            ],
            [
             1,
             "#f0f921"
            ]
           ]
          },
          "colorway": [
           "#636efa",
           "#EF553B",
           "#00cc96",
           "#ab63fa",
           "#FFA15A",
           "#19d3f3",
           "#FF6692",
           "#B6E880",
           "#FF97FF",
           "#FECB52"
          ],
          "font": {
           "color": "#2a3f5f"
          },
          "geo": {
           "bgcolor": "white",
           "lakecolor": "white",
           "landcolor": "#E5ECF6",
           "showlakes": true,
           "showland": true,
           "subunitcolor": "white"
          },
          "hoverlabel": {
           "align": "left"
          },
          "hovermode": "closest",
          "mapbox": {
           "style": "light"
          },
          "paper_bgcolor": "white",
          "plot_bgcolor": "#E5ECF6",
          "polar": {
           "angularaxis": {
            "gridcolor": "white",
            "linecolor": "white",
            "ticks": ""
           },
           "bgcolor": "#E5ECF6",
           "radialaxis": {
            "gridcolor": "white",
            "linecolor": "white",
            "ticks": ""
           }
          },
          "scene": {
           "xaxis": {
            "backgroundcolor": "#E5ECF6",
            "gridcolor": "white",
            "gridwidth": 2,
            "linecolor": "white",
            "showbackground": true,
            "ticks": "",
            "zerolinecolor": "white"
           },
           "yaxis": {
            "backgroundcolor": "#E5ECF6",
            "gridcolor": "white",
            "gridwidth": 2,
            "linecolor": "white",
            "showbackground": true,
            "ticks": "",
            "zerolinecolor": "white"
           },
           "zaxis": {
            "backgroundcolor": "#E5ECF6",
            "gridcolor": "white",
            "gridwidth": 2,
            "linecolor": "white",
            "showbackground": true,
            "ticks": "",
            "zerolinecolor": "white"
           }
          },
          "shapedefaults": {
           "line": {
            "color": "#2a3f5f"
           }
          },
          "ternary": {
           "aaxis": {
            "gridcolor": "white",
            "linecolor": "white",
            "ticks": ""
           },
           "baxis": {
            "gridcolor": "white",
            "linecolor": "white",
            "ticks": ""
           },
           "bgcolor": "#E5ECF6",
           "caxis": {
            "gridcolor": "white",
            "linecolor": "white",
            "ticks": ""
           }
          },
          "title": {
           "x": 0.05
          },
          "xaxis": {
           "automargin": true,
           "gridcolor": "white",
           "linecolor": "white",
           "ticks": "",
           "title": {
            "standoff": 15
           },
           "zerolinecolor": "white",
           "zerolinewidth": 2
          },
          "yaxis": {
           "automargin": true,
           "gridcolor": "white",
           "linecolor": "white",
           "ticks": "",
           "title": {
            "standoff": 15
           },
           "zerolinecolor": "white",
           "zerolinewidth": 2
          }
         }
        },
        "title": {
         "text": "Cohort Analysis: Retention Rate",
         "x": 0.5,
         "y": 0.99
        },
        "xaxis": {
         "title": {
          "text": "Cohorts"
         }
        },
        "yaxis": {
         "title": {
          "text": "monthly"
         }
        }
       }
      }
     },
     "metadata": {},
     "output_type": "display_data"
    }
   ],
   "source": [
    "fig = go.Figure(data=go.Heatmap(\n",
    "                    z=retention_month.values,\n",
    "                    y=retention_month.index,\n",
    "                    colorscale='Greens',\n",
    "                    text=retention_month,\n",
    "                    texttemplate = \"%{text}%\",\n",
    "                    colorbar_title='Retention Rate, %',\n",
    "                    xgap=3,\n",
    "                    ygap=3))\n",
    "\n",
    "#fig.update_xaxes(side=\"top\")\n",
    "\n",
    "fig.update_layout(title=\"Cohort Analysis: Retention Rate\",\n",
    "                  xaxis_title=\"Cohorts\",\n",
    "                  yaxis_title=\"monthly\",\n",
    "                  \n",
    "                  title_x=0.5,\n",
    "                  title_y=0.99,\n",
    "                  plot_bgcolor='white')\n",
    "fig.show()"
   ]
  },
  {
   "cell_type": "code",
   "execution_count": null,
   "id": "8b8842b3",
   "metadata": {},
   "outputs": [],
   "source": []
  }
 ],
 "metadata": {
  "kernelspec": {
   "display_name": "venv",
   "language": "python",
   "name": "python3"
  },
  "language_info": {
   "codemirror_mode": {
    "name": "ipython",
    "version": 3
   },
   "file_extension": ".py",
   "mimetype": "text/x-python",
   "name": "python",
   "nbconvert_exporter": "python",
   "pygments_lexer": "ipython3",
   "version": "3.11.11"
  }
 },
 "nbformat": 4,
 "nbformat_minor": 5
}
